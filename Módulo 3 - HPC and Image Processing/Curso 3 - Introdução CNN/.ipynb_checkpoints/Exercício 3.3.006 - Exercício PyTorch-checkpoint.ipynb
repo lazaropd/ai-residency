{
 "cells": [
  {
   "cell_type": "markdown",
   "metadata": {},
   "source": [
    "# Exercícios PyTorch\n",
    "* Utilize o script Py-Torch-Basico.ipynb na rede neural CNN para utilizar outro dataset do Pytorch (Por Exemplo Fashion Mnist)\n",
    "* Altere os dados de entrada da rede neural mlp desse script para fazer predição nos dados da Veltec\n",
    "* Execute a rede neural CNN com as imagens de gatos e cachorros\n",
    "* Altere o dataloader de entrada\n",
    "* Altere o tamanho da saída da última camada de 1 para 10"
   ]
  },
  {
   "cell_type": "code",
   "execution_count": null,
   "metadata": {},
   "outputs": [],
   "source": []
  }
 ],
 "metadata": {
  "kernelspec": {
   "display_name": "Python [conda env:torch] *",
   "language": "python",
   "name": "conda-env-torch-py"
  },
  "language_info": {
   "codemirror_mode": {
    "name": "ipython",
    "version": 3
   },
   "file_extension": ".py",
   "mimetype": "text/x-python",
   "name": "python",
   "nbconvert_exporter": "python",
   "pygments_lexer": "ipython3",
   "version": "3.7.7"
  }
 },
 "nbformat": 4,
 "nbformat_minor": 4
}
