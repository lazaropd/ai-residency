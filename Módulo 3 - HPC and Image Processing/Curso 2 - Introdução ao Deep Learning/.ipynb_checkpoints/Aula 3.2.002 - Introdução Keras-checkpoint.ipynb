{
 "cells": [
  {
   "cell_type": "markdown",
   "metadata": {},
   "source": [
    "# Keras\n",
    "Fonte: \n",
    "* https://machinelearningmastery.com/gentle-introduction-mini-batch-gradient-descent-configure-batch-size/\n",
    "* https://machinelearningmastery.com/implement-linear-regression-stochastic-gradient-descent-scratch-python/\n",
    "* https://machinelearningmastery.com/how-to-control-the-speed-and-stability-of-training-neural-networks-with-gradient-descent-batch-size/\n",
    "* https://machinelearningmastery.com/how-to-choose-loss-functions-when-training-deep-learning-neural-networks/\n",
    "\n",
    "### mais sobre\n",
    "* Keras pode ser montado com suporte de Tensorflow, Theano e CNTK\n",
    "* Keras oferece suporte quanto ao uso de várias GPUs e treinamento distribuído (Horovod)\n",
    "* Os modelos Keras podem ser transformados em estimadores de TensorFlow e treinados em clusters de GPUs no Google Cloud\n",
    "* Keras pode ser executado no Spark via Dist-Keras (do CERN) e Elephas"
   ]
  },
  {
   "cell_type": "markdown",
   "metadata": {},
   "source": [
    "# Passos para criar uma Rede Neural usando Keras\n",
    "* Preparação dos dados de entrada e saída\n",
    "* Normalização\n",
    "* Definição das camadas de Entrada e Saída\n",
    "    * Definição depende da natureza do problema: regressão, classificação, multilabel, multiclasse, etc\n",
    "* Definição das camadas escondidas\n",
    "    * Busca por hiperparâmetros\n",
    "* Compilação\n",
    "* Execução\n",
    "* Avaliação\n",
    "* Colocar em produção\n",
    "    * Salvar pesos da Rede Neural treinada\n",
    "    * Recuperar pesos para realizar inferência\n",
    "    * Paralelizar processo de inferência"
   ]
  },
  {
   "cell_type": "markdown",
   "metadata": {},
   "source": [
    "# Estrutura de Dados\n",
    "* A estrutura de dados principal do Keras é o objeto **model**\n",
    "* O tipo mais simples de modelo é o **Sequential** (pilha linear de camadas)\n",
    "* Outros recursos da API Keras permite criar gráfos arbitrários de camadas\n",
    "```\n",
    "model = Sequencial()\n",
    "```\n",
    "* Empilhando camadas (método add)\n",
    "```\n",
    "model.add(Dense(units=64, activation='relu', input_dim=100))\n",
    "model.add(Dense(units=10, activation='softmax'))\n",
    "```"
   ]
  },
  {
   "cell_type": "markdown",
   "metadata": {},
   "source": [
    "# Especificando formato da entrada\n",
    "\n",
    "* O modelo precisa saber que formato de entrada será recebido. Esse formato é definido na primeira camada em um modelo Sequential, as camadas subsequentes definem a entrada e saída de acordo com os parâmetros da Rede Neural.\n",
    "\n",
    "* Como definir o formato de entrada:\n",
    "    * Argumento **input_shape** na primeira camada. Essa é uma tupla de forma (uma tupla de números inteiros ou Nenhuma, em que Nenhuma indica que qualquer número inteiro positivo pode ser esperado). Em input_shape, a dimensão do lote não está incluída.\n",
    "    * Algumas camadas 2D, como Dense, permitem a especificação de sua forma de entrada por meio do argumento **input_dim**, e algumas camadas temporais 3D suportam os argumentos **input_dim** e **input_length**.\n",
    "```\n",
    "model.add(Dense(units=64, activation='relu', input_dim=100))\n",
    "model.add(Dense(units=64, activation='relu', input_dim=(100,)))\n",
    "```"
   ]
  },
  {
   "cell_type": "markdown",
   "metadata": {},
   "source": [
    "# Compilação\n",
    "\n",
    "Antes de treinar um modelo, você precisa configurar o processo de aprendizado, que é feito pelo método de compilação. \n",
    "\n",
    "Ele recebe três argumentos:\n",
    "* **optimizer** (Otimizador). Pode ser o identificador de sequência de um otimizador existente (como por exemplos rmsprop ou adagrad) ou uma instância da classe Optimizer.\n",
    "* **loss** (função de perda). Esse é o objetivo que o modelo tentará minimizar. Pode ser o identificador de cadeia de uma função de perda existente (como categorical_crossentropy ou mse) ou pode ser uma função objetiva. \n",
    "* **metrics** (lista de métricas). Para qualquer problema de classificação, você desejará definir isso como métricas=['accuracy']. Uma métrica pode ser o identificador de sequência de uma métrica existente ou uma função de métrica personalizada.\n",
    "\n",
    "~~~~\n",
    "model.compile(loss='categorical_crossentropy', optimizer='sgd', metrics=['accuracy'])\n",
    "\n",
    "# For a multi-class classification problem\n",
    "model.compile(optimizer='rmsprop', loss='categorical_crossentropy', metrics=['accuracy'])\n",
    "              \n",
    "# For a binary classification problem\n",
    "model.compile(optimizer='rmsprop', loss='binary_crossentropy', metrics=['accuracy'])\n",
    "              \n",
    "# For a mean squared error regression problem\n",
    "model.compile(optimizer='rmsprop', loss='mse')\n",
    "\n",
    "# For a user defined loss function\n",
    "def user_loss(y_true, y_pred):\n",
    "    calculated_score = function_of(y_true, y_pred)\n",
    "    return calculated_score\n",
    "\n",
    "model.compile(optimizer='rmsprop', loss='binary_crossentropy', metrics=['accuracy', user_loss])\n",
    "~~~~"
   ]
  },
  {
   "cell_type": "markdown",
   "metadata": {},
   "source": [
    "# Treinando um modelo\n",
    "\n",
    "* Os modelos Keras são treinados em matrizes Numpy de dados e rótulos de entrada\n",
    "* Para treinar um modelo, você normalmente usa a função **fit**\n",
    "\n",
    "* **x**: Matrix com amostras para treinar o modelo (N dimensões)\n",
    "\n",
    "* **y**: valor a ser predito (associado com cada amostra x)\n",
    "\n",
    "* **batch_size**: Número de amostras por atualização de gradiente\n",
    "\n",
    "* **Épocas**: Número de épocas para treinar o modelo. Uma época é uma iteração sobre todos os dados x e y fornecidos\n",
    "\n",
    "* **verbose**: monitora execução do modelo. 0 = silencioso, 1 = barra de progresso, 2 = uma linha por época"
   ]
  },
  {
   "cell_type": "markdown",
   "metadata": {},
   "source": [
    "# Classe Generalista"
   ]
  },
  {
   "cell_type": "code",
   "execution_count": 1,
   "metadata": {
    "scrolled": false
   },
   "outputs": [
    {
     "name": "stdout",
     "output_type": "stream",
     "text": [
      "\n",
      "Available modes: regression, binary, multi, multioutput\n",
      "\n",
      "Versions:\n",
      "Keras : 2.2.4-tf\n",
      "Tensorflow : 2.1.0\n",
      "GPU enabled!\n",
      "CPU test for EYE(10000):  0.3153538703918457\n",
      "GPU test for EYE(10000):  0.37731432914733887\n",
      "\n",
      "Available genes and variations:\n",
      "optimizers      ['rmsprop', 'adam']\n",
      "losses          ['binary_crossentropy']\n",
      "activators      ['relu', 'elu', 'selu', 'softmax', 'sigmoid']\n",
      "denses          [0, 1, 2, 4, 8, 16, 32, 64]\n",
      "dropout         [True, False]\n",
      "dropout_rate    [0.1, 0.2, 0.3, 0.5]\n",
      "Mutable:        ['optimizers', 'activators', 'denses', 'dropout', 'dropout_rate']\n",
      "\n",
      "Neural network and genetics set:\n",
      "X data shape:             (768, 8)\n",
      "X data shape:             (768,)\n",
      "Max topology dept:        ['Dense', 'Dense', 'Dense']\n",
      "Population size:          10\n",
      "Number of generations:    3\n",
      "Proportion on strain:     0.3\n",
      "DNA length:               15\n",
      "Genes available to mutate:\n",
      " ['optimizers', 'activators', 'denses', 'dropout', 'dropout_rate']\n",
      "\n",
      "Neural network train starting...\n",
      "\n",
      "Running generation: 1\n",
      "Current Average Score: 0.18\n",
      "Total Elapsed Time (s): 6.48\n",
      "Average Time per Cycle (s): 0.65\n",
      "\n",
      "Running generation: 2\n",
      "Current Average Score: 0.0\n",
      "Total Elapsed Time (s): 6.05\n",
      "Average Time per Cycle (s): 0.61\n",
      "\n",
      "Running generation: 3\n",
      "Current Average Score: 0.13\n",
      "Total Elapsed Time (s): 6.15\n",
      "Average Time per Cycle (s): 0.61\n",
      "\n",
      "Best Model: 3\n",
      "{0: ('denses', 8), 1: ('activators', 'sigmoid'), 2: ('dropout', False), 3: ('dropout_rate', 0.2), 4: ('denses', 4), 5: ('activators', 'selu'), 6: ('dropout', False), 7: ('dropout_rate', 0.2), 8: ('denses', 8), 9: ('activators', 'selu'), 10: ('dropout', False), 11: ('dropout_rate', 0.1), 12: ('activators', 'elu'), 13: ('optimizers', 'rmsprop'), 14: ('losses', 'binary_crossentropy')}\n",
      "Model: \"sequential_3\"\n",
      "_________________________________________________________________\n",
      "Layer (type)                 Output Shape              Param #   \n",
      "=================================================================\n",
      "dense_12 (Dense)             (None, 8)                 72        \n",
      "_________________________________________________________________\n",
      "dense_13 (Dense)             (None, 4)                 36        \n",
      "_________________________________________________________________\n",
      "dense_14 (Dense)             (None, 8)                 40        \n",
      "_________________________________________________________________\n",
      "dense_15 (Dense)             (None, 1)                 9         \n",
      "=================================================================\n",
      "Total params: 157\n",
      "Trainable params: 157\n",
      "Non-trainable params: 0\n",
      "_________________________________________________________________\n",
      "Score: 0.68\n",
      "Accuracy (train/test): 0.63 / 0.64\n"
     ]
    },
    {
     "data": {
      "image/png": "[encoded data removed]",
      "text/plain": [
       "<Figure size 432x288 with 1 Axes>"
      ]
     },
     "metadata": {
      "needs_background": "light"
     },
     "output_type": "display_data"
    },
    {
     "data": {
      "image/png": "[encoded data removed]",
      "text/plain": [
       "<Figure size 432x288 with 1 Axes>"
      ]
     },
     "metadata": {
      "needs_background": "light"
     },
     "output_type": "display_data"
    }
   ],
   "source": [
    "from rubia_ann import *\n",
    "\n",
    "data = pd.read_csv('https://raw.githubusercontent.com/jbrownlee/Datasets/master/pima-indians-diabetes.csv', header=None)\n",
    "data = np.array(data)\n",
    "X, y = data[:,:-1], data[:,-1]\n",
    "\n",
    "GENES = {\n",
    "    'optimizers': ['rmsprop','adam'],\n",
    "    'losses': ['binary_crossentropy'],\n",
    "    'activators': ['relu','elu','selu','softmax','sigmoid'],\n",
    "    'denses': [0] + [2 ** i for i in range(0, 7)],\n",
    "    'dropout': [True, False],\n",
    "    'dropout_rate': [0.1, 0.2, 0.3, 0.5]\n",
    "}\n",
    "\n",
    "# gpu and fixed_genes below are optional parameters \n",
    "k = simpler_keras(X=X, y=y, mode='binary', gpu=True, fixed_genes=GENES)\n",
    "k.check()\n",
    "\n",
    "topology = ['Dense','Dense','Dense']\n",
    "k.setGenetic(topology,population=10,generations=3,keep_portion=0.3,input_dim=8,output_dim=1,metrics=['accuracy'])\n",
    "\n",
    "k.runGenerations(epochs=10, batch_size=100, verbose=0)\n",
    "del k"
   ]
  },
  {
   "cell_type": "markdown",
   "metadata": {},
   "source": [
    "## Exemplo Simples de Rede Neural"
   ]
  },
  {
   "cell_type": "code",
   "execution_count": 2,
   "metadata": {
    "scrolled": false
   },
   "outputs": [
    {
     "data": {
      "image/png": "[encoded data removed]",
      "text/plain": [
       "<Figure size 432x288 with 1 Axes>"
      ]
     },
     "metadata": {
      "needs_background": "light"
     },
     "output_type": "display_data"
    }
   ],
   "source": [
    "data = pd.read_csv('https://raw.githubusercontent.com/jbrownlee/Datasets/master/pima-indians-diabetes.csv', header=None)\n",
    "data = np.array(data)\n",
    "X, y = data[:,:-1], data[:,-1] \n",
    "\n",
    "model = models.Sequential()\n",
    "model.add(layers.Dense(12, activation='relu', input_dim=8))\n",
    "model.add(layers.Dense(8, activation='relu', input_dim=8))\n",
    "model.add(layers.Dense(1, activation='sigmoid'))\n",
    "model.compile(optimizer='adam', loss='binary_crossentropy', metrics=['accuracy'])\n",
    "\n",
    "history = model.fit(X, y, epochs=150, batch_size=10, validation_split=0.2, verbose=0)\n",
    "plt.plot(history.history['accuracy'], label='Train')\n",
    "plt.plot(history.history['val_accuracy'], label='Test')\n",
    "plt.xlabel('Epoch')\n",
    "plt.title('Model Accuracy')\n",
    "plt.legend()\n",
    "plt.show()"
   ]
  },
  {
   "cell_type": "markdown",
   "metadata": {},
   "source": [
    "## Avaliando desempenho do modelo treinado\n",
    "\n",
    "* função evaluate que mostra o valor de loss e acurácia após o treino\n",
    "* As métricas mais elementares são a curva de loss e a curva da métrica usada"
   ]
  },
  {
   "cell_type": "code",
   "execution_count": 12,
   "metadata": {},
   "outputs": [
    {
     "name": "stdout",
     "output_type": "stream",
     "text": [
      "768/768 [==============================] - 0s 54us/sample - loss: 0.5143 - accuracy: 0.7630\n",
      "[0.5143209472298622, 0.7630208]\n"
     ]
    },
    {
     "data": {
      "text/plain": [
       "[Text(0.5, 15.000000000000028, 'Época')]"
      ]
     },
     "execution_count": 12,
     "metadata": {},
     "output_type": "execute_result"
    },
    {
     "data": {
      "image/png": "[encoded data removed]",
      "text/plain": [
       "<Figure size 432x288 with 2 Axes>"
      ]
     },
     "metadata": {
      "needs_background": "light"
     },
     "output_type": "display_data"
    }
   ],
   "source": [
    "score = model.evaluate(X, y)\n",
    "print(score)\n",
    "\n",
    "fig, axs = plt.subplots(2)\n",
    "fig.tight_layout(pad=3.0)\n",
    "axs[0].plot(history.history['accuracy'])\n",
    "axs[0].plot(history.history['val_accuracy'])\n",
    "axs[0].set_title('Acurácia')\n",
    "axs[0].set(xlabel='Época')\n",
    "axs[1].plot(history.history['loss'])\n",
    "axs[1].plot(history.history['val_loss'])\n",
    "axs[1].set_title('Loss')\n",
    "axs[1].set(xlabel='Época')"
   ]
  },
  {
   "cell_type": "markdown",
   "metadata": {},
   "source": [
    "## Realizando predições com o modelo\n",
    "* função predict"
   ]
  },
  {
   "cell_type": "code",
   "execution_count": 15,
   "metadata": {},
   "outputs": [
    {
     "name": "stdout",
     "output_type": "stream",
     "text": [
      "[1. 0. 1. 0. 1.]\n",
      "[[0.6694875 ]\n",
      " [0.14517708]\n",
      " [0.9058376 ]\n",
      " [0.17855592]\n",
      " [0.6011322 ]]\n"
     ]
    }
   ],
   "source": [
    "print(y[:5])\n",
    "print(model.predict(X[:5]))"
   ]
  },
  {
   "cell_type": "markdown",
   "metadata": {},
   "source": [
    "## Salvando pesos da rede neural\n",
    "* Usando pesos de uma rede neural treinada para realizar inferência\n"
   ]
  },
  {
   "cell_type": "code",
   "execution_count": null,
   "metadata": {},
   "outputs": [],
   "source": [
    "model.save('model.h5')  # creates a HDF5 file 'my_model.h5'"
   ]
  },
  {
   "cell_type": "markdown",
   "metadata": {},
   "source": [
    "* carregando pesos salvos"
   ]
  },
  {
   "cell_type": "code",
   "execution_count": null,
   "metadata": {},
   "outputs": [],
   "source": [
    "model = load_model('model.h5')"
   ]
  },
  {
   "cell_type": "markdown",
   "metadata": {},
   "source": [
    "## Exemplo de rede neural para regressão"
   ]
  },
  {
   "cell_type": "code",
   "execution_count": 12,
   "metadata": {
    "scrolled": false
   },
   "outputs": [
    {
     "name": "stdout",
     "output_type": "stream",
     "text": [
      "\n",
      "Available modes: regression, binary, multi, multioutput\n",
      "\n",
      "Versions:\n",
      "Keras : 2.2.4-tf\n",
      "Tensorflow : 2.1.0\n",
      "GPU enabled!\n",
      "CPU test for EYE(10000):  0.3000776767730713\n",
      "GPU test for EYE(10000):  0.01483607292175293\n",
      "\n",
      "Available genes and variations:\n",
      "optimizers      ['adam']\n",
      "losses          ['mse']\n",
      "activators      ['relu', 'linear']\n",
      "denses          [4, 8, 16]\n",
      "dropout         [False]\n",
      "dropout_rate    [0.0]\n",
      "Mutable:        ['activators', 'denses']\n",
      "\n",
      "Neural network and genetics set:\n",
      "X data shape:             (200, 4)\n",
      "X data shape:             (200,)\n",
      "Max topology dept:        ['Dense', 'Dense', 'Dense']\n",
      "Population size:          10\n",
      "Number of generations:    5\n",
      "Proportion on strain:     0.3\n",
      "DNA length:               15\n",
      "Genes available to mutate:\n",
      " ['activators', 'denses']\n",
      "\n",
      "Neural network train starting...\n",
      "\n",
      "Running generation: 1\n",
      "Current Average Score: 10000000014.07\n",
      "Total Elapsed Time (s): 12.21\n",
      "Average Time per Cycle (s): 1.22\n",
      "\n",
      "Running generation: 2\n",
      "[10.245394992446398, 13.756817593201502, 9.499092299832713, 15.705809270141902, 6.3275615844275395, 9.187496332265805, 45.605099098818904, 22.452490505558913, 99999999999, 8.94322040379589]\n",
      "Current Average Score: 10000000023.43\n",
      "Total Elapsed Time (s): 12.74\n",
      "Average Time per Cycle (s): 1.27\n",
      "\n",
      "Running generation: 3\n",
      "[154.07110625385417, 16.009346802227036, 6.532056100059992, 12.686596589264193, 7.143334683539111, 4.864351525447552, 17.98179480045308, 99999999999, 7.999847318126718, 8.032592915276615]\n",
      "Current Average Score: 10000000012.35\n",
      "Total Elapsed Time (s): 11.72\n",
      "Average Time per Cycle (s): 1.17\n",
      "\n",
      "Running generation: 4\n",
      "[7.4194239926810654, 12.667574443358868, 99999999999, 9.00139780471637, 9.266570625362208, 60.48608503454361, 6.688865028568891, 6.742801095082885, 7.8981077329339335, 4.311740613623281]\n",
      "Current Average Score: 20000000008.09\n",
      "Total Elapsed Time (s): 11.79\n",
      "Average Time per Cycle (s): 1.18\n",
      "\n",
      "Running generation: 5\n",
      "[9.38275981987625, 7.456479128361807, 99999999999, 16.240688458276974, 9.209323877731581, 5.023037023774015, 19.595871868525606, 99999999999, 7.870432637956587, 8.153375535834552]\n",
      "Current Average Score: 30000000006.03\n",
      "Total Elapsed Time (s): 12.6\n",
      "Average Time per Cycle (s): 1.26\n",
      "[13.486536433599985, 6.911174640529555, 99999999999, 99999999999, 8.504492654196378, 4.654417197178521, 12.751715698398481, 99999999999, 9.056951885598101, 7.950897512755175]\n",
      "\n",
      "Best Model: 5\n",
      "{0: ('denses', 16), 1: ('activators', 'linear'), 2: ('dropout', False), 3: ('dropout_rate', 0.0), 4: ('denses', 16), 5: ('activators', 'linear'), 6: ('dropout', False), 7: ('dropout_rate', 0.0), 8: ('denses', 4), 9: ('activators', 'relu'), 10: ('dropout', False), 11: ('dropout_rate', 0.0), 12: ('activators', 'relu'), 13: ('optimizers', 'adam'), 14: ('losses', 'mse')}\n",
      "Model: \"sequential_5\"\n",
      "_________________________________________________________________\n",
      "Layer (type)                 Output Shape              Param #   \n",
      "=================================================================\n",
      "dense_20 (Dense)             (None, 16)                80        \n",
      "_________________________________________________________________\n",
      "dense_21 (Dense)             (None, 16)                272       \n",
      "_________________________________________________________________\n",
      "dense_22 (Dense)             (None, 4)                 68        \n",
      "_________________________________________________________________\n",
      "dense_23 (Dense)             (None, 1)                 5         \n",
      "=================================================================\n",
      "Total params: 425\n",
      "Trainable params: 425\n",
      "Non-trainable params: 0\n",
      "_________________________________________________________________\n",
      "Score: 4.65\n",
      "Accuracy (train/test): 5.07 / 6.06\n"
     ]
    },
    {
     "data": {
      "image/png": "[encoded data removed]",
      "text/plain": [
       "<Figure size 432x288 with 1 Axes>"
      ]
     },
     "metadata": {
      "needs_background": "light"
     },
     "output_type": "display_data"
    },
    {
     "data": {
      "image/png": "[encoded data removed]",
      "text/plain": [
       "<Figure size 432x288 with 1 Axes>"
      ]
     },
     "metadata": {
      "needs_background": "light"
     },
     "output_type": "display_data"
    }
   ],
   "source": [
    "from sklearn.preprocessing import MinMaxScaler\n",
    "\n",
    "from rubia_ann import *\n",
    "\n",
    "data = pd.read_csv('https://raw.githubusercontent.com/advinstai/Aprendizagem-estatistica-regressao/master/exercicios/Advertising.csv')\n",
    "data = np.array(data)\n",
    "X, y = data[:,:-1], data[:,-1]\n",
    "\n",
    "scalarX, scalarY = MinMaxScaler(), MinMaxScaler()\n",
    "scalarX.fit(X)\n",
    "X = scalarX.transform(X)\n",
    "\n",
    "GENES = {\n",
    "    'optimizers': ['adam'],\n",
    "    'losses': ['mse'],\n",
    "    'activators': ['relu','linear'],\n",
    "    'denses': [2 ** i for i in range(2, 5)],\n",
    "    'dropout': [False],\n",
    "    'dropout_rate': [0.0]\n",
    "}\n",
    "\n",
    "# gpu and fixed_genes below are optional parameters \n",
    "k = simpler_keras(X=X, y=y, mode='regression', gpu=True, fixed_genes=GENES)\n",
    "k.check()\n",
    "\n",
    "topology = ['Dense','Dense','Dense']\n",
    "k.setGenetic(topology,population=10,generations=5,keep_portion=0.3,input_dim=4,output_dim=1,metrics=['mse'])\n",
    "\n",
    "k.runGenerations(epochs=100, batch_size=100, verbose=0)"
   ]
  },
  {
   "cell_type": "code",
   "execution_count": 13,
   "metadata": {},
   "outputs": [
    {
     "name": "stdout",
     "output_type": "stream",
     "text": [
      "tf.Tensor([22.1 10.4  9.3 18.5 12.9], shape=(5,), dtype=float64)\n",
      "[[19.59257 ]\n",
      " [11.936139]\n",
      " [12.65138 ]\n",
      " [16.68845 ]\n",
      " [14.284048]]\n"
     ]
    }
   ],
   "source": [
    "print(k.y[:5])\n",
    "print(k.best_model.predict(k.X[:5]))"
   ]
  },
  {
   "cell_type": "code",
   "execution_count": 20,
   "metadata": {
    "scrolled": false
   },
   "outputs": [],
   "source": [
    "scalarX, scalarY = MinMaxScaler(), MinMaxScaler()\n",
    "scalarX.fit(X)\n",
    "\n",
    "X = scalarX.transform(X)\n",
    "\n",
    "# define and fit the final model\n",
    "model = models.Sequential()\n",
    "model.add(layers.Dense(16, input_dim=4, activation='linear'))\n",
    "model.add(layers.Dense(16, activation='linear'))\n",
    "model.add(layers.Dense(4, activation='relu'))\n",
    "model.add(layers.Dense(1, activation='relu'))\n",
    "model.compile(loss='mse', optimizer='adam', metrics=['mse'])\n",
    "\n",
    "history = model.fit(X, y, epochs=100, verbose=0, validation_split=0.2)"
   ]
  },
  {
   "cell_type": "code",
   "execution_count": 21,
   "metadata": {},
   "outputs": [
    {
     "name": "stdout",
     "output_type": "stream",
     "text": [
      "200/200 [==============================] - 0s 41us/sample - loss: 3.3865 - mse: 3.3865\n",
      "[3.3865029048919677, 3.3865027]\n"
     ]
    },
    {
     "data": {
      "text/plain": [
       "[Text(0.5, 15.000000000000028, 'Época')]"
      ]
     },
     "execution_count": 21,
     "metadata": {},
     "output_type": "execute_result"
    },
    {
     "data": {
      "image/png": "[encoded data removed]",
      "text/plain": [
       "<Figure size 432x288 with 2 Axes>"
      ]
     },
     "metadata": {
      "needs_background": "light"
     },
     "output_type": "display_data"
    }
   ],
   "source": [
    "score = model.evaluate(X, y)\n",
    "print(score)\n",
    "\n",
    "fig, axs = plt.subplots(2)\n",
    "\n",
    "fig.tight_layout(pad=3.0)\n",
    "\n",
    "x=history.history['mse']\n",
    "axs[0].plot(x)\n",
    "axs[0].set_title('mse')\n",
    "axs[0].set(xlabel='Época')\n",
    "\n",
    "x=history.history['loss']\n",
    "axs[1].plot(x)\n",
    "axs[1].set_title('Loss')\n",
    "axs[1].set(xlabel='Época')"
   ]
  },
  {
   "cell_type": "code",
   "execution_count": null,
   "metadata": {},
   "outputs": [],
   "source": [
    "import tensorflow.keras as keras\n",
    "import tensorflow as tf\n",
    "\n",
    "import numpy as np\n",
    "import pandas as pd\n",
    "from matplotlib import pyplot\n",
    "\n",
    "from tensorflow.keras import backend as K\n",
    "from tensorflow.keras.models import Sequential, load_model\n",
    "from tensorflow.keras.layers import Dense, Flatten, Dropout, Activation, Conv2D, MaxPooling2D\n",
    "from tensorflow.keras.wrappers.scikit_learn import KerasClassifier\n",
    "\n",
    "from sklearn.datasets import make_regression\n",
    "from sklearn.preprocessing import MinMaxScaler"
   ]
  },
  {
   "cell_type": "markdown",
   "metadata": {},
   "source": [
    "## Teste de Rede Neural com N-classes"
   ]
  },
  {
   "cell_type": "code",
   "execution_count": 23,
   "metadata": {},
   "outputs": [
    {
     "name": "stdout",
     "output_type": "stream",
     "text": [
      "Train on 10000 samples\n",
      "Epoch 1/10\n",
      "10000/10000 [==============================] - 1s 73us/sample - loss: 2.3101 - accuracy: 0.1037\n",
      "Epoch 2/10\n",
      "10000/10000 [==============================] - 1s 54us/sample - loss: 2.3029 - accuracy: 0.1042\n",
      "Epoch 3/10\n",
      "10000/10000 [==============================] - 1s 55us/sample - loss: 2.3027 - accuracy: 0.1050\n",
      "Epoch 4/10\n",
      "10000/10000 [==============================] - 1s 53us/sample - loss: 2.3029 - accuracy: 0.1055\n",
      "Epoch 5/10\n",
      "10000/10000 [==============================] - 1s 59us/sample - loss: 2.3024 - accuracy: 0.1051\n",
      "Epoch 6/10\n",
      "10000/10000 [==============================] - 1s 51us/sample - loss: 2.3024 - accuracy: 0.1051\n",
      "Epoch 7/10\n",
      "10000/10000 [==============================] - 1s 51us/sample - loss: 2.3024 - accuracy: 0.1049\n",
      "Epoch 8/10\n",
      "10000/10000 [==============================] - 1s 52us/sample - loss: 2.3024 - accuracy: 0.1051\n",
      "Epoch 9/10\n",
      "10000/10000 [==============================] - 1s 57us/sample - loss: 2.3024 - accuracy: 0.1044\n",
      "Epoch 10/10\n",
      "10000/10000 [==============================] - 1s 56us/sample - loss: 2.3027 - accuracy: 0.1051\n"
     ]
    }
   ],
   "source": [
    "# For a single-input model with 10 classes (categorical classification):\n",
    "\n",
    "model = models.Sequential()\n",
    "model.add(layers.Dense(32, activation='relu', input_dim=1000))\n",
    "model.add(layers.Dense(10, activation='softmax'))\n",
    "model.compile(optimizer='rmsprop',\n",
    "              loss='categorical_crossentropy',\n",
    "              metrics=['accuracy'])\n",
    "\n",
    "# Generate dummy data\n",
    "import numpy as np\n",
    "data = np.random.random((10000, 1000))\n",
    "labels = np.random.randint(10, size=(10000, 1))\n",
    "\n",
    "# Convertendo labels em categorias one-hot encoding\n",
    "one_hot_labels = keras.utils.to_categorical(labels, num_classes=10)\n",
    "\n",
    "history = model.fit(data, one_hot_labels, epochs=10, batch_size=32)"
   ]
  },
  {
   "cell_type": "markdown",
   "metadata": {},
   "source": [
    "## Escolhendo parâmetros da Rede Neural\n",
    "* Uma técnica para lidar com a complexidade de parâmetros é o processo de busca por hiperparâmetros automatizado (Usando scikit-learn por exemplo)"
   ]
  },
  {
   "cell_type": "code",
   "execution_count": 103,
   "metadata": {},
   "outputs": [],
   "source": [
    "from tensorflow.keras.wrappers.scikit_learn import KerasClassifier\n",
    "from sklearn.model_selection import GridSearchCV\n",
    "\n",
    "# Readying neural network model\n",
    "def build_nn(activation = 'relu', optimizer = 'Adam'):   \n",
    "    model = models.Sequential()\n",
    "    model.add(layers.Dense(12, input_dim=8, activation='relu'))\n",
    "    model.add(layers.Dense(128, activation=activation))\n",
    "    model.add(layers.Dense(1, activation='sigmoid'))    \n",
    "    model.compile(loss='binary_crossentropy', optimizer=optimizer, metrics=['accuracy'])\n",
    "    return model\n",
    "\n",
    "param_grid = {\n",
    "              'epochs':        [15, 20],\n",
    "              'batch_size':    [128, 256],\n",
    "              #'activation':   ['softmax','relu']\n",
    "              #'optimizer':    ['RMSprop','Adam']\n",
    "              'optimizer' :    ['sgd', 'Adam', 'Nadam'],\n",
    "              #'dropout_rate': [0.2, 0.3],\n",
    "              'activation' :   ['relu', 'elu', 'softmax']\n",
    "             }\n",
    "\n",
    "seed = 7\n",
    "np.random.seed(seed)\n",
    "\n",
    "data = pd.read_csv('https://raw.githubusercontent.com/jbrownlee/Datasets/master/pima-indians-diabetes.csv', header=None)\n",
    "data = np.array(data)\n",
    "X, y = data[:,:-1], data[:,-1]\n",
    "\n",
    "model = KerasClassifier(build_fn=build_nn, verbose=0)\n",
    "grid = GridSearchCV(estimator=model, param_grid=param_grid, cv=3, verbose=0, \n",
    "                    scoring='accuracy', return_train_score=True)\n",
    "grid_result = grid.fit(X, y)"
   ]
  },
  {
   "cell_type": "code",
   "execution_count": 120,
   "metadata": {},
   "outputs": [
    {
     "name": "stdout",
     "output_type": "stream",
     "text": [
      "GridSearchCV(cv=3, error_score=nan,\n",
      "             estimator=<tensorflow.python.keras.wrappers.scikit_learn.KerasClassifier object at 0x7fab021ca510>,\n",
      "             iid='deprecated', n_jobs=4,\n",
      "             param_grid=[{'act1': ['relu'], 'act2': ['softmax'],\n",
      "                          'batch_size': [32], 'd1': [2],\n",
      "                          'optimizer': ['adam']},\n",
      "                         {'act1': ['elu'], 'act2': ['sigmoid'],\n",
      "                          'batch_size': [64], 'd1': [8],\n",
      "                          'optimizer': ['adam']},\n",
      "                         {'act1': ['relu'], 'act2': ['softmax'],\n",
      "                          'batch_size': [128], 'd1': [4],\n",
      "                          'optimizer': ['adam']},\n",
      "                         {'act1': ['elu'], 'act2': ['sigmoid'],\n",
      "                          'batch_size': [64], 'd1': [16],\n",
      "                          'optimizer': ['adam']},\n",
      "                         {'act1': ['relu'], 'act2': ['softmax'],\n",
      "                          'batch_size': [64], 'd1': [4],\n",
      "                          'optimizer': ['adam']}],\n",
      "             pre_dispatch='2*n_jobs', refit=True, return_train_score=True,\n",
      "             scoring='accuracy', verbose=0)\n",
      "nan\n",
      "{'act1': 'relu', 'act2': 'softmax', 'batch_size': 32, 'd1': 2, 'optimizer': 'adam'}\n",
      "<tensorflow.python.keras.wrappers.scikit_learn.KerasClassifier object at 0x7fab027019d0>\n",
      "['mean_fit_time', 'mean_score_time', 'mean_test_score', 'mean_train_score', 'param_act1', 'param_act2', 'param_batch_size', 'param_d1', 'param_optimizer', 'params', 'rank_test_score', 'split0_test_score', 'split0_train_score', 'split1_test_score', 'split1_train_score', 'split2_test_score', 'split2_train_score', 'std_fit_time', 'std_score_time', 'std_test_score', 'std_train_score']\n"
     ]
    }
   ],
   "source": [
    "print(grid_result)\n",
    "print(grid_result.best_score_)\n",
    "print(grid_result.best_params_)\n",
    "print(grid_result.best_estimator_)\n",
    "print(sorted(grid_result.cv_results_))"
   ]
  },
  {
   "cell_type": "markdown",
   "metadata": {},
   "source": [
    "## Otimizador: teste para implantar no rubia_ann\n",
    "* A GridSearchCV está preparada para explorar os recurso de thread e GPU\n",
    "* Etapas:\n",
    "    * criar a função que constrói a NN, ela recebe as keys dos params como parâmetros\n",
    "    * criar model = KerasClassifier(build_fn=my_nn_builder_function, verbose=1)\n",
    "    * criar o grid = GridSearchCV(estimator=model, params=my_param_dict, n_jobs=-1, cv=3)\n",
    "    * calcular result = grid.fit(X, y)\n",
    "    \n",
    "No nosso caso, alteramos o wrapper KerasClassifier pelo novo myKerasWrapper. A classe pai do KerasClassifier foi incorporada também nesta mesma classe."
   ]
  },
  {
   "cell_type": "code",
   "execution_count": 2,
   "metadata": {
    "scrolled": false
   },
   "outputs": [
    {
     "name": "stdout",
     "output_type": "stream",
     "text": [
      "{'verbose': 0, 'validation_split': 0.2, 'batch_size': 64, 'epochs': 40}\n",
      "Model: \"sequential\"\n",
      "_________________________________________________________________\n",
      "Layer (type)                 Output Shape              Param #   \n",
      "=================================================================\n",
      "dense (Dense)                (None, 4)                 36        \n",
      "_________________________________________________________________\n",
      "dense_1 (Dense)              (None, 1)                 5         \n",
      "_________________________________________________________________\n",
      "dense_2 (Dense)              (None, 1)                 2         \n",
      "=================================================================\n",
      "Total params: 43\n",
      "Trainable params: 43\n",
      "Non-trainable params: 0\n",
      "_________________________________________________________________\n",
      "{'verbose': 0, 'validation_split': 0.2, 'batch_size': 64, 'epochs': 40}\n",
      "Model: \"sequential_1\"\n",
      "_________________________________________________________________\n",
      "Layer (type)                 Output Shape              Param #   \n",
      "=================================================================\n",
      "dense_3 (Dense)              (None, 4)                 36        \n",
      "_________________________________________________________________\n",
      "dense_4 (Dense)              (None, 1)                 5         \n",
      "_________________________________________________________________\n",
      "dense_5 (Dense)              (None, 1)                 2         \n",
      "=================================================================\n",
      "Total params: 43\n",
      "Trainable params: 43\n",
      "Non-trainable params: 0\n",
      "_________________________________________________________________\n",
      "{'verbose': 0, 'validation_split': 0.2, 'batch_size': 10, 'epochs': 60}\n",
      "Model: \"sequential_2\"\n",
      "_________________________________________________________________\n",
      "Layer (type)                 Output Shape              Param #   \n",
      "=================================================================\n",
      "dense_6 (Dense)              (None, 12)                108       \n",
      "_________________________________________________________________\n",
      "dense_7 (Dense)              (None, 8)                 104       \n",
      "_________________________________________________________________\n",
      "dense_8 (Dense)              (None, 1)                 9         \n",
      "=================================================================\n",
      "Total params: 221\n",
      "Trainable params: 221\n",
      "Non-trainable params: 0\n",
      "_________________________________________________________________\n",
      "{'verbose': 0, 'validation_split': 0.2, 'batch_size': 10, 'epochs': 60}\n",
      "Model: \"sequential_3\"\n",
      "_________________________________________________________________\n",
      "Layer (type)                 Output Shape              Param #   \n",
      "=================================================================\n",
      "dense_9 (Dense)              (None, 12)                108       \n",
      "_________________________________________________________________\n",
      "dense_10 (Dense)             (None, 8)                 104       \n",
      "_________________________________________________________________\n",
      "dense_11 (Dense)             (None, 1)                 9         \n",
      "=================================================================\n",
      "Total params: 221\n",
      "Trainable params: 221\n",
      "Non-trainable params: 0\n",
      "_________________________________________________________________\n",
      "{'verbose': 0, 'validation_split': 0.2, 'batch_size': 10, 'epochs': 60}\n",
      "Model: \"sequential_4\"\n",
      "_________________________________________________________________\n",
      "Layer (type)                 Output Shape              Param #   \n",
      "=================================================================\n",
      "dense_12 (Dense)             (None, 12)                108       \n",
      "_________________________________________________________________\n",
      "dense_13 (Dense)             (None, 8)                 104       \n",
      "_________________________________________________________________\n",
      "dense_14 (Dense)             (None, 1)                 9         \n",
      "=================================================================\n",
      "Total params: 221\n",
      "Trainable params: 221\n",
      "Non-trainable params: 0\n",
      "_________________________________________________________________\n",
      "GridSearchCV(cv=2, error_score=nan,\n",
      "             estimator=<__main__.myKerasWrapper object at 0x7ffac5742610>,\n",
      "             iid='deprecated', n_jobs=1,\n",
      "             param_grid=[{'act1': ['elu'], 'act2': ['sigmoid'],\n",
      "                          'act3': ['softmax'], 'batch_size': [64], 'd1': [4],\n",
      "                          'd2': [1], 'epochs': [40], 'optimizer': ['adam']},\n",
      "                         {'act1': ['relu'], 'act2': ['relu'],\n",
      "                          'act3': ['sigmoid'], 'batch_size': [10], 'd1': [12],\n",
      "                          'd2': [8], 'epochs': [60], 'optimizer': ['adam']}],\n",
      "             pre_dispatch='2*n_jobs', refit=True, return_train_score=True,\n",
      "             scoring='accuracy', verbose=0)\n",
      "0.6744791666666667\n",
      "{'act1': 'relu', 'act2': 'relu', 'act3': 'sigmoid', 'batch_size': 10, 'd1': 12, 'd2': 8, 'epochs': 60, 'optimizer': 'adam'}\n",
      "[0.34895833 0.67447917]\n",
      "[{'act1': 'elu', 'act2': 'sigmoid', 'act3': 'softmax', 'batch_size': 64, 'd1': 4, 'd2': 1, 'epochs': 40, 'optimizer': 'adam'}, {'act1': 'relu', 'act2': 'relu', 'act3': 'sigmoid', 'batch_size': 10, 'd1': 12, 'd2': 8, 'epochs': 60, 'optimizer': 'adam'}]\n"
     ]
    }
   ],
   "source": [
    "class myKerasWrapper():\n",
    "\n",
    "    def __init__(self, build_fn=None, **sk_params):\n",
    "        self.build_fn = build_fn\n",
    "        self.sk_params = sk_params\n",
    "    \n",
    "    def get_params(self, **params):  # pylint: disable=unused-argument\n",
    "        res = copy.deepcopy(self.sk_params)\n",
    "        res.update({'build_fn': self.build_fn})\n",
    "        return res\n",
    "\n",
    "    def set_params(self, **params):\n",
    "        self.sk_params.update(params)\n",
    "        return self\n",
    "\n",
    "    def fit(self, x, y, **kwargs):\n",
    "        y = np.array(y)\n",
    "        if len(y.shape) == 2 and y.shape[1] > 1:\n",
    "            self.classes_ = np.arange(y.shape[1])\n",
    "        elif (len(y.shape) == 2 and y.shape[1] == 1) or len(y.shape) == 1:\n",
    "            self.classes_ = np.unique(y)\n",
    "            y = np.searchsorted(self.classes_, y)\n",
    "        else:\n",
    "            raise ValueError('Invalid shape for y: ' + str(y.shape))\n",
    "        self.n_classes_ = len(self.classes_)\n",
    "        self.model = self.build_fn(**self.sk_params)\n",
    "        if (losses.is_categorical_crossentropy(self.model.loss) and len(y.shape) != 2):\n",
    "            y = to_categorical(y)\n",
    "        fit_args = copy.deepcopy(self.filter_sk_params(Sequential.fit))\n",
    "        fit_args.update(kwargs)\n",
    "        print(fit_args)\n",
    "        self.model.summary()\n",
    "        history = self.model.fit(x, y, **fit_args)\n",
    "        return history\n",
    "\n",
    "    def filter_sk_params(self, fn, override=None):\n",
    "        override = override or {}\n",
    "        res = {}\n",
    "        for name, value in self.sk_params.items():\n",
    "            if has_arg(fn, name):\n",
    "                res.update({name: value})\n",
    "        res.update(override)\n",
    "        return res\n",
    "\n",
    "    def predict(self, x, **kwargs):\n",
    "        kwargs = self.filter_sk_params(Sequential.predict_classes, kwargs)\n",
    "        classes = self.model.predict_classes(x, **kwargs)\n",
    "        return self.classes_[classes]\n",
    "\n",
    "    def predict_proba(self, x, **kwargs):\n",
    "        kwargs = self.filter_sk_params(Sequential.predict_proba, kwargs)\n",
    "        probs = self.model.predict_proba(x, **kwargs)\n",
    "        # check if binary classification\n",
    "        if probs.shape[1] == 1:\n",
    "            probs = np.hstack([1 - probs, probs])\n",
    "        return probs\n",
    "\n",
    "    def score(self, x, y, **kwargs):\n",
    "        y = np.searchsorted(self.classes_, y)\n",
    "        kwargs = self.filter_sk_params(Sequential.evaluate, kwargs)\n",
    "        loss_name = self.model.loss\n",
    "        if hasattr(loss_name, '__name__'):\n",
    "            loss_name = loss_name.__name__\n",
    "        if loss_name == 'categorical_crossentropy' and len(y.shape) != 2:\n",
    "            y = to_categorical(y)\n",
    "\n",
    "        outputs = self.model.evaluate(x, y, **kwargs)\n",
    "        if not isinstance(outputs, list):\n",
    "            outputs = [outputs]\n",
    "        for name, output in zip(self.model.metrics_names, outputs):\n",
    "            if name in ['accuracy', 'acc']:\n",
    "                return output\n",
    "        raise ValueError('The model is not configured to compute accuracy. '\n",
    "                     'You should pass `metrics=[\"accuracy\"]` to '\n",
    "                     'the `model.compile()` method.')\n",
    "        \n",
    "import types\n",
    "import copy\n",
    "import pandas as pd\n",
    "import numpy as np\n",
    "import tensorflow as tf\n",
    "import tensorflow.keras as keras\n",
    "import tensorflow.keras.models as models\n",
    "import tensorflow.keras.layers as layers\n",
    "import tensorflow.keras.wrappers.scikit_learn\n",
    "from tensorflow.python.keras import losses\n",
    "from tensorflow.python.keras.models import Sequential\n",
    "from tensorflow.python.keras.utils.generic_utils import has_arg\n",
    "\n",
    "\n",
    "\n",
    "from sklearn.model_selection import GridSearchCV\n",
    "\n",
    "def build_nn(**kwargs):   \n",
    "    #print('\\nEntrei na build_nn. Aqui vai a função que cria e retorna um model')\n",
    "    #print(kwargs)\n",
    "    model = models.Sequential()\n",
    "    model.add(layers.Dense(kwargs['d1'], input_dim=8, activation=kwargs['act1']))\n",
    "    model.add(layers.Dense(kwargs['d2'], activation=kwargs['act2']))\n",
    "    model.add(layers.Dense(1, activation=kwargs['act3']))    \n",
    "    model.compile(loss='binary_crossentropy', optimizer='adam', metrics=['accuracy'])\n",
    "    #model.summary()\n",
    "    return model\n",
    "\n",
    "\n",
    "param_grid = [\n",
    "             {'d1':  [4], 'd2':  [1], 'act1': ['elu'],  'act2': ['sigmoid'], 'act3': ['softmax'],'batch_size': [64],  'optimizer': ['adam'], 'epochs': [40]},\n",
    "             {'d1': [12], 'd2':  [8], 'act1': ['relu'], 'act2': ['relu'], 'act3': ['sigmoid'],'batch_size': [10],  'optimizer': ['adam'], 'epochs': [60]}\n",
    "             ]\n",
    "\n",
    "mode = 'binary'\n",
    "if mode == 'binary':\n",
    "    data = pd.read_csv('https://raw.githubusercontent.com/jbrownlee/Datasets/master/pima-indians-diabetes.csv', header=None)\n",
    "    data = np.array(data)\n",
    "    X, y = data[:,:-1], data[:,-1]\n",
    "    metric = 'accuracy'\n",
    "if mode == 'regression':\n",
    "    data = pd.read_csv('https://raw.githubusercontent.com/advinstai/Aprendizagem-estatistica-regressao/master/exercicios/Advertising.csv')\n",
    "    data = np.array(data)\n",
    "    X, y = data[:,:-1], data[:,-1]\n",
    "    scalarX, scalarY = MinMaxScaler(), MinMaxScaler()\n",
    "    scalarX.fit(X)\n",
    "    X = scalarX.transform(X)\n",
    "    metric = 'mse'\n",
    "    \n",
    "\n",
    "model = myKerasWrapper(build_fn=build_nn, **{'verbose': 0, 'mode': 'bynary', \n",
    "                                             'metrics': metric, 'validation_split': 0.2})\n",
    "grid = GridSearchCV(estimator=model, param_grid=param_grid, n_jobs=1, cv=2, verbose=0, \n",
    "                    scoring=metric, return_train_score=True)\n",
    "grid_result = grid.fit(X, y)\n",
    "\n",
    "print(grid_result)\n",
    "print(grid_result.best_score_)\n",
    "print(grid_result.best_params_)\n",
    "print(grid_result.cv_results_['mean_test_score'])\n",
    "print(grid_result.cv_results_['params'])"
   ]
  },
  {
   "cell_type": "markdown",
   "metadata": {},
   "source": [
    "## Exemplos de Rede Neural\n",
    "* Primeiro exemplo"
   ]
  },
  {
   "cell_type": "code",
   "execution_count": 33,
   "metadata": {},
   "outputs": [
    {
     "name": "stderr",
     "output_type": "stream",
     "text": [
      "Using TensorFlow backend.\n"
     ]
    },
    {
     "name": "stdout",
     "output_type": "stream",
     "text": [
      "Epoch 1/20\n",
      "1000/1000 [==============================] - 0s 220us/step - loss: 2.4650 - accuracy: 0.0980\n",
      "Epoch 2/20\n",
      "1000/1000 [==============================] - 0s 20us/step - loss: 2.3657 - accuracy: 0.1170\n",
      "Epoch 3/20\n",
      "1000/1000 [==============================] - 0s 23us/step - loss: 2.3372 - accuracy: 0.1140\n",
      "Epoch 4/20\n",
      "1000/1000 [==============================] - 0s 17us/step - loss: 2.3279 - accuracy: 0.1100\n",
      "Epoch 5/20\n",
      "1000/1000 [==============================] - 0s 18us/step - loss: 2.3153 - accuracy: 0.1090\n",
      "Epoch 6/20\n",
      "1000/1000 [==============================] - 0s 16us/step - loss: 2.3153 - accuracy: 0.1260\n",
      "Epoch 7/20\n",
      "1000/1000 [==============================] - 0s 17us/step - loss: 2.3061 - accuracy: 0.1340\n",
      "Epoch 8/20\n",
      "1000/1000 [==============================] - 0s 21us/step - loss: 2.3038 - accuracy: 0.1110\n",
      "Epoch 9/20\n",
      "1000/1000 [==============================] - 0s 17us/step - loss: 2.2979 - accuracy: 0.1240\n",
      "Epoch 10/20\n",
      "1000/1000 [==============================] - 0s 18us/step - loss: 2.3083 - accuracy: 0.1170\n",
      "Epoch 11/20\n",
      "1000/1000 [==============================] - 0s 17us/step - loss: 2.3031 - accuracy: 0.1170\n",
      "Epoch 12/20\n",
      "1000/1000 [==============================] - 0s 16us/step - loss: 2.2973 - accuracy: 0.1270\n",
      "Epoch 13/20\n",
      "1000/1000 [==============================] - 0s 20us/step - loss: 2.2899 - accuracy: 0.1150\n",
      "Epoch 14/20\n",
      "1000/1000 [==============================] - 0s 17us/step - loss: 2.2955 - accuracy: 0.1190\n",
      "Epoch 15/20\n",
      "1000/1000 [==============================] - 0s 18us/step - loss: 2.2921 - accuracy: 0.1370\n",
      "Epoch 16/20\n",
      "1000/1000 [==============================] - 0s 17us/step - loss: 2.2934 - accuracy: 0.1150\n",
      "Epoch 17/20\n",
      "1000/1000 [==============================] - 0s 17us/step - loss: 2.2952 - accuracy: 0.1270\n",
      "Epoch 18/20\n",
      "1000/1000 [==============================] - 0s 22us/step - loss: 2.2884 - accuracy: 0.1250\n",
      "Epoch 19/20\n",
      "1000/1000 [==============================] - 0s 17us/step - loss: 2.2927 - accuracy: 0.1220\n",
      "Epoch 20/20\n",
      "1000/1000 [==============================] - 0s 18us/step - loss: 2.2937 - accuracy: 0.1140\n",
      "100/100 [==============================] - 0s 300us/step\n"
     ]
    }
   ],
   "source": [
    "import keras\n",
    "from keras.models import Sequential\n",
    "from keras.layers import Dense, Dropout, Activation\n",
    "from keras.optimizers import SGD\n",
    "\n",
    "# Generate dummy data\n",
    "import numpy as np\n",
    "x_train = np.random.random((1000, 20))\n",
    "y_train = keras.utils.to_categorical(np.random.randint(10, size=(1000, 1)), num_classes=10)\n",
    "x_test = np.random.random((100, 20))\n",
    "y_test = keras.utils.to_categorical(np.random.randint(10, size=(100, 1)), num_classes=10)\n",
    "\n",
    "model = Sequential()\n",
    "# Dense(64) is a fully-connected layer with 64 hidden units.\n",
    "# in the first layer, you must specify the expected input data shape:\n",
    "# here, 20-dimensional vectors.\n",
    "model.add(Dense(64, activation='relu', input_dim=20))\n",
    "model.add(Dropout(0.5))\n",
    "model.add(Dense(64, activation='relu'))\n",
    "model.add(Dropout(0.5))\n",
    "model.add(Dense(10, activation='softmax'))\n",
    "\n",
    "sgd = SGD(lr=0.01, decay=1e-6, momentum=0.9, nesterov=True)\n",
    "model.compile(loss='categorical_crossentropy',\n",
    "              optimizer=sgd,\n",
    "              metrics=['accuracy'])\n",
    "\n",
    "model.fit(x_train, y_train,\n",
    "          epochs=20,\n",
    "          batch_size=128)\n",
    "score = model.evaluate(x_test, y_test, batch_size=128)"
   ]
  },
  {
   "cell_type": "markdown",
   "metadata": {},
   "source": [
    "* Segundo exemplo"
   ]
  },
  {
   "cell_type": "code",
   "execution_count": 34,
   "metadata": {},
   "outputs": [
    {
     "name": "stdout",
     "output_type": "stream",
     "text": [
      "Epoch 1/20\n",
      "1000/1000 [==============================] - 0s 159us/step - loss: 0.7356 - accuracy: 0.5050\n",
      "Epoch 2/20\n",
      "1000/1000 [==============================] - 0s 20us/step - loss: 0.7034 - accuracy: 0.5320\n",
      "Epoch 3/20\n",
      "1000/1000 [==============================] - 0s 19us/step - loss: 0.6974 - accuracy: 0.5250\n",
      "Epoch 4/20\n",
      "1000/1000 [==============================] - 0s 19us/step - loss: 0.6854 - accuracy: 0.5450\n",
      "Epoch 5/20\n",
      "1000/1000 [==============================] - 0s 18us/step - loss: 0.7010 - accuracy: 0.5050\n",
      "Epoch 6/20\n",
      "1000/1000 [==============================] - 0s 18us/step - loss: 0.6986 - accuracy: 0.5130\n",
      "Epoch 7/20\n",
      "1000/1000 [==============================] - 0s 17us/step - loss: 0.6967 - accuracy: 0.5330\n",
      "Epoch 8/20\n",
      "1000/1000 [==============================] - 0s 17us/step - loss: 0.6897 - accuracy: 0.5220\n",
      "Epoch 9/20\n",
      "1000/1000 [==============================] - 0s 18us/step - loss: 0.6993 - accuracy: 0.5070\n",
      "Epoch 10/20\n",
      "1000/1000 [==============================] - 0s 15us/step - loss: 0.6910 - accuracy: 0.5230\n",
      "Epoch 11/20\n",
      "1000/1000 [==============================] - 0s 19us/step - loss: 0.6935 - accuracy: 0.5270\n",
      "Epoch 12/20\n",
      "1000/1000 [==============================] - 0s 17us/step - loss: 0.6832 - accuracy: 0.5420\n",
      "Epoch 13/20\n",
      "1000/1000 [==============================] - 0s 20us/step - loss: 0.6934 - accuracy: 0.5390\n",
      "Epoch 14/20\n",
      "1000/1000 [==============================] - 0s 18us/step - loss: 0.6840 - accuracy: 0.5400\n",
      "Epoch 15/20\n",
      "1000/1000 [==============================] - 0s 18us/step - loss: 0.6924 - accuracy: 0.5400\n",
      "Epoch 16/20\n",
      "1000/1000 [==============================] - 0s 18us/step - loss: 0.6895 - accuracy: 0.5500\n",
      "Epoch 17/20\n",
      "1000/1000 [==============================] - 0s 17us/step - loss: 0.6880 - accuracy: 0.5540\n",
      "Epoch 18/20\n",
      "1000/1000 [==============================] - 0s 15us/step - loss: 0.6855 - accuracy: 0.5350\n",
      "Epoch 19/20\n",
      "1000/1000 [==============================] - 0s 18us/step - loss: 0.6851 - accuracy: 0.5550\n",
      "Epoch 20/20\n",
      "1000/1000 [==============================] - 0s 20us/step - loss: 0.6823 - accuracy: 0.5400\n",
      "100/100 [==============================] - 0s 280us/step\n"
     ]
    }
   ],
   "source": [
    "import numpy as np\n",
    "from keras.models import Sequential\n",
    "from keras.layers import Dense, Dropout\n",
    "\n",
    "# Generate dummy data\n",
    "x_train = np.random.random((1000, 20))\n",
    "y_train = np.random.randint(2, size=(1000, 1))\n",
    "x_test = np.random.random((100, 20))\n",
    "y_test = np.random.randint(2, size=(100, 1))\n",
    "\n",
    "model = Sequential()\n",
    "model.add(Dense(64, input_dim=20, activation='relu'))\n",
    "model.add(Dropout(0.5))\n",
    "model.add(Dense(64, activation='relu'))\n",
    "model.add(Dropout(0.5))\n",
    "model.add(Dense(1, activation='sigmoid'))\n",
    "\n",
    "model.compile(loss='binary_crossentropy',\n",
    "              optimizer='rmsprop',\n",
    "              metrics=['accuracy'])\n",
    "\n",
    "model.fit(x_train, y_train,\n",
    "          epochs=20,\n",
    "          batch_size=128)\n",
    "score = model.evaluate(x_test, y_test, batch_size=128)"
   ]
  },
  {
   "cell_type": "markdown",
   "metadata": {},
   "source": [
    "## Obtendo valor de uma camada intermediaria"
   ]
  },
  {
   "cell_type": "code",
   "execution_count": 53,
   "metadata": {},
   "outputs": [],
   "source": [
    "import numpy as np\n",
    "from keras.models import Sequential\n",
    "from keras.layers import Dense, Dropout\n",
    "\n",
    "# Generate dummy data\n",
    "x_train = np.random.random((1000, 20))\n",
    "y_train = np.random.randint(2, size=(1000, 1))\n",
    "x_test = np.random.random((100, 20))\n",
    "y_test = np.random.randint(2, size=(100, 1))\n",
    "\n",
    "model = Sequential()\n",
    "model.add(Dense(64, input_dim=20, activation='relu'))\n",
    "model.add(Dropout(0.5))\n",
    "model.add(Dense(64, activation='relu'))\n",
    "model.add(Dropout(0.5))\n",
    "model.add(Dense(1, activation='sigmoid'))\n",
    "\n",
    "model.compile(loss='binary_crossentropy',\n",
    "              optimizer='rmsprop',\n",
    "              metrics=['accuracy'])"
   ]
  },
  {
   "cell_type": "markdown",
   "metadata": {},
   "source": [
    "## Recurso de parada antecipada\n",
    "* Parar o treino quando já tiver alcançado um determinado limiar de acurácia"
   ]
  },
  {
   "cell_type": "code",
   "execution_count": 55,
   "metadata": {},
   "outputs": [
    {
     "name": "stdout",
     "output_type": "stream",
     "text": [
      "Train on 800 samples, validate on 200 samples\n",
      "Epoch 1/500\n",
      "800/800 [==============================] - 0s 29us/step - loss: 0.6996 - accuracy: 0.5075 - val_loss: 0.6936 - val_accuracy: 0.4800\n",
      "Epoch 2/500\n",
      "800/800 [==============================] - 0s 28us/step - loss: 0.6997 - accuracy: 0.5238 - val_loss: 0.6935 - val_accuracy: 0.4650\n",
      "Epoch 3/500\n",
      "800/800 [==============================] - 0s 23us/step - loss: 0.7048 - accuracy: 0.4850 - val_loss: 0.6927 - val_accuracy: 0.5050\n",
      "Epoch 4/500\n",
      "800/800 [==============================] - 0s 31us/step - loss: 0.6982 - accuracy: 0.4925 - val_loss: 0.6925 - val_accuracy: 0.5200\n",
      "Epoch 5/500\n",
      "800/800 [==============================] - 0s 20us/step - loss: 0.6924 - accuracy: 0.5400 - val_loss: 0.6915 - val_accuracy: 0.5200\n",
      "Epoch 6/500\n",
      "800/800 [==============================] - 0s 23us/step - loss: 0.6955 - accuracy: 0.5025 - val_loss: 0.6922 - val_accuracy: 0.4950\n",
      "Epoch 7/500\n",
      "800/800 [==============================] - 0s 28us/step - loss: 0.6947 - accuracy: 0.5088 - val_loss: 0.6925 - val_accuracy: 0.4850\n",
      "Epoch 8/500\n",
      "800/800 [==============================] - 0s 21us/step - loss: 0.6951 - accuracy: 0.5250 - val_loss: 0.6923 - val_accuracy: 0.4800\n",
      "Epoch 9/500\n",
      "800/800 [==============================] - 0s 21us/step - loss: 0.6921 - accuracy: 0.5487 - val_loss: 0.6918 - val_accuracy: 0.5000\n",
      "Epoch 10/500\n",
      "800/800 [==============================] - 0s 30us/step - loss: 0.6938 - accuracy: 0.5113 - val_loss: 0.6921 - val_accuracy: 0.4950\n",
      "100/100 [==============================] - 0s 11us/step\n",
      "[0.6970882415771484, 0.49000000953674316]\n"
     ]
    }
   ],
   "source": [
    "from keras.callbacks import EarlyStopping\n",
    "early_stopping = EarlyStopping(monitor='val_loss', patience=5)\n",
    "\n",
    "history = model.fit(x_train, y_train, epochs=500, batch_size=128, validation_split=0.20, callbacks=[early_stopping])\n",
    "score = model.evaluate(x_test, y_test, batch_size=128)\n",
    "print(score)"
   ]
  },
  {
   "cell_type": "code",
   "execution_count": 43,
   "metadata": {},
   "outputs": [
    {
     "name": "stdout",
     "output_type": "stream",
     "text": [
      "Train on 800 samples, validate on 200 samples\n",
      "Epoch 1/20\n",
      "800/800 [==============================] - 0s 34us/step - loss: 0.3884 - accuracy: 0.8213 - val_loss: 0.2129 - val_accuracy: 0.9550\n",
      "Epoch 2/20\n",
      "800/800 [==============================] - 0s 26us/step - loss: 0.3458 - accuracy: 0.8250 - val_loss: 0.2096 - val_accuracy: 0.9500\n",
      "Epoch 3/20\n",
      "800/800 [==============================] - 0s 27us/step - loss: 0.3576 - accuracy: 0.8487 - val_loss: 0.2185 - val_accuracy: 0.9350\n",
      "Epoch 4/20\n",
      "800/800 [==============================] - 0s 25us/step - loss: 0.3438 - accuracy: 0.8450 - val_loss: 0.2187 - val_accuracy: 0.9450\n",
      "Epoch 5/20\n",
      "800/800 [==============================] - 0s 26us/step - loss: 0.3421 - accuracy: 0.8300 - val_loss: 0.2186 - val_accuracy: 0.9400\n",
      "Epoch 6/20\n",
      "800/800 [==============================] - 0s 25us/step - loss: 0.3552 - accuracy: 0.8275 - val_loss: 0.2205 - val_accuracy: 0.9450\n",
      "Epoch 7/20\n",
      "800/800 [==============================] - 0s 26us/step - loss: 0.3380 - accuracy: 0.8400 - val_loss: 0.2216 - val_accuracy: 0.9550\n",
      "Epoch 8/20\n",
      "800/800 [==============================] - 0s 29us/step - loss: 0.3571 - accuracy: 0.8325 - val_loss: 0.2335 - val_accuracy: 0.9300\n",
      "Epoch 9/20\n",
      "800/800 [==============================] - 0s 22us/step - loss: 0.3072 - accuracy: 0.8587 - val_loss: 0.2277 - val_accuracy: 0.9300\n",
      "Epoch 10/20\n",
      "800/800 [==============================] - 0s 24us/step - loss: 0.3400 - accuracy: 0.8363 - val_loss: 0.2256 - val_accuracy: 0.9400\n",
      "Epoch 11/20\n",
      "800/800 [==============================] - 0s 24us/step - loss: 0.3306 - accuracy: 0.8438 - val_loss: 0.2241 - val_accuracy: 0.9350\n",
      "Epoch 12/20\n",
      "800/800 [==============================] - 0s 26us/step - loss: 0.3435 - accuracy: 0.8313 - val_loss: 0.2334 - val_accuracy: 0.9400\n",
      "Epoch 13/20\n",
      "800/800 [==============================] - 0s 21us/step - loss: 0.3168 - accuracy: 0.8487 - val_loss: 0.2200 - val_accuracy: 0.9450\n",
      "Epoch 14/20\n",
      "800/800 [==============================] - 0s 21us/step - loss: 0.3451 - accuracy: 0.8537 - val_loss: 0.2209 - val_accuracy: 0.9350\n",
      "Epoch 15/20\n",
      "800/800 [==============================] - 0s 24us/step - loss: 0.3519 - accuracy: 0.8413 - val_loss: 0.2180 - val_accuracy: 0.9300\n",
      "Epoch 16/20\n",
      "800/800 [==============================] - 0s 26us/step - loss: 0.3085 - accuracy: 0.8600 - val_loss: 0.2195 - val_accuracy: 0.9450\n",
      "Epoch 17/20\n",
      "800/800 [==============================] - 0s 23us/step - loss: 0.3414 - accuracy: 0.8300 - val_loss: 0.2296 - val_accuracy: 0.9300\n",
      "Epoch 18/20\n",
      "800/800 [==============================] - 0s 24us/step - loss: 0.3338 - accuracy: 0.8313 - val_loss: 0.2250 - val_accuracy: 0.9350\n",
      "Epoch 19/20\n",
      "800/800 [==============================] - 0s 27us/step - loss: 0.3607 - accuracy: 0.8338 - val_loss: 0.2265 - val_accuracy: 0.9350\n",
      "Epoch 20/20\n",
      "800/800 [==============================] - 0s 25us/step - loss: 0.3675 - accuracy: 0.8350 - val_loss: 0.2365 - val_accuracy: 0.9400\n",
      "100/100 [==============================] - 0s 10us/step\n"
     ]
    }
   ],
   "source": [
    "history = model.fit(x_train, y_train, epochs=20, batch_size=128, validation_split=0.2)\n",
    "score = model.evaluate(x_test, y_test, batch_size=128)"
   ]
  },
  {
   "cell_type": "markdown",
   "metadata": {},
   "source": [
    "## O que significa \"amostra\", \"lote\", \"época\"?\n",
    "\n",
    "\n",
    "* Amostra: um elemento de um conjunto de dados.\n",
    "    * uma imagem é uma amostra em uma rede convolucional\n",
    "    * um arquivo de áudio é uma amostra para um modelo de reconhecimento de fala\n",
    "\n",
    "* Lote: um conjunto de N amostras. As amostras em um lote são processadas independentemente, em paralelo. Se estiver treinando, um lote resultará em apenas uma atualização para o modelo.\n",
    "Um lote geralmente aproxima a distribuição dos dados de entrada melhor do que uma única entrada. Quanto maior o lote, melhor a aproximação; no entanto, também é verdade que o lote levará mais tempo para processar e ainda resultará em apenas uma atualização. Para inferência (avaliação / previsão), é recomendável escolher um tamanho de lote tão grande quanto você puder pagar sem ficar sem memória (pois lotes maiores geralmente resultam em uma avaliação / previsão mais rápida).\n",
    "\n",
    "* Época: um ponto de corte arbitrário, geralmente definido como \"uma passagem por todo o conjunto de dados\", usado para separar o treinamento em fases distintas, o que é útil para registro e avaliação periódica.\n",
    "Ao usar validation_data ou validation_split com o método de ajuste dos modelos Keras, a avaliação será executada no final de cada época.\n",
    "No Keras, há a capacidade de adicionar retornos de chamada projetados especificamente para serem executados no final de uma época. Exemplos disso são mudanças na taxa de aprendizado e verificação de modelo (salvamento)."
   ]
  },
  {
   "cell_type": "markdown",
   "metadata": {},
   "source": [
    "## Escolhendo algoritmos de otimização de modelo\n",
    "\n",
    "* Os algoritmos de otimização que usam todo o conjunto de treinamento são chamados métodos em lote ou gradiente determinístico, porque processam todos os exemplos de treinamento simultaneamente em um lote grande.\n",
    "\n",
    "* Algoritmos de otimização que usam apenas um único exemplo de cada vez são chamados de métodos estocásticos ou, às vezes, online. O termo online geralmente é reservado para o caso em que os exemplos são extraídos de um fluxo de exemplos criados continuamente, e não de um conjunto de treinamento de tamanho fixo sobre o qual são feitas várias passagens.\n",
    "\n",
    "* Batch Gradient Descent. O tamanho do batch é definido como o número total de exemplos no conjunto de dados de treinamento.\n",
    "* Stochastic Gradient Descent. O tamanho do batch é igual a 1\n",
    "* Minibatch Gradient Descent. O tamanho do batch é definido como mais de um e menor que o número total de exemplos no conjunto de dados de treinamento."
   ]
  },
  {
   "cell_type": "markdown",
   "metadata": {},
   "source": [
    "# Abaixo o treino é feito usando Batch Gradient Descent. \n"
   ]
  },
  {
   "cell_type": "code",
   "execution_count": 59,
   "metadata": {},
   "outputs": [
    {
     "name": "stdout",
     "output_type": "stream",
     "text": [
      "Train: 0.816, Test: 0.832\n"
     ]
    }
   ],
   "source": [
    "# mlp for the blobs problem with batch gradient descent\n",
    "from sklearn.datasets import make_blobs\n",
    "from keras.layers import Dense\n",
    "from keras.models import Sequential\n",
    "from keras.optimizers import SGD\n",
    "from keras.utils import to_categorical\n",
    "from matplotlib import pyplot\n",
    "\n",
    "# generate 2d classification dataset\n",
    "X, y = make_blobs(n_samples=1000, centers=3, n_features=2, cluster_std=2, random_state=2)\n",
    "y = to_categorical(y)\n",
    "\n",
    "# split into train and test\n",
    "n_train = 500\n",
    "trainX, testX = X[:n_train, :], X[n_train:, :]\n",
    "trainy, testy = y[:n_train], y[n_train:]\n",
    "\n",
    "# define model\n",
    "model = Sequential()\n",
    "model.add(Dense(50, input_dim=2, activation='relu', kernel_initializer='he_uniform'))\n",
    "model.add(Dense(3, activation='softmax'))\n",
    "opt = SGD(lr=0.01, momentum=0.9)\n",
    "model.compile(loss='categorical_crossentropy', optimizer=opt, metrics=['accuracy'])\n",
    "\n",
    "# fit model\n",
    "history = model.fit(trainX, trainy, validation_data=(testX, testy), epochs=200, verbose=0, batch_size=len(trainX))\n",
    "# evaluate the model\n",
    "_, train_acc = model.evaluate(trainX, trainy, verbose=0)\n",
    "_, test_acc = model.evaluate(testX, testy, verbose=0)\n",
    "print('Train: %.3f, Test: %.3f' % (train_acc, test_acc))"
   ]
  },
  {
   "cell_type": "code",
   "execution_count": 58,
   "metadata": {},
   "outputs": [
    {
     "data": {
      "image/png": "[encoded data removed]",
      "text/plain": [
       "<Figure size 432x288 with 1 Axes>"
      ]
     },
     "metadata": {
      "needs_background": "light"
     },
     "output_type": "display_data"
    }
   ],
   "source": [
    "# plot training history\n",
    "pyplot.plot(history.history['accuracy'], label='train')\n",
    "pyplot.plot(history.history['val_accuracy'], label='test')\n",
    "pyplot.legend()\n",
    "pyplot.show()"
   ]
  },
  {
   "cell_type": "markdown",
   "metadata": {},
   "source": [
    "* A execução do exemplo primeiro relata o desempenho do modelo nos conjuntos de dados de treino e teste.\n",
    "* Seus resultados específicos podem variar de acordo com a natureza estocástica do algoritmo de aprendizado; considere executar o exemplo algumas vezes.\n",
    "* Nesse caso, podemos ver que o desempenho foi semelhante entre os conjuntos de treinos e testes com 81% e 83%, respectivamente.\n",
    "* O resultado do treino mostra que o acurácia estabilizou a partir da época 100"
   ]
  },
  {
   "cell_type": "markdown",
   "metadata": {},
   "source": [
    "# Rodando com batch igual a 1"
   ]
  },
  {
   "cell_type": "code",
   "execution_count": 60,
   "metadata": {},
   "outputs": [
    {
     "name": "stdout",
     "output_type": "stream",
     "text": [
      "Train: 0.434, Test: 0.442\n"
     ]
    }
   ],
   "source": [
    "# mlp for the blobs problem with batch gradient descent\n",
    "from sklearn.datasets import make_blobs\n",
    "from keras.layers import Dense\n",
    "from keras.models import Sequential\n",
    "from keras.optimizers import SGD\n",
    "from keras.utils import to_categorical\n",
    "from matplotlib import pyplot\n",
    "\n",
    "history = model.fit(trainX, trainy, validation_data=(testX, testy), epochs=200, verbose=0, batch_size=1)\n",
    "_, train_acc = model.evaluate(trainX, trainy, verbose=0)\n",
    "_, test_acc = model.evaluate(testX, testy, verbose=0)\n",
    "print('Train: %.3f, Test: %.3f' % (train_acc, test_acc))"
   ]
  },
  {
   "cell_type": "code",
   "execution_count": 61,
   "metadata": {},
   "outputs": [
    {
     "data": {
      "image/png": "[encoded data removed]",
      "text/plain": [
       "<Figure size 432x288 with 1 Axes>"
      ]
     },
     "metadata": {
      "needs_background": "light"
     },
     "output_type": "display_data"
    }
   ],
   "source": [
    "# plot training history\n",
    "pyplot.plot(history.history['accuracy'], label='train')\n",
    "pyplot.plot(history.history['val_accuracy'], label='test')\n",
    "pyplot.legend()\n",
    "pyplot.show()"
   ]
  },
  {
   "cell_type": "markdown",
   "metadata": {},
   "source": [
    "# A instabilidade sugere que o learning rate pode não estar adequado"
   ]
  },
  {
   "cell_type": "code",
   "execution_count": 62,
   "metadata": {},
   "outputs": [
    {
     "name": "stdout",
     "output_type": "stream",
     "text": [
      "Train: 0.832, Test: 0.820\n"
     ]
    },
    {
     "data": {
      "image/png": "[encoded data removed]",
      "text/plain": [
       "<Figure size 432x288 with 1 Axes>"
      ]
     },
     "metadata": {
      "needs_background": "light"
     },
     "output_type": "display_data"
    }
   ],
   "source": [
    "# mlp for the blobs problem with stochastic gradient descent\n",
    "from sklearn.datasets import make_blobs\n",
    "from keras.layers import Dense\n",
    "from keras.models import Sequential\n",
    "from keras.optimizers import SGD\n",
    "from keras.utils import to_categorical\n",
    "from matplotlib import pyplot\n",
    "\n",
    "model = Sequential()\n",
    "model.add(Dense(50, input_dim=2, activation='relu', kernel_initializer='he_uniform'))\n",
    "model.add(Dense(3, activation='softmax'))\n",
    "opt = SGD(lr=0.001, momentum=0.9)\n",
    "model.compile(loss='categorical_crossentropy', optimizer=opt, metrics=['accuracy'])\n",
    "\n",
    "# fit model\n",
    "history = model.fit(trainX, trainy, validation_data=(testX, testy), epochs=200, verbose=0, batch_size=1)\n",
    "_, train_acc = model.evaluate(trainX, trainy, verbose=0)\n",
    "_, test_acc = model.evaluate(testX, testy, verbose=0)\n",
    "print('Train: %.3f, Test: %.3f' % (train_acc, test_acc))\n",
    "\n",
    "# plot training history\n",
    "pyplot.plot(history.history['accuracy'], label='train')\n",
    "pyplot.plot(history.history['val_accuracy'], label='test')\n",
    "pyplot.legend()\n",
    "pyplot.show()"
   ]
  },
  {
   "cell_type": "markdown",
   "metadata": {},
   "source": [
    "# Treinando modelo usando mini-batch"
   ]
  },
  {
   "cell_type": "code",
   "execution_count": 63,
   "metadata": {},
   "outputs": [
    {
     "name": "stdout",
     "output_type": "stream",
     "text": [
      "Train: 0.822, Test: 0.822\n"
     ]
    },
    {
     "data": {
      "image/png": "[encoded data removed]",
      "text/plain": [
       "<Figure size 432x288 with 1 Axes>"
      ]
     },
     "metadata": {
      "needs_background": "light"
     },
     "output_type": "display_data"
    }
   ],
   "source": [
    "# mlp for the blobs problem with minibatch gradient descent\n",
    "from sklearn.datasets import make_blobs\n",
    "from keras.layers import Dense\n",
    "from keras.models import Sequential\n",
    "from keras.optimizers import SGD\n",
    "from keras.utils import to_categorical\n",
    "from matplotlib import pyplot\n",
    "\n",
    "# define model\n",
    "model = Sequential()\n",
    "model.add(Dense(50, input_dim=2, activation='relu', kernel_initializer='he_uniform'))\n",
    "model.add(Dense(3, activation='softmax'))\n",
    "opt = SGD(lr=0.01, momentum=0.9)\n",
    "model.compile(loss='categorical_crossentropy', optimizer=opt, metrics=['accuracy'])\n",
    "\n",
    "# fit model\n",
    "history = model.fit(trainX, trainy, validation_data=(testX, testy), epochs=200, verbose=0, batch_size=32)\n",
    "_, train_acc = model.evaluate(trainX, trainy, verbose=0)\n",
    "_, test_acc = model.evaluate(testX, testy, verbose=0)\n",
    "print('Train: %.3f, Test: %.3f' % (train_acc, test_acc))\n",
    "\n",
    "# plot training history\n",
    "pyplot.plot(history.history['accuracy'], label='train')\n",
    "pyplot.plot(history.history['val_accuracy'], label='test')\n",
    "pyplot.legend()\n",
    "pyplot.show()"
   ]
  }
 ],
 "metadata": {
  "kernelspec": {
   "display_name": "Python 3",
   "language": "python",
   "name": "python3"
  },
  "language_info": {
   "codemirror_mode": {
    "name": "ipython",
    "version": 3
   },
   "file_extension": ".py",
   "mimetype": "text/x-python",
   "name": "python",
   "nbconvert_exporter": "python",
   "pygments_lexer": "ipython3",
   "version": "3.7.7"
  }
 },
 "nbformat": 4,
 "nbformat_minor": 4
}
