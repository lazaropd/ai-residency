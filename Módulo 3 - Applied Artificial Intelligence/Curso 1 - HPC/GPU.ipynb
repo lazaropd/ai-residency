{
 "cells": [
  {
   "cell_type": "markdown",
   "metadata": {},
   "source": [
    "# Tensorflow\n",
    "* Elementos Básicos da Linguagem\n",
    "Fonte: https://mlfromscratch.com/tensorflow-2/#/"
   ]
  },
  {
   "cell_type": "code",
   "execution_count": 1,
   "metadata": {},
   "outputs": [
    {
     "name": "stdout",
     "output_type": "stream",
     "text": [
      "2.1.0\n"
     ]
    }
   ],
   "source": [
    "import tensorflow as tf; \n",
    "print(tf.__version__)"
   ]
  },
  {
   "cell_type": "markdown",
   "metadata": {},
   "source": [
    "## Modo eager executado por padrão no Tensorflow 2"
   ]
  },
  {
   "cell_type": "code",
   "execution_count": 2,
   "metadata": {},
   "outputs": [
    {
     "name": "stdout",
     "output_type": "stream",
     "text": [
      "Eager execution is enabled (running operations immediately)\n",
      "\n",
      "Turn eager execution off by running: \n",
      "from tensorflow.python.framework.ops import disable_eager_execution\n",
      "disable_eager_execution()\n"
     ]
    }
   ],
   "source": [
    "if(tf.executing_eagerly()):\n",
    "    print('Eager execution is enabled (running operations immediately)\\n')\n",
    "    print(('Turn eager execution off by running: \\n{0}\\n{1}').format('' \\\n",
    "        'from tensorflow.python.framework.ops import disable_eager_execution', \\\n",
    "        'disable_eager_execution()'))\n",
    "else:\n",
    "    print('You are not running eager execution. TensorFlow version >= 2.0.0' \\\n",
    "          'has eager execution enabled by default.')\n",
    "    print(('Turn on eager execution by running: \\n\\n{0}\\n\\nOr upgrade '\\\n",
    "           'your tensorflow version by running:\\n\\n{1}').format(\n",
    "           'tf.compat.v1.enable_eager_execution()',\n",
    "           '!pip install --upgrade tensorflow\\n' \\\n",
    "           '!pip install --upgrade tensorflow-gpu'))"
   ]
  },
  {
   "cell_type": "markdown",
   "metadata": {},
   "source": [
    "# Exemplo de multiplicação de dois valores constante usando tensorflow"
   ]
  },
  {
   "cell_type": "code",
   "execution_count": 3,
   "metadata": {},
   "outputs": [
    {
     "name": "stdout",
     "output_type": "stream",
     "text": [
      "tf.Tensor(15, shape=(), dtype=int32)\n"
     ]
    }
   ],
   "source": [
    "a = tf.constant(5)\n",
    "b = tf.constant(3)\n",
    "c = a * b\n",
    "print(c)\n"
   ]
  },
  {
   "cell_type": "markdown",
   "metadata": {},
   "source": [
    "# Como desligar modo eager\n",
    "* Para retornar ao modo eager, é necessário reiniciar o kernel"
   ]
  },
  {
   "cell_type": "code",
   "execution_count": null,
   "metadata": {},
   "outputs": [],
   "source": [
    "from tensorflow.python.framework.ops import disable_eager_execution\n",
    "disable_eager_execution()"
   ]
  },
  {
   "cell_type": "markdown",
   "metadata": {},
   "source": [
    "# Verificar se há GPU disponível para uso\n"
   ]
  },
  {
   "cell_type": "code",
   "execution_count": 4,
   "metadata": {},
   "outputs": [
    {
     "name": "stdout",
     "output_type": "stream",
     "text": [
      "Available devices: []\n",
      "\n",
      "Is your GPU available for use?\n",
      "No, your GPU is NOT available: False\n",
      "\n",
      "Your devices that are available:\n",
      "['/physical_device:CPU:0', '/physical_device:XLA_CPU:0', '/physical_device:XLA_GPU:0']\n"
     ]
    }
   ],
   "source": [
    "devices = tf.config.list_physical_devices('GPU')\n",
    "print('Available devices:', devices)\n",
    "\n",
    "print(('\\nIs your GPU available for use?\\n{0}').format(\n",
    "    'Yes, your GPU is available: True' if len(devices) > 0 else 'No, your GPU is NOT available: False'\n",
    "))\n",
    "\n",
    "print(('\\nYour devices that are available:\\n{0}').format(\n",
    "    [device.name for device in tf.config.experimental.list_physical_devices()]\n",
    "))"
   ]
  },
  {
   "cell_type": "code",
   "execution_count": 7,
   "metadata": {},
   "outputs": [
    {
     "data": {
      "text/plain": [
       "[]"
      ]
     },
     "execution_count": 7,
     "metadata": {},
     "output_type": "execute_result"
    }
   ],
   "source": [
    "tf.config.experimental.list_physical_devices('GPU')"
   ]
  },
  {
   "cell_type": "markdown",
   "metadata": {},
   "source": [
    "# Executando mesmo código em GPU e CPU para comparar tempo"
   ]
  },
  {
   "cell_type": "code",
   "execution_count": null,
   "metadata": {},
   "outputs": [],
   "source": [
    "import time\n",
    "\n",
    "cpu_slot = 0\n",
    "gpu_slot = 0\n",
    "\n",
    "# Using CPU at slot 0\n",
    "with tf.device('/CPU:' + str(cpu_slot)):\n",
    "    # Starting a timer\n",
    "    start = time.time()\n",
    "\n",
    "    # Doing operations on CPU\n",
    "    print(tf.eye(10000,10000))\n",
    "\n",
    "    # Printing how long it took with CPU\n",
    "    end = time.time() - start\n",
    "    print(\"CPU: \", end)\n",
    "\n",
    "# Using the GPU at slot 0\n",
    "with tf.device('/GPU:' + str(gpu_slot)):\n",
    "    # Starting a timer\n",
    "    start = time.time()\n",
    "\n",
    "    # Doing operations on CPU\n",
    "\n",
    "    print(tf.eye(10000,10000))\n",
    "\n",
    "    # Printing how long it took with CPU\n",
    "    end = time.time() - start\n",
    "    print(\"GPU: \",end)"
   ]
  },
  {
   "cell_type": "markdown",
   "metadata": {},
   "source": [
    "# Operações Comuns com Tensorflow\n",
    "\n",
    "* Montando tensores com tf.constant e tf.Variable\n",
    "* Concatenação de dois tensores com tf.concat\n",
    "* Montando tensores com tf.zeros ou tf.ones\n",
    "* Remodelando  com tf.reshape\n",
    "* Cast de tensores para outros tipos de dados com tf.cast\n"
   ]
  },
  {
   "cell_type": "markdown",
   "metadata": {},
   "source": [
    "## Montando tensores"
   ]
  },
  {
   "cell_type": "code",
   "execution_count": null,
   "metadata": {},
   "outputs": [],
   "source": [
    "# Making a constant tensor A, that does not change\n",
    "A = tf.constant([[3, 2],\n",
    "                 [5, 2]])\n",
    "\n",
    "# Making a Variable tensor VA, which can change. Notice it's .Variable\n",
    "VA = tf.Variable([[3, 2],\n",
    "                 [5, 2]])\n",
    "\n",
    "# Making another tensor B\n",
    "B = tf.constant([[9, 5],\n",
    "                 [1, 3]])"
   ]
  },
  {
   "cell_type": "markdown",
   "metadata": {},
   "source": [
    "## Concatenção"
   ]
  },
  {
   "cell_type": "code",
   "execution_count": null,
   "metadata": {},
   "outputs": [],
   "source": [
    "# Making a constant tensor A, that does not change\n",
    "A = tf.constant([[3, 2],\n",
    "                 [5, 2]])\n",
    "\n",
    "# Making a Variable tensor VA, which can change. Notice it's .Variable\n",
    "VA = tf.Variable([[3, 2],\n",
    "                 [5, 2]])\n",
    "\n",
    "# Making another tensor B\n",
    "B = tf.constant([[9, 5],\n",
    "                 [1, 3]])\n",
    "\n",
    "# Concatenate columns\n",
    "AB_concatenated = tf.concat(values=[A, B], axis=1)\n",
    "print(('Adding B\\'s columns to A:\\n{0}').format(\n",
    "    AB_concatenated.numpy()\n",
    "))\n",
    "\n",
    "# Concatenate rows\n",
    "AB_concatenated = tf.concat(values=[A, B], axis=0)\n",
    "print(('\\nAdding B\\'s rows to A:\\n{0}').format(\n",
    "    AB_concatenated.numpy()\n",
    "))"
   ]
  },
  {
   "cell_type": "markdown",
   "metadata": {},
   "source": [
    "## Criando tensores com apenas zeros ou uns"
   ]
  },
  {
   "cell_type": "code",
   "execution_count": null,
   "metadata": {},
   "outputs": [],
   "source": [
    "# Making a tensor filled with zeros. shape=[rows, columns]\n",
    "tensor = tf.zeros(shape=[3, 4], dtype=tf.int32)\n",
    "print(('Tensor full of zeros as int32, 3 rows and 4 columns:\\n{0}').format(\n",
    "    tensor.numpy()\n",
    "))\n",
    "\n",
    "# Making a tensor filled with zeros with data type of float32\n",
    "tensor = tf.ones(shape=[5, 3], dtype=tf.float32)\n",
    "print(('\\nTensor full of ones as float32, 5 rows and 3 columns:\\n{0}').format(\n",
    "    tensor.numpy()\n",
    "))"
   ]
  },
  {
   "cell_type": "markdown",
   "metadata": {},
   "source": [
    "## Reshape"
   ]
  },
  {
   "cell_type": "code",
   "execution_count": null,
   "metadata": {},
   "outputs": [],
   "source": [
    "# Making a tensor for reshaping\n",
    "tensor = tf.constant([[3, 2],\n",
    "                      [5, 2],\n",
    "                      [9, 5],\n",
    "                      [1, 3]])\n",
    "\n",
    "# Reshaping the tensor into a shape of: shape = [rows, columns]\n",
    "reshaped_tensor = tf.reshape(tensor = tensor,\n",
    "                             shape = [1, 8])\n",
    "\n",
    "print(('Tensor BEFORE reshape:\\n{0}').format(\n",
    "    tensor.numpy()\n",
    "))\n",
    "print(('\\nTensor AFTER reshape:\\n{0}').format(\n",
    "    reshaped_tensor.numpy()\n",
    "))"
   ]
  },
  {
   "cell_type": "markdown",
   "metadata": {},
   "source": [
    "## Cast"
   ]
  },
  {
   "cell_type": "code",
   "execution_count": null,
   "metadata": {},
   "outputs": [],
   "source": [
    "# Making a tensor\n",
    "tensor = tf.constant([[3.1, 2.8],\n",
    "                      [5.2, 2.3],\n",
    "                      [9.7, 5.5],\n",
    "                      [1.1, 3.4]], \n",
    "                      dtype=tf.float32)\n",
    "\n",
    "tensor_as_int = tf.cast(tensor, tf.int32)\n",
    "\n",
    "print(('Tensor with floats:\\n{0}').format(\n",
    "    tensor.numpy()\n",
    "))\n",
    "print(('\\nTensor cast from float to int (just remove the decimal, no rounding):\\n{0}').format(\n",
    "    tensor_as_int.numpy()\n",
    "))"
   ]
  },
  {
   "cell_type": "markdown",
   "metadata": {},
   "source": [
    "## Algebra Linear\n",
    "\n",
    "* Transpor o tensor com tf.transpose\n",
    "* Multiplicação de matrizes com tf.matmul\n",
    "* Multiplicação por elementos com tf.multiply\n",
    "* Matriz identidade com tf.eye\n",
    "* Determinante com tf.linalg.det\n",
    "* Produto de ponto com tf.tensordot"
   ]
  },
  {
   "cell_type": "markdown",
   "metadata": {},
   "source": [
    "## Transpose"
   ]
  },
  {
   "cell_type": "code",
   "execution_count": null,
   "metadata": {},
   "outputs": [],
   "source": [
    "# Some Matrix A\n",
    "A = tf.constant([[3, 7],\n",
    "                 [1, 9]])\n",
    "\n",
    "A = tf.transpose(A)\n",
    "\n",
    "print(('The transposed matrix A:\\n{0}').format(\n",
    "    A\n",
    "))"
   ]
  },
  {
   "cell_type": "markdown",
   "metadata": {},
   "source": [
    "## Multiplicação de Matrizes"
   ]
  },
  {
   "cell_type": "code",
   "execution_count": null,
   "metadata": {},
   "outputs": [],
   "source": [
    "# Some Matrix A\n",
    "A = tf.constant([[3, 7],\n",
    "                 [1, 9]])\n",
    "\n",
    "# Some vector v\n",
    "v = tf.constant([[5],\n",
    "                 [2]])\n",
    "\n",
    "# Matrix multiplication of A.v^T\n",
    "Av = tf.matmul(A, v)\n",
    "\n",
    "print(('Matrix Multiplication of A and v results in a new Tensor:\\n{0}').format(\n",
    "    Av\n",
    "))"
   ]
  },
  {
   "cell_type": "markdown",
   "metadata": {},
   "source": [
    "## Multiplicação de matrix por um elemento"
   ]
  },
  {
   "cell_type": "code",
   "execution_count": null,
   "metadata": {},
   "outputs": [],
   "source": [
    "# Element-wise multiplication\n",
    "v = tf.constant([3])\n",
    "Av = tf.multiply(A, v)\n",
    "\n",
    "print(('Element-wise multiplication of A and v results in a new Tensor:\\n{0}').format(\n",
    "    Av\n",
    "))"
   ]
  },
  {
   "cell_type": "markdown",
   "metadata": {},
   "source": [
    "## Calculando matriz Identidade"
   ]
  },
  {
   "cell_type": "code",
   "execution_count": null,
   "metadata": {},
   "outputs": [],
   "source": [
    "# Some Matrix A\n",
    "A = tf.constant([[3, 7],\n",
    "                 [1, 9],\n",
    "                 [2, 5]])\n",
    "\n",
    "# Get number of dimensions\n",
    "rows, columns = A.shape\n",
    "print(('Get rows and columns in tensor A:\\n{0} rows\\n{1} columns').format(\n",
    "    rows, columns\n",
    "))\n",
    "\n",
    "# Making identity matrix\n",
    "A_identity = tf.eye(num_rows = rows,\n",
    "                    num_columns = columns,\n",
    "                    dtype = tf.int32)\n",
    "print(('\\nThe identity matrix of A:\\n{0}').format(\n",
    "    A_identity.numpy()\n",
    "))"
   ]
  },
  {
   "cell_type": "markdown",
   "metadata": {},
   "source": [
    "## Determinante"
   ]
  },
  {
   "cell_type": "code",
   "execution_count": null,
   "metadata": {},
   "outputs": [],
   "source": [
    "# Reusing Matrix A\n",
    "A = tf.constant([[3, 7],\n",
    "                 [1, 9]])\n",
    "\n",
    "# Determinant must be: half, float32, float64, complex64, complex128\n",
    "# Thus, we cast A to the data type float32\n",
    "A = tf.dtypes.cast(A, tf.float32)\n",
    "\n",
    "# Finding the determinant of A\n",
    "det_A = tf.linalg.det(A)\n",
    "\n",
    "print(('The determinant of A:\\n{0}').format(\n",
    "    det_A\n",
    "))"
   ]
  },
  {
   "cell_type": "markdown",
   "metadata": {},
   "source": [
    "## Dot Product"
   ]
  },
  {
   "cell_type": "code",
   "execution_count": null,
   "metadata": {},
   "outputs": [],
   "source": [
    "# Defining a 3x3 matrix\n",
    "A = tf.constant([[32, 83, 5],\n",
    "                 [17, 23, 10],\n",
    "                 [75, 39, 52]])\n",
    "\n",
    "# Defining another 3x3 matrix\n",
    "B = tf.constant([[28, 57, 20],\n",
    "                 [91, 10, 95],\n",
    "                 [37, 13, 45]])\n",
    "\n",
    "# Finding the dot product\n",
    "dot_AB = tf.tensordot(a=A, b=B, axes=1).numpy()\n",
    "\n",
    "print(('Dot product of A.B^T results in a new Tensor:\\n{0}').format(\n",
    "    dot_AB\n",
    "))\n",
    "\n",
    "# Which is the same as matrix multiplication in this instance (axes=1)\n",
    "# Matrix multiplication of A and B\n",
    "AB = tf.matmul(A, B)\n",
    "\n",
    "print(('\\nMatrix Multiplication of A.B^T results in a new Tensor:\\n{0}').format(\n",
    "    AB\n",
    "))"
   ]
  },
  {
   "cell_type": "code",
   "execution_count": null,
   "metadata": {},
   "outputs": [],
   "source": [
    "A = tf.constant([[0, 1],\n",
    "                 [1, 0]])\n",
    "\n",
    "# Defining another 3x3 matrix\n",
    "B = tf.constant([[28, 57, 20],\n",
    "                 [91, 10, 95],\n",
    "                 [37, 13, 45]])\n",
    "\n",
    "# Finding the dot product\n",
    "dot_AB = tf.tensordot(a=A, b=B, axes=1).numpy()\n",
    "\n",
    "print(('Dot product of A.B^T results in a new Tensor:\\n{0}').format(\n",
    "    dot_AB\n",
    "))\n"
   ]
  }
 ],
 "metadata": {
  "kernelspec": {
   "display_name": "Python 3",
   "language": "python",
   "name": "python3"
  },
  "language_info": {
   "codemirror_mode": {
    "name": "ipython",
    "version": 3
   },
   "file_extension": ".py",
   "mimetype": "text/x-python",
   "name": "python",
   "nbconvert_exporter": "python",
   "pygments_lexer": "ipython3",
   "version": "3.7.7"
  }
 },
 "nbformat": 4,
 "nbformat_minor": 4
}
