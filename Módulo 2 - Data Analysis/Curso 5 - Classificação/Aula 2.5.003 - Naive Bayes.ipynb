{
 "cells": [
  {
   "cell_type": "code",
   "execution_count": 92,
   "metadata": {},
   "outputs": [],
   "source": [
    "#Classificadores Lineares\n",
    "from sklearn.linear_model import SGDClassifier\n",
    "from sklearn.linear_model import RidgeClassifier\n",
    "from sklearn.linear_model import LogisticRegression\n",
    "\n",
    "\n",
    "#Classificadores KNN\n",
    "from sklearn.neighbors import KNeighborsClassifier\n",
    "\n",
    "#Classificadores Naive Nayes\n",
    "from sklearn.naive_bayes import GaussianNB\n",
    "\n",
    "#Classificadores Arvores de Decisão\n",
    "from sklearn.tree import DecisionTreeClassifier\n",
    "\n",
    "#SVM\n",
    "from sklearn.svm import SVC\n",
    "\n",
    "from sklearn.model_selection import train_test_split\n",
    "\n",
    "from sklearn import preprocessing\n",
    "from sklearn.metrics import confusion_matrix, precision_score, recall_score, f1_score, roc_curve, roc_auc_score, classification_report\n",
    "\n",
    "from sklearn.preprocessing import StandardScaler\n",
    "\n",
    "import pandas as pd\n",
    "import numpy as np\n",
    "\n",
    "import matplotlib.pyplot as plt\n",
    "import math\n",
    "\n",
    "import scipy.stats as ss"
   ]
  },
  {
   "cell_type": "markdown",
   "metadata": {},
   "source": [
    "O Teorema de Bayes fornece uma maneira de calcular a probabilidade de um dado pertencente a uma determinada classe,\n",
    "considerando conhecimento prévio. O teorema de Bayes é afirmado como:\n",
    "\n",
    "\n",
    "    P(class|data) = (P(data|class) * P(class)) / P(data)\n",
    "\n",
    "Naive Bayes é um algoritmo de classificação para problemas de classificação binária (duas classes) e multiclasses. \n",
    "\n",
    "Chama-se Naive Bayes porque os cálculos das probabilidades para cada classe são simplificados \n",
    "para tornar seus cálculos tratáveis.\n",
    "\n",
    "Em vez de tentar calcular as probabilidades de cada valor de atributo, \n",
    "elas são assumidas como independentes condicionalmente, considerando o valor da classe.\n",
    "\n",
    "Essa é uma suposição muito forte que é mais improvável em dados reais, ou seja, que os atributos não interagem. \n",
    "No entanto, a abordagem tem um desempenho surpreendentemente bom em dados em que essa suposição não se aplica.\n",
    "\n"
   ]
  },
  {
   "cell_type": "markdown",
   "metadata": {},
   "source": [
    "### Base de teste com 10 linhas"
   ]
  },
  {
   "cell_type": "code",
   "execution_count": 115,
   "metadata": {},
   "outputs": [
    {
     "name": "stdout",
     "output_type": "stream",
     "text": [
      "            col1       col2      class\n",
      "count  10.000000  10.000000  10.000000\n",
      "mean    5.178333   2.998468   0.500000\n",
      "std     2.766585   1.218556   0.527046\n",
      "min     1.343809   0.791637   0.000000\n",
      "25%     3.180938   2.376230   0.000000\n",
      "50%     4.663673   3.117676   0.500000\n",
      "75%     7.700447   3.506515   1.000000\n",
      "max     9.172169   4.696523   1.000000\n",
      "[0 1]\n",
      "       col1      col2  class\n",
      "0  3.393533  2.331273      0\n",
      "1  3.110073  1.781540      0\n",
      "2  1.343809  3.368361      0\n",
      "3  3.582294  4.679179      0\n",
      "4  2.280362  2.866990      0\n",
      "5  7.423437  4.696523      1\n",
      "6  5.745052  3.533990      1\n",
      "7  9.172169  2.511101      1\n",
      "8  7.792783  3.424089      1\n",
      "9  7.939821  0.791637      1\n"
     ]
    }
   ],
   "source": [
    "test = pd.read_csv('test.csv')\n",
    "print(test.describe())\n",
    "print(test['class'].unique())\n",
    "print(test)"
   ]
  },
  {
   "cell_type": "markdown",
   "metadata": {},
   "source": [
    "### separando os dados entre classe 0 e 1\n",
    "### A partir do conjunto de dados de cada classe, obter média e desvio padrão de cada coluna"
   ]
  },
  {
   "cell_type": "code",
   "execution_count": 117,
   "metadata": {},
   "outputs": [
    {
     "name": "stdout",
     "output_type": "stream",
     "text": [
      "           col1      col2  class\n",
      "count  5.000000  5.000000    5.0\n",
      "mean   2.742014  3.005469    0.0\n",
      "std    0.926568  1.107330    0.0\n",
      "min    1.343809  1.781540    0.0\n",
      "25%    2.280362  2.331273    0.0\n",
      "50%    3.110073  2.866990    0.0\n",
      "75%    3.393533  3.368361    0.0\n",
      "max    3.582294  4.679179    0.0\n",
      "class 0 2.7420144012 0.9265683289298019 3.0054686692 1.1073295894898725\n",
      "           col1      col2  class\n",
      "count  5.000000  5.000000    5.0\n",
      "mean   7.614652  2.991468    1.0\n",
      "std    1.234432  1.454193    0.0\n",
      "min    5.745052  0.791637    1.0\n",
      "25%    7.423437  2.511101    1.0\n",
      "50%    7.792783  3.424089    1.0\n",
      "75%    7.939821  3.533990    1.0\n",
      "max    9.172169  4.696523    1.0\n",
      "class 1 7.6146523718 1.2344321550313706 2.9914679790000003 1.454193138460162\n"
     ]
    }
   ],
   "source": [
    "testClass0 = test.loc[test['class']==0]\n",
    "print(testClass0.describe())\n",
    "\n",
    "c0col1M = testClass0['col1'].mean()\n",
    "c0col1std =testClass0['col1'].std()\n",
    "c0col2M = testClass0['col2'].mean()\n",
    "c0col2std =testClass0['col2'].std()\n",
    "print(\"class 0\" , c0col1M, c0col1std, c0col2M, c0col2std)\n",
    "\n",
    "testClass1 = test.loc[test['class']==1]\n",
    "print(testClass1.describe())\n",
    "\n",
    "c1col1M = testClass1['col1'].mean()\n",
    "c1col1std =testClass1['col1'].std()\n",
    "c1col2M = testClass1['col2'].mean()\n",
    "c1col2std =testClass1['col2'].std()\n",
    "\n",
    "print(\"class 1\" , c1col1M, c1col1std, c1col2M, c1col2std)"
   ]
  },
  {
   "cell_type": "markdown",
   "metadata": {},
   "source": [
    "### Usando scipy para obter probabilidade de uma distribuição normal usando média e desvio padrão"
   ]
  },
  {
   "cell_type": "code",
   "execution_count": 95,
   "metadata": {},
   "outputs": [
    {
     "data": {
      "text/plain": [
       "0.3362559728230224"
      ]
     },
     "execution_count": 95,
     "metadata": {},
     "output_type": "execute_result"
    }
   ],
   "source": [
    "#Testando probabilidade normal\n",
    "ss.norm(c0col1M,c0col1std).pdf(3.393533)"
   ]
  },
  {
   "cell_type": "markdown",
   "metadata": {},
   "source": [
    "### Função para cálculo de probabilidade de uma linha da base fazer parte da classe 0 e 1"
   ]
  },
  {
   "cell_type": "code",
   "execution_count": 122,
   "metadata": {},
   "outputs": [],
   "source": [
    "def prob(col1,col2):\n",
    "    # obtendo probabilidade acumulada da primeira coluna da linha\n",
    "    P=0.5 #quantidade de linhas na classe 1 (5) dividido pelo Tamanho da base (10) 5/10 => 0.5\n",
    "\n",
    "    pp=P\n",
    "\n",
    "    pr=ss.norm(c0col1M,c0col1std).pdf(col1)\n",
    "\n",
    "    pp=pp*pr\n",
    "\n",
    "    pr=ss.norm(c0col2M,c0col2std).pdf(col2)\n",
    "    pp=pp*pr\n",
    "\n",
    "    \n",
    "    # obtendo probabilidade acumulada da segunda coluna da linha\n",
    "    P=0.5  #quantidade de linhas na classe 2 (5) dividido pelo Tamanho da base (10) 5/10 => 0.5\n",
    "\n",
    "    pp1=P\n",
    "\n",
    "    pr=ss.norm(c1col1M,c1col1std).pdf(col1)\n",
    "\n",
    "    pp1=pp1*pr\n",
    "\n",
    "    pr=ss.norm(c1col2M,c1col2std).pdf(col2)\n",
    "\n",
    "    pp1=pp1*pr\n",
    "    if (pp>pp1):\n",
    "        m=0\n",
    "    else:\n",
    "        m=1\n",
    "        \n",
    "    print(\" probabilidade classe 0 \", pp , \" classe 1 \", pp1, \"probMaior \", m)\n",
    "    "
   ]
  },
  {
   "cell_type": "code",
   "execution_count": 97,
   "metadata": {},
   "outputs": [
    {
     "name": "stdout",
     "output_type": "stream",
     "text": [
      "0\n",
      " probabilidade classe 0  0.05032427673372073  classe 1  0.00011557718379945825 probMaior  0\n",
      "0\n",
      " probabilidade classe 0  0.038912298789679556  classe 1  4.02571231326945e-05 probMaior  0\n",
      "0\n",
      " probabilidade classe 0  0.02354195769052507  classe 1  1.0677123311147688e-07 probMaior  0\n",
      "0\n",
      " probabilidade classe 0  0.016404353839568925  classe 1  0.00010893052118437202 probMaior  0\n",
      "0\n",
      " probabilidade classe 0  0.06797274932849016  classe 1  3.892920735657445e-06 probMaior  0\n",
      "1\n",
      " probabilidade classe 0  6.919582110595231e-08  classe 1  0.022027299133895104 probMaior  1\n",
      "1\n",
      " probabilidade classe 0  0.0003624018813567134  classe 1  0.013133373825769767 probMaior  1\n",
      "1\n",
      " probabilidade classe 0  2.4462998433695017e-12  classe 1  0.01893726496422878 probMaior  1\n",
      "1\n",
      " probabilidade classe 0  2.5486090623409466e-08  classe 1  0.041972069978949846 probMaior  1\n",
      "1\n",
      " probabilidade classe 0  1.5425966116475635e-09  classe 1  0.013636752786743601 probMaior  1\n"
     ]
    }
   ],
   "source": [
    "for ind in test.index:\n",
    "    print(test['class'][ind])\n",
    "    prob(test['col1'][ind], test['col2'][ind]) "
   ]
  },
  {
   "cell_type": "code",
   "execution_count": 123,
   "metadata": {},
   "outputs": [],
   "source": [
    "### Comparando com modelo Naive Bayes do Scikit Learn"
   ]
  },
  {
   "cell_type": "code",
   "execution_count": 113,
   "metadata": {},
   "outputs": [
    {
     "name": "stdout",
     "output_type": "stream",
     "text": [
      "precision: 1.0\n",
      "recall: 1.0\n",
      "f1: 1.0\n",
      "sgd_clf Score:  1.0\n",
      "[[5 0]\n",
      " [0 5]]\n"
     ]
    },
    {
     "name": "stderr",
     "output_type": "stream",
     "text": [
      "/home/silvio/.conda/envs/trackml6/lib/python3.7/site-packages/sklearn/utils/validation.py:724: DataConversionWarning: A column-vector y was passed when a 1d array was expected. Please change the shape of y to (n_samples, ), for example using ravel().\n",
      "  y = column_or_1d(y, warn=True)\n"
     ]
    }
   ],
   "source": [
    "X = test[['col1','col1']] \n",
    "y = test[['class']] \n",
    "\n",
    "sgd_clf = GaussianNB()\n",
    "\n",
    "sgd_clf.fit(X, y)\n",
    "score=sgd_clf.score(X, y)\n",
    "ypred=sgd_clf.predict(X)\n",
    "cm = confusion_matrix(y, sgd_clf.predict(X))\n",
    "\n",
    "# precision, recall, f1 metrics\n",
    "\n",
    "print(\"precision:\",precision_score(y, ypred))\n",
    "print(\"recall:\",recall_score(y, ypred))\n",
    "print(\"f1:\",f1_score(y, ypred))\n",
    "print(\"sgd_clf Score: \",score)\n",
    "print(cm)"
   ]
  },
  {
   "cell_type": "markdown",
   "metadata": {},
   "source": [
    "### Teste de predição"
   ]
  },
  {
   "cell_type": "code",
   "execution_count": 135,
   "metadata": {},
   "outputs": [
    {
     "name": "stdout",
     "output_type": "stream",
     "text": [
      "[0 0 0 0 0 1 1 1 1 1]\n"
     ]
    }
   ],
   "source": [
    "n=sgd_clf.predict_log_proba(X)\n",
    "n=sgd_clf.predict(X)\n",
    "\n",
    "print(np.around(n,3))"
   ]
  },
  {
   "cell_type": "code",
   "execution_count": 137,
   "metadata": {},
   "outputs": [
    {
     "name": "stdout",
     "output_type": "stream",
     "text": [
      "[[-34.4051  -0.    ]\n",
      " [ -0.     -32.9855]]\n"
     ]
    }
   ],
   "source": [
    "#classe 0\n",
    "Z=[[2.9873],[1.543540]]\n",
    "\n",
    "#classe 1\n",
    "Z=[[7.643521],[0.834567]]\n",
    "    \n",
    "\n",
    "n=sgd_clf.predict(Z)\n",
    "n=sgd_clf.predict_log_proba(Z)\n",
    "\n",
    "print(np.around(n,4))"
   ]
  },
  {
   "cell_type": "code",
   "execution_count": 104,
   "metadata": {},
   "outputs": [
    {
     "name": "stdout",
     "output_type": "stream",
     "text": [
      "[5. 5.]\n",
      "[0.5 0.5]\n",
      "[0 1]\n",
      "6.888590843553686e-09\n",
      "[[0.6868231 0.6868231]\n",
      " [1.2190582 1.2190582]]\n",
      "[[2.7420144  2.7420144 ]\n",
      " [7.61465237 7.61465237]]\n"
     ]
    }
   ],
   "source": [
    "print(sgd_clf.class_count_)\n",
    "print(sgd_clf.class_prior_)\n",
    "print(sgd_clf.classes_)\n",
    "\n",
    "print(sgd_clf.sigma_)\n",
    "print(sgd_clf.theta_)"
   ]
  }
 ],
 "metadata": {
  "kernelspec": {
   "display_name": "Python 3",
   "language": "python",
   "name": "python3"
  },
  "language_info": {
   "codemirror_mode": {
    "name": "ipython",
    "version": 3
   },
   "file_extension": ".py",
   "mimetype": "text/x-python",
   "name": "python",
   "nbconvert_exporter": "python",
   "pygments_lexer": "ipython3",
   "version": "3.7.5"
  }
 },
 "nbformat": 4,
 "nbformat_minor": 4
}
