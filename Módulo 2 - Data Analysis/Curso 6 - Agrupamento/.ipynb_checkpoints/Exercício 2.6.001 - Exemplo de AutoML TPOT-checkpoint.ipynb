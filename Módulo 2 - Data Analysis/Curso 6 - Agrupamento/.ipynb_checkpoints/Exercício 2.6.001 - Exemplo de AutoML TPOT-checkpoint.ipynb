{
 "cells": [
  {
   "cell_type": "code",
   "execution_count": 2,
   "metadata": {},
   "outputs": [
    {
     "name": "stdout",
     "output_type": "stream",
     "text": [
      "Warning: xgboost.XGBClassifier is not available and will not be used by TPOT.\n"
     ]
    },
    {
     "data": {
      "application/vnd.jupyter.widget-view+json": {
       "model_id": "",
       "version_major": 2,
       "version_minor": 0
      },
      "text/plain": [
       "HBox(children=(FloatProgress(value=0.0, description='Optimization Progress', max=600.0, style=ProgressStyle(de…"
      ]
     },
     "metadata": {},
     "output_type": "display_data"
    },
    {
     "name": "stdout",
     "output_type": "stream",
     "text": [
      "Generation 1 - Current best internal CV score: 0.8717840869260428\n",
      "Generation 2 - Current best internal CV score: 0.8738871363477042\n",
      "Generation 3 - Current best internal CV score: 0.8767613038906414\n",
      "Generation 4 - Current best internal CV score: 0.8790045566070803\n",
      "Generation 5 - Current best internal CV score: 0.8790045566070803\n",
      "\n",
      "Best pipeline: ExtraTreesClassifier(PolynomialFeatures(SGDClassifier(input_matrix, alpha=0.001, eta0=1.0, fit_intercept=True, l1_ratio=0.5, learning_rate=invscaling, loss=hinge, penalty=elasticnet, power_t=10.0), degree=2, include_bias=False, interaction_only=False), bootstrap=False, criterion=gini, max_features=0.8, min_samples_leaf=1, min_samples_split=15, n_estimators=100)\n"
     ]
    },
    {
     "data": {
      "text/plain": [
       "0.8891692954784437"
      ]
     },
     "execution_count": 2,
     "metadata": {},
     "output_type": "execute_result"
    }
   ],
   "source": [
    "import pandas as pd\n",
    "import numpy as np\n",
    "\n",
    "telescope_data=pd.read_csv('https://archive.ics.uci.edu/ml/machine-learning-databases/magic/magic04.data',header=None)\n",
    "\n",
    "telescope_data.head()\n",
    "telescope_data.columns = ['fLength', 'fWidth','fSize','fConc','fConcl','fAsym','fM3Long','fM3Trans','fAlpha','fDist','class']\n",
    "telescope_data.head()\n",
    "\n",
    "telescope_data['class'].value_counts()\n",
    "\n",
    "telescope_shuffle=telescope_data.iloc[np.random.permutation(len(telescope_data))]\n",
    "tele=telescope_shuffle.reset_index(drop=True)\n",
    "tele.head()\n",
    "\n",
    "tele['class']=tele['class'].map({'g':0,'h':1})\n",
    "\n",
    "tele_class = tele['class'].values\n",
    "\n",
    "pd.isnull(tele).any()\n",
    "\n",
    "from sklearn.model_selection import train_test_split\n",
    "training_indices, validation_indices = training_indices, testing_indices = train_test_split(tele.index,\n",
    "                                                                                            stratify = tele_class,\n",
    "                                                                                            test_size=0.25)\n",
    "\n",
    "training_indices.size, validation_indices.size\n",
    "\n",
    "from tpot import TPOTClassifier\n",
    "from tpot import TPOTRegressor\n",
    "\n",
    "tpot = TPOTClassifier(generations=5,verbosity=2)\n",
    "\n",
    "tpot.fit(tele.drop('class',axis=1).loc[training_indices].values, tele.loc[training_indices,'class'].values)\n",
    "tpot.score(tele.drop('class',axis=1).loc[validation_indices].values, tele.loc[validation_indices, 'class'].values)"
   ]
  },
  {
   "cell_type": "code",
   "execution_count": 3,
   "metadata": {},
   "outputs": [
    {
     "name": "stdout",
     "output_type": "stream",
     "text": [
      "Warning: xgboost.XGBClassifier is not available and will not be used by TPOT.\n"
     ]
    },
    {
     "data": {
      "application/vnd.jupyter.widget-view+json": {
       "model_id": "",
       "version_major": 2,
       "version_minor": 0
      },
      "text/plain": [
       "HBox(children=(FloatProgress(value=0.0, description='Optimization Progress', style=ProgressStyle(description_w…"
      ]
     },
     "metadata": {},
     "output_type": "display_data"
    },
    {
     "name": "stdout",
     "output_type": "stream",
     "text": [
      "\n",
      "2.02 minutes have elapsed. TPOT will close down.\n",
      "TPOT closed during evaluation in one generation.\n",
      "WARNING: TPOT may not provide a good pipeline if TPOT is stopped/interrupted in a early generation.\n",
      "\n",
      "\n",
      "TPOT closed prematurely. Will use the current best pipeline.\n",
      "\n",
      "Best pipeline: GradientBoostingClassifier(input_matrix, learning_rate=0.5, max_depth=1, max_features=0.9000000000000001, min_samples_leaf=6, min_samples_split=16, n_estimators=100, subsample=0.25)\n"
     ]
    },
    {
     "data": {
      "text/plain": [
       "0.8576235541535226"
      ]
     },
     "execution_count": 3,
     "metadata": {},
     "output_type": "execute_result"
    }
   ],
   "source": [
    "tpot = TPOTClassifier(verbosity=2, max_time_mins=2, max_eval_time_mins=0.04)\n",
    "#tpot = TPOTClassifier(verbosity=2, max_time_mins=2, max_eval_time_mins=0.04, population_size=15)\n",
    "\n",
    "tpot.fit(tele.drop('class',axis=1).loc[training_indices].values, tele.loc[training_indices,'class'].values)\n",
    "tpot.score(tele.drop('class',axis=1).loc[validation_indices].values, tele.loc[validation_indices, 'class'].values)"
   ]
  },
  {
   "cell_type": "code",
   "execution_count": null,
   "metadata": {},
   "outputs": [],
   "source": []
  }
 ],
 "metadata": {
  "kernelspec": {
   "display_name": "Python 3",
   "language": "python",
   "name": "python3"
  },
  "language_info": {
   "codemirror_mode": {
    "name": "ipython",
    "version": 3
   },
   "file_extension": ".py",
   "mimetype": "text/x-python",
   "name": "python",
   "nbconvert_exporter": "python",
   "pygments_lexer": "ipython3",
   "version": "3.7.5"
  }
 },
 "nbformat": 4,
 "nbformat_minor": 2
}
