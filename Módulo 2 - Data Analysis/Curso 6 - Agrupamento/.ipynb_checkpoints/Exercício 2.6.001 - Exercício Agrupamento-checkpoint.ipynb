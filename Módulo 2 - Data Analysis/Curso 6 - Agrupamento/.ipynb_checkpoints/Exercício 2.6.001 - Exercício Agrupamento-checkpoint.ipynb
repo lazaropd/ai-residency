{
 "cells": [
  {
   "cell_type": "markdown",
   "metadata": {},
   "source": [
    "# Exercício\n",
    "\n",
    "* Crie um classificar nao supervisionado para a base adult.csv tendo como base a coluna income\n",
    "\n",
    "## Listing of attributes:\n",
    "\n",
    "* **age:** continuous.\n",
    "\n",
    "* **workclass:** Private, Self-emp-not-inc, Self-emp-inc, Federal-gov, Local-gov, State-gov, Without-pay, Never-worked.\n",
    "\n",
    "* **fnlwgt (Final weight of how much of the population it represents):** continuous.\n",
    "\n",
    "* **education:** Bachelors, Some-college, 11th, HS-grad, Prof-school, Assoc-acdm, Assoc-voc, 9th, 7th-8th, 12th, Masters, 1st-4th, 10th, Doctorate, 5th-6th, Preschool.\n",
    "\n",
    "* **education-num (Numeric education level):** continuous.\n",
    "\n",
    "* **marital-status:** Married-civ-spouse, Divorced, Never-married, Separated, Widowed, Married-spouse-absent, Married-AF-spouse.\n",
    "\n",
    "* **occupation:** Tech-support, Craft-repair, Other-service, Sales, Exec-managerial, Prof-specialty, Handlers-cleaners, Machine-op-inspct, Adm-clerical, Farming-fishing, Transport-moving, Priv-house-serv, Protective-serv, Armed-Forces.\n",
    "\n",
    "* **relationship:** Wife, Own-child, Husband, Not-in-family, Other-relative, Unmarried.\n",
    "\n",
    "* **race:** White, Asian-Pac-Islander, Amer-Indian-Eskimo, Other, Black.\n",
    "\n",
    "* **sex:** Female, Male.\n",
    "\n",
    "* **capital-gain:** continuous.\n",
    "\n",
    "* **capital-loss:** continuous.\n",
    "\n",
    "* **hours-per-week:** continuous.\n",
    "\n",
    "* **native-country:** United-States, Cambodia, England, Puerto-Rico, Canada, Germany, Outlying-US(Guam-USVI-etc), India, Japan, Greece, South, China, Cuba, Iran, Honduras, Philippines, Italy, Poland, Jamaica, Vietnam, Mexico, Portugal, Ireland, France, Dominican-Republic, Laos, Ecuador, Taiwan, Haiti, Columbia, Hungary, Guatemala, Nicaragua, Scotland, Thailand, Yugoslavia, El-Salvador, Trinadad&Tobago, Peru, Hong, Holand-Netherlands.\n",
    "\n",
    "## Target\n",
    "* **income:** 50K, <=50K"
   ]
  },
  {
   "cell_type": "code",
   "execution_count": 1,
   "metadata": {},
   "outputs": [],
   "source": [
    "# carregar bibliotecas\n",
    "\n",
    "import pandas as pd\n",
    "import numpy as np\n",
    "import matplotlib.pyplot as plt\n",
    "import seaborn as sns\n",
    "\n",
    "import rubia_models"
   ]
  },
  {
   "cell_type": "code",
   "execution_count": 2,
   "metadata": {},
   "outputs": [
    {
     "name": "stdout",
     "output_type": "stream",
     "text": [
      "**************************************************************************************************** \n",
      "*\n",
      "* DATA OVERVIEW FOR THIS DATASET \n",
      "*\n",
      "* DATA SHAPE:  (48842, 15)\n",
      "* COLUMNS INFO:  age (int64), workclass (object), fnlwgt (int64), education (object), educational-num (int64), marital-status (object), occupation (object), relationship (object), race (object), gender (object), capital-gain (int64), capital-loss (int64), hours-per-week (int64), native-country (object), income (object)\n",
      "* \n",
      "****************************************************************************************************\n",
      "\n",
      "DATA SAMPLE: \n",
      "       age     workclass  fnlwgt     education  educational-num  \\\n",
      "19346   72             ?  113044       HS-grad                9   \n",
      "141     18       Private  262118  Some-college               10   \n",
      "30296   49  Self-emp-inc  119565       Masters               14   \n",
      "5260    60       Private  108969          10th                6   \n",
      "24530   44   Federal-gov  344060   Prof-school               15   \n",
      "\n",
      "           marital-status      occupation   relationship                race  \\\n",
      "19346             Widowed               ?  Not-in-family               White   \n",
      "141         Never-married    Adm-clerical      Own-child  Asian-Pac-Islander   \n",
      "30296  Married-civ-spouse           Sales        Husband               White   \n",
      "5260   Married-civ-spouse    Craft-repair        Husband               White   \n",
      "24530  Married-civ-spouse  Prof-specialty        Husband               White   \n",
      "\n",
      "       gender  capital-gain  capital-loss  hours-per-week native-country  \\\n",
      "19346    Male             0             0              30  United-States   \n",
      "141    Female             0             0              22        Germany   \n",
      "30296    Male             0             0              40  United-States   \n",
      "5260     Male             0             0              50  United-States   \n",
      "24530    Male             0             0              40  United-States   \n",
      "\n",
      "      income  \n",
      "19346  <=50K  \n",
      "141    <=50K  \n",
      "30296   >50K  \n",
      "5260   <=50K  \n",
      "24530   >50K  \n",
      "\n",
      "STATISTICS: \n",
      "                 count unique                 top   freq     mean      std  \\\n",
      "age              48842    NaN                 NaN    NaN  38.6436  13.7105   \n",
      "workclass        48842      9             Private  33906      NaN      NaN   \n",
      "fnlwgt           48842    NaN                 NaN    NaN   189664   105604   \n",
      "education        48842     16             HS-grad  15784      NaN      NaN   \n",
      "educational-num  48842    NaN                 NaN    NaN  10.0781  2.57097   \n",
      "marital-status   48842      7  Married-civ-spouse  22379      NaN      NaN   \n",
      "occupation       48842     15      Prof-specialty   6172      NaN      NaN   \n",
      "relationship     48842      6             Husband  19716      NaN      NaN   \n",
      "race             48842      5               White  41762      NaN      NaN   \n",
      "gender           48842      2                Male  32650      NaN      NaN   \n",
      "capital-gain     48842    NaN                 NaN    NaN  1079.07  7452.02   \n",
      "capital-loss     48842    NaN                 NaN    NaN  87.5023  403.005   \n",
      "hours-per-week   48842    NaN                 NaN    NaN  40.4224  12.3914   \n",
      "native-country   48842     42       United-States  43832      NaN      NaN   \n",
      "income           48842      2               <=50K  37155      NaN      NaN   \n",
      "\n",
      "                   min     25%     50%     75%         max  \n",
      "age                 17      28      37      48          90  \n",
      "workclass          NaN     NaN     NaN     NaN         NaN  \n",
      "fnlwgt           12285  117550  178144  237642  1.4904e+06  \n",
      "education          NaN     NaN     NaN     NaN         NaN  \n",
      "educational-num      1       9      10      12          16  \n",
      "marital-status     NaN     NaN     NaN     NaN         NaN  \n",
      "occupation         NaN     NaN     NaN     NaN         NaN  \n",
      "relationship       NaN     NaN     NaN     NaN         NaN  \n",
      "race               NaN     NaN     NaN     NaN         NaN  \n",
      "gender             NaN     NaN     NaN     NaN         NaN  \n",
      "capital-gain         0       0       0       0       99999  \n",
      "capital-loss         0       0       0       0        4356  \n",
      "hours-per-week       1      40      40      45          99  \n",
      "native-country     NaN     NaN     NaN     NaN         NaN  \n",
      "income             NaN     NaN     NaN     NaN         NaN  \n",
      "\n",
      "\n",
      "\n"
     ]
    }
   ],
   "source": [
    "# ler arquivo, inicializar o autoML e checar os dados\n",
    "\n",
    "df = pd.read_csv('dataset/adult.csv')\n",
    "\n",
    "rm = rubia_models.rubia_models(df, debug=False)\n",
    "rm.describe(rm.data_raw)"
   ]
  },
  {
   "cell_type": "code",
   "execution_count": 3,
   "metadata": {},
   "outputs": [
    {
     "name": "stdout",
     "output_type": "stream",
     "text": [
      "Private             33906\n",
      "Self-emp-not-inc     3862\n",
      "Local-gov            3136\n",
      "?                    2799\n",
      "State-gov            1981\n",
      "Self-emp-inc         1695\n",
      "Federal-gov          1432\n",
      "Without-pay            21\n",
      "Never-worked           10\n",
      "Name: workclass, dtype: int64\n"
     ]
    },
    {
     "data": {
      "image/png": "[encoded data removed]",
      "text/plain": [
       "<Figure size 432x288 with 1 Axes>"
      ]
     },
     "metadata": {
      "needs_background": "light"
     },
     "output_type": "display_data"
    }
   ],
   "source": [
    "# age está ok, sem nulos, descritiva ok\n",
    "# analisar e potencializar workclass\n",
    "\n",
    "print(df.workclass.value_counts())\n",
    "df.workclass.value_counts().plot(kind='bar');\n",
    "\n",
    "# mais de 5% dos dados não possuem informação de workclass, vamos marcar com uma dummie e acompanhar\n",
    "# por outro lado, quase 75% são funcionários do setor privado"
   ]
  },
  {
   "cell_type": "code",
   "execution_count": 4,
   "metadata": {},
   "outputs": [
    {
     "data": {
      "image/png": "[encoded data removed]",
      "text/plain": [
       "<Figure size 432x288 with 1 Axes>"
      ]
     },
     "metadata": {
      "needs_background": "light"
     },
     "output_type": "display_data"
    }
   ],
   "source": [
    "# vamos fazer algumas modificações e voltamos aqui posteriormente se necessário\n",
    "\n",
    "def renameWorkclass(wc): # vamos codificar a workclass reduzindo um pouco a granularidade\n",
    "    switcher = {\n",
    "        'Self-emp-not-inc': 5,\n",
    "        'Self-emp-inc': 5,\n",
    "        'Federal-gov': 4,\n",
    "        'State-gov': 3,\n",
    "        'Local-gov': 2,\n",
    "        'Private': 1\n",
    "    }\n",
    "    return switcher.get(wc, 0)\n",
    "\n",
    "df['isPrivate'] = np.where(df.workclass=='Private', 1, 0)\n",
    "df['WorkclassGroup'] = df.workclass.apply(renameWorkclass)\n",
    "df['isPublic'] = np.where((df.WorkclassGroup>=2) & (df.WorkclassGroup<=4), 1, 0)\n",
    "\n",
    "df.WorkclassGroup.value_counts().plot(kind='bar');"
   ]
  },
  {
   "cell_type": "code",
   "execution_count": 5,
   "metadata": {
    "scrolled": false
   },
   "outputs": [
    {
     "name": "stdout",
     "output_type": "stream",
     "text": [
      "       education  educational-num  income\n",
      "0      Preschool                1      83\n",
      "1        1st-4th                2     247\n",
      "2        5th-6th                3     509\n",
      "3        7th-8th                4     955\n",
      "4            9th                5     756\n",
      "5           10th                6    1389\n",
      "6           11th                7    1812\n",
      "7           12th                8     657\n",
      "8        HS-grad                9   15784\n",
      "9   Some-college               10   10878\n",
      "10     Assoc-voc               11    2061\n",
      "11    Assoc-acdm               12    1601\n",
      "12     Bachelors               13    8025\n",
      "13       Masters               14    2657\n",
      "14   Prof-school               15     834\n",
      "15     Doctorate               16     594\n"
     ]
    },
    {
     "data": {
      "image/png": "[encoded data removed]",
      "text/plain": [
       "<Figure size 432x288 with 1 Axes>"
      ]
     },
     "metadata": {
      "needs_background": "light"
     },
     "output_type": "display_data"
    }
   ],
   "source": [
    "# vamos analisar a questao educacional e tomar algumas decisões\n",
    "\n",
    "aux = df.groupby(['education', 'educational-num']).count()['income'].reset_index().sort_values('educational-num').reset_index(drop=True)\n",
    "print(aux)\n",
    "aux.income.plot(kind='bar');"
   ]
  },
  {
   "cell_type": "code",
   "execution_count": 6,
   "metadata": {},
   "outputs": [
    {
     "data": {
      "image/png": "[encoded data removed]",
      "text/plain": [
       "<Figure size 432x288 with 1 Axes>"
      ]
     },
     "metadata": {
      "needs_background": "light"
     },
     "output_type": "display_data"
    }
   ],
   "source": [
    "# novamente observamos um desbalanceamento relevante associado a uma alta granularidade, vamos propor algumas mudanças também\n",
    "\n",
    "def groupEducation(level): # vamos codificar a workclass reduzindo um pouco a granularidade\n",
    "    if level <= 3:\n",
    "        return 0 # primary\n",
    "    elif level <= 8:\n",
    "        return 1 # secundary\n",
    "    elif level <= 9:\n",
    "        return 2 # HS\n",
    "    elif level <= 12:\n",
    "        return 3 # college ou vocacional\n",
    "    elif level <= 13:\n",
    "        return 4 # undergraduate\n",
    "    else:\n",
    "        return 5\n",
    "\n",
    "df['EduGroup'] = df['educational-num'].apply(groupEducation)\n",
    "\n",
    "df.EduGroup.value_counts().plot(kind='bar');"
   ]
  },
  {
   "cell_type": "code",
   "execution_count": 7,
   "metadata": {},
   "outputs": [
    {
     "name": "stdout",
     "output_type": "stream",
     "text": [
      "          marital-status  income\n",
      "0               Divorced    6633\n",
      "1      Married-AF-spouse      37\n",
      "2     Married-civ-spouse   22379\n",
      "3  Married-spouse-absent     628\n",
      "4          Never-married   16117\n",
      "5              Separated    1530\n",
      "6                Widowed    1518\n"
     ]
    },
    {
     "data": {
      "image/png": "[encoded data removed]",
      "text/plain": [
       "<Figure size 432x288 with 1 Axes>"
      ]
     },
     "metadata": {
      "needs_background": "light"
     },
     "output_type": "display_data"
    }
   ],
   "source": [
    "# vamos analisar a questao marital e de relacionamento e tomar algumas decisões\n",
    "\n",
    "aux = df.groupby(['marital-status']).count()['income'].reset_index()\n",
    "print(aux)\n",
    "aux.income.plot(kind='bar');"
   ]
  },
  {
   "cell_type": "code",
   "execution_count": 8,
   "metadata": {},
   "outputs": [
    {
     "name": "stdout",
     "output_type": "stream",
     "text": [
      "     relationship  income\n",
      "0         Husband   19716\n",
      "1   Not-in-family   12583\n",
      "2  Other-relative    1506\n",
      "3       Own-child    7581\n",
      "4       Unmarried    5125\n",
      "5            Wife    2331\n"
     ]
    },
    {
     "data": {
      "image/png": "[encoded data removed]",
      "text/plain": [
       "<Figure size 432x288 with 1 Axes>"
      ]
     },
     "metadata": {
      "needs_background": "light"
     },
     "output_type": "display_data"
    }
   ],
   "source": [
    "aux = df.groupby(['relationship']).count()['income'].reset_index()\n",
    "print(aux)\n",
    "aux.income.plot(kind='bar');"
   ]
  },
  {
   "cell_type": "code",
   "execution_count": 9,
   "metadata": {},
   "outputs": [
    {
     "data": {
      "image/png": "[encoded data removed]",
      "text/plain": [
       "<Figure size 432x288 with 1 Axes>"
      ]
     },
     "metadata": {
      "needs_background": "light"
     },
     "output_type": "display_data"
    }
   ],
   "source": [
    "# novamente observamos um desbalanceamento relevante associado a uma alta granularidade, vamos propor algumas mudanças também\n",
    "# para relationship vamos manter os dados originais\n",
    "\n",
    "def groupMarital(status): # vamos codificar a workclass reduzindo um pouco a granularidade\n",
    "    switcher = {\n",
    "        'Divorced': 'Descasado',\n",
    "        'Separated': 'Descasado',\n",
    "        'Married-spouse-absent': 'Casado',\n",
    "        'Married-civ-spouse': 'Casado',\n",
    "        'Married-AF-spouse': 'Casado',\n",
    "        'Never-married': 'Não casado',\n",
    "        'Widowed': 'Viúvo'\n",
    "    }\n",
    "    return switcher.get(status, 'Outros')\n",
    "\n",
    "df['MaritalGroup'] = df['marital-status'].apply(groupMarital)\n",
    "\n",
    "df.MaritalGroup.value_counts().plot(kind='bar');"
   ]
  },
  {
   "cell_type": "code",
   "execution_count": 10,
   "metadata": {},
   "outputs": [
    {
     "name": "stdout",
     "output_type": "stream",
     "text": [
      "                 race  income\n",
      "0  Amer-Indian-Eskimo     470\n",
      "1  Asian-Pac-Islander    1519\n",
      "2               Black    4685\n",
      "3               Other     406\n",
      "4               White   41762\n"
     ]
    },
    {
     "data": {
      "image/png": "[encoded data removed]",
      "text/plain": [
       "<Figure size 432x288 with 1 Axes>"
      ]
     },
     "metadata": {
      "needs_background": "light"
     },
     "output_type": "display_data"
    }
   ],
   "source": [
    "# vamos analisar a demografia e tomar algumas decisões\n",
    "\n",
    "aux = df.groupby(['race']).count()['income'].reset_index()\n",
    "print(aux)\n",
    "aux.income.plot(kind='bar');"
   ]
  },
  {
   "cell_type": "code",
   "execution_count": 11,
   "metadata": {},
   "outputs": [
    {
     "name": "stdout",
     "output_type": "stream",
     "text": [
      "   gender  income\n",
      "0  Female   16192\n",
      "1    Male   32650\n"
     ]
    },
    {
     "data": {
      "image/png": "[encoded data removed]",
      "text/plain": [
       "<Figure size 432x288 with 1 Axes>"
      ]
     },
     "metadata": {
      "needs_background": "light"
     },
     "output_type": "display_data"
    }
   ],
   "source": [
    "aux = df.groupby(['gender']).count()['income'].reset_index()\n",
    "print(aux)\n",
    "aux.income.plot(kind='bar');"
   ]
  },
  {
   "cell_type": "code",
   "execution_count": 12,
   "metadata": {},
   "outputs": [],
   "source": [
    "# não vamos fazer nenhuma transformação ou extração para gender e race por enquanto"
   ]
  },
  {
   "cell_type": "code",
   "execution_count": 13,
   "metadata": {},
   "outputs": [
    {
     "name": "stdout",
     "output_type": "stream",
     "text": [
      "           occupation  income\n",
      "0                   ?    2809\n",
      "1        Adm-clerical    5611\n",
      "2        Armed-Forces      15\n",
      "3        Craft-repair    6112\n",
      "4     Exec-managerial    6086\n",
      "5     Farming-fishing    1490\n",
      "6   Handlers-cleaners    2072\n",
      "7   Machine-op-inspct    3022\n",
      "8       Other-service    4923\n",
      "9     Priv-house-serv     242\n",
      "10     Prof-specialty    6172\n",
      "11    Protective-serv     983\n",
      "12              Sales    5504\n",
      "13       Tech-support    1446\n",
      "14   Transport-moving    2355\n"
     ]
    },
    {
     "data": {
      "image/png": "[encoded data removed]",
      "text/plain": [
       "<Figure size 432x288 with 1 Axes>"
      ]
     },
     "metadata": {
      "needs_background": "light"
     },
     "output_type": "display_data"
    }
   ],
   "source": [
    "aux = df.groupby(['occupation']).count()['income'].reset_index()\n",
    "print(aux)\n",
    "aux.income.plot(kind='bar');"
   ]
  },
  {
   "cell_type": "code",
   "execution_count": 14,
   "metadata": {},
   "outputs": [],
   "source": [
    "# de forma geral, não parece fazer sentido muita transformação sobre ocupação\n",
    "# entretanto, vamos isolar duas profissões por curiosidade\n",
    "\n",
    "df['isMgnt'] = np.where(df.occupation=='Exec-managerial', 1, 0)\n",
    "df['isSales'] = np.where(df.occupation=='Sales', 1, 0)"
   ]
  },
  {
   "cell_type": "code",
   "execution_count": 15,
   "metadata": {},
   "outputs": [
    {
     "data": {
      "image/png": "[encoded data removed]",
      "text/plain": [
       "<Figure size 432x288 with 1 Axes>"
      ]
     },
     "metadata": {
      "needs_background": "light"
     },
     "output_type": "display_data"
    },
    {
     "name": "stdout",
     "output_type": "stream",
     "text": [
      "Ganho mínimo 0\n",
      "Perda mínima 0\n"
     ]
    }
   ],
   "source": [
    "# temos 2 variáveis com nomes similares, de tipo int, vamos analisar as 2\n",
    "\n",
    "df['capital-gain'].hist()\n",
    "df['capital-loss'].hist()\n",
    "plt.show()\n",
    "print('Ganho mínimo', df['capital-gain'].min())\n",
    "print('Perda mínima', df['capital-loss'].min())"
   ]
  },
  {
   "cell_type": "code",
   "execution_count": 16,
   "metadata": {},
   "outputs": [
    {
     "data": {
      "image/png": "[encoded data removed]",
      "text/plain": [
       "<Figure size 432x288 with 1 Axes>"
      ]
     },
     "metadata": {
      "needs_background": "light"
     },
     "output_type": "display_data"
    },
    {
     "name": "stdout",
     "output_type": "stream",
     "text": [
      "Ganho mínimo 0.0\n",
      "Perda mínima 0.0\n"
     ]
    }
   ],
   "source": [
    "# observamos um problema de distribuição com os valores de capital, distanciamento da normal, vamos testar alguma transformação\n",
    "# vamos somar 1 aos valores de capital para evitar log(0)=-inf\n",
    "# xt = log(x+1)\n",
    "\n",
    "gain = df['capital-gain'].apply(lambda x: np.log(x+1))\n",
    "loss = df['capital-loss'].apply(lambda x: np.log(x+1))\n",
    "sns.kdeplot(gain)\n",
    "sns.kdeplot(loss)\n",
    "plt.show()\n",
    "print('Ganho mínimo', gain.min())\n",
    "print('Perda mínima', loss.min())"
   ]
  },
  {
   "cell_type": "code",
   "execution_count": 17,
   "metadata": {},
   "outputs": [],
   "source": [
    "# uma transformação LOG nessas 2 colunas trouxeram um balanceamento interessante bem como aproximaram os dados de uma normal\n",
    "\n",
    "df['capital-gainLOG'] = df['capital-gain'].apply(lambda x: np.log(x+1))\n",
    "df['capital-lossLOG'] = df['capital-loss'].apply(lambda x: np.log(x+1))"
   ]
  },
  {
   "cell_type": "code",
   "execution_count": 18,
   "metadata": {},
   "outputs": [
    {
     "data": {
      "image/png": "[encoded data removed]",
      "text/plain": [
       "<Figure size 432x288 with 1 Axes>"
      ]
     },
     "metadata": {
      "needs_background": "light"
     },
     "output_type": "display_data"
    }
   ],
   "source": [
    "# analisando agora as horas trabalhadas\n",
    "\n",
    "df['hours-per-week'].hist()\n",
    "plt.show()\n",
    "\n",
    "# nota: nenhuma observação relevante, há um pico em torno da jornada padrão de 40h, o que é esperado"
   ]
  },
  {
   "cell_type": "code",
   "execution_count": 19,
   "metadata": {},
   "outputs": [
    {
     "name": "stdout",
     "output_type": "stream",
     "text": [
      "                native-country  income\n",
      "0                            ?     857\n",
      "1                     Cambodia      28\n",
      "2                       Canada     182\n",
      "3                        China     122\n",
      "4                     Columbia      85\n",
      "5                         Cuba     138\n",
      "6           Dominican-Republic     103\n",
      "7                      Ecuador      45\n",
      "8                  El-Salvador     155\n",
      "9                      England     127\n",
      "10                      France      38\n",
      "11                     Germany     206\n",
      "12                      Greece      49\n",
      "13                   Guatemala      88\n",
      "14                       Haiti      75\n",
      "15          Holand-Netherlands       1\n",
      "16                    Honduras      20\n",
      "17                        Hong      30\n",
      "18                     Hungary      19\n",
      "19                       India     151\n",
      "20                        Iran      59\n",
      "21                     Ireland      37\n",
      "22                       Italy     105\n",
      "23                     Jamaica     106\n",
      "24                       Japan      92\n",
      "25                        Laos      23\n",
      "26                      Mexico     951\n",
      "27                   Nicaragua      49\n",
      "28  Outlying-US(Guam-USVI-etc)      23\n",
      "29                        Peru      46\n",
      "30                 Philippines     295\n",
      "31                      Poland      87\n",
      "32                    Portugal      67\n",
      "33                 Puerto-Rico     184\n",
      "34                    Scotland      21\n",
      "35                       South     115\n",
      "36                      Taiwan      65\n",
      "37                    Thailand      30\n",
      "38             Trinadad&Tobago      27\n",
      "39               United-States   43832\n",
      "40                     Vietnam      86\n",
      "41                  Yugoslavia      23\n"
     ]
    },
    {
     "data": {
      "image/png": "[encoded data removed]",
      "text/plain": [
       "<Figure size 432x288 with 1 Axes>"
      ]
     },
     "metadata": {
      "needs_background": "light"
     },
     "output_type": "display_data"
    }
   ],
   "source": [
    "# vamos analisar o país de origem\n",
    "\n",
    "aux = df.groupby(['native-country']).count()['income'].reset_index()\n",
    "print(aux)\n",
    "aux.income.plot(kind='bar');"
   ]
  },
  {
   "cell_type": "code",
   "execution_count": 20,
   "metadata": {},
   "outputs": [
    {
     "data": {
      "image/png": "[encoded data removed]",
      "text/plain": [
       "<Figure size 432x288 with 1 Axes>"
      ]
     },
     "metadata": {
      "needs_background": "light"
     },
     "output_type": "display_data"
    }
   ],
   "source": [
    "# novamente observamos um desbalanceamento relevante associado a uma altíssima granularidade, vamos propor algumas mudanças também\n",
    "\n",
    "def groupOrigin(origin): # vamos codificar o país de origem reduzindo um pouco a granularidade\n",
    "    switcher = {\n",
    "        'United-States': 'USA', \n",
    "        'Peru': 'Latam', \n",
    "        'Guatemala': 'Latam', \n",
    "        'Mexico': 'Mexico',\n",
    "        'Dominican-Republic': 'Latam', \n",
    "        'Ireland': 'Europe', \n",
    "        'Germany': 'Europe', \n",
    "        'Philippines': 'Asia',\n",
    "        'Thailand': 'Asia', \n",
    "        'Haiti': 'Latam', \n",
    "        'El-Salvador': 'Latam', \n",
    "        'Puerto-Rico': 'Latam', \n",
    "        'Vietnam': 'Asia',\n",
    "        'Columbia': 'Latam', \n",
    "        'Japan': 'Asia', \n",
    "        'India': 'Asia', \n",
    "        'Cambodia': 'Asia', \n",
    "        'Poland': 'Europe',\n",
    "        'Laos': 'Asia', \n",
    "        'England': 'Europe', \n",
    "        'Cuba': 'Latam', \n",
    "        'Taiwan': 'Asia', \n",
    "        'Italy': 'Europe', \n",
    "        'Canada': 'Canada', \n",
    "        'Portugal': 'Europe',\n",
    "        'China': 'Asia', \n",
    "        'Nicaragua': 'Latam', \n",
    "        'Honduras': 'Latam', \n",
    "        'Iran': 'Asia', \n",
    "        'Scotland': 'Europe', \n",
    "        'Jamaica': 'Latam',\n",
    "        'Ecuador': 'Latam', \n",
    "        'Yugoslavia': 'Europe', \n",
    "        'Hungary': 'Europe', \n",
    "        'Hong': 'Asia', \n",
    "        'Greece': 'Europe',\n",
    "        'Trinadad&Tobago': 'Latam', \n",
    "        'Outlying-US(Guam-USVI-etc)': 'USA', \n",
    "        'France': 'Europe',\n",
    "        'Holand-Netherlands': 'Europe'\n",
    "    }\n",
    "    return switcher.get(origin, 'Outros')\n",
    "\n",
    "df['OriginGroup'] = df['native-country'].apply(groupOrigin)\n",
    "\n",
    "df.OriginGroup.value_counts().plot(kind='bar');"
   ]
  },
  {
   "cell_type": "code",
   "execution_count": 21,
   "metadata": {},
   "outputs": [
    {
     "data": {
      "image/png": "[encoded data removed]",
      "text/plain": [
       "<Figure size 432x288 with 1 Axes>"
      ]
     },
     "metadata": {
      "needs_background": "light"
     },
     "output_type": "display_data"
    }
   ],
   "source": [
    "def groupOriginRich(origin): # vamos codificar os grupos por origem majoritária rica ou pobre reduzindo um pouco a granularidade\n",
    "    switcher = {\n",
    "        'USA': 'USA', \n",
    "        'Canada': 'Rich', \n",
    "        'Mexico': 'Poor', \n",
    "        'Latam': 'Poor', \n",
    "        'Asia': 'Poor', \n",
    "        'Europe': 'Rich'\n",
    "    }\n",
    "    return switcher.get(origin, 'Outros')\n",
    "\n",
    "df['OriginGroupRich'] = df['OriginGroup'].apply(groupOriginRich)\n",
    "\n",
    "df.OriginGroupRich.value_counts().plot(kind='bar');"
   ]
  },
  {
   "cell_type": "code",
   "execution_count": 22,
   "metadata": {},
   "outputs": [
    {
     "name": "stdout",
     "output_type": "stream",
     "text": [
      "  income  isSales\n",
      "0  <=50K    37155\n",
      "1   >50K    11687\n"
     ]
    },
    {
     "data": {
      "image/png": "[encoded data removed]",
      "text/plain": [
       "<Figure size 432x288 with 1 Axes>"
      ]
     },
     "metadata": {
      "needs_background": "light"
     },
     "output_type": "display_data"
    }
   ],
   "source": [
    "# finalmente vamos analisar nossa variável target de interesse\n",
    "\n",
    "aux = df.groupby(['income']).count()['isSales'].reset_index()\n",
    "print(aux)\n",
    "aux.isSales.plot(kind='bar');\n",
    "\n",
    "# nota: há um desbalanceamento entre as classes, analisar desempenho do modelo com cuidado a isto"
   ]
  },
  {
   "cell_type": "code",
   "execution_count": 23,
   "metadata": {
    "scrolled": true
   },
   "outputs": [
    {
     "data": {
      "text/plain": [
       "Index(['age', 'workclass', 'fnlwgt', 'education', 'educational-num',\n",
       "       'marital-status', 'occupation', 'relationship', 'race', 'gender',\n",
       "       'capital-gain', 'capital-loss', 'hours-per-week', 'native-country',\n",
       "       'income', 'isPrivate', 'WorkclassGroup', 'isPublic', 'EduGroup',\n",
       "       'MaritalGroup', 'isMgnt', 'isSales', 'capital-gainLOG',\n",
       "       'capital-lossLOG', 'OriginGroup', 'OriginGroupRich'],\n",
       "      dtype='object')"
      ]
     },
     "execution_count": 23,
     "metadata": {},
     "output_type": "execute_result"
    }
   ],
   "source": [
    "df.columns"
   ]
  },
  {
   "cell_type": "code",
   "execution_count": 36,
   "metadata": {
    "scrolled": false
   },
   "outputs": [
    {
     "name": "stdout",
     "output_type": "stream",
     "text": [
      "**************************************************************************************************** \n",
      "*\n",
      "* FEATURE EXTRACTION REPORT \n",
      "*\n",
      "* X:  age | occupation | relationship | race | gender | hours-per-week | isPrivate | WorkclassGroup | isPublic | EduGroup | MaritalGroup | isMgnt | isSales | capital-gainLOG | capital-lossLOG | OriginGroup | OriginGroupRich\n",
      "* y:  income\n",
      "* M:  (48842, 17) | (48842, 1)\n",
      "* \n",
      "****************************************************************************************************\n",
      "\n"
     ]
    },
    {
     "data": {
      "image/png": "[encoded data removed]",
      "text/plain": [
       "<Figure size 936x468 with 1 Axes>"
      ]
     },
     "metadata": {
      "needs_background": "light"
     },
     "output_type": "display_data"
    },
    {
     "name": "stdout",
     "output_type": "stream",
     "text": [
      "**************************************************************************************************** \n",
      "*\n",
      "* DATA OVERVIEW FOR THIS DATASET \n",
      "*\n",
      "* DATA SHAPE:  (48842, 18)\n",
      "* COLUMNS INFO:  age (int64), occupation (object), relationship (object), race (object), gender (object), hours-per-week (int64), isPrivate (int32), WorkclassGroup (int64), isPublic (int32), EduGroup (int64), MaritalGroup (object), isMgnt (int32), isSales (int32), capital-gainLOG (float64), capital-lossLOG (float64), OriginGroup (object), OriginGroupRich (object), income (object)\n",
      "* \n",
      "****************************************************************************************************\n",
      "\n",
      "DATA SAMPLE: \n",
      "       age      occupation   relationship   race  gender  hours-per-week  \\\n",
      "12905   27    Adm-clerical      Unmarried  Black  Female              30   \n",
      "27506   26  Prof-specialty  Not-in-family  White    Male              70   \n",
      "665     43  Prof-specialty  Not-in-family  White  Female              32   \n",
      "32924   44    Craft-repair        Husband  White    Male              40   \n",
      "7939    20           Sales      Unmarried  White    Male              35   \n",
      "\n",
      "       isPrivate  WorkclassGroup  isPublic  EduGroup MaritalGroup  isMgnt  \\\n",
      "12905          1               1         0         3   Não casado       0   \n",
      "27506          1               1         0         4   Não casado       0   \n",
      "665            1               1         0         3   Não casado       0   \n",
      "32924          1               1         0         3       Casado       0   \n",
      "7939           1               1         0         2   Não casado       0   \n",
      "\n",
      "       isSales  capital-gainLOG  capital-lossLOG OriginGroup OriginGroupRich  \\\n",
      "12905        0              0.0              0.0         USA             USA   \n",
      "27506        0              0.0              0.0         USA             USA   \n",
      "665          0              0.0              0.0      Outros          Outros   \n",
      "32924        0              0.0              0.0         USA             USA   \n",
      "7939         1              0.0              0.0         USA             USA   \n",
      "\n",
      "      income  \n",
      "12905  <=50K  \n",
      "27506  <=50K  \n",
      "665     >50K  \n",
      "32924   >50K  \n",
      "7939   <=50K  \n",
      "\n",
      "STATISTICS: \n",
      "                 count unique             top   freq      mean       std  min  \\\n",
      "age              48842    NaN             NaN    NaN   38.6436   13.7105   17   \n",
      "occupation       48842     15  Prof-specialty   6172       NaN       NaN  NaN   \n",
      "relationship     48842      6         Husband  19716       NaN       NaN  NaN   \n",
      "race             48842      5           White  41762       NaN       NaN  NaN   \n",
      "gender           48842      2            Male  32650       NaN       NaN  NaN   \n",
      "hours-per-week   48842    NaN             NaN    NaN   40.4224   12.3914    1   \n",
      "isPrivate        48842    NaN             NaN    NaN  0.694198  0.460751    0   \n",
      "WorkclassGroup   48842    NaN             NaN    NaN   1.63044   1.40401    0   \n",
      "isPublic         48842    NaN             NaN    NaN  0.134085  0.340748    0   \n",
      "EduGroup         48842    NaN             NaN    NaN   2.72884   1.16585    0   \n",
      "MaritalGroup     48842      4          Casado  23044       NaN       NaN  NaN   \n",
      "isMgnt           48842    NaN             NaN    NaN  0.124606  0.330275    0   \n",
      "isSales          48842    NaN             NaN    NaN   0.11269  0.316217    0   \n",
      "capital-gainLOG  48842    NaN             NaN    NaN  0.728544   2.44548    0   \n",
      "capital-lossLOG  48842    NaN             NaN    NaN  0.350973   1.58623    0   \n",
      "OriginGroup      48842      7             USA  43855       NaN       NaN  NaN   \n",
      "OriginGroupRich  48842      4             USA  43855       NaN       NaN  NaN   \n",
      "income           48842      2           <=50K  37155       NaN       NaN  NaN   \n",
      "\n",
      "                 25%  50%  75%      max  \n",
      "age               28   37   48       90  \n",
      "occupation       NaN  NaN  NaN      NaN  \n",
      "relationship     NaN  NaN  NaN      NaN  \n",
      "race             NaN  NaN  NaN      NaN  \n",
      "gender           NaN  NaN  NaN      NaN  \n",
      "hours-per-week    40   40   45       99  \n",
      "isPrivate          0    1    1        1  \n",
      "WorkclassGroup     1    1    1        5  \n",
      "isPublic           0    0    0        1  \n",
      "EduGroup           2    3    3        5  \n",
      "MaritalGroup     NaN  NaN  NaN      NaN  \n",
      "isMgnt             0    0    0        1  \n",
      "isSales            0    0    0        1  \n",
      "capital-gainLOG    0    0    0  11.5129  \n",
      "capital-lossLOG    0    0    0  8.37954  \n",
      "OriginGroup      NaN  NaN  NaN      NaN  \n",
      "OriginGroupRich  NaN  NaN  NaN      NaN  \n",
      "income           NaN  NaN  NaN      NaN  \n",
      "\n",
      "\n",
      "\n"
     ]
    }
   ],
   "source": [
    "# vamos agora separar os dados entre features e target\n",
    "\n",
    "y_cols = ['income']\n",
    "ignore_cols = ['workclass', 'fnlwgt', 'education', 'educational-num',\n",
    "       'marital-status', 'capital-gain', 'capital-loss', 'native-country']\n",
    "\n",
    "rm = rubia_models.rubia_models(df, debug=False)\n",
    "rm.explore(rm.data_raw, y_cols, ignore_cols, graph=True)\n",
    "rm.describe(rm.M)"
   ]
  },
  {
   "cell_type": "code",
   "execution_count": 37,
   "metadata": {},
   "outputs": [
    {
     "name": "stdout",
     "output_type": "stream",
     "text": [
      "<class 'pandas.core.frame.DataFrame'>\n",
      "RangeIndex: 48842 entries, 0 to 48841\n",
      "Data columns (total 61 columns):\n",
      "age                             48842 non-null int64\n",
      "hours-per-week                  48842 non-null int64\n",
      "isPrivate                       48842 non-null int32\n",
      "WorkclassGroup                  48842 non-null int64\n",
      "isPublic                        48842 non-null int32\n",
      "EduGroup                        48842 non-null int64\n",
      "isMgnt                          48842 non-null int32\n",
      "isSales                         48842 non-null int32\n",
      "capital-gainLOG                 48842 non-null float64\n",
      "capital-lossLOG                 48842 non-null float64\n",
      "occupation_?                    48842 non-null uint8\n",
      "occupation_Adm-clerical         48842 non-null uint8\n",
      "occupation_Armed-Forces         48842 non-null uint8\n",
      "occupation_Craft-repair         48842 non-null uint8\n",
      "occupation_Exec-managerial      48842 non-null uint8\n",
      "occupation_Farming-fishing      48842 non-null uint8\n",
      "occupation_Handlers-cleaners    48842 non-null uint8\n",
      "occupation_Machine-op-inspct    48842 non-null uint8\n",
      "occupation_Other-service        48842 non-null uint8\n",
      "occupation_Priv-house-serv      48842 non-null uint8\n",
      "occupation_Prof-specialty       48842 non-null uint8\n",
      "occupation_Protective-serv      48842 non-null uint8\n",
      "occupation_Sales                48842 non-null uint8\n",
      "occupation_Tech-support         48842 non-null uint8\n",
      "occupation_Transport-moving     48842 non-null uint8\n",
      "occupation_nan                  48842 non-null uint8\n",
      "relationship_Husband            48842 non-null uint8\n",
      "relationship_Not-in-family      48842 non-null uint8\n",
      "relationship_Other-relative     48842 non-null uint8\n",
      "relationship_Own-child          48842 non-null uint8\n",
      "relationship_Unmarried          48842 non-null uint8\n",
      "relationship_Wife               48842 non-null uint8\n",
      "relationship_nan                48842 non-null uint8\n",
      "race_Amer-Indian-Eskimo         48842 non-null uint8\n",
      "race_Asian-Pac-Islander         48842 non-null uint8\n",
      "race_Black                      48842 non-null uint8\n",
      "race_Other                      48842 non-null uint8\n",
      "race_White                      48842 non-null uint8\n",
      "race_nan                        48842 non-null uint8\n",
      "gender_Female                   48842 non-null uint8\n",
      "gender_Male                     48842 non-null uint8\n",
      "gender_nan                      48842 non-null uint8\n",
      "MaritalGroup_Casado             48842 non-null uint8\n",
      "MaritalGroup_Descasado          48842 non-null uint8\n",
      "MaritalGroup_Não casado         48842 non-null uint8\n",
      "MaritalGroup_Viúvo              48842 non-null uint8\n",
      "MaritalGroup_nan                48842 non-null uint8\n",
      "OriginGroup_Asia                48842 non-null uint8\n",
      "OriginGroup_Canada              48842 non-null uint8\n",
      "OriginGroup_Europe              48842 non-null uint8\n",
      "OriginGroup_Latam               48842 non-null uint8\n",
      "OriginGroup_Mexico              48842 non-null uint8\n",
      "OriginGroup_Outros              48842 non-null uint8\n",
      "OriginGroup_USA                 48842 non-null uint8\n",
      "OriginGroup_nan                 48842 non-null uint8\n",
      "OriginGroupRich_Outros          48842 non-null uint8\n",
      "OriginGroupRich_Poor            48842 non-null uint8\n",
      "OriginGroupRich_Rich            48842 non-null uint8\n",
      "OriginGroupRich_USA             48842 non-null uint8\n",
      "OriginGroupRich_nan             48842 non-null uint8\n",
      "income                          48842 non-null object\n",
      "dtypes: float64(2), int32(4), int64(4), object(1), uint8(50)\n",
      "memory usage: 5.7+ MB\n"
     ]
    },
    {
     "data": {
      "text/html": [
       "<div>\n",
       "<style scoped>\n",
       "    .dataframe tbody tr th:only-of-type {\n",
       "        vertical-align: middle;\n",
       "    }\n",
       "\n",
       "    .dataframe tbody tr th {\n",
       "        vertical-align: top;\n",
       "    }\n",
       "\n",
       "    .dataframe thead th {\n",
       "        text-align: right;\n",
       "    }\n",
       "</style>\n",
       "<table border=\"1\" class=\"dataframe\">\n",
       "  <thead>\n",
       "    <tr style=\"text-align: right;\">\n",
       "      <th></th>\n",
       "      <th>0</th>\n",
       "      <th>1</th>\n",
       "      <th>2</th>\n",
       "      <th>3</th>\n",
       "      <th>4</th>\n",
       "    </tr>\n",
       "  </thead>\n",
       "  <tbody>\n",
       "    <tr>\n",
       "      <td>age</td>\n",
       "      <td>25</td>\n",
       "      <td>38</td>\n",
       "      <td>28</td>\n",
       "      <td>44</td>\n",
       "      <td>18</td>\n",
       "    </tr>\n",
       "    <tr>\n",
       "      <td>hours-per-week</td>\n",
       "      <td>40</td>\n",
       "      <td>50</td>\n",
       "      <td>40</td>\n",
       "      <td>40</td>\n",
       "      <td>30</td>\n",
       "    </tr>\n",
       "    <tr>\n",
       "      <td>isPrivate</td>\n",
       "      <td>1</td>\n",
       "      <td>1</td>\n",
       "      <td>0</td>\n",
       "      <td>1</td>\n",
       "      <td>0</td>\n",
       "    </tr>\n",
       "    <tr>\n",
       "      <td>WorkclassGroup</td>\n",
       "      <td>1</td>\n",
       "      <td>1</td>\n",
       "      <td>2</td>\n",
       "      <td>1</td>\n",
       "      <td>0</td>\n",
       "    </tr>\n",
       "    <tr>\n",
       "      <td>isPublic</td>\n",
       "      <td>0</td>\n",
       "      <td>0</td>\n",
       "      <td>1</td>\n",
       "      <td>0</td>\n",
       "      <td>0</td>\n",
       "    </tr>\n",
       "    <tr>\n",
       "      <td>...</td>\n",
       "      <td>...</td>\n",
       "      <td>...</td>\n",
       "      <td>...</td>\n",
       "      <td>...</td>\n",
       "      <td>...</td>\n",
       "    </tr>\n",
       "    <tr>\n",
       "      <td>OriginGroupRich_Poor</td>\n",
       "      <td>0</td>\n",
       "      <td>0</td>\n",
       "      <td>0</td>\n",
       "      <td>0</td>\n",
       "      <td>0</td>\n",
       "    </tr>\n",
       "    <tr>\n",
       "      <td>OriginGroupRich_Rich</td>\n",
       "      <td>0</td>\n",
       "      <td>0</td>\n",
       "      <td>0</td>\n",
       "      <td>0</td>\n",
       "      <td>0</td>\n",
       "    </tr>\n",
       "    <tr>\n",
       "      <td>OriginGroupRich_USA</td>\n",
       "      <td>1</td>\n",
       "      <td>1</td>\n",
       "      <td>1</td>\n",
       "      <td>1</td>\n",
       "      <td>1</td>\n",
       "    </tr>\n",
       "    <tr>\n",
       "      <td>OriginGroupRich_nan</td>\n",
       "      <td>0</td>\n",
       "      <td>0</td>\n",
       "      <td>0</td>\n",
       "      <td>0</td>\n",
       "      <td>0</td>\n",
       "    </tr>\n",
       "    <tr>\n",
       "      <td>income</td>\n",
       "      <td>&lt;=50K</td>\n",
       "      <td>&lt;=50K</td>\n",
       "      <td>&gt;50K</td>\n",
       "      <td>&gt;50K</td>\n",
       "      <td>&lt;=50K</td>\n",
       "    </tr>\n",
       "  </tbody>\n",
       "</table>\n",
       "<p>61 rows × 5 columns</p>\n",
       "</div>"
      ],
      "text/plain": [
       "                          0      1     2     3      4\n",
       "age                      25     38    28    44     18\n",
       "hours-per-week           40     50    40    40     30\n",
       "isPrivate                 1      1     0     1      0\n",
       "WorkclassGroup            1      1     2     1      0\n",
       "isPublic                  0      0     1     0      0\n",
       "...                     ...    ...   ...   ...    ...\n",
       "OriginGroupRich_Poor      0      0     0     0      0\n",
       "OriginGroupRich_Rich      0      0     0     0      0\n",
       "OriginGroupRich_USA       1      1     1     1      1\n",
       "OriginGroupRich_nan       0      0     0     0      0\n",
       "income                <=50K  <=50K  >50K  >50K  <=50K\n",
       "\n",
       "[61 rows x 5 columns]"
      ]
     },
     "execution_count": 37,
     "metadata": {},
     "output_type": "execute_result"
    }
   ],
   "source": [
    "# agora vamos codificar usando LabelEncoder (alternativa disponível também para OneHotEncoder)\n",
    "\n",
    "# usando LabelEncoder atingimos 79.3% na amostra de teste com precisão, recall e f1 de 80% para as 2 classes\n",
    "\n",
    "#rm.encode(encoder='LabelEncoder')\n",
    "rm.encode(encoder='OneHotEncoder', who='X')\n",
    "rm.M.info()\n",
    "rm.M.head().T"
   ]
  },
  {
   "cell_type": "code",
   "execution_count": 38,
   "metadata": {},
   "outputs": [],
   "source": [
    "# podemos aplicar um rebalanceamento automático aos dados, vamos iniciar sem balanceamento para evitar a perda de dados (0)\n",
    "# ou seja, não vamos balancear\n",
    "\n",
    "# UPDATE: sem balanceamento os modelos atingem 84% de acurácia porém o recall da classe 1 está muito baixo\n",
    "#  em torno de 55% para classe 1 nos melhores classificadores (KNN tunado)\n",
    "# vamos balancear e ver se temos melhor resultado (usando tolerância de 80%)\n",
    "\n",
    "rm.balance(0.8, rm.M, y_cols, ignore_cols)"
   ]
  },
  {
   "cell_type": "code",
   "execution_count": 39,
   "metadata": {
    "scrolled": false
   },
   "outputs": [
    {
     "name": "stdout",
     "output_type": "stream",
     "text": [
      "Column removed (constant value): occupation_nan\n",
      "Column removed (constant value): relationship_nan\n",
      "Column removed (constant value): race_nan\n",
      "Column removed (constant value): gender_nan\n",
      "Column removed (constant value): MaritalGroup_nan\n",
      "Column removed (constant value): OriginGroup_nan\n",
      "Column removed (constant value): OriginGroupRich_nan\n",
      "**************************************************************************************************** \n",
      "*\n",
      "* FEATURE EXTRACTION REPORT \n",
      "*\n",
      "* X:  age | hours-per-week | isPrivate | WorkclassGroup | isPublic | EduGroup | isMgnt | isSales | capital-gainLOG | capital-lossLOG | occupation_? | occupation_Adm-clerical | occupation_Armed-Forces | occupation_Craft-repair | occupation_Exec-managerial | occupation_Farming-fishing | occupation_Handlers-cleaners | occupation_Machine-op-inspct | occupation_Other-service | occupation_Priv-house-serv | occupation_Prof-specialty | occupation_Protective-serv | occupation_Sales | occupation_Tech-support | occupation_Transport-moving | occupation_nan | relationship_Husband | relationship_Not-in-family | relationship_Other-relative | relationship_Own-child | relationship_Unmarried | relationship_Wife | relationship_nan | race_Amer-Indian-Eskimo | race_Asian-Pac-Islander | race_Black | race_Other | race_White | race_nan | gender_Female | gender_Male | gender_nan | MaritalGroup_Casado | MaritalGroup_Descasado | MaritalGroup_Não casado | MaritalGroup_Viúvo | MaritalGroup_nan | OriginGroup_Asia | OriginGroup_Canada | OriginGroup_Europe | OriginGroup_Latam | OriginGroup_Mexico | OriginGroup_Outros | OriginGroup_USA | OriginGroup_nan | OriginGroupRich_Outros | OriginGroupRich_Poor | OriginGroupRich_Rich | OriginGroupRich_USA | OriginGroupRich_nan\n",
      "* y:  income\n",
      "* M:  (23374, 53) | (23374, 1)\n",
      "* \n",
      "****************************************************************************************************\n",
      "\n"
     ]
    },
    {
     "data": {
      "image/png": "[encoded data removed]",
      "text/plain": [
       "<Figure size 936x468 with 1 Axes>"
      ]
     },
     "metadata": {
      "needs_background": "light"
     },
     "output_type": "display_data"
    }
   ],
   "source": [
    "# não vamos subir a ordem dos dados, ou seja, não vamos aplicar transformações polinomiais agora e atualizar a matriz M\n",
    "\n",
    "rm.addTerms(rm.X, rm.y, levels=1, interaction=False, root=False)\n",
    "rm.explore(rm.M, y_cols, ignore_cols, graph=True)"
   ]
  },
  {
   "cell_type": "code",
   "execution_count": 40,
   "metadata": {},
   "outputs": [
    {
     "name": "stdout",
     "output_type": "stream",
     "text": [
      "classification\n"
     ]
    }
   ],
   "source": [
    "# vamos avaliar o tipo de modelagem sugerida pelo algoritmo e validar\n",
    "\n",
    "rm.analyse(y_cols)\n",
    "print(rm.strategy)"
   ]
  },
  {
   "cell_type": "code",
   "execution_count": 43,
   "metadata": {},
   "outputs": [
    {
     "data": {
      "image/png": "[encoded data removed]",
      "text/plain": [
       "<Figure size 432x288 with 1 Axes>"
      ]
     },
     "metadata": {
      "needs_background": "light"
     },
     "output_type": "display_data"
    }
   ],
   "source": [
    "# vamos aplicar uma redução de dimensionalidade por PCA e checar quantas componentes são necessárias para explicar 90% da var\n",
    "# vamos testar primeiro aplicando um scaler MinMax para evitar que algumas features dominem as demais (diferença de ordem)\n",
    "\n",
    "n_components = 35\n",
    "\n",
    "from sklearn.decomposition import PCA\n",
    "from sklearn.preprocessing import MinMaxScaler\n",
    "\n",
    "scaler = MinMaxScaler()\n",
    "scaledX = scaler.fit_transform(rm.X)\n",
    "X_pca = PCA(n_components=n_components).fit(scaledX)\n",
    "\n",
    "plt.plot([i for i in range(1, n_components+1)], np.cumsum(X_pca.explained_variance_ratio_), 'bo-')\n",
    "plt.plot([1, n_components], [0.9, 0.9], 'r-')\n",
    "plt.xlabel('# Componentes')\n",
    "plt.ylabel('Variância Explicada')\n",
    "plt.grid()"
   ]
  },
  {
   "cell_type": "code",
   "execution_count": 44,
   "metadata": {},
   "outputs": [
    {
     "name": "stdout",
     "output_type": "stream",
     "text": [
      "Explained variance (%) 0.8953275555385383\n"
     ]
    },
    {
     "data": {
      "text/html": [
       "<div>\n",
       "<style scoped>\n",
       "    .dataframe tbody tr th:only-of-type {\n",
       "        vertical-align: middle;\n",
       "    }\n",
       "\n",
       "    .dataframe tbody tr th {\n",
       "        vertical-align: top;\n",
       "    }\n",
       "\n",
       "    .dataframe thead th {\n",
       "        text-align: right;\n",
       "    }\n",
       "</style>\n",
       "<table border=\"1\" class=\"dataframe\">\n",
       "  <thead>\n",
       "    <tr style=\"text-align: right;\">\n",
       "      <th></th>\n",
       "      <th>PC_1</th>\n",
       "      <th>PC_2</th>\n",
       "      <th>PC_3</th>\n",
       "      <th>PC_4</th>\n",
       "      <th>PC_5</th>\n",
       "      <th>PC_6</th>\n",
       "      <th>PC_7</th>\n",
       "      <th>PC_8</th>\n",
       "      <th>PC_9</th>\n",
       "      <th>PC_10</th>\n",
       "      <th>...</th>\n",
       "      <th>PC_12</th>\n",
       "      <th>PC_13</th>\n",
       "      <th>PC_14</th>\n",
       "      <th>PC_15</th>\n",
       "      <th>PC_16</th>\n",
       "      <th>PC_17</th>\n",
       "      <th>PC_18</th>\n",
       "      <th>PC_19</th>\n",
       "      <th>PC_20</th>\n",
       "      <th>income</th>\n",
       "    </tr>\n",
       "  </thead>\n",
       "  <tbody>\n",
       "    <tr>\n",
       "      <td>0</td>\n",
       "      <td>0.641594</td>\n",
       "      <td>-0.171890</td>\n",
       "      <td>-0.675459</td>\n",
       "      <td>-0.805639</td>\n",
       "      <td>0.011131</td>\n",
       "      <td>-0.074785</td>\n",
       "      <td>-0.844680</td>\n",
       "      <td>0.178241</td>\n",
       "      <td>-0.285954</td>\n",
       "      <td>0.485882</td>\n",
       "      <td>...</td>\n",
       "      <td>0.481330</td>\n",
       "      <td>0.369441</td>\n",
       "      <td>-0.490047</td>\n",
       "      <td>-0.652680</td>\n",
       "      <td>0.295101</td>\n",
       "      <td>-0.202925</td>\n",
       "      <td>0.061509</td>\n",
       "      <td>-0.283534</td>\n",
       "      <td>-0.015020</td>\n",
       "      <td>&lt;=50K</td>\n",
       "    </tr>\n",
       "    <tr>\n",
       "      <td>1</td>\n",
       "      <td>1.077744</td>\n",
       "      <td>1.401962</td>\n",
       "      <td>-0.378367</td>\n",
       "      <td>0.391559</td>\n",
       "      <td>-0.288317</td>\n",
       "      <td>-0.237653</td>\n",
       "      <td>0.658340</td>\n",
       "      <td>-0.121989</td>\n",
       "      <td>0.141372</td>\n",
       "      <td>1.038563</td>\n",
       "      <td>...</td>\n",
       "      <td>-0.319478</td>\n",
       "      <td>-0.135160</td>\n",
       "      <td>0.473492</td>\n",
       "      <td>-0.269177</td>\n",
       "      <td>0.335088</td>\n",
       "      <td>0.110429</td>\n",
       "      <td>-0.101877</td>\n",
       "      <td>-0.006434</td>\n",
       "      <td>0.065855</td>\n",
       "      <td>&lt;=50K</td>\n",
       "    </tr>\n",
       "    <tr>\n",
       "      <td>2</td>\n",
       "      <td>1.423864</td>\n",
       "      <td>-0.623006</td>\n",
       "      <td>-0.138017</td>\n",
       "      <td>0.294171</td>\n",
       "      <td>-0.695101</td>\n",
       "      <td>1.001707</td>\n",
       "      <td>-0.869505</td>\n",
       "      <td>-0.147141</td>\n",
       "      <td>-0.061626</td>\n",
       "      <td>0.308591</td>\n",
       "      <td>...</td>\n",
       "      <td>-0.199678</td>\n",
       "      <td>-0.163244</td>\n",
       "      <td>-0.064156</td>\n",
       "      <td>-0.122082</td>\n",
       "      <td>-0.008328</td>\n",
       "      <td>-0.155220</td>\n",
       "      <td>0.007044</td>\n",
       "      <td>0.370486</td>\n",
       "      <td>-0.081831</td>\n",
       "      <td>&lt;=50K</td>\n",
       "    </tr>\n",
       "    <tr>\n",
       "      <td>3</td>\n",
       "      <td>1.599565</td>\n",
       "      <td>-0.264151</td>\n",
       "      <td>-0.010912</td>\n",
       "      <td>0.500582</td>\n",
       "      <td>1.762278</td>\n",
       "      <td>0.432116</td>\n",
       "      <td>0.004912</td>\n",
       "      <td>-0.421040</td>\n",
       "      <td>0.156678</td>\n",
       "      <td>-0.683612</td>\n",
       "      <td>...</td>\n",
       "      <td>-0.028999</td>\n",
       "      <td>-0.054329</td>\n",
       "      <td>-0.103964</td>\n",
       "      <td>0.007593</td>\n",
       "      <td>0.224063</td>\n",
       "      <td>-0.349602</td>\n",
       "      <td>-0.944646</td>\n",
       "      <td>0.145134</td>\n",
       "      <td>0.139090</td>\n",
       "      <td>&lt;=50K</td>\n",
       "    </tr>\n",
       "    <tr>\n",
       "      <td>4</td>\n",
       "      <td>1.378532</td>\n",
       "      <td>0.300525</td>\n",
       "      <td>-0.334052</td>\n",
       "      <td>-0.053121</td>\n",
       "      <td>-0.223878</td>\n",
       "      <td>-0.049460</td>\n",
       "      <td>-1.070927</td>\n",
       "      <td>0.064404</td>\n",
       "      <td>-0.380669</td>\n",
       "      <td>0.279053</td>\n",
       "      <td>...</td>\n",
       "      <td>0.474379</td>\n",
       "      <td>0.271276</td>\n",
       "      <td>-0.418968</td>\n",
       "      <td>-0.543765</td>\n",
       "      <td>0.529172</td>\n",
       "      <td>-0.445338</td>\n",
       "      <td>0.026615</td>\n",
       "      <td>0.110287</td>\n",
       "      <td>-0.024444</td>\n",
       "      <td>&lt;=50K</td>\n",
       "    </tr>\n",
       "    <tr>\n",
       "      <td>...</td>\n",
       "      <td>...</td>\n",
       "      <td>...</td>\n",
       "      <td>...</td>\n",
       "      <td>...</td>\n",
       "      <td>...</td>\n",
       "      <td>...</td>\n",
       "      <td>...</td>\n",
       "      <td>...</td>\n",
       "      <td>...</td>\n",
       "      <td>...</td>\n",
       "      <td>...</td>\n",
       "      <td>...</td>\n",
       "      <td>...</td>\n",
       "      <td>...</td>\n",
       "      <td>...</td>\n",
       "      <td>...</td>\n",
       "      <td>...</td>\n",
       "      <td>...</td>\n",
       "      <td>...</td>\n",
       "      <td>...</td>\n",
       "      <td>...</td>\n",
       "    </tr>\n",
       "    <tr>\n",
       "      <td>23369</td>\n",
       "      <td>1.534814</td>\n",
       "      <td>0.016503</td>\n",
       "      <td>-0.098454</td>\n",
       "      <td>0.053370</td>\n",
       "      <td>0.128353</td>\n",
       "      <td>-0.315929</td>\n",
       "      <td>0.027649</td>\n",
       "      <td>-0.787501</td>\n",
       "      <td>0.960483</td>\n",
       "      <td>-0.459275</td>\n",
       "      <td>...</td>\n",
       "      <td>-0.085652</td>\n",
       "      <td>0.344397</td>\n",
       "      <td>0.494035</td>\n",
       "      <td>-0.117810</td>\n",
       "      <td>0.216574</td>\n",
       "      <td>-0.148414</td>\n",
       "      <td>-0.182826</td>\n",
       "      <td>0.216751</td>\n",
       "      <td>0.096459</td>\n",
       "      <td>&gt;50K</td>\n",
       "    </tr>\n",
       "    <tr>\n",
       "      <td>23370</td>\n",
       "      <td>-0.739108</td>\n",
       "      <td>-0.486642</td>\n",
       "      <td>0.047977</td>\n",
       "      <td>0.175610</td>\n",
       "      <td>-0.150076</td>\n",
       "      <td>-0.290150</td>\n",
       "      <td>-0.025221</td>\n",
       "      <td>0.080418</td>\n",
       "      <td>-0.052198</td>\n",
       "      <td>-0.012255</td>\n",
       "      <td>...</td>\n",
       "      <td>0.197852</td>\n",
       "      <td>0.217393</td>\n",
       "      <td>0.523359</td>\n",
       "      <td>-0.336637</td>\n",
       "      <td>-0.032859</td>\n",
       "      <td>0.118049</td>\n",
       "      <td>-0.063273</td>\n",
       "      <td>0.035715</td>\n",
       "      <td>-0.002059</td>\n",
       "      <td>&gt;50K</td>\n",
       "    </tr>\n",
       "    <tr>\n",
       "      <td>23371</td>\n",
       "      <td>-0.901451</td>\n",
       "      <td>0.552230</td>\n",
       "      <td>-0.686043</td>\n",
       "      <td>-0.143386</td>\n",
       "      <td>-0.096539</td>\n",
       "      <td>-0.266251</td>\n",
       "      <td>-0.065999</td>\n",
       "      <td>0.517663</td>\n",
       "      <td>-0.445729</td>\n",
       "      <td>-0.260483</td>\n",
       "      <td>...</td>\n",
       "      <td>-0.481983</td>\n",
       "      <td>-0.514087</td>\n",
       "      <td>0.049556</td>\n",
       "      <td>-0.140185</td>\n",
       "      <td>0.069245</td>\n",
       "      <td>0.008922</td>\n",
       "      <td>-0.037617</td>\n",
       "      <td>0.076423</td>\n",
       "      <td>-0.046419</td>\n",
       "      <td>&gt;50K</td>\n",
       "    </tr>\n",
       "    <tr>\n",
       "      <td>23372</td>\n",
       "      <td>-0.781107</td>\n",
       "      <td>-0.667716</td>\n",
       "      <td>-0.113108</td>\n",
       "      <td>0.331958</td>\n",
       "      <td>-0.640199</td>\n",
       "      <td>0.940213</td>\n",
       "      <td>0.108638</td>\n",
       "      <td>-0.165156</td>\n",
       "      <td>0.196321</td>\n",
       "      <td>0.018838</td>\n",
       "      <td>...</td>\n",
       "      <td>-0.092727</td>\n",
       "      <td>-0.240029</td>\n",
       "      <td>-0.328426</td>\n",
       "      <td>0.105065</td>\n",
       "      <td>0.068467</td>\n",
       "      <td>-0.107494</td>\n",
       "      <td>0.049986</td>\n",
       "      <td>-0.204353</td>\n",
       "      <td>0.649919</td>\n",
       "      <td>&gt;50K</td>\n",
       "    </tr>\n",
       "    <tr>\n",
       "      <td>23373</td>\n",
       "      <td>-0.792668</td>\n",
       "      <td>0.660630</td>\n",
       "      <td>-0.782753</td>\n",
       "      <td>0.430349</td>\n",
       "      <td>1.876016</td>\n",
       "      <td>0.567445</td>\n",
       "      <td>-0.045470</td>\n",
       "      <td>0.286493</td>\n",
       "      <td>0.045971</td>\n",
       "      <td>-0.114345</td>\n",
       "      <td>...</td>\n",
       "      <td>-0.102638</td>\n",
       "      <td>-0.295346</td>\n",
       "      <td>-0.106719</td>\n",
       "      <td>-0.196477</td>\n",
       "      <td>-0.163322</td>\n",
       "      <td>-0.135952</td>\n",
       "      <td>-0.885729</td>\n",
       "      <td>0.041817</td>\n",
       "      <td>-0.052347</td>\n",
       "      <td>&gt;50K</td>\n",
       "    </tr>\n",
       "  </tbody>\n",
       "</table>\n",
       "<p>23374 rows × 21 columns</p>\n",
       "</div>"
      ],
      "text/plain": [
       "           PC_1      PC_2      PC_3      PC_4      PC_5      PC_6      PC_7  \\\n",
       "0      0.641594 -0.171890 -0.675459 -0.805639  0.011131 -0.074785 -0.844680   \n",
       "1      1.077744  1.401962 -0.378367  0.391559 -0.288317 -0.237653  0.658340   \n",
       "2      1.423864 -0.623006 -0.138017  0.294171 -0.695101  1.001707 -0.869505   \n",
       "3      1.599565 -0.264151 -0.010912  0.500582  1.762278  0.432116  0.004912   \n",
       "4      1.378532  0.300525 -0.334052 -0.053121 -0.223878 -0.049460 -1.070927   \n",
       "...         ...       ...       ...       ...       ...       ...       ...   \n",
       "23369  1.534814  0.016503 -0.098454  0.053370  0.128353 -0.315929  0.027649   \n",
       "23370 -0.739108 -0.486642  0.047977  0.175610 -0.150076 -0.290150 -0.025221   \n",
       "23371 -0.901451  0.552230 -0.686043 -0.143386 -0.096539 -0.266251 -0.065999   \n",
       "23372 -0.781107 -0.667716 -0.113108  0.331958 -0.640199  0.940213  0.108638   \n",
       "23373 -0.792668  0.660630 -0.782753  0.430349  1.876016  0.567445 -0.045470   \n",
       "\n",
       "           PC_8      PC_9     PC_10  ...     PC_12     PC_13     PC_14  \\\n",
       "0      0.178241 -0.285954  0.485882  ...  0.481330  0.369441 -0.490047   \n",
       "1     -0.121989  0.141372  1.038563  ... -0.319478 -0.135160  0.473492   \n",
       "2     -0.147141 -0.061626  0.308591  ... -0.199678 -0.163244 -0.064156   \n",
       "3     -0.421040  0.156678 -0.683612  ... -0.028999 -0.054329 -0.103964   \n",
       "4      0.064404 -0.380669  0.279053  ...  0.474379  0.271276 -0.418968   \n",
       "...         ...       ...       ...  ...       ...       ...       ...   \n",
       "23369 -0.787501  0.960483 -0.459275  ... -0.085652  0.344397  0.494035   \n",
       "23370  0.080418 -0.052198 -0.012255  ...  0.197852  0.217393  0.523359   \n",
       "23371  0.517663 -0.445729 -0.260483  ... -0.481983 -0.514087  0.049556   \n",
       "23372 -0.165156  0.196321  0.018838  ... -0.092727 -0.240029 -0.328426   \n",
       "23373  0.286493  0.045971 -0.114345  ... -0.102638 -0.295346 -0.106719   \n",
       "\n",
       "          PC_15     PC_16     PC_17     PC_18     PC_19     PC_20  income  \n",
       "0     -0.652680  0.295101 -0.202925  0.061509 -0.283534 -0.015020   <=50K  \n",
       "1     -0.269177  0.335088  0.110429 -0.101877 -0.006434  0.065855   <=50K  \n",
       "2     -0.122082 -0.008328 -0.155220  0.007044  0.370486 -0.081831   <=50K  \n",
       "3      0.007593  0.224063 -0.349602 -0.944646  0.145134  0.139090   <=50K  \n",
       "4     -0.543765  0.529172 -0.445338  0.026615  0.110287 -0.024444   <=50K  \n",
       "...         ...       ...       ...       ...       ...       ...     ...  \n",
       "23369 -0.117810  0.216574 -0.148414 -0.182826  0.216751  0.096459    >50K  \n",
       "23370 -0.336637 -0.032859  0.118049 -0.063273  0.035715 -0.002059    >50K  \n",
       "23371 -0.140185  0.069245  0.008922 -0.037617  0.076423 -0.046419    >50K  \n",
       "23372  0.105065  0.068467 -0.107494  0.049986 -0.204353  0.649919    >50K  \n",
       "23373 -0.196477 -0.163322 -0.135952 -0.885729  0.041817 -0.052347    >50K  \n",
       "\n",
       "[23374 rows x 21 columns]"
      ]
     },
     "execution_count": 44,
     "metadata": {},
     "output_type": "execute_result"
    }
   ],
   "source": [
    "ncomponents = 20\n",
    "\n",
    "rm.redux(k=ncomponents, mode='pca', transform='MinMax')\n",
    "print('Explained variance (%)', rm.scalerX_pca.explained_variance_ratio_.sum())\n",
    " \n",
    "rm.M"
   ]
  },
  {
   "cell_type": "code",
   "execution_count": 45,
   "metadata": {},
   "outputs": [
    {
     "name": "stdout",
     "output_type": "stream",
     "text": [
      "\n",
      "\n",
      "**************************************************************************************************** \n",
      "*\n",
      "* CLASSIFICATION RESULTS - BEFORE PARAMETERS BOOSTING \n",
      "*\n",
      "**************************************************************************************************** \n",
      "                                    Model  Elapsed Time  Score (avg)  \\\n",
      "0                     Logistic classifier      0.517617     0.799095   \n",
      "1                        Ridge classifier      0.384970     0.796528   \n",
      "2            Linear discriminant analysis      0.583408     0.795244   \n",
      "3                          SGD classifier      0.505620     0.793106   \n",
      "4      K nearest neighbors classifier K10      1.240655     0.788399   \n",
      "5       K nearest neighbors classifier K5      1.060166     0.782043   \n",
      "6                    Gaussian naive bayes      0.255317     0.759672   \n",
      "7                   Bernoulli naive bayes      0.376992     0.756555   \n",
      "8   Nearest centroid classifier euclidian      0.169547     0.749405   \n",
      "9                Decision tree classifier      3.665203     0.743597   \n",
      "10      K nearest neighbors classifier K2      0.889649     0.741458   \n",
      "11  Nearest centroid classifier manhattan      0.212432     0.732717   \n",
      "12                Multinomial naive bayes      0.324163          NaN   \n",
      "\n",
      "    Score (std)  Score (VC)  \n",
      "0      0.010965    1.372210  \n",
      "1      0.011408    1.432209  \n",
      "2      0.006844    0.860563  \n",
      "3      0.005933    0.748107  \n",
      "4      0.008654    1.097660  \n",
      "5      0.008532    1.091030  \n",
      "6      0.007890    1.038548  \n",
      "7      0.011639    1.538439  \n",
      "8      0.006927    0.924334  \n",
      "9      0.009230    1.241316  \n",
      "10     0.008966    1.209240  \n",
      "11     0.009796    1.336976  \n",
      "12          NaN         NaN  \n",
      "\n",
      "\n"
     ]
    },
    {
     "data": {
      "image/png": "[encoded data removed]",
      "text/plain": [
       "<Figure size 936x468 with 1 Axes>"
      ]
     },
     "metadata": {
      "needs_background": "light"
     },
     "output_type": "display_data"
    }
   ],
   "source": [
    "# vamos definir um range de alphas requerido por alguns modelos, aplicar o algoritmo e avaliar qual tem melhor desempenho\n",
    "\n",
    "alphas = 10 ** np.linspace(10, -2, 100) * 0.5\n",
    "rm.evaluate(test_size=0.3, transformX='None', transformY='None', folds=10, alphas=alphas, graph=True)"
   ]
  },
  {
   "cell_type": "code",
   "execution_count": 46,
   "metadata": {},
   "outputs": [
    {
     "name": "stdout",
     "output_type": "stream",
     "text": [
      "K 2 metric euclidean time 0.0827779769897461\n",
      "K 5 metric euclidean time 0.10671496391296387\n",
      "K 8 metric euclidean time 0.1326448917388916\n",
      "K 12 metric euclidean time 0.13862919807434082\n",
      "K 16 metric euclidean time 0.14361572265625\n",
      "K 20 metric euclidean time 0.17253875732421875\n",
      "K 30 metric euclidean time 0.21143484115600586\n",
      "K 40 metric euclidean time 0.25232553482055664\n",
      "K 80 metric euclidean time 0.4497976303100586\n",
      "K 160 metric euclidean time 0.7579739093780518\n",
      "K 2 metric manhattan time 0.09075760841369629\n",
      "K 5 metric manhattan time 0.11968016624450684\n",
      "K 8 metric manhattan time 0.13463997840881348\n",
      "K 12 metric manhattan time 0.16356277465820312\n",
      "K 16 metric manhattan time 0.17353606224060059\n",
      "K 20 metric manhattan time 0.1874983310699463\n",
      "K 30 metric manhattan time 0.21342921257019043\n",
      "K 40 metric manhattan time 0.26329612731933594\n",
      "K 80 metric manhattan time 0.4547841548919678\n",
      "K 160 metric manhattan time 0.7240638732910156\n",
      "K 2 metric cityblock time 0.09175539016723633\n",
      "K 5 metric cityblock time 0.11967992782592773\n",
      "K 8 metric cityblock time 0.14162111282348633\n",
      "K 12 metric cityblock time 0.14561080932617188\n",
      "K 16 metric cityblock time 0.16456031799316406\n",
      "K 20 metric cityblock time 0.18450665473937988\n",
      "K 30 metric cityblock time 0.2154240608215332\n",
      "K 40 metric cityblock time 0.256314754486084\n",
      "K 80 metric cityblock time 0.4438138008117676\n",
      "K 160 metric cityblock time 0.7350354194641113\n",
      "K 2 metric minkowski time 1.2965664863586426\n",
      "K 5 metric minkowski time 1.323458194732666\n",
      "K 8 metric minkowski time 1.3393914699554443\n",
      "K 12 metric minkowski time 1.374326467514038\n",
      "K 16 metric minkowski time 1.3783433437347412\n",
      "K 20 metric minkowski time 1.3892936706542969\n",
      "K 30 metric minkowski time 1.4182045459747314\n",
      "K 40 metric minkowski time 1.473067045211792\n",
      "K 80 metric minkowski time 1.6495580673217773\n",
      "K 160 metric minkowski time 1.9338300228118896\n"
     ]
    },
    {
     "data": {
      "image/png": "[encoded data removed]",
      "text/plain": [
       "<Figure size 432x288 with 1 Axes>"
      ]
     },
     "metadata": {
      "needs_background": "light"
     },
     "output_type": "display_data"
    }
   ],
   "source": [
    "# os algoritmos por KNN, logistic, ridge e LDA apresentaram desempenhos muito semelhantes, em torno de 80%\n",
    "# todos com boa performance (abaixo de 1 segundo para 10 folds e coeeficiente de variação abaixo de 2%)\n",
    "\n",
    "# para otimizar o KNN, vamos entender melhor a relação entre o valor de K e o discernimento dos dados\n",
    "\n",
    "from sklearn.cluster import KMeans\n",
    "from sklearn.metrics import silhouette_score\n",
    "import time\n",
    "\n",
    "sample = rm.X.sample(2000) # vamos amostrar um conjunto menor de dados para acelerar o processo de análise\n",
    "\n",
    "metrics = ['euclidean', 'manhattan', 'cityblock', 'minkowski']\n",
    "for metric in metrics:\n",
    "    silhouette = []\n",
    "    K = [2, 5, 8, 12, 16, 20, 30, 40, 80, 160]\n",
    "    for k in K:\n",
    "        t0 = time.time()\n",
    "        kmeanModel = KMeans(n_clusters=k).fit(sample)\n",
    "        silhouette.append(silhouette_score(sample, kmeanModel.labels_, metric=metric))\n",
    "        print('K',k,'metric',metric,'time',time.time()-t0)\n",
    "    plt.plot(K, silhouette, 'x-', label=metric)\n",
    "    \n",
    "plt.xlabel('k')\n",
    "plt.ylabel('Silhouette')\n",
    "plt.title('The Elbow Method showing the optimal k')\n",
    "plt.legend()\n",
    "plt.show()"
   ]
  },
  {
   "cell_type": "code",
   "execution_count": 50,
   "metadata": {},
   "outputs": [
    {
     "name": "stdout",
     "output_type": "stream",
     "text": [
      "Available hyper-parameters ['algorithm', 'leaf_size', 'metric', 'metric_params', 'n_jobs', 'n_neighbors', 'p', 'weights']\n",
      "[{'clf__n_jobs': [-1], 'clf__n_neighbors': [40], 'clf__weights': ['uniform', 'distance'], 'clf__metric': ['euclidean', 'manhattan', 'cityblock', 'minkowski'], 'clf__p': [1, 2]}] \n",
      "\n",
      "**************************************************************************************************** \n",
      "*\n",
      "* HYPER-PARAMETER TUNING REPORT\n",
      "*\n",
      "* SCORING METHOD: accuracy\n",
      "* BEST SCORE: 79.2 %\n",
      "* BEST PARAMS: {'clf__metric': 'euclidean', 'clf__n_jobs': -1, 'clf__n_neighbors': 40, 'clf__p': 1, 'clf__weights': 'uniform'}\n",
      "*\n",
      " ****************************************************************************************************\n",
      "Pipeline(memory=None,\n",
      "         steps=[('scl', None),\n",
      "                ('clf',\n",
      "                 KNeighborsClassifier(algorithm='auto', leaf_size=30,\n",
      "                                      metric='euclidean', metric_params=None,\n",
      "                                      n_jobs=-1, n_neighbors=40, p=1,\n",
      "                                      weights='uniform'))],\n",
      "         verbose=False)\n",
      "\n",
      "\n",
      "**************************************************************************************************** \n",
      "*\n",
      "* MODEL PERFORMANCE \n",
      "*\n",
      "* MODEL NAME:  K nearest neighbors classifier K10\n",
      "* TEST SAMPLE SIZE:  7013\n",
      "* ACCURACY:  79.6 %\n",
      "* \n",
      "**************************************************************************************************** \n",
      "\n"
     ]
    },
    {
     "data": {
      "image/png": "[encoded data removed]",
      "text/plain": [
       "<Figure size 936x280.8 with 2 Axes>"
      ]
     },
     "metadata": {
      "needs_background": "light"
     },
     "output_type": "display_data"
    },
    {
     "data": {
      "image/png": "[encoded data removed]",
      "text/plain": [
       "<Figure size 936x468 with 2 Axes>"
      ]
     },
     "metadata": {
      "needs_background": "light"
     },
     "output_type": "display_data"
    },
    {
     "data": {
      "text/plain": [
       "'Accuracy: 79.6%'"
      ]
     },
     "execution_count": 50,
     "metadata": {},
     "output_type": "execute_result"
    }
   ],
   "source": [
    "# finalmente vamos aplicar um gridsearch para tunar os hiper parâmetros\n",
    "\n",
    "#rm.optimize(str(rm.report_performance.Model.iloc[0]), graph=graph, xy=xy, fixed=fixed)\n",
    "rm.optimize('K nearest neighbors classifier K10', graph=True, xy=(0, 1), fixed={'k': 40})"
   ]
  },
  {
   "cell_type": "code",
   "execution_count": 48,
   "metadata": {},
   "outputs": [
    {
     "name": "stdout",
     "output_type": "stream",
     "text": [
      "Available hyper-parameters ['n_components', 'priors', 'shrinkage', 'solver', 'store_covariance', 'tol']\n",
      "[{'clf__shrinkage': array([0.        , 0.11111111, 0.22222222, 0.33333333, 0.44444444,\n",
      "       0.55555556, 0.66666667, 0.77777778, 0.88888889, 1.        ]), 'clf__solver': ['svd', 'lsqr', 'eigen'], 'clf__n_components': [2, 3, 5, 10]}] \n",
      "\n",
      "**************************************************************************************************** \n",
      "*\n",
      "* HYPER-PARAMETER TUNING REPORT\n",
      "*\n",
      "* SCORING METHOD: accuracy\n",
      "* BEST SCORE: 79.3 %\n",
      "* BEST PARAMS: {'clf__n_components': 2, 'clf__shrinkage': 0.0, 'clf__solver': 'lsqr'}\n",
      "*\n",
      " ****************************************************************************************************\n",
      "Pipeline(memory=None,\n",
      "         steps=[('scl', None),\n",
      "                ('clf',\n",
      "                 LinearDiscriminantAnalysis(n_components=2, priors=None,\n",
      "                                            shrinkage=0.0, solver='lsqr',\n",
      "                                            store_covariance=False,\n",
      "                                            tol=0.0001))],\n",
      "         verbose=False)\n",
      "\n",
      "\n",
      "**************************************************************************************************** \n",
      "*\n",
      "* MODEL PERFORMANCE \n",
      "*\n",
      "* MODEL NAME:  Linear discriminant analysis\n",
      "* TEST SAMPLE SIZE:  7013\n",
      "* ACCURACY:  79.5 %\n",
      "* \n",
      "**************************************************************************************************** \n",
      "\n"
     ]
    },
    {
     "data": {
      "image/png": "[encoded data removed]",
      "text/plain": [
       "<Figure size 936x280.8 with 2 Axes>"
      ]
     },
     "metadata": {
      "needs_background": "light"
     },
     "output_type": "display_data"
    },
    {
     "data": {
      "image/png": "[encoded data removed]",
      "text/plain": [
       "<Figure size 936x468 with 2 Axes>"
      ]
     },
     "metadata": {
      "needs_background": "light"
     },
     "output_type": "display_data"
    },
    {
     "data": {
      "text/plain": [
       "'Accuracy: 79.5%'"
      ]
     },
     "execution_count": 48,
     "metadata": {},
     "output_type": "execute_result"
    }
   ],
   "source": [
    "# finalmente vamos aplicar um gridsearch para tunar os hiper parâmetros\n",
    "\n",
    "#rm.optimize(str(rm.report_performance.Model.iloc[0]), graph=graph, xy=xy, fixed=fixed)\n",
    "rm.optimize('Linear discriminant analysis', graph=True, xy=(0, 1), fixed={})"
   ]
  },
  {
   "cell_type": "code",
   "execution_count": 49,
   "metadata": {},
   "outputs": [
    {
     "name": "stdout",
     "output_type": "stream",
     "text": [
      "Available hyper-parameters ['C', 'class_weight', 'dual', 'fit_intercept', 'intercept_scaling', 'l1_ratio', 'max_iter', 'multi_class', 'n_jobs', 'penalty', 'random_state', 'solver', 'tol', 'verbose', 'warm_start']\n",
      "[{'clf__n_jobs': [-1], 'clf__C': [1, 10, 100, 1000], 'clf__penalty': ['l1', 'l2', 'elasticnet', 'none'], 'clf__multi_class': ['auto', 'ovr', 'multinomial']}] \n",
      "\n",
      "**************************************************************************************************** \n",
      "*\n",
      "* HYPER-PARAMETER TUNING REPORT\n",
      "*\n",
      "* SCORING METHOD: accuracy\n",
      "* BEST SCORE: 80.0 %\n",
      "* BEST PARAMS: {'clf__C': 1, 'clf__multi_class': 'auto', 'clf__n_jobs': -1, 'clf__penalty': 'l1'}\n",
      "*\n",
      " ****************************************************************************************************\n",
      "Pipeline(memory=None,\n",
      "         steps=[('scl', None),\n",
      "                ('clf',\n",
      "                 LogisticRegression(C=1, class_weight=None, dual=False,\n",
      "                                    fit_intercept=True, intercept_scaling=1,\n",
      "                                    l1_ratio=None, max_iter=2000,\n",
      "                                    multi_class='auto', n_jobs=-1, penalty='l1',\n",
      "                                    random_state=None, solver='warn',\n",
      "                                    tol=0.0001, verbose=0, warm_start=False))],\n",
      "         verbose=False)\n",
      "\n",
      "\n",
      "**************************************************************************************************** \n",
      "*\n",
      "* MODEL PERFORMANCE \n",
      "*\n",
      "* MODEL NAME:  Logistic classifier\n",
      "* TEST SAMPLE SIZE:  7013\n",
      "* ACCURACY:  79.9 %\n",
      "* \n",
      "**************************************************************************************************** \n",
      "\n"
     ]
    },
    {
     "data": {
      "image/png": "[encoded data removed]",
      "text/plain": [
       "<Figure size 936x280.8 with 2 Axes>"
      ]
     },
     "metadata": {
      "needs_background": "light"
     },
     "output_type": "display_data"
    },
    {
     "data": {
      "image/png": "[encoded data removed]",
      "text/plain": [
       "<Figure size 936x468 with 2 Axes>"
      ]
     },
     "metadata": {
      "needs_background": "light"
     },
     "output_type": "display_data"
    },
    {
     "data": {
      "text/plain": [
       "'Accuracy: 79.9%'"
      ]
     },
     "execution_count": 49,
     "metadata": {},
     "output_type": "execute_result"
    }
   ],
   "source": [
    "# finalmente vamos aplicar um gridsearch para tunar os hiper parâmetros\n",
    "\n",
    "#rm.optimize(str(rm.report_performance.Model.iloc[0]), graph=graph, xy=xy, fixed=fixed)\n",
    "rm.optimize('Logistic classifier', graph=True, xy=(0, 1), fixed={})"
   ]
  },
  {
   "cell_type": "markdown",
   "metadata": {},
   "source": [
    "# Conclusões\n",
    "\n",
    "* o balanceamento reduziu o tamanho do dataset em +50% e a acurácia geral de 84 para 80% \n",
    "* positivamente, o modelo ficou mais equilibrado, subindo o recall para a classe 1 de 55 para 80%\n",
    "* o modelo final obtido é bastante estável e robusto, com excelente repetibilidade entre diferentes runs\n",
    "* o modelo final obtido também é muito equilibrado em precisão e recall para as 2 classes, f1-score de 80%\n",
    "* todos os 3 algoritmos testados apresentam desempenhos semelhantes, sendo KNN o mais equilibrado e acurado\n",
    "* não foi observada diferença de performance quando usando LabelEncoder ou OneHotEncoder\n",
    "\n",
    "# Resultado Final\n",
    "* **Algoritmo:** KNN (neighbors=40, metric=euclidean, weights=uniform)\n",
    "* **Acurácia:** 80%\n",
    "* **Precisão:** 80%\n",
    "* **Recall:** 80%\n",
    "* **F1-score:** 80%"
   ]
  },
  {
   "cell_type": "code",
   "execution_count": null,
   "metadata": {},
   "outputs": [],
   "source": []
  }
 ],
 "metadata": {
  "kernelspec": {
   "display_name": "Python 3",
   "language": "python",
   "name": "python3"
  },
  "language_info": {
   "codemirror_mode": {
    "name": "ipython",
    "version": 3
   },
   "file_extension": ".py",
   "mimetype": "text/x-python",
   "name": "python",
   "nbconvert_exporter": "python",
   "pygments_lexer": "ipython3",
   "version": "3.7.1"
  }
 },
 "nbformat": 4,
 "nbformat_minor": 2
}
