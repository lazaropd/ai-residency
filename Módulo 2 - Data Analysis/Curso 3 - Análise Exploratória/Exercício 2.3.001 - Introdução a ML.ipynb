{
 "cells": [
  {
   "cell_type": "markdown",
   "metadata": {},
   "source": [
    "# Exercício\n",
    "\n",
    "1. Utilize a base College.csv  \n",
    "2. Separe 5 colunas de características( Ao menos uma categorica) e uma coluna alvo\n",
    "3. Separe uma coluna alvo ( objetivo da predição)\n",
    "4. Transforme os valores categoricos para números\n",
    "5. Escolha para a base de treino 85% (tanto para colunas características quanto para colunas alvo) e o restante para teste\n",
    "6. Verifique se a quantidade de valores nas colunas categoricas estão balanceados nas bases de treino e teste\n",
    "7. Altere a escala das colunas usando StandardScaler"
   ]
  },
  {
   "cell_type": "code",
   "execution_count": null,
   "metadata": {},
   "outputs": [],
   "source": []
  }
 ],
 "metadata": {
  "kernelspec": {
   "display_name": "Python 3",
   "language": "python",
   "name": "python3"
  },
  "language_info": {
   "codemirror_mode": {
    "name": "ipython",
    "version": 3
   },
   "file_extension": ".py",
   "mimetype": "text/x-python",
   "name": "python",
   "nbconvert_exporter": "python",
   "pygments_lexer": "ipython3",
   "version": "3.7.5"
  }
 },
 "nbformat": 4,
 "nbformat_minor": 2
}
