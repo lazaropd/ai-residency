{
 "cells": [
  {
   "cell_type": "markdown",
   "metadata": {},
   "source": [
    "# Exercício\n",
    "\n",
    "1. Utilize a base College.csv  \n",
    "2. Separe 5 colunas de características( Ao menos uma categorica) e uma coluna alvo\n",
    "3. Separe uma coluna alvo ( objetivo da predição)\n",
    "4. Transforme os valores categoricos para números\n",
    "5. Escolha para a base de treino 85% (tanto para colunas características quanto para colunas alvo) e o restante para teste\n",
    "6. Verifique se a quantidade de valores nas colunas categoricas estão balanceados nas bases de treino e teste\n",
    "7. Altere a escala das colunas usando StandardScaler"
   ]
  },
  {
   "cell_type": "code",
   "execution_count": 4,
   "metadata": {},
   "outputs": [],
   "source": [
    "import pandas as pd\n",
    "import numpy as np\n",
    "import matplotlib.pyplot as plt\n",
    "\n",
    "url = 'dataset/College.csv'"
   ]
  },
  {
   "cell_type": "code",
   "execution_count": 15,
   "metadata": {},
   "outputs": [],
   "source": [
    "# bibliotecas de machine learning\n",
    "\n",
    "#Scikit- Learn\n",
    "from sklearn import preprocessing\n",
    "from sklearn.preprocessing import MinMaxScaler\n",
    "from sklearn.preprocessing import MaxAbsScaler\n",
    "from sklearn.preprocessing import StandardScaler\n",
    "from sklearn.preprocessing import Binarizer\n",
    "from sklearn.preprocessing import Normalizer\n",
    "\n",
    "from sklearn.preprocessing import LabelEncoder\n",
    "\n",
    "from sklearn.model_selection import train_test_split\n",
    "\n",
    "from sklearn.impute import SimpleImputer"
   ]
  },
  {
   "cell_type": "code",
   "execution_count": 7,
   "metadata": {},
   "outputs": [
    {
     "data": {
      "text/html": [
       "<div>\n",
       "<style scoped>\n",
       "    .dataframe tbody tr th:only-of-type {\n",
       "        vertical-align: middle;\n",
       "    }\n",
       "\n",
       "    .dataframe tbody tr th {\n",
       "        vertical-align: top;\n",
       "    }\n",
       "\n",
       "    .dataframe thead th {\n",
       "        text-align: right;\n",
       "    }\n",
       "</style>\n",
       "<table border=\"1\" class=\"dataframe\">\n",
       "  <thead>\n",
       "    <tr style=\"text-align: right;\">\n",
       "      <th></th>\n",
       "      <th>545</th>\n",
       "      <th>59</th>\n",
       "      <th>613</th>\n",
       "      <th>740</th>\n",
       "      <th>480</th>\n",
       "    </tr>\n",
       "  </thead>\n",
       "  <tbody>\n",
       "    <tr>\n",
       "      <th>Unnamed: 0</th>\n",
       "      <td>St. John's College</td>\n",
       "      <td>Boston University</td>\n",
       "      <td>University of Dayton</td>\n",
       "      <td>West Virginia Wesleyan College</td>\n",
       "      <td>Rollins College</td>\n",
       "    </tr>\n",
       "    <tr>\n",
       "      <th>Private</th>\n",
       "      <td>Yes</td>\n",
       "      <td>Yes</td>\n",
       "      <td>Yes</td>\n",
       "      <td>Yes</td>\n",
       "      <td>Yes</td>\n",
       "    </tr>\n",
       "    <tr>\n",
       "      <th>Apps</th>\n",
       "      <td>323</td>\n",
       "      <td>20192</td>\n",
       "      <td>6361</td>\n",
       "      <td>1566</td>\n",
       "      <td>1777</td>\n",
       "    </tr>\n",
       "    <tr>\n",
       "      <th>Accept</th>\n",
       "      <td>278</td>\n",
       "      <td>13007</td>\n",
       "      <td>5293</td>\n",
       "      <td>1400</td>\n",
       "      <td>1151</td>\n",
       "    </tr>\n",
       "    <tr>\n",
       "      <th>Enroll</th>\n",
       "      <td>122</td>\n",
       "      <td>3810</td>\n",
       "      <td>1507</td>\n",
       "      <td>483</td>\n",
       "      <td>382</td>\n",
       "    </tr>\n",
       "    <tr>\n",
       "      <th>Top10perc</th>\n",
       "      <td>31</td>\n",
       "      <td>45</td>\n",
       "      <td>26</td>\n",
       "      <td>28</td>\n",
       "      <td>31</td>\n",
       "    </tr>\n",
       "    <tr>\n",
       "      <th>Top25perc</th>\n",
       "      <td>51</td>\n",
       "      <td>80</td>\n",
       "      <td>51</td>\n",
       "      <td>55</td>\n",
       "      <td>55</td>\n",
       "    </tr>\n",
       "    <tr>\n",
       "      <th>F.Undergrad</th>\n",
       "      <td>393</td>\n",
       "      <td>14971</td>\n",
       "      <td>5889</td>\n",
       "      <td>1509</td>\n",
       "      <td>1668</td>\n",
       "    </tr>\n",
       "    <tr>\n",
       "      <th>P.Undergrad</th>\n",
       "      <td>4</td>\n",
       "      <td>3113</td>\n",
       "      <td>665</td>\n",
       "      <td>170</td>\n",
       "      <td>1052</td>\n",
       "    </tr>\n",
       "    <tr>\n",
       "      <th>Outstate</th>\n",
       "      <td>16150</td>\n",
       "      <td>18420</td>\n",
       "      <td>11380</td>\n",
       "      <td>14200</td>\n",
       "      <td>16425</td>\n",
       "    </tr>\n",
       "    <tr>\n",
       "      <th>Room.Board</th>\n",
       "      <td>5450</td>\n",
       "      <td>6810</td>\n",
       "      <td>4220</td>\n",
       "      <td>3775</td>\n",
       "      <td>5220</td>\n",
       "    </tr>\n",
       "    <tr>\n",
       "      <th>Books</th>\n",
       "      <td>275</td>\n",
       "      <td>475</td>\n",
       "      <td>500</td>\n",
       "      <td>450</td>\n",
       "      <td>955</td>\n",
       "    </tr>\n",
       "    <tr>\n",
       "      <th>Personal</th>\n",
       "      <td>800</td>\n",
       "      <td>1025</td>\n",
       "      <td>900</td>\n",
       "      <td>1100</td>\n",
       "      <td>750</td>\n",
       "    </tr>\n",
       "    <tr>\n",
       "      <th>PhD</th>\n",
       "      <td>63</td>\n",
       "      <td>80</td>\n",
       "      <td>81</td>\n",
       "      <td>58</td>\n",
       "      <td>81</td>\n",
       "    </tr>\n",
       "    <tr>\n",
       "      <th>Terminal</th>\n",
       "      <td>72</td>\n",
       "      <td>81</td>\n",
       "      <td>85</td>\n",
       "      <td>81</td>\n",
       "      <td>85</td>\n",
       "    </tr>\n",
       "    <tr>\n",
       "      <th>S.F.Ratio</th>\n",
       "      <td>7.2</td>\n",
       "      <td>11.9</td>\n",
       "      <td>14.8</td>\n",
       "      <td>16.4</td>\n",
       "      <td>13.3</td>\n",
       "    </tr>\n",
       "    <tr>\n",
       "      <th>perc.alumni</th>\n",
       "      <td>26</td>\n",
       "      <td>16</td>\n",
       "      <td>25</td>\n",
       "      <td>42</td>\n",
       "      <td>23</td>\n",
       "    </tr>\n",
       "    <tr>\n",
       "      <th>Expend</th>\n",
       "      <td>15622</td>\n",
       "      <td>16836</td>\n",
       "      <td>8894</td>\n",
       "      <td>8080</td>\n",
       "      <td>11561</td>\n",
       "    </tr>\n",
       "    <tr>\n",
       "      <th>Grad.Rate</th>\n",
       "      <td>64</td>\n",
       "      <td>72</td>\n",
       "      <td>93</td>\n",
       "      <td>67</td>\n",
       "      <td>90</td>\n",
       "    </tr>\n",
       "  </tbody>\n",
       "</table>\n",
       "</div>"
      ],
      "text/plain": [
       "                            545                59                    613  \\\n",
       "Unnamed: 0   St. John's College  Boston University  University of Dayton   \n",
       "Private                     Yes                Yes                   Yes   \n",
       "Apps                        323              20192                  6361   \n",
       "Accept                      278              13007                  5293   \n",
       "Enroll                      122               3810                  1507   \n",
       "Top10perc                    31                 45                    26   \n",
       "Top25perc                    51                 80                    51   \n",
       "F.Undergrad                 393              14971                  5889   \n",
       "P.Undergrad                   4               3113                   665   \n",
       "Outstate                  16150              18420                 11380   \n",
       "Room.Board                 5450               6810                  4220   \n",
       "Books                       275                475                   500   \n",
       "Personal                    800               1025                   900   \n",
       "PhD                          63                 80                    81   \n",
       "Terminal                     72                 81                    85   \n",
       "S.F.Ratio                   7.2               11.9                  14.8   \n",
       "perc.alumni                  26                 16                    25   \n",
       "Expend                    15622              16836                  8894   \n",
       "Grad.Rate                    64                 72                    93   \n",
       "\n",
       "                                        740              480  \n",
       "Unnamed: 0   West Virginia Wesleyan College  Rollins College  \n",
       "Private                                 Yes              Yes  \n",
       "Apps                                   1566             1777  \n",
       "Accept                                 1400             1151  \n",
       "Enroll                                  483              382  \n",
       "Top10perc                                28               31  \n",
       "Top25perc                                55               55  \n",
       "F.Undergrad                            1509             1668  \n",
       "P.Undergrad                             170             1052  \n",
       "Outstate                              14200            16425  \n",
       "Room.Board                             3775             5220  \n",
       "Books                                   450              955  \n",
       "Personal                               1100              750  \n",
       "PhD                                      58               81  \n",
       "Terminal                                 81               85  \n",
       "S.F.Ratio                              16.4             13.3  \n",
       "perc.alumni                              42               23  \n",
       "Expend                                 8080            11561  \n",
       "Grad.Rate                                67               90  "
      ]
     },
     "metadata": {},
     "output_type": "display_data"
    },
    {
     "name": "stdout",
     "output_type": "stream",
     "text": [
      "<class 'pandas.core.frame.DataFrame'>\n",
      "RangeIndex: 777 entries, 0 to 776\n",
      "Data columns (total 19 columns):\n",
      "Unnamed: 0     777 non-null object\n",
      "Private        777 non-null object\n",
      "Apps           777 non-null int64\n",
      "Accept         777 non-null int64\n",
      "Enroll         777 non-null int64\n",
      "Top10perc      777 non-null int64\n",
      "Top25perc      777 non-null int64\n",
      "F.Undergrad    777 non-null int64\n",
      "P.Undergrad    777 non-null int64\n",
      "Outstate       777 non-null int64\n",
      "Room.Board     777 non-null int64\n",
      "Books          777 non-null int64\n",
      "Personal       777 non-null int64\n",
      "PhD            777 non-null int64\n",
      "Terminal       777 non-null int64\n",
      "S.F.Ratio      777 non-null float64\n",
      "perc.alumni    777 non-null int64\n",
      "Expend         777 non-null int64\n",
      "Grad.Rate      777 non-null int64\n",
      "dtypes: float64(1), int64(16), object(2)\n",
      "memory usage: 115.5+ KB\n"
     ]
    }
   ],
   "source": [
    "data = pd.read_csv(url)\n",
    "display(data.sample(5).T)\n",
    "data.info()"
   ]
  },
  {
   "cell_type": "markdown",
   "metadata": {},
   "source": [
    "* Private : Public/private indicator\n",
    "* Apps : Number of applications received\n",
    "* Accept : Number of applicants accepted\n",
    "* Enroll : Number of new students enrolled\n",
    "* Top10perc : New students from top 10% of high school class\n",
    "* Top25perc : New students from top 25% of high school class\n",
    "* F.Undergrad : Number of full-time undergraduates\n",
    "* P.Undergrad : Number of part-time undergraduates\n",
    "* Outstate : Out-of-state tuition\n",
    "* Room.Board : Room and board costs\n",
    "* Books : Estimated book costs\n",
    "* Personal : Estimated personal spending\n",
    "* PhD : Percent of faculty with Ph.D.’s\n",
    "* Terminal : Percent of faculty with terminal degree\n",
    "* S.F.Ratio : Student/faculty ratio\n",
    "* perc.alumni : Percent of alumni who donate\n",
    "* Expend : Instructional expenditure per student\n",
    "* Grad.Rate : Graduation rate"
   ]
  },
  {
   "cell_type": "markdown",
   "metadata": {},
   "source": [
    "### Separe 5 colunas de características (ao menos uma categorica)"
   ]
  },
  {
   "cell_type": "code",
   "execution_count": 12,
   "metadata": {},
   "outputs": [],
   "source": [
    "data['Enroll.perc'] = data.Enroll / data.Apps"
   ]
  },
  {
   "cell_type": "code",
   "execution_count": 21,
   "metadata": {},
   "outputs": [],
   "source": [
    "X_cols = ['Private', 'Enroll.perc', 'PhD', 'Expend', 'Apps']\n",
    "X = data[X_cols]"
   ]
  },
  {
   "cell_type": "markdown",
   "metadata": {},
   "source": [
    "### Separe uma coluna alvo ( objetivo da predição)"
   ]
  },
  {
   "cell_type": "code",
   "execution_count": 22,
   "metadata": {},
   "outputs": [],
   "source": [
    "y_cols = ['Top10perc']\n",
    "y = data[y_cols]"
   ]
  },
  {
   "cell_type": "markdown",
   "metadata": {},
   "source": [
    "### Transforme os valores categoricos para números"
   ]
  },
  {
   "cell_type": "code",
   "execution_count": 28,
   "metadata": {},
   "outputs": [
    {
     "name": "stderr",
     "output_type": "stream",
     "text": [
      "C:\\Users\\lazaropd\\Anaconda3\\envs\\PythonGPU\\lib\\site-packages\\ipykernel_launcher.py:2: SettingWithCopyWarning: \n",
      "A value is trying to be set on a copy of a slice from a DataFrame.\n",
      "Try using .loc[row_indexer,col_indexer] = value instead\n",
      "\n",
      "See the caveats in the documentation: http://pandas.pydata.org/pandas-docs/stable/user_guide/indexing.html#returning-a-view-versus-a-copy\n",
      "  \n"
     ]
    },
    {
     "data": {
      "text/html": [
       "<div>\n",
       "<style scoped>\n",
       "    .dataframe tbody tr th:only-of-type {\n",
       "        vertical-align: middle;\n",
       "    }\n",
       "\n",
       "    .dataframe tbody tr th {\n",
       "        vertical-align: top;\n",
       "    }\n",
       "\n",
       "    .dataframe thead th {\n",
       "        text-align: right;\n",
       "    }\n",
       "</style>\n",
       "<table border=\"1\" class=\"dataframe\">\n",
       "  <thead>\n",
       "    <tr style=\"text-align: right;\">\n",
       "      <th></th>\n",
       "      <th>Private</th>\n",
       "      <th>Enroll.perc</th>\n",
       "      <th>PhD</th>\n",
       "      <th>Expend</th>\n",
       "      <th>Apps</th>\n",
       "    </tr>\n",
       "  </thead>\n",
       "  <tbody>\n",
       "    <tr>\n",
       "      <th>179</th>\n",
       "      <td>1</td>\n",
       "      <td>0.360262</td>\n",
       "      <td>60</td>\n",
       "      <td>8135</td>\n",
       "      <td>458</td>\n",
       "    </tr>\n",
       "    <tr>\n",
       "      <th>532</th>\n",
       "      <td>1</td>\n",
       "      <td>0.501299</td>\n",
       "      <td>63</td>\n",
       "      <td>8219</td>\n",
       "      <td>385</td>\n",
       "    </tr>\n",
       "    <tr>\n",
       "      <th>506</th>\n",
       "      <td>1</td>\n",
       "      <td>0.245399</td>\n",
       "      <td>46</td>\n",
       "      <td>8946</td>\n",
       "      <td>489</td>\n",
       "    </tr>\n",
       "    <tr>\n",
       "      <th>109</th>\n",
       "      <td>1</td>\n",
       "      <td>0.368421</td>\n",
       "      <td>71</td>\n",
       "      <td>7729</td>\n",
       "      <td>342</td>\n",
       "    </tr>\n",
       "    <tr>\n",
       "      <th>118</th>\n",
       "      <td>0</td>\n",
       "      <td>0.285307</td>\n",
       "      <td>82</td>\n",
       "      <td>7597</td>\n",
       "      <td>8065</td>\n",
       "    </tr>\n",
       "  </tbody>\n",
       "</table>\n",
       "</div>"
      ],
      "text/plain": [
       "     Private  Enroll.perc  PhD  Expend  Apps\n",
       "179        1     0.360262   60    8135   458\n",
       "532        1     0.501299   63    8219   385\n",
       "506        1     0.245399   46    8946   489\n",
       "109        1     0.368421   71    7729   342\n",
       "118        0     0.285307   82    7597  8065"
      ]
     },
     "metadata": {},
     "output_type": "display_data"
    }
   ],
   "source": [
    "encoder = LabelEncoder()\n",
    "X['Private'] = encoder.fit_transform(data.Private)\n",
    "display(X.sample(5))"
   ]
  },
  {
   "cell_type": "markdown",
   "metadata": {},
   "source": [
    "### Escolha para a base de treino 85% (tanto para colunas características quanto para colunas alvo) e o restante para teste"
   ]
  },
  {
   "cell_type": "code",
   "execution_count": 26,
   "metadata": {},
   "outputs": [
    {
     "name": "stdout",
     "output_type": "stream",
     "text": [
      "X  (660, 5) (117, 5)  y  (660, 1) (117, 1)\n"
     ]
    }
   ],
   "source": [
    "X_train, X_test, y_train, y_test = train_test_split(X, y, test_size=0.15)\n",
    "print(\"X \",X_train.shape, X_test.shape, \" y \", y_train.shape, y_test.shape)"
   ]
  },
  {
   "cell_type": "markdown",
   "metadata": {},
   "source": [
    "### Verifique se a quantidade de valores nas colunas categoricas estão balanceados nas bases de treino e teste"
   ]
  },
  {
   "cell_type": "code",
   "execution_count": 27,
   "metadata": {},
   "outputs": [
    {
     "data": {
      "image/png": "[encoded data removed]",
      "text/plain": [
       "<Figure size 432x288 with 1 Axes>"
      ]
     },
     "metadata": {
      "needs_background": "light"
     },
     "output_type": "display_data"
    },
    {
     "data": {
      "image/png": "[encoded data removed]",
      "text/plain": [
       "<Figure size 432x288 with 1 Axes>"
      ]
     },
     "metadata": {
      "needs_background": "light"
     },
     "output_type": "display_data"
    }
   ],
   "source": [
    "X_train['Private'].value_counts().plot(kind='bar')\n",
    "plt.title('Balanceamento Treino')\n",
    "plt.show()\n",
    "\n",
    "X_test['Private'].value_counts().plot(kind='bar')\n",
    "plt.title('Balanceamento Teste')\n",
    "plt.show()\n",
    "\n",
    "# dados desbalanceados, antes de aplicar o treinamento, fazer um balanceamento, \n",
    "#   por exemplo, com um sampling dos dados na categoria mais volumosa"
   ]
  },
  {
   "cell_type": "markdown",
   "metadata": {},
   "source": [
    "### Altere a escala das colunas usando StandardScaler"
   ]
  },
  {
   "cell_type": "code",
   "execution_count": 31,
   "metadata": {},
   "outputs": [
    {
     "data": {
      "image/png": "[encoded data removed]",
      "text/plain": [
       "<Figure size 432x288 with 2 Axes>"
      ]
     },
     "metadata": {
      "needs_background": "light"
     },
     "output_type": "display_data"
    }
   ],
   "source": [
    "scaler = StandardScaler()\n",
    "rescaledX = scaler.fit_transform(X)\n",
    "\n",
    "fig, ax_lst = plt.subplots(2, 1)\n",
    "plt.ylabel('Frequência da Distribuição')\n",
    "ax_lst[0].hist(rescaledX[1:], 50)\n",
    "ax_lst[1].hist(X_train[1:], 50)\n",
    "plt.show()"
   ]
  },
  {
   "cell_type": "code",
   "execution_count": null,
   "metadata": {},
   "outputs": [],
   "source": []
  }
 ],
 "metadata": {
  "kernelspec": {
   "display_name": "Python 3",
   "language": "python",
   "name": "python3"
  },
  "language_info": {
   "codemirror_mode": {
    "name": "ipython",
    "version": 3
   },
   "file_extension": ".py",
   "mimetype": "text/x-python",
   "name": "python",
   "nbconvert_exporter": "python",
   "pygments_lexer": "ipython3",
   "version": "3.7.5"
  }
 },
 "nbformat": 4,
 "nbformat_minor": 2
}
