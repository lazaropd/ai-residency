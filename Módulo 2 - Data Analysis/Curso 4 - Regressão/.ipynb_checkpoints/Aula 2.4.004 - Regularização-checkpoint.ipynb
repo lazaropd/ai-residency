{
 "cells": [
  {
   "cell_type": "code",
   "execution_count": 3,
   "metadata": {},
   "outputs": [],
   "source": [
    "import pandas as pd \n",
    "import numpy as np \n",
    "import matplotlib.pyplot as plt \n",
    "import seaborn as sns; sns.set()\n",
    "\n",
    "from statistics import mean \n",
    "import math\n",
    "from datetime import datetime, timedelta\n",
    "from scipy.interpolate import interp1d\n",
    "from numpy import median\n",
    "\n",
    "from sklearn.metrics import mean_squared_error\n",
    "from sklearn.metrics import mean_absolute_error\n",
    "from sklearn.metrics import r2_score\n",
    "\n",
    "from sklearn.linear_model import LinearRegression\n",
    "from sklearn.tree import DecisionTreeRegressor  \n",
    "\n",
    "from sklearn.preprocessing import scale \n",
    "\n",
    "from sklearn.linear_model import Ridge, RidgeCV, Lasso, LassoCV\n",
    "\n",
    "from sklearn.model_selection import train_test_split, cross_val_score "
   ]
  },
  {
   "cell_type": "code",
   "execution_count": 4,
   "metadata": {},
   "outputs": [],
   "source": [
    "dados_adv = pd.read_csv('dataset/Advertising.csv', index_col=0)\n",
    "X = dados_adv.loc[:,['TV','radio','newspaper']]\n",
    "y = dados_adv.loc[:,['sales']]"
   ]
  },
  {
   "cell_type": "code",
   "execution_count": 5,
   "metadata": {},
   "outputs": [],
   "source": [
    "# Split data into training and test sets\n",
    "X_train, X_test , y_train, y_test = train_test_split(X, y, test_size=0.3, random_state=1)"
   ]
  },
  {
   "cell_type": "markdown",
   "metadata": {},
   "source": [
    "## Regressão Linear"
   ]
  },
  {
   "cell_type": "code",
   "execution_count": 7,
   "metadata": {},
   "outputs": [
    {
     "name": "stdout",
     "output_type": "stream",
     "text": [
      "[[0.04695205 0.17658644 0.00185115]]\n",
      "Scores R^2 Treino:\n",
      "linear: 0.8850053786777522\n",
      "Scores R^2 Teste:\n",
      "linear: 0.9224605706201435\n",
      "1.9289249074665729\n"
     ]
    }
   ],
   "source": [
    "linear = LinearRegression().fit(X_train,y_train)\n",
    "r2_linear = r2_score(y_test,linear.predict(X_test))\n",
    "r2_linear_treino = r2_score(y_train,linear.predict(X_train))\n",
    "\n",
    "print(linear.coef_)\n",
    "print(\"Scores R^2 Treino:\")\n",
    "print(\"linear: \"+str(r2_linear_treino))\n",
    "\n",
    "print(\"Scores R^2 Teste:\")\n",
    "print(\"linear: \"+str(r2_linear))\n",
    "\n",
    "print(mean_squared_error(y_test,linear.predict(X_test))) "
   ]
  },
  {
   "cell_type": "markdown",
   "metadata": {},
   "source": [
    "### Método Ridge\n",
    "#### Alpha=0 regressão linear comum"
   ]
  },
  {
   "cell_type": "code",
   "execution_count": 8,
   "metadata": {},
   "outputs": [
    {
     "name": "stdout",
     "output_type": "stream",
     "text": [
      "[[0.04695205 0.17658644 0.00185115]]\n",
      "Scores R^2 Treino:\n",
      "linear: 0.8850053786777522\n",
      "Scores R^2 Teste:\n",
      "linear: 0.9224605706201435\n",
      "1.9289249074665729\n"
     ]
    }
   ],
   "source": [
    "ridge2 = Ridge(alpha = 0)\n",
    "ridge2.fit(X_train, y_train) \n",
    "\n",
    "r2_linear = r2_score(y_test,linear.predict(X_test))\n",
    "r2_linear_treino = r2_score(y_train,linear.predict(X_train))\n",
    "print(linear.coef_)\n",
    "print(\"Scores R^2 Treino:\")\n",
    "print(\"linear: \"+str(r2_linear_treino))\n",
    "\n",
    "\n",
    "print(\"Scores R^2 Teste:\")\n",
    "print(\"linear: \"+str(r2_linear))\n",
    "print(mean_squared_error(y_test,linear.predict(X_test))) "
   ]
  },
  {
   "cell_type": "code",
   "execution_count": 10,
   "metadata": {},
   "outputs": [
    {
     "name": "stdout",
     "output_type": "stream",
     "text": [
      "[[0.04695205 0.17658644 0.00185115]]\n",
      "Scores R^2 Treino:\n",
      "linear: 0.8850053786777522\n",
      "Scores R^2 Teste:\n",
      "linear: 0.9224605706201435\n",
      "1.9289249074665729\n"
     ]
    }
   ],
   "source": [
    "ridge2 = Ridge(alpha = 0, normalize=True)\n",
    "ridge2.fit(X_train, y_train) \n",
    "\n",
    "r2_linear = r2_score(y_test,linear.predict(X_test))\n",
    "r2_linear_treino = r2_score(y_train,linear.predict(X_train))\n",
    "print(linear.coef_)\n",
    "print(\"Scores R^2 Treino:\")\n",
    "print(\"linear: \"+str(r2_linear_treino))\n",
    "\n",
    "\n",
    "print(\"Scores R^2 Teste:\")\n",
    "print(\"linear: \"+str(r2_linear))\n",
    "print(mean_squared_error(y_test,linear.predict(X_test))) "
   ]
  },
  {
   "cell_type": "markdown",
   "metadata": {},
   "source": [
    "### Método Ridge\n",
    "#### Utilizando diferentes valores de Alpha\n",
    "#### A cada novo valor de Alpha, os valores dos parâmetros da função de regressão se aproxima de zero"
   ]
  },
  {
   "cell_type": "code",
   "execution_count": 11,
   "metadata": {},
   "outputs": [
    {
     "name": "stdout",
     "output_type": "stream",
     "text": [
      "[5.00000000e+09 3.78231664e+09 2.86118383e+09 2.16438064e+09\n",
      " 1.63727458e+09 1.23853818e+09 9.36908711e+08 7.08737081e+08\n",
      " 5.36133611e+08 4.05565415e+08 3.06795364e+08 2.32079442e+08\n",
      " 1.75559587e+08 1.32804389e+08 1.00461650e+08 7.59955541e+07\n",
      " 5.74878498e+07 4.34874501e+07 3.28966612e+07 2.48851178e+07\n",
      " 1.88246790e+07 1.42401793e+07 1.07721735e+07 8.14875417e+06\n",
      " 6.16423370e+06 4.66301673e+06 3.52740116e+06 2.66834962e+06\n",
      " 2.01850863e+06 1.52692775e+06 1.15506485e+06 8.73764200e+05\n",
      " 6.60970574e+05 5.00000000e+05 3.78231664e+05 2.86118383e+05\n",
      " 2.16438064e+05 1.63727458e+05 1.23853818e+05 9.36908711e+04\n",
      " 7.08737081e+04 5.36133611e+04 4.05565415e+04 3.06795364e+04\n",
      " 2.32079442e+04 1.75559587e+04 1.32804389e+04 1.00461650e+04\n",
      " 7.59955541e+03 5.74878498e+03 4.34874501e+03 3.28966612e+03\n",
      " 2.48851178e+03 1.88246790e+03 1.42401793e+03 1.07721735e+03\n",
      " 8.14875417e+02 6.16423370e+02 4.66301673e+02 3.52740116e+02\n",
      " 2.66834962e+02 2.01850863e+02 1.52692775e+02 1.15506485e+02\n",
      " 8.73764200e+01 6.60970574e+01 5.00000000e+01 3.78231664e+01\n",
      " 2.86118383e+01 2.16438064e+01 1.63727458e+01 1.23853818e+01\n",
      " 9.36908711e+00 7.08737081e+00 5.36133611e+00 4.05565415e+00\n",
      " 3.06795364e+00 2.32079442e+00 1.75559587e+00 1.32804389e+00\n",
      " 1.00461650e+00 7.59955541e-01 5.74878498e-01 4.34874501e-01\n",
      " 3.28966612e-01 2.48851178e-01 1.88246790e-01 1.42401793e-01\n",
      " 1.07721735e-01 8.14875417e-02 6.16423370e-02 4.66301673e-02\n",
      " 3.52740116e-02 2.66834962e-02 2.01850863e-02 1.52692775e-02\n",
      " 1.15506485e-02 8.73764200e-03 6.60970574e-03 5.00000000e-03]\n",
      "(100,)\n",
      "3782316637.773145\n",
      "0.005\n"
     ]
    }
   ],
   "source": [
    "alphas = 10**np.linspace(10,-2,100)*0.5\n",
    "print(alphas)\n",
    "print(alphas.shape)\n",
    "print(alphas[1])\n",
    "print(alphas[99])"
   ]
  },
  {
   "cell_type": "code",
   "execution_count": 12,
   "metadata": {},
   "outputs": [
    {
     "name": "stdout",
     "output_type": "stream",
     "text": [
      "(100, 3)\n"
     ]
    },
    {
     "data": {
      "image/png": "[encoded data removed]",
      "text/plain": [
       "<Figure size 432x288 with 1 Axes>"
      ]
     },
     "metadata": {},
     "output_type": "display_data"
    }
   ],
   "source": [
    "ridge = Ridge(normalize = True)\n",
    "MSEs  = []\n",
    "coefs = []\n",
    "\n",
    "for a in alphas:\n",
    "    ridge.set_params(alpha = a)\n",
    "    ridge.fit(X_train, y_train) \n",
    "    MSEs.append(mean_squared_error(y_test, ridge.predict(X_test)))    \n",
    "    coefs.append(ridge.coef_)\n",
    "    \n",
    "#np.shape(coefs)\n",
    "coefs2 = np.asarray(coefs)\n",
    "coefs3 = coefs2.reshape(100,3)\n",
    "print(np.shape(coefs3))\n",
    "\n",
    "ax = plt.gca()\n",
    "ax.plot(alphas*2, coefs3)\n",
    "ax.set_xscale('log')\n",
    "plt.axis('tight')\n",
    "plt.xlabel('alpha')\n",
    "plt.ylabel('Parameters')\n",
    "plt.show()"
   ]
  },
  {
   "cell_type": "markdown",
   "metadata": {},
   "source": [
    "#### Comparando MSE com diferentes valores de Alpha"
   ]
  },
  {
   "cell_type": "code",
   "execution_count": 13,
   "metadata": {},
   "outputs": [
    {
     "data": {
      "image/png": "[encoded data removed]",
      "text/plain": [
       "<Figure size 432x288 with 1 Axes>"
      ]
     },
     "metadata": {},
     "output_type": "display_data"
    }
   ],
   "source": [
    "#plt.plot(alphas,MSEs)\n",
    "plt.plot(MSEs)\n",
    "plt.ylabel('MSEs')\n",
    "plt.show()"
   ]
  },
  {
   "cell_type": "code",
   "execution_count": 14,
   "metadata": {},
   "outputs": [
    {
     "data": {
      "image/png": "[encoded data removed]",
      "text/plain": [
       "<Figure size 432x288 with 1 Axes>"
      ]
     },
     "metadata": {},
     "output_type": "display_data"
    }
   ],
   "source": [
    "ax = plt.gca()\n",
    "ax.plot(alphas*2, MSEs)\n",
    "ax.set_xscale('log')\n",
    "plt.axis('tight')\n",
    "plt.xlabel('alpha')\n",
    "plt.ylabel('MSEs')\n",
    "plt.show()"
   ]
  },
  {
   "cell_type": "markdown",
   "metadata": {},
   "source": [
    "### Modelo com um alpha específico que apresentou valor baixo de MSE"
   ]
  },
  {
   "cell_type": "code",
   "execution_count": 16,
   "metadata": {},
   "outputs": [
    {
     "name": "stdout",
     "output_type": "stream",
     "text": [
      "2.0438844784736254\n",
      "[[0.04423912 0.16481574 0.0056243 ]]\n"
     ]
    }
   ],
   "source": [
    "ridge = Ridge(alpha = alphas[90], normalize = True)\n",
    "\n",
    "ridge.fit(X_train, y_train) \n",
    "coefs = ridge.coef_\n",
    "print(mean_squared_error(y_test,ridge.predict(X_test)))     \n",
    "print(coefs)"
   ]
  },
  {
   "cell_type": "markdown",
   "metadata": {},
   "source": [
    "#### Modelo com um alpha específico que apresentou valor baixo de MSE\n",
    "#### Coeficientes são diferentes dos coeficientes da regressão linear"
   ]
  },
  {
   "cell_type": "markdown",
   "metadata": {},
   "source": [
    "### RidgeCV\n",
    "#### Implementa busca por um alpha por meio de um critério de avaliação (score)\n",
    "#### Documentação dos critérios de avaliação: https://scikit-learn.org/stable/modules/model_evaluation.html"
   ]
  },
  {
   "cell_type": "code",
   "execution_count": 17,
   "metadata": {},
   "outputs": [
    {
     "name": "stdout",
     "output_type": "stream",
     "text": [
      "266.8349615603151\n",
      "[[0.04694319 0.17486394 0.00234117]]\n",
      "1.9547758443014243\n"
     ]
    }
   ],
   "source": [
    "ridgecv = RidgeCV(alphas = alphas)\n",
    "\n",
    "#ridgecv = RidgeCV(alphas = alphas, scoring = 'neg_mean_squared_error', normalize = True)\n",
    "#ridgecv = RidgeCV(alphas = alphas, scoring = 'neg_mean_absolute_error', normalize = True)\n",
    "\n",
    "ridgecv.fit(X_train, y_train)\n",
    "print(ridgecv.alpha_)\n",
    "print(ridgecv.coef_) # Print coefficients\n",
    "print(mean_squared_error(y_test, ridgecv.predict(X_test)))          # Calculate the test MSE"
   ]
  },
  {
   "cell_type": "markdown",
   "metadata": {},
   "source": [
    "#### Método Lasso\n",
    "#### Max_iter - número máximo de iterações"
   ]
  },
  {
   "cell_type": "code",
   "execution_count": 18,
   "metadata": {},
   "outputs": [
    {
     "name": "stdout",
     "output_type": "stream",
     "text": [
      "(100, 3)\n"
     ]
    },
    {
     "data": {
      "text/plain": [
       "Text(0, 0.5, 'weights')"
      ]
     },
     "execution_count": 18,
     "metadata": {},
     "output_type": "execute_result"
    },
    {
     "data": {
      "image/png": "[encoded data removed]",
      "text/plain": [
       "<Figure size 432x288 with 1 Axes>"
      ]
     },
     "metadata": {},
     "output_type": "display_data"
    }
   ],
   "source": [
    "#lasso = Lasso(max_iter = 10000, normalize = True)\n",
    "lasso = Lasso()\n",
    "coefs = []\n",
    "\n",
    "for a in alphas:\n",
    "    lasso.set_params(alpha=a)\n",
    "    lasso.fit(scale(X_train), y_train)\n",
    "    coefs.append(lasso.coef_)\n",
    "    \n",
    "print(np.shape(coefs))\n",
    "\n",
    "ax = plt.gca()\n",
    "ax.plot(alphas*2, coefs)\n",
    "ax.set_xscale('log')\n",
    "plt.axis('tight')\n",
    "plt.xlabel('alpha')\n",
    "plt.ylabel('weights')"
   ]
  },
  {
   "cell_type": "code",
   "execution_count": 27,
   "metadata": {},
   "outputs": [
    {
     "name": "stdout",
     "output_type": "stream",
     "text": [
      "1.7555958671075638\n",
      "2.026153314292101\n",
      "[0.04679014 0.17009667 0.        ]\n"
     ]
    }
   ],
   "source": [
    "#lassocv = LassoCV(alphas = None, cv = 10, max_iter = 100000, normalize = True)\n",
    "lassocv = LassoCV(alphas = alphas)#, cv = 10, max_iter = 100000, normalize = True)\n",
    "lassocv.fit(X_train, y_train.values.ravel())\n",
    "\n",
    "print(lassocv.alpha_)\n",
    "\n",
    "lasso.set_params(alpha=lassocv.alpha_)\n",
    "lasso.fit(X_train, y_train)\n",
    "print(mean_squared_error(y_test, lasso.predict(X_test)))\n",
    "print(lasso.coef_)"
   ]
  },
  {
   "cell_type": "markdown",
   "metadata": {},
   "source": [
    "### Regularização para Árvore"
   ]
  },
  {
   "cell_type": "code",
   "execution_count": 28,
   "metadata": {},
   "outputs": [
    {
     "name": "stdout",
     "output_type": "stream",
     "text": [
      "Scores R^2 Treino:\n",
      "tree: 1.0\n",
      "Scores R^2 Teste:\n",
      "tree: 0.9410291492115949\n",
      "1.467\n"
     ]
    }
   ],
   "source": [
    "tree = DecisionTreeRegressor().fit(X_train,y_train)\n",
    "r2_tree = r2_score(y_test,tree.predict(X_test))\n",
    "r2_tree_treino = r2_score(y_train,tree.predict(X_train))\n",
    "\n",
    "print(\"Scores R^2 Treino:\")\n",
    "print(\"tree: \"+str(r2_tree_treino))\n",
    "\n",
    "print(\"Scores R^2 Teste:\")\n",
    "print(\"tree: \"+str(r2_tree))\n",
    "\n",
    "print(mean_squared_error(y_test,tree.predict(X_test))) "
   ]
  },
  {
   "cell_type": "code",
   "execution_count": 29,
   "metadata": {},
   "outputs": [
    {
     "name": "stdout",
     "output_type": "stream",
     "text": [
      "1.1645000000000005\n",
      "1.0750000000000002\n"
     ]
    },
    {
     "data": {
      "image/png": "[encoded data removed]",
      "text/plain": [
       "<Figure size 432x288 with 1 Axes>"
      ]
     },
     "metadata": {},
     "output_type": "display_data"
    }
   ],
   "source": [
    "depth_test =  np.linspace(1., 50., num=100)\n",
    "\n",
    "erros_train = []\n",
    "erros_test = []\n",
    "for depth in depth_test:\n",
    "    #modelo_regularizado =  DecisionTreeRegressor(max_depth=depth).fit(X_train, y_train.values.ravel())\n",
    "    modelo_regularizado =  DecisionTreeRegressor(max_depth=depth).fit(X_train, y_train)\n",
    "    y_pred = modelo_regularizado.predict(X_test)\n",
    "    erros_train.append(mean_squared_error(y_train, modelo_regularizado.predict(X_train)))\n",
    "    erros_test.append(mean_squared_error(y_test, y_pred))\n",
    "    lastMSE = mean_squared_error(y_test, y_pred)\n",
    "\n",
    "print(lastMSE)\n",
    "X_new = np.array(erros_test)\n",
    "\n",
    "print(np.amin(X_new))\n",
    "plt.plot(depth_test, erros_train,color='y',label='regularizado_train')\n",
    "plt.plot(depth_test, erros_test,color='r',label='regularizado_test')   \n",
    "\n",
    "plt.xlabel('max depth')\n",
    "plt.ylabel('mse')\n",
    "plt.legend()\n",
    "plt.show()"
   ]
  },
  {
   "cell_type": "code",
   "execution_count": null,
   "metadata": {},
   "outputs": [],
   "source": []
  }
 ],
 "metadata": {
  "kernelspec": {
   "display_name": "Python 3",
   "language": "python",
   "name": "python3"
  },
  "language_info": {
   "codemirror_mode": {
    "name": "ipython",
    "version": 3
   },
   "file_extension": ".py",
   "mimetype": "text/x-python",
   "name": "python",
   "nbconvert_exporter": "python",
   "pygments_lexer": "ipython3",
   "version": "3.7.5"
  }
 },
 "nbformat": 4,
 "nbformat_minor": 4
}
