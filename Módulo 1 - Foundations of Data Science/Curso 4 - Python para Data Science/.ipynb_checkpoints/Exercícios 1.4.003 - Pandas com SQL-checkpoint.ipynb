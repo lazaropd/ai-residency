{
 "cells": [
  {
   "cell_type": "markdown",
   "metadata": {},
   "source": [
    "# Titanic\n",
    "\n",
    "## Exercícios\n",
    "\n",
    "1 Leia os dados train.csv usando pandas\n",
    "\n",
    "2 Remova a coluna com nomes de pessoas\n",
    "\n",
    "3 A coluna Cabin contém uma letra e um número. Crie uma nova coluna chamada deck usando apenas a letra de cada registro presente na coluna Cabin.\n",
    "\n",
    "4 Substitua os valores ausentes pela média de valores da coluna\n",
    "\n",
    "5 Os valores da coluna \"embarked\" sao os seguintes: C = Cherbourg, Q = Queenstown, S = Southampton\n",
    "\n",
    "6 Crie um CSV com essas uma coluna nome_cidade_de_embarque: C = Cherbourg, Q = Queenstown, S = Southampton e mais uma coluna chamada população com valores hipotéticos, faça um merge entre o CSV train.csv e esse novo CSV com os nomes das cidades. Implemente um filtro de passageiros por população da cidade de embarque"
   ]
  },
  {
   "cell_type": "code",
   "execution_count": 7,
   "metadata": {},
   "outputs": [
    {
     "name": "stdout",
     "output_type": "stream",
     "text": [
      "\n",
      "Shape do arquivo lido (891, 12)\n",
      "Sample      PassengerId  Survived  Pclass                                  Name  \\\n",
      "520          521         1       1                 Perreault, Miss. Anne   \n",
      "501          502         0       3                   Canavan, Miss. Mary   \n",
      "365          366         0       3        Adahl, Mr. Mauritz Nils Martin   \n",
      "107          108         1       3                Moss, Mr. Albert Johan   \n",
      "98            99         1       2  Doling, Mrs. John T (Ada Julia Bone)   \n",
      "\n",
      "        Sex   Age  SibSp  Parch  Ticket    Fare Cabin Embarked  \n",
      "520  female  30.0      0      0   12749  93.500   B73        S  \n",
      "501  female  21.0      0      0  364846   7.750   NaN        Q  \n",
      "365    male  30.0      0      0  C 7076   7.250   NaN        S  \n",
      "107    male   NaN      0      0  312991   7.775   NaN        S  \n",
      "98   female  34.0      0      1  231919  23.000   NaN        S  \n"
     ]
    },
    {
     "data": {
      "text/plain": [
       "'\\ncon = sqlite3.connect(\":memory:\")\\ncur = con.cursor()\\ncur.execute(\"CREATE TABLE t (col1, col2);\") # use your column names here\\n\\nwith open(\\'data.csv\\',\\'rb\\') as fin: # `with` statement available in 2.5+\\n    # csv.DictReader uses first line in file for column headings by default\\n    dr = csv.DictReader(fin) # comma is default delimiter\\n    to_db = [(i[\\'col1\\'], i[\\'col2\\']) for i in dr]\\n\\ncur.executemany(\"INSERT INTO t (col1, col2) VALUES (?, ?);\", to_db)\\ncon.commit()\\ncon.close()\\n\\n\\n\\ndf = pandas.read_csv(csvfile)\\ndf.to_sql(table_name, conn, if_exists=\\'append\\', index=False)\\n'"
      ]
     },
     "execution_count": 7,
     "metadata": {},
     "output_type": "execute_result"
    }
   ],
   "source": [
    "import pandas as pd\n",
    "import sqlite3\n",
    "\n",
    "\n",
    "url = \"https://raw.githubusercontent.com/advinstai/python-datascience/master/Exercicios/titanic/train.csv\"\n",
    "csv_data = pd.read_csv(url, encoding=\"utf-8\", sep=\",\")\n",
    "print(\"\\nShape do arquivo lido\", csv_data.shape)\n",
    "print(\"\\nSample:\\n\", csv_data.sample(5))\n",
    "\n",
    "\"\"\"\n",
    "con = sqlite3.connect(\":memory:\")\n",
    "cur = con.cursor()\n",
    "cur.execute(\"CREATE TABLE t (col1, col2);\") # use your column names here\n",
    "\n",
    "with open('data.csv','rb') as fin: # `with` statement available in 2.5+\n",
    "    # csv.DictReader uses first line in file for column headings by default\n",
    "    dr = csv.DictReader(fin) # comma is default delimiter\n",
    "    to_db = [(i['col1'], i['col2']) for i in dr]\n",
    "\n",
    "cur.executemany(\"INSERT INTO t (col1, col2) VALUES (?, ?);\", to_db)\n",
    "con.commit()\n",
    "con.close()\n",
    "\n",
    "\n",
    "\n",
    "df = pandas.read_csv(csvfile)\n",
    "df.to_sql(table_name, conn, if_exists='append', index=False)\n",
    "\"\"\"\n",
    "\n"
   ]
  },
  {
   "cell_type": "code",
   "execution_count": null,
   "metadata": {},
   "outputs": [],
   "source": []
  }
 ],
 "metadata": {
  "hide_input": false,
  "kernelspec": {
   "display_name": "Python 3",
   "language": "python",
   "name": "python3"
  },
  "language_info": {
   "codemirror_mode": {
    "name": "ipython",
    "version": 3
   },
   "file_extension": ".py",
   "mimetype": "text/x-python",
   "name": "python",
   "nbconvert_exporter": "python",
   "pygments_lexer": "ipython3",
   "version": "3.7.4"
  }
 },
 "nbformat": 4,
 "nbformat_minor": 2
}
