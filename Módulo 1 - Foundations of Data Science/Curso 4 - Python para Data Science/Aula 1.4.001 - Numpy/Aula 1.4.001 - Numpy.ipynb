{
 "cells": [
  {
   "cell_type": "code",
   "execution_count": 1,
   "metadata": {},
   "outputs": [
    {
     "name": "stdout",
     "output_type": "stream",
     "text": [
      "\n",
      "Ones:\n",
      " [[1. 1. 1. 1.]\n",
      " [1. 1. 1. 1.]\n",
      " [1. 1. 1. 1.]]\n",
      "\n",
      "Zeros INT:\n",
      " [[0 0 0 0]\n",
      " [0 0 0 0]\n",
      " [0 0 0 0]]\n",
      "\n",
      "Zeros:\n",
      " [[0. 0. 0. 0.]\n",
      " [0. 0. 0. 0.]\n",
      " [0. 0. 0. 0.]]\n",
      "\n",
      "Random:\n",
      " [[0.9916 0.3289 0.7996 0.4115]\n",
      " [0.7564 0.3204 0.5783 0.12  ]\n",
      " [0.8721 0.5834 0.991  0.9098]]\n",
      "\n",
      "Empty:\n",
      " [[0. 0.]\n",
      " [0. 0.]\n",
      " [0. 0.]\n",
      " [0. 0.]]\n",
      "\n",
      "Full N:\n",
      " [[654321 654321 654321 654321]\n",
      " [654321 654321 654321 654321]\n",
      " [654321 654321 654321 654321]]\n",
      "\n",
      "Range:\n",
      " [ 0  5 10 15 20 25 30 35 40 45 50 55 60 65 70 75 80 85 90 95]\n",
      "\n",
      "Evenly spaced:\n",
      " [0.     0.1053 0.2105 0.3158 0.4211 0.5263 0.6316 0.7368 0.8421 0.9474\n",
      " 1.0526 1.1579 1.2632 1.3684 1.4737 1.5789 1.6842 1.7895 1.8947 2.    ]\n",
      "\n",
      "Eye:\n",
      " [[1. 0. 0. 0. 0.]\n",
      " [0. 1. 0. 0. 0.]\n",
      " [0. 0. 1. 0. 0.]\n",
      " [0. 0. 0. 1. 0.]\n",
      " [0. 0. 0. 0. 1.]]\n",
      "\n",
      "Identity:\n",
      " [[1. 0. 0. 0. 0.]\n",
      " [0. 1. 0. 0. 0.]\n",
      " [0. 0. 1. 0. 0.]\n",
      " [0. 0. 0. 1. 0.]\n",
      " [0. 0. 0. 0. 1.]]\n"
     ]
    }
   ],
   "source": [
    "import numpy as np\n",
    "\n",
    "np.set_printoptions(precision=4, suppress=True)\n",
    "\n",
    "print(\"\\nOnes:\\n\", np.ones((3,4)))\n",
    "\n",
    "print(\"\\nZeros INT:\\n\", np.zeros((3,4), dtype=np.int32))\n",
    "print(\"\\nZeros:\\n\", np.zeros((3,4)))\n",
    "\n",
    "print(\"\\nRandom:\\n\", np.random.random((3,4)))\n",
    "\n",
    "print(\"\\nEmpty:\\n\", np.empty((4,2)))\n",
    "\n",
    "print(\"\\nFull N:\\n\", np.full((3,4),654321))\n",
    "\n",
    "print(\"\\nRange:\\n\", np.arange(0,100,5))\n",
    "\n",
    "print(\"\\nEvenly spaced:\\n\", np.linspace(0,2,20))\n",
    "\n",
    "print(\"\\nEye:\\n\", np.eye(5))\n",
    "\n",
    "print(\"\\nIdentity:\\n\", np.identity(5))"
   ]
  },
  {
   "cell_type": "code",
   "execution_count": 44,
   "metadata": {},
   "outputs": [
    {
     "name": "stdout",
     "output_type": "stream",
     "text": [
      "loadtxt \n",
      "x:  [1. 4.]\n",
      "y:  [2. 5.]\n",
      "z:  [3. 6.]\n",
      "my_array2:  [[1. 2. 3.]\n",
      " [4. 5. 6.]]\n"
     ]
    }
   ],
   "source": [
    "x, y, z = np.loadtxt('teste.txt', skiprows = 1, unpack = True)\n",
    "\n",
    "print(\"loadtxt \") \n",
    "print(\"x: \",x) \n",
    "print(\"y: \",y) \n",
    "print(\"z: \",z)\n",
    "\n",
    "my_array2 = np.genfromtxt('teste.txt', skip_header=1, filling_values=-999)\n",
    "print(\"my_array2: \",my_array2)"
   ]
  },
  {
   "cell_type": "code",
   "execution_count": 52,
   "metadata": {},
   "outputs": [],
   "source": [
    "n = np.eye(5)\n",
    "m = np.full((2,2),7)\n",
    "nHIGH = np.eye(50) \n",
    "\n",
    "np.save('teste', n)\n",
    "np.savez('testH', nHIGH) \n",
    "np.savez_compressed('testH-c', nHIGH)"
   ]
  },
  {
   "cell_type": "code",
   "execution_count": 54,
   "metadata": {
    "scrolled": true
   },
   "outputs": [
    {
     "name": "stdout",
     "output_type": "stream",
     "text": [
      "2\n",
      "144\n",
      "  C_CONTIGUOUS : True\n",
      "  F_CONTIGUOUS : False\n",
      "  OWNDATA : True\n",
      "  WRITEABLE : True\n",
      "  ALIGNED : True\n",
      "  WRITEBACKIFCOPY : False\n",
      "  UPDATEIFCOPY : False\n",
      "\n",
      "8\n",
      "1152\n"
     ]
    }
   ],
   "source": [
    "my_array = np.full((12,12), 70)\n",
    "print(my_array.ndim)\n",
    "print(my_array.size)\n",
    "print(my_array.flags)\n",
    "print(my_array.itemsize)\n",
    "print(my_array.nbytes) "
   ]
  },
  {
   "cell_type": "code",
   "execution_count": 62,
   "metadata": {},
   "outputs": [
    {
     "name": "stdout",
     "output_type": "stream",
     "text": [
      "x [[5 5 5 5]\n",
      " [5 5 5 5]\n",
      " [5 5 5 5]]\n",
      "y [[[3 3 3 3]]\n",
      "\n",
      " [[3 3 3 3]]]\n",
      "res:  [[[8 8 8 8]\n",
      "  [8 8 8 8]\n",
      "  [8 8 8 8]]\n",
      "\n",
      " [[8 8 8 8]\n",
      "  [8 8 8 8]\n",
      "  [8 8 8 8]]]\n",
      "res2:  192\n"
     ]
    }
   ],
   "source": [
    "x = np.full((3,4), 5) \n",
    "y = np.full((2,1,4), 3)\n",
    "print(\"x\", x)\n",
    "print(\"y\", y)\n",
    "\n",
    "res = np.add(x, y) \n",
    "print('res: ',res)\n",
    "\n",
    "res2 = res.sum() \n",
    "print('res2: ',res2)"
   ]
  },
  {
   "cell_type": "code",
   "execution_count": 64,
   "metadata": {},
   "outputs": [
    {
     "name": "stdout",
     "output_type": "stream",
     "text": [
      "[[0.67847064 0.64241185 0.70701342 0.5688937 ]\n",
      " [0.79563311 0.35580207 0.07359716 0.57839184]\n",
      " [0.08497416 0.64093563 0.39830396 0.40463157]\n",
      " [0.04063125 0.36468523 0.67187747 0.49155722]]\n",
      "0.07359716263171212\n",
      "0.07359716263171212\n"
     ]
    }
   ],
   "source": [
    "my_2d_array = np.random.random((4,4))\n",
    "print(my_2d_array)\n",
    "print(my_2d_array[1][2])\n",
    "print(my_2d_array[1,2])"
   ]
  },
  {
   "cell_type": "markdown",
   "metadata": {},
   "source": [
    "### Exercícios:\n",
    "\n",
    "* Crie um array com 10 elementos usando a função arange\n",
    "\n",
    "* Transforme esse array de 1D (1x10) para 2D (2x5) usando a função reshape\n",
    "\n",
    "* Crie duas matrizes bidimensionais com valores aleatórios\n",
    "\n",
    "* Calcule a transposta de cada matriz\n",
    "\n",
    "* Multiplique as duas matrizes\n",
    "\n",
    "* Salve as matrizes de entrada e a de saída em arquivos. Qual o tamanho dos arquivos gerados?\n",
    "\n",
    "* Crie duas bidimensionais matrizes com valores aleatórios e gere uma única matriz combinando linha a linha"
   ]
  },
  {
   "cell_type": "code",
   "execution_count": 82,
   "metadata": {},
   "outputs": [
    {
     "name": "stdout",
     "output_type": "stream",
     "text": [
      "[ 1  2  3  4  5  6  7  8  9 10]\n",
      "[[ 1  2  3  4  5]\n",
      " [ 6  7  8  9 10]]\n",
      "[[0.20566476 0.89171706]\n",
      " [0.6670927  0.66673919]\n",
      " [0.44215596 0.2534168 ]]\n",
      "[[0.13221161 0.57120044]\n",
      " [0.58788595 0.39545009]\n",
      " [0.53023495 0.1570218 ]]\n",
      "[[0.20566476 0.6670927  0.44215596]\n",
      " [0.89171706 0.66673919 0.2534168 ]]\n",
      "[[0.13221161 0.58788595 0.53023495]\n",
      " [0.57120044 0.39545009 0.1570218 ]]\n",
      "Mult [[0.53654045 0.47353702 0.24906966]\n",
      " [0.46903912 0.6558365  0.45840845]\n",
      " [0.20320994 0.36015098 0.27423851]]\n",
      "Add [[0.20566476 0.89171706]\n",
      " [0.6670927  0.66673919]\n",
      " [0.44215596 0.2534168 ]\n",
      " [0.13221161 0.57120044]\n",
      " [0.58788595 0.39545009]\n",
      " [0.53023495 0.1570218 ]]\n"
     ]
    }
   ],
   "source": [
    "my_array = np.arange(1, 11)\n",
    "print(my_array)\n",
    "my_array = my_array.reshape((2,5))\n",
    "print(my_array)\n",
    "\n",
    "m1 = np.random.random((3,2))\n",
    "m2 = np.random.random((3,2))\n",
    "print(m1)\n",
    "print(m2)\n",
    "print(m1.transpose())\n",
    "print(m2.transpose())\n",
    "\n",
    "mult = np.dot(m1, m2.transpose())\n",
    "print(\"Mult\", mult)\n",
    "add = np.concatenate((m1, m2))\n",
    "print(\"Add\", add)\n",
    "\n",
    "np.savetxt('m1.txt', m1)\n",
    "np.savetxt('m2.txt', m2)\n",
    "np.savetxt('mmult.txt', mult)\n",
    "np.savetxt('madd.txt', add)"
   ]
  },
  {
   "cell_type": "code",
   "execution_count": null,
   "metadata": {},
   "outputs": [],
   "source": []
  }
 ],
 "metadata": {
  "hide_input": false,
  "kernelspec": {
   "display_name": "Python 3",
   "language": "python",
   "name": "python3"
  },
  "language_info": {
   "codemirror_mode": {
    "name": "ipython",
    "version": 3
   },
   "file_extension": ".py",
   "mimetype": "text/x-python",
   "name": "python",
   "nbconvert_exporter": "python",
   "pygments_lexer": "ipython3",
   "version": "3.7.4"
  }
 },
 "nbformat": 4,
 "nbformat_minor": 2
}
