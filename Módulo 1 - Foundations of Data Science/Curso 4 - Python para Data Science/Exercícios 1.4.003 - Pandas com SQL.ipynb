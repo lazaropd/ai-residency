{
 "cells": [
  {
   "cell_type": "markdown",
   "metadata": {},
   "source": [
    "# Titanic\n",
    "\n",
    "## Exercícios\n",
    "\n",
    "1 Leia os dados train.csv usando pandas\n",
    "\n",
    "2 Remova a coluna com nomes de pessoas\n",
    "\n",
    "3 A coluna Cabin contém uma letra e um número. Crie uma nova coluna chamada deck usando apenas a letra de cada registro presente na coluna Cabin.\n",
    "\n",
    "4 Substitua os valores ausentes pela média de valores da coluna\n",
    "\n",
    "5 Os valores da coluna \"embarked\" sao os seguintes: C = Cherbourg, Q = Queenstown, S = Southampton\n",
    "\n",
    "6 Crie um CSV com essas uma coluna nome_cidade_de_embarque: C = Cherbourg, Q = Queenstown, S = Southampton e mais uma coluna chamada população com valores hipotéticos, faça um merge entre o CSV train.csv e esse novo CSV com os nomes das cidades. Implemente um filtro de passageiros por população da cidade de embarque"
   ]
  },
  {
   "cell_type": "code",
   "execution_count": 49,
   "metadata": {
    "scrolled": false
   },
   "outputs": [
    {
     "name": "stdout",
     "output_type": "stream",
     "text": [
      "\n",
      "\n",
      "Shape do arquivo lido do csv: (891, 12)\n",
      "\n",
      "\n",
      "Sample:\n",
      "      PassengerId  Survived  Pclass  \\\n",
      "470          471         0       3   \n",
      "721          722         0       3   \n",
      "538          539         0       3   \n",
      "18            19         0       3   \n",
      "689          690         1       1   \n",
      "\n",
      "                                                  Name     Sex   Age  SibSp  \\\n",
      "470                                  Keefe, Mr. Arthur    male   NaN      0   \n",
      "721                          Jensen, Mr. Svend Lauritz    male  17.0      1   \n",
      "538                           Risien, Mr. Samuel Beard    male   NaN      0   \n",
      "18   Vander Planke, Mrs. Julius (Emelia Maria Vande...  female  31.0      1   \n",
      "689                  Madill, Miss. Georgette Alexandra  female  15.0      0   \n",
      "\n",
      "     Parch  Ticket      Fare Cabin Embarked  \n",
      "470      0  323592    7.2500   NaN        S  \n",
      "721      0  350048    7.0542   NaN        S  \n",
      "538      0  364498   14.5000   NaN        S  \n",
      "18       0  345763   18.0000   NaN        S  \n",
      "689      1   24160  211.3375    B5        S  \n",
      "\n",
      "\n",
      "Comando para criar tabela:\n",
      " CREATE TABLE titanic (PassengerId INTEGER, Survived INTEGER, Pclass INTEGER, Name TEXT, Sex TEXT, Age INTEGER, SibSp INTEGER, Parch INTEGER, Ticket TEXT, Fare INTEGER, Cabin TEXT, Embarked TEXT);\n",
      "\n",
      "\n",
      "Shape do arquivo lido do database: (891, 12)\n"
     ]
    }
   ],
   "source": [
    "import pandas as pd\n",
    "import numpy as np\n",
    "import sqlite3\n",
    "\n",
    "\n",
    "url = \"https://raw.githubusercontent.com/advinstai/python-datascience/master/Exercicios/titanic/train.csv\"\n",
    "csv_data = pd.read_csv(url, encoding=\"utf-8\", sep=\",\")\n",
    "print(\"\\n\\nShape do arquivo lido do csv:\", csv_data.shape)\n",
    "print(\"\\n\\nSample:\\n\", csv_data.sample(5))\n",
    "\n",
    "# connection to the database, create if database not exists\n",
    "con = sqlite3.connect('database.db', timeout=10)\n",
    "cur = con.cursor()\n",
    "cur.execute(\"DROP TABLE IF EXISTS titanic;\")\n",
    "\n",
    "# create a sql statement from dataframe data automatically\n",
    "def getType(column, dfcolumn):\n",
    "    aux = \" INTEGER\" if (dfcolumn.dtype == np.float64 or dfcolumn.dtype == np.int64) else \" TEXT\"\n",
    "    return column + aux\n",
    "columns = [getType(column, csv_data[column]) for column in csv_data.columns]  \n",
    "sql_create = \"CREATE TABLE titanic (\" + ', '.join(columns) + \");\"\n",
    "print(\"\\n\\nComando para criar tabela:\\n\", sql_create)\n",
    "#cur.execute(sql_create)\n",
    "\n",
    "# alternatively one can create a new table directly from csv file using\n",
    "csv_data.to_sql('titanic', con, if_exists='append', index=False)\n",
    "db_data = pd.read_sql_query(\"SELECT * FROM titanic;\", con)\n",
    "print(\"\\n\\nShape do arquivo lido do database:\", db_data.shape)\n",
    "\n",
    "con.commit()\n",
    "con.close()\n",
    "!fuser database.db # check if all processes were terminated"
   ]
  },
  {
   "cell_type": "code",
   "execution_count": 50,
   "metadata": {},
   "outputs": [
    {
     "name": "stdout",
     "output_type": "stream",
     "text": [
      "Shape antes:  (891, 12)\n",
      "     PassengerId  Survived  Pclass     Sex   Age  SibSp  Parch  \\\n",
      "0              1         0       3    male  22.0      1      0   \n",
      "1              2         1       1  female  38.0      1      0   \n",
      "2              3         1       3  female  26.0      0      0   \n",
      "3              4         1       1  female  35.0      1      0   \n",
      "4              5         0       3    male  35.0      0      0   \n",
      "..           ...       ...     ...     ...   ...    ...    ...   \n",
      "886          887         0       2    male  27.0      0      0   \n",
      "887          888         1       1  female  19.0      0      0   \n",
      "888          889         0       3  female   NaN      1      2   \n",
      "889          890         1       1    male  26.0      0      0   \n",
      "890          891         0       3    male  32.0      0      0   \n",
      "\n",
      "               Ticket     Fare Cabin Embarked  \n",
      "0           A/5 21171   7.2500   NaN        S  \n",
      "1            PC 17599  71.2833   C85        C  \n",
      "2    STON/O2. 3101282   7.9250   NaN        S  \n",
      "3              113803  53.1000  C123        S  \n",
      "4              373450   8.0500   NaN        S  \n",
      "..                ...      ...   ...      ...  \n",
      "886            211536  13.0000   NaN        S  \n",
      "887            112053  30.0000   B42        S  \n",
      "888        W./C. 6607  23.4500   NaN        S  \n",
      "889            111369  30.0000  C148        C  \n",
      "890            370376   7.7500   NaN        Q  \n",
      "\n",
      "[891 rows x 11 columns]\n"
     ]
    }
   ],
   "source": [
    "#2 Remova a coluna com nomes de pessoas\n",
    "\n",
    "print(\"Shape antes: \", csv_data.shape)\n",
    "csv_data = csv_data.drop('Name', axis=1)\n",
    "print(csv_data)"
   ]
  },
  {
   "cell_type": "code",
   "execution_count": 51,
   "metadata": {},
   "outputs": [
    {
     "name": "stdout",
     "output_type": "stream",
     "text": [
      "     PassengerId  Survived  Pclass     Sex   Age  SibSp  Parch  \\\n",
      "0              1         0       3    male  22.0      1      0   \n",
      "1              2         1       1  female  38.0      1      0   \n",
      "2              3         1       3  female  26.0      0      0   \n",
      "3              4         1       1  female  35.0      1      0   \n",
      "4              5         0       3    male  35.0      0      0   \n",
      "..           ...       ...     ...     ...   ...    ...    ...   \n",
      "886          887         0       2    male  27.0      0      0   \n",
      "887          888         1       1  female  19.0      0      0   \n",
      "888          889         0       3  female   NaN      1      2   \n",
      "889          890         1       1    male  26.0      0      0   \n",
      "890          891         0       3    male  32.0      0      0   \n",
      "\n",
      "               Ticket     Fare Cabin Embarked Deck DeckNum  \n",
      "0           A/5 21171   7.2500   NaN        S  NaN     NaN  \n",
      "1            PC 17599  71.2833   C85        C    C      85  \n",
      "2    STON/O2. 3101282   7.9250   NaN        S  NaN     NaN  \n",
      "3              113803  53.1000  C123        S    C     123  \n",
      "4              373450   8.0500   NaN        S  NaN     NaN  \n",
      "..                ...      ...   ...      ...  ...     ...  \n",
      "886            211536  13.0000   NaN        S  NaN     NaN  \n",
      "887            112053  30.0000   B42        S    B      42  \n",
      "888        W./C. 6607  23.4500   NaN        S  NaN     NaN  \n",
      "889            111369  30.0000  C148        C    C     148  \n",
      "890            370376   7.7500   NaN        Q  NaN     NaN  \n",
      "\n",
      "[891 rows x 13 columns]\n"
     ]
    }
   ],
   "source": [
    "#3 A coluna Cabin contém uma letra e um número. \n",
    "#Crie uma nova coluna chamada deck usando apenas a letra de cada registro presente na coluna Cabin.\n",
    "\n",
    "# add a new column using loc\n",
    "csv_data.loc[csv_data['Cabin'].notnull(), 'Deck'] = csv_data['Cabin'].str[0]\n",
    "\n",
    "# add a new column using filters\n",
    "csv_data['DeckNum'] = csv_data[csv_data['Cabin'].notnull()]['Cabin'].apply(lambda x: x[1:])\n",
    "print(csv_data)\n",
    "#csv_data = csv_data.loc[csv_data['Cabin'].notnull()[0], 'Deck']"
   ]
  },
  {
   "cell_type": "code",
   "execution_count": 52,
   "metadata": {},
   "outputs": [
    {
     "name": "stdout",
     "output_type": "stream",
     "text": [
      "PassengerId      0\n",
      "Survived         0\n",
      "Pclass           0\n",
      "Sex              0\n",
      "Age            177\n",
      "SibSp            0\n",
      "Parch            0\n",
      "Ticket           0\n",
      "Fare             0\n",
      "Cabin          687\n",
      "Embarked         2\n",
      "Deck           687\n",
      "DeckNum        687\n",
      "dtype: int64\n",
      "PassengerId      0\n",
      "Survived         0\n",
      "Pclass           0\n",
      "Sex              0\n",
      "Age              0\n",
      "SibSp            0\n",
      "Parch            0\n",
      "Ticket           0\n",
      "Fare             0\n",
      "Cabin          687\n",
      "Embarked         2\n",
      "Deck           687\n",
      "DeckNum        687\n",
      "dtype: int64\n"
     ]
    }
   ],
   "source": [
    "#4 Substitua os valores ausentes pela média de valores da coluna\n",
    "\n",
    "print(csv_data.isnull().sum())\n",
    "csv_data_filled = csv_data.fillna(csv_data.mean())\n",
    "print(csv_data_filled.isnull().sum())"
   ]
  },
  {
   "cell_type": "code",
   "execution_count": 65,
   "metadata": {},
   "outputs": [
    {
     "name": "stdout",
     "output_type": "stream",
     "text": [
      "  city_id          city     pop\n",
      "0       C     Cherbourg  234234\n",
      "1       Q    Queenstown  134123\n",
      "2       S  Southhampton   52452\n",
      "(891, 15)\n",
      "     PassengerId  Survived  Pclass     Sex        Age  SibSp  Parch  \\\n",
      "0              1         0       3    male  22.000000      1      0   \n",
      "1              2         1       1  female  38.000000      1      0   \n",
      "2              3         1       3  female  26.000000      0      0   \n",
      "3              4         1       1  female  35.000000      1      0   \n",
      "4              5         0       3    male  35.000000      0      0   \n",
      "..           ...       ...     ...     ...        ...    ...    ...   \n",
      "886          887         0       2    male  27.000000      0      0   \n",
      "887          888         1       1  female  19.000000      0      0   \n",
      "888          889         0       3  female  29.699118      1      2   \n",
      "889          890         1       1    male  26.000000      0      0   \n",
      "890          891         0       3    male  32.000000      0      0   \n",
      "\n",
      "               Ticket     Fare Cabin Embarked Deck DeckNum          city  \\\n",
      "0           A/5 21171   7.2500   NaN        S  NaN     NaN  Southhampton   \n",
      "1            PC 17599  71.2833   C85        C    C      85     Cherbourg   \n",
      "2    STON/O2. 3101282   7.9250   NaN        S  NaN     NaN  Southhampton   \n",
      "3              113803  53.1000  C123        S    C     123  Southhampton   \n",
      "4              373450   8.0500   NaN        S  NaN     NaN  Southhampton   \n",
      "..                ...      ...   ...      ...  ...     ...           ...   \n",
      "886            211536  13.0000   NaN        S  NaN     NaN  Southhampton   \n",
      "887            112053  30.0000   B42        S    B      42  Southhampton   \n",
      "888        W./C. 6607  23.4500   NaN        S  NaN     NaN  Southhampton   \n",
      "889            111369  30.0000  C148        C    C     148     Cherbourg   \n",
      "890            370376   7.7500   NaN        Q  NaN     NaN    Queenstown   \n",
      "\n",
      "          pop  \n",
      "0     52452.0  \n",
      "1    234234.0  \n",
      "2     52452.0  \n",
      "3     52452.0  \n",
      "4     52452.0  \n",
      "..        ...  \n",
      "886   52452.0  \n",
      "887   52452.0  \n",
      "888   52452.0  \n",
      "889  234234.0  \n",
      "890  134123.0  \n",
      "\n",
      "[891 rows x 15 columns]\n"
     ]
    }
   ],
   "source": [
    "# 5 Os valores da coluna \"embarked\" sao os seguintes: C = Cherbourg, Q = Queenstown, S = Southampton\n",
    "# 6 Crie um CSV com essas uma coluna nome_cidade_de_embarque: \n",
    "#   C = Cherbourg, Q = Queenstown, S = Southampton e mais uma coluna chamada população com valores hipotéticos, \n",
    "#    faça um merge entre o CSV train.csv e esse novo CSV com os nomes das cidades. \n",
    "#    Implemente um filtro de passageiros por população da cidade de embarque\n",
    "\n",
    "cities = pd.DataFrame({'city_id': ['C','Q','S'], \n",
    "                       'city': ['Cherbourg','Queenstown','Southhampton'], \n",
    "                       'pop': [234234,134123,52452]})\n",
    "\n",
    "print(cities)\n",
    "\n",
    "merged = pd.merge(csv_data_filled, cities, left_on='Embarked', right_on='city_id', how='left')\n",
    "print(merged.drop('city_id', axis=1).shape)\n",
    "print(merged.drop('city_id', axis=1))"
   ]
  },
  {
   "cell_type": "code",
   "execution_count": null,
   "metadata": {},
   "outputs": [],
   "source": []
  }
 ],
 "metadata": {
  "hide_input": false,
  "kernelspec": {
   "display_name": "Python 3",
   "language": "python",
   "name": "python3"
  },
  "language_info": {
   "codemirror_mode": {
    "name": "ipython",
    "version": 3
   },
   "file_extension": ".py",
   "mimetype": "text/x-python",
   "name": "python",
   "nbconvert_exporter": "python",
   "pygments_lexer": "ipython3",
   "version": "3.7.4"
  }
 },
 "nbformat": 4,
 "nbformat_minor": 2
}
