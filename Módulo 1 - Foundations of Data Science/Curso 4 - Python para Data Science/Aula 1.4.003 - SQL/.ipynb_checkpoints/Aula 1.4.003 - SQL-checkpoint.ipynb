{
 "cells": [
  {
   "cell_type": "code",
   "execution_count": 11,
   "metadata": {},
   "outputs": [
    {
     "name": "stdout",
     "output_type": "stream",
     "text": [
      "<sqlite3.Connection object at 0x7f5f4f385650>\n",
      "         id   personal    family\n",
      "0      dyer    William      Dyer\n",
      "1        pb      Frank   Pabodie\n",
      "2      lake   Anderson      Lake\n",
      "3       roe  Valentina   Roerich\n",
      "4  danforth      Frank  Danforth\n"
     ]
    }
   ],
   "source": [
    "import sqlite3\n",
    "import pandas as pd\n",
    "\n",
    "cnx = sqlite3.connect('survey.db')\n",
    "print(cnx)\n",
    "\n",
    "dfPerson = pd.read_sql_query(\"SELECT * FROM person;\", cnx)\n",
    "print(dfPerson)"
   ]
  },
  {
   "cell_type": "code",
   "execution_count": 18,
   "metadata": {},
   "outputs": [
    {
     "name": "stdout",
     "output_type": "stream",
     "text": [
      "    id   site       dated\n",
      "0  619   DR-1  1927-02-08\n",
      "1  622   DR-1  1927-02-10\n",
      "2  734   DR-3  1930-01-07\n",
      "3  735   DR-3  1930-01-12\n",
      "4  751   DR-3  1930-02-26\n",
      "5  752   DR-3        None\n",
      "6  837  MSK-4  1932-01-14\n",
      "7  844   DR-1  1932-03-22\n",
      "Empty DataFrame\n",
      "Columns: [id, site, dated]\n",
      "Index: []\n",
      "Empty DataFrame\n",
      "Columns: [id, site, dated]\n",
      "Index: []\n"
     ]
    }
   ],
   "source": [
    "dfVisited = pd.read_sql_query(\"SELECT * FROM visited;\", cnx)\n",
    "print(dfVisited)\n",
    "print(dfVisited[(dfVisited['dated'] < '1930-01-01') & (dfVisited['site'] == 'DR-3')])\n",
    "\n",
    "dfVisited = pd.read_sql_query(\"SELECT * FROM visited WHERE site='DR-3' AND dated<'1930-01-01';\", cnx)\n",
    "print(dfVisited)"
   ]
  },
  {
   "cell_type": "code",
   "execution_count": null,
   "metadata": {},
   "outputs": [],
   "source": []
  }
 ],
 "metadata": {
  "hide_input": false,
  "kernelspec": {
   "display_name": "Python 3",
   "language": "python",
   "name": "python3"
  },
  "language_info": {
   "codemirror_mode": {
    "name": "ipython",
    "version": 3
   },
   "file_extension": ".py",
   "mimetype": "text/x-python",
   "name": "python",
   "nbconvert_exporter": "python",
   "pygments_lexer": "ipython3",
   "version": "3.7.4"
  }
 },
 "nbformat": 4,
 "nbformat_minor": 2
}
