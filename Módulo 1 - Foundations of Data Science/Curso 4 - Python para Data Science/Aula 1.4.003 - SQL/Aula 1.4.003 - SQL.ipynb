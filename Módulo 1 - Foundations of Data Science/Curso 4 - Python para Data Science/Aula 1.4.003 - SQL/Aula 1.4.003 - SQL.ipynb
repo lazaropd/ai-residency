{
 "cells": [
  {
   "cell_type": "code",
   "execution_count": 11,
   "metadata": {},
   "outputs": [
    {
     "name": "stdout",
     "output_type": "stream",
     "text": [
      "<sqlite3.Connection object at 0x7f5f4f385650>\n",
      "         id   personal    family\n",
      "0      dyer    William      Dyer\n",
      "1        pb      Frank   Pabodie\n",
      "2      lake   Anderson      Lake\n",
      "3       roe  Valentina   Roerich\n",
      "4  danforth      Frank  Danforth\n"
     ]
    }
   ],
   "source": [
    "import sqlite3\n",
    "import pandas as pd\n",
    "\n",
    "cnx = sqlite3.connect('survey.db')\n",
    "print(cnx)\n",
    "\n",
    "dfPerson = pd.read_sql_query(\"SELECT * FROM person;\", cnx)\n",
    "print(dfPerson)"
   ]
  },
  {
   "cell_type": "code",
   "execution_count": 25,
   "metadata": {},
   "outputs": [
    {
     "name": "stdout",
     "output_type": "stream",
     "text": [
      "    id   site       dated\n",
      "0  619   DR-1  1927-02-08\n",
      "1  622   DR-1  1927-02-10\n",
      "2  734   DR-3  1930-01-07\n",
      "3  735   DR-3  1930-01-12\n",
      "4  751   DR-3  1930-02-26\n",
      "5  752   DR-3        None\n",
      "6  837  MSK-4  1932-01-14\n",
      "7  844   DR-1  1932-03-22\n",
      "    name    lat    long\n",
      "0   DR-1 -49.85 -128.57\n",
      "1   DR-3 -47.15 -126.72\n",
      "2  MSK-4 -48.87 -123.40\n",
      "Empty DataFrame\n",
      "Columns: [id, site, dated]\n",
      "Index: []\n",
      "Empty DataFrame\n",
      "Columns: [id, site, dated]\n",
      "Index: []\n"
     ]
    }
   ],
   "source": [
    "dfVisited = pd.read_sql_query(\"SELECT * FROM visited;\", cnx)\n",
    "print(dfVisited)\n",
    "\n",
    "dfSites = pd.read_sql_query(\"SELECT * FROM site;\", cnx)\n",
    "print(dfSites)\n",
    "\n",
    "print(dfVisited[(dfVisited['dated'] < '1930-01-01') & (dfVisited['site'] == 'DR-3')])\n",
    "\n",
    "dfVisited = pd.read_sql_query(\"SELECT * FROM visited WHERE site='DR-3' AND dated<'1930-01-01';\", cnx)\n",
    "print(dfVisited)"
   ]
  },
  {
   "cell_type": "code",
   "execution_count": 21,
   "metadata": {},
   "outputs": [
    {
     "name": "stdout",
     "output_type": "stream",
     "text": [
      "    id   site       dated   name    lat    long\n",
      "0  619   DR-1  1927-02-08   DR-1 -49.85 -128.57\n",
      "1  622   DR-1  1927-02-10   DR-1 -49.85 -128.57\n",
      "2  734   DR-3  1930-01-07   DR-3 -47.15 -126.72\n",
      "3  735   DR-3  1930-01-12   DR-3 -47.15 -126.72\n",
      "4  751   DR-3  1930-02-26   DR-3 -47.15 -126.72\n",
      "5  752   DR-3        None   DR-3 -47.15 -126.72\n",
      "6  837  MSK-4  1932-01-14  MSK-4 -48.87 -123.40\n",
      "7  844   DR-1  1932-03-22   DR-1 -49.85 -128.57\n"
     ]
    }
   ],
   "source": [
    "dfInner = pd.read_sql_query(\"SELECT * FROM visited v LEFT JOIN site s ON v.site = s.name;\", cnx)\n",
    "print(dfInner)"
   ]
  },
  {
   "cell_type": "code",
   "execution_count": 46,
   "metadata": {},
   "outputs": [
    {
     "name": "stdout",
     "output_type": "stream",
     "text": [
      "    id   site       dated   name    lat    long\n",
      "0  619   DR-1  1927-02-08   DR-1 -49.85 -128.57\n",
      "1  622   DR-1  1927-02-10   DR-1 -49.85 -128.57\n",
      "2  734   DR-3  1930-01-07   DR-3 -47.15 -126.72\n",
      "3  735   DR-3  1930-01-12   DR-3 -47.15 -126.72\n",
      "4  751   DR-3  1930-02-26   DR-3 -47.15 -126.72\n",
      "5  752   DR-3        None   DR-3 -47.15 -126.72\n",
      "6  837  MSK-4  1932-01-14  MSK-4 -48.87 -123.40\n",
      "7  844   DR-1  1932-03-22   DR-1 -49.85 -128.57\n",
      "    id   site       dated   name    lat    long\n",
      "0  619   DR-1  1927-02-08   DR-1 -49.85 -128.57\n",
      "1  622   DR-1  1927-02-10   DR-1 -49.85 -128.57\n",
      "2  734   DR-3  1930-01-07   DR-3 -47.15 -126.72\n",
      "3  735   DR-3  1930-01-12   DR-3 -47.15 -126.72\n",
      "4  751   DR-3  1930-02-26   DR-3 -47.15 -126.72\n",
      "5  752   DR-3        None   DR-3 -47.15 -126.72\n",
      "6  837  MSK-4  1932-01-14  MSK-4 -48.87 -123.40\n",
      "7  844   DR-1  1932-03-22   DR-1 -49.85 -128.57\n"
     ]
    }
   ],
   "source": [
    "dfInner = pd.read_sql_query(\"SELECT * FROM visited v INNER JOIN site s ON v.site = s.name;\", cnx)\n",
    "print(dfInner)\n",
    "\n",
    "dfInner = pd.read_sql_query(\"SELECT * FROM visited v LEFT JOIN site s ON v.site = s.name;\", cnx)\n",
    "print(dfInner)"
   ]
  },
  {
   "cell_type": "code",
   "execution_count": 26,
   "metadata": {},
   "outputs": [
    {
     "name": "stdout",
     "output_type": "stream",
     "text": [
      "    id   site       dated   name    lat    long\n",
      "0  619   DR-1  1927-02-08   DR-1 -49.85 -128.57\n",
      "1  622   DR-1  1927-02-10   DR-1 -49.85 -128.57\n",
      "2  734   DR-3  1930-01-07   DR-3 -47.15 -126.72\n",
      "3  735   DR-3  1930-01-12   DR-3 -47.15 -126.72\n",
      "4  751   DR-3  1930-02-26   DR-3 -47.15 -126.72\n",
      "5  752   DR-3        None   DR-3 -47.15 -126.72\n",
      "6  837  MSK-4  1932-01-14  MSK-4 -48.87 -123.40\n",
      "7  844   DR-1  1932-03-22   DR-1 -49.85 -128.57\n"
     ]
    }
   ],
   "source": [
    "dfInner = pd.read_sql_query(\"SELECT * FROM visited v, site s WHERE v.site = s.name;\", cnx)\n",
    "print(dfInner)"
   ]
  },
  {
   "cell_type": "code",
   "execution_count": 28,
   "metadata": {},
   "outputs": [
    {
     "name": "stdout",
     "output_type": "stream",
     "text": [
      "    taken quant\n",
      "0     619   rad\n",
      "1     622   rad\n",
      "2     734   rad\n",
      "3     735   rad\n",
      "4     751   rad\n",
      "5     752   rad\n",
      "6     837   rad\n",
      "7     844   rad\n",
      "8     619   sal\n",
      "9     622   sal\n",
      "10    734   sal\n",
      "11    735   sal\n",
      "12    751   sal\n",
      "13    752   sal\n",
      "14    837   sal\n",
      "15    734  temp\n",
      "16    735  temp\n",
      "17    751  temp\n",
      "18    752  temp\n"
     ]
    }
   ],
   "source": [
    "dfSurvey = pd.read_sql_query(\"SELECT DISTINCT taken, quant FROM Survey ORDER BY quant;\", cnx)\n",
    "print(dfSurvey)"
   ]
  },
  {
   "cell_type": "code",
   "execution_count": 38,
   "metadata": {},
   "outputs": [
    {
     "name": "stdout",
     "output_type": "stream",
     "text": [
      "    taken person quant  reading\n",
      "0     619   dyer   rad     9.82\n",
      "1     619   dyer   sal     0.13\n",
      "2     622   dyer   rad     7.80\n",
      "3     622   dyer   sal     0.09\n",
      "4     734     pb   rad     8.41\n",
      "5     734   lake   sal     0.05\n",
      "6     734     pb  temp   -21.50\n",
      "7     735     pb   rad     7.22\n",
      "8     735   None   sal     0.06\n",
      "9     735   None  temp   -26.00\n",
      "10    751     pb   rad     4.35\n",
      "11    751     pb  temp   -18.50\n",
      "12    751   lake   sal     0.10\n",
      "13    752   lake   rad     2.19\n",
      "14    752   lake   sal     0.09\n",
      "15    752   lake  temp   -16.00\n",
      "16    752    roe   sal    41.60\n",
      "17    837   lake   rad     1.46\n",
      "18    837   lake   sal     0.21\n",
      "19    837    roe   sal    22.50\n",
      "20    844    roe   rad    11.25\n",
      "  quant  Count\n",
      "0  temp      4\n",
      "1   sal      9\n",
      "2   rad      8\n",
      "   taken person quant  reading\n",
      "0    734   lake   sal     0.05\n",
      "1    751   lake   sal     0.10\n",
      "2    752   lake   rad     2.19\n",
      "3    752   lake   sal     0.09\n",
      "4    752   lake  temp   -16.00\n",
      "5    752    roe   sal    41.60\n",
      "6    837   lake   rad     1.46\n",
      "7    837   lake   sal     0.21\n",
      "8    837    roe   sal    22.50\n",
      "9    844    roe   rad    11.25\n"
     ]
    }
   ],
   "source": [
    "dfSurvey = pd.read_sql_query(\"SELECT * FROM Survey;\", cnx)\n",
    "print(dfSurvey)\n",
    "\n",
    "dfSurvey = pd.read_sql_query(\"SELECT quant, COUNT(quant) as Count FROM Survey GROUP BY quant ORDER BY quant DESC;\", cnx)\n",
    "print(dfSurvey)\n",
    "\n",
    "dfSurvey= pd.read_sql_query(\"SELECT * FROM Survey WHERE person IN ('lake', 'roe');\", cnx)\n",
    "print(dfSurvey)"
   ]
  },
  {
   "cell_type": "code",
   "execution_count": 48,
   "metadata": {},
   "outputs": [
    {
     "name": "stdout",
     "output_type": "stream",
     "text": [
      "<sqlite3.Connection object at 0x7f5f4f385ab0>\n",
      "    name    lat    long\n",
      "0   DR-1 -49.85 -128.57\n",
      "1   DR-3 -47.15 -126.72\n",
      "2  MSK-4 -48.87 -123.40\n",
      "    id   site       dated\n",
      "0  619   DR-1  1927-02-08\n",
      "1  622   DR-1  1927-02-10\n",
      "2  734   DR-3  1930-01-07\n",
      "3  735   DR-3  1930-01-12\n",
      "4  751   DR-3  1930-02-26\n",
      "5  752   DR-3        None\n",
      "6  837  MSK-4  1932-01-14\n",
      "7  844   DR-1  1932-03-22\n",
      "    name    lat    long   id       dated\n",
      "0   DR-1 -49.85 -128.57  619  1927-02-08\n",
      "1   DR-1 -49.85 -128.57  622  1927-02-10\n",
      "2   DR-1 -49.85 -128.57  844  1932-03-22\n",
      "3   DR-3 -47.15 -126.72  734  1930-01-07\n",
      "4   DR-3 -47.15 -126.72  735  1930-01-12\n",
      "5   DR-3 -47.15 -126.72  751  1930-02-26\n",
      "6   DR-3 -47.15 -126.72  752        None\n",
      "7  MSK-4 -48.87 -123.40  837  1932-01-14\n"
     ]
    }
   ],
   "source": [
    "import sqlite3\n",
    "import pandas as pd\n",
    "\n",
    "cnx = sqlite3.connect('survey.db')\n",
    "print(cnx)\n",
    "\n",
    "dfSites = pd.read_sql_query(\"SELECT * FROM site;\", cnx)\n",
    "dfVisited = pd.read_sql_query(\"SELECT * FROM visited;\", cnx)\n",
    "\n",
    "dfMerge = pd.merge(dfSites, dfVisited, left_on='name', right_on='site', how='outer').drop('site', axis=1)\n",
    "print(dfSites)\n",
    "print(dfVisited)\n",
    "print(dfMerge)"
   ]
  },
  {
   "cell_type": "code",
   "execution_count": 50,
   "metadata": {},
   "outputs": [
    {
     "name": "stdout",
     "output_type": "stream",
     "text": [
      "  person  count(reading)  round(avg(reading), 2)\n",
      "0   None               2                  -12.97\n",
      "1   dyer               4                    4.46\n",
      "2   lake               7                   -1.70\n",
      "3     pb               5                   -4.00\n",
      "4    roe               3                   25.12\n"
     ]
    }
   ],
   "source": [
    "dfsurvey = pd.read_sql_query(\"SELECT person, count(reading), round(avg(reading), 2) FROM  Survey GROUP BY person;\", cnx)\n",
    "print(dfsurvey)"
   ]
  },
  {
   "cell_type": "code",
   "execution_count": 56,
   "metadata": {},
   "outputs": [
    {
     "name": "stdout",
     "output_type": "stream",
     "text": [
      "        taken  quant  reading\n",
      "person                       \n",
      "dyer        4      4        4\n",
      "lake        7      7        7\n",
      "pb          5      5        5\n",
      "roe         3      3        3\n",
      "reading mean  4.46\n",
      "reading mean  -1.6999999999999997\n",
      "reading mean  -4.004\n",
      "reading mean  25.116666666666664\n",
      "person  dyer  taken     taken person quant  reading\n",
      "0    619   dyer   rad     9.82\n",
      "1    619   dyer   sal     0.13\n",
      "2    622   dyer   rad     7.80\n",
      "3    622   dyer   sal     0.09\n",
      "person  lake  taken      taken person quant  reading\n",
      "5     734   lake   sal     0.05\n",
      "12    751   lake   sal     0.10\n",
      "13    752   lake   rad     2.19\n",
      "14    752   lake   sal     0.09\n",
      "15    752   lake  temp   -16.00\n",
      "17    837   lake   rad     1.46\n",
      "18    837   lake   sal     0.21\n",
      "person  pb  taken      taken person quant  reading\n",
      "4     734     pb   rad     8.41\n",
      "6     734     pb  temp   -21.50\n",
      "7     735     pb   rad     7.22\n",
      "10    751     pb   rad     4.35\n",
      "11    751     pb  temp   -18.50\n",
      "person  roe  taken      taken person quant  reading\n",
      "16    752    roe   sal    41.60\n",
      "19    837    roe   sal    22.50\n",
      "20    844    roe   rad    11.25\n"
     ]
    }
   ],
   "source": [
    "dfsurvey = pd.read_sql_query(\"SELECT * FROM Survey\", cnx)\n",
    "\n",
    "gby=dfsurvey.groupby('person').count()\n",
    "print(gby)\n",
    "    \n",
    "gby=dfsurvey.groupby('person')['reading'].mean()\n",
    "for (g) in gby:\n",
    "    print(\"reading mean \", g)\n",
    "    \n",
    "gby=dfsurvey.groupby('person')\n",
    "for (person, taken) in gby:\n",
    "    print(\"person \", person, \" taken \", taken)"
   ]
  },
  {
   "cell_type": "code",
   "execution_count": null,
   "metadata": {},
   "outputs": [],
   "source": []
  }
 ],
 "metadata": {
  "hide_input": false,
  "kernelspec": {
   "display_name": "Python 3",
   "language": "python",
   "name": "python3"
  },
  "language_info": {
   "codemirror_mode": {
    "name": "ipython",
    "version": 3
   },
   "file_extension": ".py",
   "mimetype": "text/x-python",
   "name": "python",
   "nbconvert_exporter": "python",
   "pygments_lexer": "ipython3",
   "version": "3.7.4"
  }
 },
 "nbformat": 4,
 "nbformat_minor": 2
}
