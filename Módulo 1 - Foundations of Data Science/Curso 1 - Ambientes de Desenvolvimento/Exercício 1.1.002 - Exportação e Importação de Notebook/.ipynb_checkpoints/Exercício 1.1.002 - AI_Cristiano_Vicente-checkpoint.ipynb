{
 "cells": [
  {
   "cell_type": "code",
   "execution_count": 3,
   "metadata": {
    "slideshow": {
     "slide_type": "skip"
    }
   },
   "outputs": [
    {
     "name": "stdout",
     "output_type": "stream",
     "text": [
      "Salvando as imagens...\n",
      "\n",
      "Arquivo Nascar overtake\n",
      "img/Nascar_overtake.jpg\n",
      "\n",
      "Arquivo Grand Canyon\n",
      "img/Grand_canyon.jpg\n",
      "\n",
      "Arquivo Praia do Rosa\n",
      "img/Praia_do_rosa.jpeg\n",
      "\n",
      "Arquivo Corcel Amarelo-Ovo\n",
      "img/Corcel_amarelo-ovo.jpg\n",
      "\n",
      "Arquivo Jegue\n",
      "img/Jegue.jpg\n",
      "\n",
      "Arquivo Brandenburg Gate\n",
      "img/Brandenburg_gate.jpg\n",
      "\n",
      "Arquivo Chernobyl\n",
      "img/Chernobyl.jpg\n",
      "\n",
      "Arquivo Motherland Calls\n",
      "img/Motherland_calls.jpg\n",
      "\n",
      "Arquivo New Orleans\n",
      "img/New_orleans.jpg\n",
      "\n",
      "Arquivo monkey\n",
      "img/Monkey.jpg\n"
     ]
    }
   ],
   "source": [
    "import os\n",
    "import string\n",
    "import wget\n",
    "\n",
    "lista = [[\"Nascar overtake\",\"https://www.mrn.com/wp-content/uploads/sites/17/2017/12/18-Clash-1.jpg\"], \n",
    "         [\"Grand Canyon\", \"https://fr9284fb2if174w8g40vzal5-wpengine.netdna-ssl.com/wp-content/uploads/2012/12/predawn-800x480.jpg\"],\n",
    "         [\"Praia do Rosa\", \"https://abrilviagemeturismo.files.wordpress.com/2016/12/08-8h.jpeg\"],\n",
    "         [\"Corcel Amarelo-Ovo\", \"https://statig1.akamaized.net/bancodeimagens/0b/xh/8t/0bxh8taeatbw8qdi0u97vhshq.jpg\"],\n",
    "         [\"Jegue\", \"https://segredosdomundo.r7.com/wp-content/uploads/2019/08/descubra-a-diferenca-entre-jumento-jegue-burro-mula-e-bardoto-4.jpg\"],\n",
    "         [\"Brandenburg Gate\", \"https://upload.wikimedia.org/wikipedia/commons/2/2b/Berlin_Brandenburger_Tor_Abend.jpg\"],\n",
    "         [\"Chernobyl\", \"https://statig3.akamaized.net/bancodeimagens/a2/s5/2w/a2s52wrdfa5em9zhcrfhnvwgk.jpg\"],\n",
    "         [\"Motherland Calls\", \"http://www.lazerhorse.org/wp-content/uploads/2015/11/The-Mother-Land-Statue-Volgograd-shouting-woman.jpg\"],\n",
    "         [\"New Orleans\", \"https://www.tripsavvy.com/thmb/Rdvc6TeRyBlvU8R4P5D5otiOLrQ=/950x0/filters:no_upscale():max_bytes(150000):strip_icc():format(webp)/streetcar-in-new-orleans-699112771-5a98de0d1f4e130036d2e855.jpg\"],\n",
    "         [\"monkey\", \"https://cdn.vox-cdn.com/thumbor/h5QribQQUz3SbtfcKoJoWrwNZm0=/0x0:666x444/920x613/filters:focal(266x140:372x246):format(webp)/cdn.vox-cdn.com/uploads/chorus_image/image/59491841/Macaca_nigra_self-portrait__rotated_and_cropped_.0.jpg\"]]\n",
    "\n",
    "\n",
    "try:\n",
    "    if not os.path.exists(\"img\"):\n",
    "        os.mkdir(\"img\")\n",
    "except:\n",
    "    print(\"Não foi possível criar o diretório\")\n",
    "    \n",
    "\n",
    "print(\"Salvando as imagens...\")\n",
    "for img in lista:\n",
    "    print(\"\\nArquivo %s\" % img[0])\n",
    "    file_name, file_ext = os.path.splitext(img[1])\n",
    "    img_name = img[0].lower().capitalize().replace(\" \", \"_\")\n",
    "    img_name = \"img/\" + img_name + file_ext\n",
    "    print(img_name)\n",
    "    img.append(img_name)\n",
    "    #wget.download(img[1], img_name)    "
   ]
  },
  {
   "cell_type": "code",
   "execution_count": 4,
   "metadata": {
    "slideshow": {
     "slide_type": "skip"
    }
   },
   "outputs": [
    {
     "name": "stdout",
     "output_type": "stream",
     "text": [
      "![https://www.mrn.com/wp-content/uploads/sites/17/2017/12/18-Clash-1.jpg](img/Nascar_overtake.jpg)\n",
      "![https://fr9284fb2if174w8g40vzal5-wpengine.netdna-ssl.com/wp-content/uploads/2012/12/predawn-800x480.jpg](img/Grand_canyon.jpg)\n",
      "![https://abrilviagemeturismo.files.wordpress.com/2016/12/08-8h.jpeg](img/Praia_do_rosa.jpeg)\n",
      "![https://statig1.akamaized.net/bancodeimagens/0b/xh/8t/0bxh8taeatbw8qdi0u97vhshq.jpg](img/Corcel_amarelo-ovo.jpg)\n",
      "![https://segredosdomundo.r7.com/wp-content/uploads/2019/08/descubra-a-diferenca-entre-jumento-jegue-burro-mula-e-bardoto-4.jpg](img/Jegue.jpg)\n",
      "![https://upload.wikimedia.org/wikipedia/commons/2/2b/Berlin_Brandenburger_Tor_Abend.jpg](img/Brandenburg_gate.jpg)\n",
      "![https://statig3.akamaized.net/bancodeimagens/a2/s5/2w/a2s52wrdfa5em9zhcrfhnvwgk.jpg](img/Chernobyl.jpg)\n",
      "![http://www.lazerhorse.org/wp-content/uploads/2015/11/The-Mother-Land-Statue-Volgograd-shouting-woman.jpg](img/Motherland_calls.jpg)\n",
      "![https://www.tripsavvy.com/thmb/Rdvc6TeRyBlvU8R4P5D5otiOLrQ=/950x0/filters:no_upscale():max_bytes(150000):strip_icc():format(webp)/streetcar-in-new-orleans-699112771-5a98de0d1f4e130036d2e855.jpg](img/New_orleans.jpg)\n",
      "![https://cdn.vox-cdn.com/thumbor/h5QribQQUz3SbtfcKoJoWrwNZm0=/0x0:666x444/920x613/filters:focal(266x140:372x246):format(webp)/cdn.vox-cdn.com/uploads/chorus_image/image/59491841/Macaca_nigra_self-portrait__rotated_and_cropped_.0.jpg](img/Monkey.jpg)\n"
     ]
    }
   ],
   "source": [
    "for item in lista:\n",
    "    print(\"![%s](%s)\" % (item[1], item[2]))"
   ]
  },
  {
   "cell_type": "markdown",
   "metadata": {
    "slideshow": {
     "slide_type": "slide"
    }
   },
   "source": [
    "# Aula 1.1. \n",
    "\n",
    "### Cristiano Vicente"
   ]
  },
  {
   "cell_type": "markdown",
   "metadata": {
    "slideshow": {
     "slide_type": "slide"
    }
   },
   "source": [
    "![https://www.mrn.com/wp-content/uploads/sites/17/2017/12/18-Clash-1.jpg](img/Nascar_overtake.jpg)"
   ]
  },
  {
   "cell_type": "markdown",
   "metadata": {
    "slideshow": {
     "slide_type": "slide"
    }
   },
   "source": [
    "![https://fr9284fb2if174w8g40vzal5-wpengine.netdna-ssl.com/wp-content/uploads/2012/12/predawn-800x480.jpg](img/Grand_canyon.jpg)"
   ]
  },
  {
   "cell_type": "markdown",
   "metadata": {
    "slideshow": {
     "slide_type": "slide"
    }
   },
   "source": [
    "![https://abrilviagemeturismo.files.wordpress.com/2016/12/08-8h.jpeg](img/Praia_do_rosa.jpeg)"
   ]
  },
  {
   "cell_type": "markdown",
   "metadata": {
    "slideshow": {
     "slide_type": "slide"
    }
   },
   "source": [
    "![https://statig1.akamaized.net/bancodeimagens/0b/xh/8t/0bxh8taeatbw8qdi0u97vhshq.jpg](img/Corcel_amarelo-ovo.jpg)"
   ]
  },
  {
   "cell_type": "markdown",
   "metadata": {
    "slideshow": {
     "slide_type": "slide"
    }
   },
   "source": [
    "![https://segredosdomundo.r7.com/wp-content/uploads/2019/08/descubra-a-diferenca-entre-jumento-jegue-burro-mula-e-bardoto-4.jpg](img/Jegue.jpg)"
   ]
  },
  {
   "cell_type": "markdown",
   "metadata": {
    "slideshow": {
     "slide_type": "slide"
    }
   },
   "source": [
    "![https://upload.wikimedia.org/wikipedia/commons/2/2b/Berlin_Brandenburger_Tor_Abend.jpg](img/Brandenburg_gate.jpg)"
   ]
  },
  {
   "cell_type": "markdown",
   "metadata": {
    "slideshow": {
     "slide_type": "slide"
    }
   },
   "source": [
    "![https://statig3.akamaized.net/bancodeimagens/a2/s5/2w/a2s52wrdfa5em9zhcrfhnvwgk.jpg](img/Chernobyl.jpg)"
   ]
  },
  {
   "cell_type": "markdown",
   "metadata": {
    "slideshow": {
     "slide_type": "slide"
    }
   },
   "source": [
    "![http://www.lazerhorse.org/wp-content/uploads/2015/11/The-Mother-Land-Statue-Volgograd-shouting-woman.jpg](img/Motherland_calls.jpg)"
   ]
  },
  {
   "cell_type": "markdown",
   "metadata": {
    "slideshow": {
     "slide_type": "slide"
    }
   },
   "source": [
    "![https://www.tripsavvy.com/thmb/Rdvc6TeRyBlvU8R4P5D5otiOLrQ=/950x0/filters:no_upscale():max_bytes(150000):strip_icc():format(webp)/streetcar-in-new-orleans-699112771-5a98de0d1f4e130036d2e855.jpg](img/New_orleans.jpg)"
   ]
  },
  {
   "cell_type": "markdown",
   "metadata": {
    "slideshow": {
     "slide_type": "slide"
    }
   },
   "source": [
    "![https://cdn.vox-cdn.com/thumbor/h5QribQQUz3SbtfcKoJoWrwNZm0=/0x0:666x444/920x613/filters:focal(266x140:372x246):format(webp)/cdn.vox-cdn.com/uploads/chorus_image/image/59491841/Macaca_nigra_self-portrait__rotated_and_cropped_.0.jpg](img/Monkey.jpg)"
   ]
  }
 ],
 "metadata": {
  "celltoolbar": "Slideshow",
  "hide_input": false,
  "kernelspec": {
   "display_name": "Python 3",
   "language": "python",
   "name": "python3"
  },
  "language_info": {
   "codemirror_mode": {
    "name": "ipython",
    "version": 3
   },
   "file_extension": ".py",
   "mimetype": "text/x-python",
   "name": "python",
   "nbconvert_exporter": "python",
   "pygments_lexer": "ipython3",
   "version": "3.7.4"
  }
 },
 "nbformat": 4,
 "nbformat_minor": 2
}
