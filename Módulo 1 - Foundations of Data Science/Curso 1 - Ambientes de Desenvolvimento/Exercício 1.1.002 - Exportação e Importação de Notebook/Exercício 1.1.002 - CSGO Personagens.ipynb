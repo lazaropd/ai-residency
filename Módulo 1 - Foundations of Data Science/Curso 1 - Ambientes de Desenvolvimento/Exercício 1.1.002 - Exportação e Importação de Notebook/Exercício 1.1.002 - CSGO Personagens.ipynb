{
 "cells": [
  {
   "cell_type": "markdown",
   "metadata": {},
   "source": [
    "[Camper](https://vignette.wikia.nocookie.net/counterstrikeanimations/images/b/bd/Camper.png/revision/latest?cb=20110713013208)\n",
    "[Free Kill](https://vignette.wikia.nocookie.net/counterstrikeanimations/images/7/75/Freekill.png/revision/latest?cb=20110713002043)\n",
    "[Assassin](https://vignette.wikia.nocookie.net/counterstrikeanimations/images/6/69/Assassin.png/revision/latest?cb=20110713005937)\n",
    "[FD God](https://vignette.wikia.nocookie.net/counterstrikeanimations/images/b/b5/FD_God.png/revision/latest?cb=20110713001700)\n",
    "[Dumbass](https://vignette.wikia.nocookie.net/counterstrikeanimations/images/f/f8/Dumbass.png/revision/latest?cb=20110713013926)\n",
    "[Psycho](https://vignette.wikia.nocookie.net/counterstrikeanimations/images/9/9c/Psycho.png/revision/latest?cb=20110713004711)\n",
    "[Newbie](https://vignette.wikia.nocookie.net/counterstrikeanimations/images/d/d1/Newbie.png/revision/latest?cb=20110713011658)\n",
    "[Hacker](https://vignette.wikia.nocookie.net/counterstrikeanimations/images/e/e2/Hacker.png/revision/latest?cb=20110713012427)\n",
    "[Lagger](https://vignette.wikia.nocookie.net/counterstrikeanimations/images/7/78/Lagger.png/revision/latest?cb=20110713003418)\n",
    "[Killer](https://vignette.wikia.nocookie.net/counterstrikeanimations/images/8/8e/Killer.png/revision/latest?cb=20110713002421)"
   ]
  },
  {
   "cell_type": "code",
   "execution_count": null,
   "metadata": {},
   "outputs": [],
   "source": []
  }
 ],
 "metadata": {
  "kernelspec": {
   "display_name": "Python [conda env:python] *",
   "language": "python",
   "name": "conda-env-python-py"
  },
  "language_info": {
   "codemirror_mode": {
    "name": "ipython",
    "version": 3
   },
   "file_extension": ".py",
   "mimetype": "text/x-python",
   "name": "python",
   "nbconvert_exporter": "python",
   "pygments_lexer": "ipython3",
   "version": "3.7.4"
  }
 },
 "nbformat": 4,
 "nbformat_minor": 2
}
