{
 "cells": [
  {
   "cell_type": "code",
   "execution_count": 1,
   "metadata": {},
   "outputs": [
    {
     "name": "stdout",
     "output_type": "stream",
     "text": [
      "10\n",
      "10.4\n"
     ]
    }
   ],
   "source": [
    "#!/home/lazarop/miniconda3/envs/python/bin/python\n",
    "\n",
    "x = 10\n",
    "print(x)\n",
    "\n",
    "f = 10.4\n",
    "print(f)"
   ]
  },
  {
   "cell_type": "code",
   "execution_count": 15,
   "metadata": {},
   "outputs": [
    {
     "name": "stdout",
     "output_type": "stream",
     "text": [
      "[415, 991, 974, 645, 760, 247, 89, 471, 249, 459, 1000]\n"
     ]
    }
   ],
   "source": [
    "import random\n",
    "\n",
    "lista = [random.randint(0, 999) for i in range(10)]\n",
    "lista.append(1000)\n",
    "print(lista)\n",
    "\n",
    "lista.sort()\n",
    "print(lista)"
   ]
  },
  {
   "cell_type": "code",
   "execution_count": 27,
   "metadata": {
    "scrolled": true
   },
   "outputs": [
    {
     "name": "stdout",
     "output_type": "stream",
     "text": [
      "          0         1         2         3         4\n",
      "0  0.167041  0.979377  0.986768  0.563240  0.914214\n",
      "1  0.312078  0.923511  0.105250  0.529601  0.548043\n",
      "2  0.483769  0.516244  0.502787  0.810364  0.477351\n",
      "3  0.547210  0.382560  0.131331  0.118819  0.587810\n",
      "4  0.706767  0.248845  0.207895  0.215484  0.204297\n",
      "5  0.773823  0.787365  0.090417  0.530666  0.147086\n",
      "6  0.774370  0.817877  0.609541  0.771757  0.665056\n",
      "7  0.851609  0.218291  0.372044  0.844347  0.677866\n",
      "8  0.887948  0.932167  0.167461  0.668082  0.978823\n",
      "9  0.933299  0.021306  0.475439  0.800412  0.964730\n"
     ]
    }
   ],
   "source": [
    "import pandas as pd\n",
    "\n",
    "lista2D = [[random.random() for i in range(5)] for j in range(10)]\n",
    "lista2D.sort()\n",
    "df2D = pd.DataFrame(lista2D)\n",
    "print(df2D)\n"
   ]
  },
  {
   "cell_type": "code",
   "execution_count": 62,
   "metadata": {},
   "outputs": [
    {
     "data": {
      "text/plain": [
       "[12, 18, 21]"
      ]
     },
     "execution_count": 62,
     "metadata": {},
     "output_type": "execute_result"
    }
   ],
   "source": [
    "vec = [4, 6, 2, 7]\n",
    "[3*x for x in vec if x > 3]"
   ]
  },
  {
   "cell_type": "code",
   "execution_count": 66,
   "metadata": {},
   "outputs": [
    {
     "name": "stdout",
     "output_type": "stream",
     "text": [
      "[6, 15, 21, 32, 40, 43, 57, 85, 86, 88, 91, 99, 100]\n"
     ]
    }
   ],
   "source": [
    "import random\n",
    "\n",
    "def crialista(size):\n",
    "    lista = [random.randint(1, 100) for i in range(int(size)+1)]\n",
    "    lista.sort()\n",
    "    return lista\n",
    "\n",
    "print(crialista(12))"
   ]
  },
  {
   "cell_type": "code",
   "execution_count": 103,
   "metadata": {},
   "outputs": [
    {
     "name": "stdout",
     "output_type": "stream",
     "text": [
      "Favor informar uma e apenas uma letra!\n",
      "[]\n",
      "['bruna', 'cristiano', 'daniel', 'duan', 'felipe', 'gabriel', 'gabriela', 'harrison', 'jéssica', 'leonardo', 'letícia', 'lucas', 'lázaro', 'muriel', 'rafael', 'sávio', 'vitor', 'wana']\n",
      "Favor informar uma e apenas uma letra!\n"
     ]
    }
   ],
   "source": [
    "import string\n",
    "\n",
    "def filtraletra(letra):\n",
    "    if type(letra) == str:\n",
    "        letra = letra.lower()\n",
    "    else:\n",
    "        return \"Favor informar uma e apenas uma letra!\"\n",
    "    lista_filtrada = []\n",
    "    if 0 < len(letra) <= 1:\n",
    "        lista_filtrada = [residente for residente in residentes if residente[0] != letra]\n",
    "    else:\n",
    "        print(\"Favor informar uma e apenas uma letra!\")\n",
    "    return lista_filtrada\n",
    "\n",
    "\n",
    "residentes = [\"André\", \"Daniel\", \"Cristiano\", \"Wana\", \"Duan\", \"Harrison\", \"Alessandra\", \"Bruna\", \"Alexandre\", \"Lázaro\", \"Vitor\", \"Leonardo\", \"Sávio\", \"Lucas\", \"Rafael\", \"Jéssica\", \"Letícia\", \"Gabriel\", \"Gabriela\", \"Felipe\", \"Muriel\"] \n",
    "residentes = list(map(lambda x: x.lower(), residentes))\n",
    "residentes.sort()\n",
    "\n",
    "print(filtraletra(\"ad\"))\n",
    "print(filtraletra(\"A\"))\n",
    "print(filtraletra(5))"
   ]
  },
  {
   "cell_type": "code",
   "execution_count": 60,
   "metadata": {},
   "outputs": [
    {
     "name": "stdout",
     "output_type": "stream",
     "text": [
      "{'uno': 'um', 'dos': 'dois', 'cuatro': 'quatro', 'tres': 'tres'}\n",
      "4\n",
      "dict_keys(['uno', 'dos', 'cuatro', 'tres'])\n",
      "dict_values(['um', 'dois', 'quatro', 'tres'])\n",
      "\n",
      "uno: um\n",
      "\n",
      "dos: dois\n",
      "\n",
      "cuatro: quatro\n",
      "\n",
      "tres: tres\n",
      "\n",
      "Tradução de 'dos' em ESP para PT é 'dois'\n"
     ]
    }
   ],
   "source": [
    "dicionario = {'uno':'um', 'dos': 'dois', 'cuatro':'quatro'}\n",
    "dicionario['tres'] = \"tres\"\n",
    "print(dicionario)\n",
    "\n",
    "print(len(dicionario))\n",
    "print(dicionario.keys())\n",
    "print(dicionario.values())\n",
    "\n",
    "for termo in dicionario.items():\n",
    "    print(\"\\n%s: %s\" % (termo[0], termo[1])) \n",
    "\n",
    "palavra = \"dos\"\n",
    "print(\"\\nTradução de '%s' em ESP para PT é '%s'\" % (palavra, dicionario[palavra]))"
   ]
  },
  {
   "cell_type": "code",
   "execution_count": 59,
   "metadata": {},
   "outputs": [
    {
     "name": "stdout",
     "output_type": "stream",
     "text": [
      "Yes, 'model' is one of the keys in the thisdict dictionary\n"
     ]
    }
   ],
   "source": [
    "thisdict = {\n",
    "  \"brand\": \"Ford\",\n",
    "  \"model\": \"Mustang\",\n",
    "  \"year\": 1964\n",
    "}\n",
    "if \"model\" in thisdict:\n",
    "  print(\"Yes, 'model' is one of the keys in the thisdict dictionary\")"
   ]
  },
  {
   "cell_type": "code",
   "execution_count": 61,
   "metadata": {},
   "outputs": [
    {
     "name": "stdout",
     "output_type": "stream",
     "text": [
      "{'brand': 'Ford', 'year': 1964}\n"
     ]
    }
   ],
   "source": [
    "thisdict.pop(\"model\")\n",
    "print(thisdict)"
   ]
  },
  {
   "cell_type": "code",
   "execution_count": null,
   "metadata": {},
   "outputs": [],
   "source": []
  }
 ],
 "metadata": {
  "hide_input": false,
  "kernelspec": {
   "display_name": "Python 3",
   "language": "python",
   "name": "python3"
  },
  "language_info": {
   "codemirror_mode": {
    "name": "ipython",
    "version": 3
   },
   "file_extension": ".py",
   "mimetype": "text/x-python",
   "name": "python",
   "nbconvert_exporter": "python",
   "pygments_lexer": "ipython3",
   "version": "3.7.4"
  }
 },
 "nbformat": 4,
 "nbformat_minor": 2
}
