{
 "cells": [
  {
   "cell_type": "markdown",
   "metadata": {
    "slideshow": {
     "slide_type": "slide"
    }
   },
   "source": [
    "# Lazaro Pinheiro Domiciano"
   ]
  },
  {
   "cell_type": "markdown",
   "metadata": {
    "slideshow": {
     "slide_type": "slide"
    }
   },
   "source": [
    "![EU](https://avatars2.githubusercontent.com/u/56090255?s=460&v=4)"
   ]
  },
  {
   "cell_type": "markdown",
   "metadata": {
    "slideshow": {
     "slide_type": "slide"
    }
   },
   "source": [
    "## AI Resident at HUB de IA Senai Londrina"
   ]
  },
  {
   "cell_type": "markdown",
   "metadata": {
    "slideshow": {
     "slide_type": "slide"
    }
   },
   "source": [
    "Engenheiro químico pela Poli/USP (2007), M.Sc.Engineer pela ChimieParisTech (2006), MBA em liderança pela FranklinCovey (2018), especialista Lean Six Sigma Black Belt.\n",
    "Mais de 10 anos de experiência em gestão tendo liderado áreas de qualidade, projetos, compras, logística, inovação, comunicação e marketing."
   ]
  },
  {
   "cell_type": "code",
   "execution_count": 4,
   "metadata": {
    "slideshow": {
     "slide_type": "slide"
    }
   },
   "outputs": [
    {
     "name": "stdout",
     "output_type": "stream",
     "text": [
      "Engenharia Química (2007) - Poli/USP\n",
      "Master of Engineering (2006) - Chimie ParisTech\n",
      "Lean Six Sigma Black Belt (2012) - M.I.Domenech\n",
      "MBA em Liderança (2018) - FranklinCovey\n",
      "Programa de Inovação (2019) - ISAE/Arbache\n",
      "Advanced Executive Program in Cooperativism (2019) - Unicuritiba\n"
     ]
    }
   ],
   "source": [
    "formacoes = [[\"Engenharia Química\", 2007, \"Poli/USP\"], \n",
    "             [\"Master of Engineering\", 2006, \"Chimie ParisTech\"],\n",
    "             [\"Lean Six Sigma Black Belt\", 2012, \"M.I.Domenech\"],\n",
    "             [\"MBA em Liderança\", 2018, \"FranklinCovey\"],\n",
    "             [\"Programa de Inovação\", 2019, \"ISAE/Arbache\"],\n",
    "             [\"Advanced Executive Program in Cooperativism\", 2019, \"Unicuritiba\"]]             \n",
    "for formacao in formacoes:\n",
    "    print(\"%s (%d) - %s\" % (formacao[0], formacao[1], formacao[2]))"
   ]
  },
  {
   "cell_type": "markdown",
   "metadata": {
    "slideshow": {
     "slide_type": "slide"
    }
   },
   "source": [
    "# **~~_Completo_~~**\n",
    "*Itálico*  \n",
    "**Negrito**  \n",
    "~~Riscado~~  \n",
    "\n",
    "[AI2 Site](http://advancedinstitute.ai/)  \n",
    "<http://advancedinstitute.ai/>  \n",
    "\n",
    "\n",
    "1. Pragas\n",
    "1.1. Fungos\n",
    "1.1. Bactérias\n",
    "1.1. Vírus\n",
    "1. Doenças  \n",
    "\n",
    "* Item 1\n",
    "* Item 2\n",
    "\n",
    "Cesar Lattes disse: >A ciência não pode prever o que vai acontecer>\n",
    "\n",
    "# Código\n",
    "Há dois `modos`:\n",
    "```No Python, para escrever na tela, usamos o acento grave no `código`.```\n",
    "\n",
    "```\n",
    "for item in items:\n",
    "    print(item)\n",
    "```\n",
    "\n",
    "$$c = \\sqrt(x² + y² + z²) $$"
   ]
  },
  {
   "cell_type": "code",
   "execution_count": 7,
   "metadata": {
    "slideshow": {
     "slide_type": "slide"
    }
   },
   "outputs": [
    {
     "name": "stdout",
     "output_type": "stream",
     "text": [
      "'Área de Trabalho'     Downloads\t  miniconda3   Público\n",
      "'Aula 1.1.002.ipynb'   examples.desktop   Modelos      testenv.yml\n",
      " Documentos\t       Imagens\t\t  Música       Vídeos\n",
      "/home/lazarop\n"
     ]
    }
   ],
   "source": [
    "!ls\n",
    "!pwd"
   ]
  },
  {
   "cell_type": "code",
   "execution_count": 4,
   "metadata": {
    "slideshow": {
     "slide_type": "slide"
    }
   },
   "outputs": [
    {
     "name": "stdout",
     "output_type": "stream",
     "text": [
      "Hello World\n"
     ]
    }
   ],
   "source": [
    "# Você pode mesclar texto, código e ver as saidas em tempo real\n",
    "print('Hello World')"
   ]
  },
  {
   "cell_type": "code",
   "execution_count": 2,
   "metadata": {
    "slideshow": {
     "slide_type": "slide"
    }
   },
   "outputs": [
    {
     "name": "stdout",
     "output_type": "stream",
     "text": [
      "Hello world\n"
     ]
    }
   ],
   "source": [
    "print(\"Hello world\")"
   ]
  },
  {
   "cell_type": "code",
   "execution_count": 1,
   "metadata": {
    "slideshow": {
     "slide_type": "slide"
    }
   },
   "outputs": [
    {
     "name": "stdout",
     "output_type": "stream",
     "text": [
      "MemTotal:       16223736 kB\r\n",
      "MemFree:        10902212 kB\r\n",
      "MemAvailable:   11972004 kB\r\n",
      "Buffers:          109276 kB\r\n",
      "Cached:          1578996 kB\r\n",
      "SwapCached:            0 kB\r\n",
      "Active:          3897840 kB\r\n",
      "Inactive:         980816 kB\r\n",
      "Active(anon):    3195776 kB\r\n",
      "Inactive(anon):   390536 kB\r\n",
      "Active(file):     702064 kB\r\n",
      "Inactive(file):   590280 kB\r\n",
      "Unevictable:        4136 kB\r\n",
      "Mlocked:              80 kB\r\n",
      "SwapTotal:       2097148 kB\r\n",
      "SwapFree:        2097148 kB\r\n",
      "Dirty:               532 kB\r\n",
      "Writeback:             0 kB\r\n",
      "AnonPages:       3194396 kB\r\n",
      "Mapped:           776776 kB\r\n",
      "Shmem:            396188 kB\r\n",
      "KReclaimable:      70088 kB\r\n",
      "Slab:             150676 kB\r\n",
      "SReclaimable:      70088 kB\r\n",
      "SUnreclaim:        80588 kB\r\n",
      "KernelStack:       13488 kB\r\n",
      "PageTables:        63004 kB\r\n",
      "NFS_Unstable:          0 kB\r\n",
      "Bounce:                0 kB\r\n",
      "WritebackTmp:          0 kB\r\n",
      "CommitLimit:    10209016 kB\r\n",
      "Committed_AS:    9274992 kB\r\n",
      "VmallocTotal:   34359738367 kB\r\n",
      "VmallocUsed:           0 kB\r\n",
      "VmallocChunk:          0 kB\r\n",
      "Percpu:             4480 kB\r\n",
      "HardwareCorrupted:     0 kB\r\n",
      "AnonHugePages:         0 kB\r\n",
      "ShmemHugePages:        0 kB\r\n",
      "ShmemPmdMapped:        0 kB\r\n",
      "CmaTotal:              0 kB\r\n",
      "CmaFree:               0 kB\r\n",
      "HugePages_Total:       0\r\n",
      "HugePages_Free:        0\r\n",
      "HugePages_Rsvd:        0\r\n",
      "HugePages_Surp:        0\r\n",
      "Hugepagesize:       2048 kB\r\n",
      "Hugetlb:               0 kB\r\n",
      "DirectMap4k:      429264 kB\r\n",
      "DirectMap2M:     8810496 kB\r\n",
      "DirectMap1G:     7340032 kB\r\n"
     ]
    }
   ],
   "source": [
    "!cat /proc/meminfo"
   ]
  },
  {
   "cell_type": "code",
   "execution_count": 3,
   "metadata": {
    "slideshow": {
     "slide_type": "slide"
    }
   },
   "outputs": [
    {
     "name": "stdout",
     "output_type": "stream",
     "text": [
      "3.4641016151377544\n"
     ]
    }
   ],
   "source": [
    "import math\n",
    "print(math.sqrt(3*4))"
   ]
  },
  {
   "cell_type": "code",
   "execution_count": null,
   "metadata": {},
   "outputs": [],
   "source": []
  }
 ],
 "metadata": {
  "celltoolbar": "Slideshow",
  "kernelspec": {
   "display_name": "Python 3",
   "language": "python",
   "name": "python3"
  },
  "language_info": {
   "codemirror_mode": {
    "name": "ipython",
    "version": 3
   },
   "file_extension": ".py",
   "mimetype": "text/x-python",
   "name": "python",
   "nbconvert_exporter": "python",
   "pygments_lexer": "ipython3",
   "version": "3.7.4"
  }
 },
 "nbformat": 4,
 "nbformat_minor": 2
}
