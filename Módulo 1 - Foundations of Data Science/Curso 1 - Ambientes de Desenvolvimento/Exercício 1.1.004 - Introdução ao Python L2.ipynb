{
 "cells": [
  {
   "cell_type": "markdown",
   "metadata": {
    "slideshow": {
     "slide_type": "slide"
    }
   },
   "source": [
    "## Escreva um programa que, dados 2 números diferentes (a e b), encontre o menor deles."
   ]
  },
  {
   "cell_type": "code",
   "execution_count": 3,
   "metadata": {
    "slideshow": {
     "slide_type": "fragment"
    }
   },
   "outputs": [
    {
     "name": "stdout",
     "output_type": "stream",
     "text": [
      "1\n",
      "10\n",
      "0.99\n",
      "Error: please make sure you provide 2 numbers to compare\n"
     ]
    }
   ],
   "source": [
    "def menor(val1, val2):\n",
    "    try:\n",
    "        isnum = val1 + val2\n",
    "    except:\n",
    "        # print(\"Please inform two numerical values!\")\n",
    "        return \"Error: please make sure you provide 2 numbers to compare\"\n",
    "    return val1 if val1 <= val2 else val2\n",
    "\n",
    "print(menor(1, 2))\n",
    "print(menor(100, 10))\n",
    "print(menor(0.99, 1))\n",
    "print(menor(\"texto\", 2))"
   ]
  },
  {
   "cell_type": "markdown",
   "metadata": {
    "slideshow": {
     "slide_type": "slide"
    }
   },
   "source": [
    "## Para doar sangue é necessário:\n",
    "\n",
    "Ter entre 16 e 69 anos.  \n",
    "Pesar mais de 50 kg.  \n",
    "Estar descansado (ter dormido pelo menos 6 horas nas últimas 24 horas).  \n",
    "Faça um programa que pergunte a idade, o peso e quanto dormiu nas últimas 24 h para uma pessoa e diga se ela pode doar sangue ou não."
   ]
  },
  {
   "cell_type": "code",
   "execution_count": 8,
   "metadata": {
    "slideshow": {
     "slide_type": "fragment"
    }
   },
   "outputs": [
    {
     "name": "stdout",
     "output_type": "stream",
     "text": [
      "É doador\n",
      "Não é doador\n",
      "Não é doador\n",
      "Não é doador\n",
      "Não é doador\n",
      "Não é doador\n",
      "É doador\n",
      "Os valores de idade, peso ou descanso informados são inválidos\n",
      "Os valores de idade, peso ou descanso informados são inválidos\n",
      "Os valores de idade, peso ou descanso informados são inválidos\n"
     ]
    }
   ],
   "source": [
    "def doador(idade, peso, descanso):\n",
    "    try:\n",
    "        aux = 1 + idade + peso + descanso\n",
    "    except:\n",
    "        return \"Os valores de idade, peso ou descanso informados são inválidos\"\n",
    "    return \"É doador\" if ((16 <= idade <= 69) and peso > 50 and descanso >= 6) else \"Não é doador\"\n",
    "\n",
    "print(doador(45, 78, 7.3))\n",
    "print(doador(15, 78, 8.1))\n",
    "print(doador(45, 49, 7.3))\n",
    "print(doador(38, 87, 5.9))\n",
    "print(doador(12, 28, 7))\n",
    "print(doador(77, 65, 9.3))\n",
    "print(doador(27, 65, 9.3))\n",
    "print(doador(\"idade\", 65, 9.3))\n",
    "print(doador(27, None, 9.3))\n",
    "print(doador(27, 65, \"\"))"
   ]
  },
  {
   "cell_type": "markdown",
   "metadata": {
    "slideshow": {
     "slide_type": "slide"
    }
   },
   "source": [
    "## Considere uma equação do segundo grau f(x)=a⋅x2+b⋅x+c. A partir dos coeficientes, determine se a equação possui duas raízes reais, uma, ou se não possui."
   ]
  },
  {
   "cell_type": "code",
   "execution_count": 24,
   "metadata": {
    "slideshow": {
     "slide_type": "fragment"
    }
   },
   "outputs": [
    {
     "name": "stdout",
     "output_type": "stream",
     "text": [
      "\n",
      "+0.x^2 -2.x -1 -> Possui uma raíz igual a -0.50\n",
      "\n",
      "+2.x^2 +2.x -2 -> Possui duas raízes 0.62 e -1.62\n",
      "\n",
      "-1.x^2 -1.x +1 -> Possui duas raízes -1.62 e 0.62\n",
      "\n",
      "-1.x^2 +2.x +0 -> Possui duas raízes -0.00 e 2.00\n",
      "\n",
      "+0.x^2 +1.x -2 -> Possui uma raíz igual a 2.00\n",
      "\n",
      "-2.x^2 +0.x +2 -> Possui duas raízes -1.00 e 1.00\n",
      "\n",
      "-1.x^2 +2.x -1 -> Possui uma raíz igual a 1.00\n",
      "\n",
      "+0.x^2 +1.x +2 -> Possui uma raíz igual a -2.00\n",
      "\n",
      "+2.x^2 -1.x -2 -> Possui duas raízes 1.28 e -0.78\n",
      "\n",
      "+1.x^2 +0.x +2 -> Não possui raízes reais\n"
     ]
    }
   ],
   "source": [
    "import math\n",
    "import random\n",
    "\n",
    "def bhaskara(a, b, c):\n",
    "    sa = \"+\" if a >= 0 else \"-\"\n",
    "    sb = \"+\" if b >= 0 else \"-\"\n",
    "    sc = \"+\" if c >= 0 else \"-\"\n",
    "    equacao = \"%s%s.x^2 %s%s.x %s%s\" % (sa, abs(a), sb, abs(b), sc, abs(c))\n",
    "    solucao = \"\"\n",
    "    try:\n",
    "        delta = b ** 2 - 4 * a * c\n",
    "        if a != 0 and delta >= 0:\n",
    "            numerador1 = -b + math.sqrt(delta)\n",
    "            numerador2 = -b - math.sqrt(delta)\n",
    "            denominador = 2 * a\n",
    "            raiz1 = numerador1 / denominador\n",
    "            raiz2 = numerador2 / denominador\n",
    "            if raiz1 != raiz2: \n",
    "                solucao = \"Possui duas raízes %.2f e %.2f\" % (raiz1, raiz2)\n",
    "            else:\n",
    "                solucao = \"Possui uma raíz igual a %.2f\" % (raiz1)\n",
    "        elif delta < 0:\n",
    "            solucao = \"Não possui raízes reais\"\n",
    "        elif b != 0:\n",
    "            solucao = \"Possui uma raíz igual a %.2f\" % (-c / b)\n",
    "        else:\n",
    "            solucao = \"Não é uma equação de grau >= 1\"\n",
    "    except:\n",
    "        solucao = \"Há algum erro nos coeficientes informados\"\n",
    "    return \"\\n\" + equacao + \" -> \" + solucao\n",
    "    \n",
    "    \n",
    "for i in range(10):\n",
    "    a, b, c = random.randint(-2,2), random.randint(-2,2), random.randint(-2,2)\n",
    "    print(bhaskara(a, b, c))"
   ]
  },
  {
   "cell_type": "markdown",
   "metadata": {
    "slideshow": {
     "slide_type": "slide"
    }
   },
   "source": [
    "## Leia dois números e efetue a adição. Caso o valor somado seja maior que 20, este deverá ser apresentado somando-se a ele mais 8; caso o valor somado seja menor ou igual a 20, este deverá ser apresentado subtraindo-se 5."
   ]
  },
  {
   "cell_type": "code",
   "execution_count": 30,
   "metadata": {
    "slideshow": {
     "slide_type": "fragment"
    }
   },
   "outputs": [
    {
     "name": "stdout",
     "output_type": "stream",
     "text": [
      "8\n",
      "15\n",
      "29\n",
      "29\n",
      "Os valores informados são inválidos\n",
      "Os valores informados são inválidos\n"
     ]
    }
   ],
   "source": [
    "def numero_magico(val1, val2):\n",
    "    try:\n",
    "        aux = 1 + val1 + val2\n",
    "    except:\n",
    "        return \"Os valores informados são inválidos\"\n",
    "    return val1+val2+8 if val1+val2 > 20 else val1+val2-5\n",
    "\n",
    "print(numero_magico(5, 8))\n",
    "print(numero_magico(0, 20))\n",
    "print(numero_magico(0, 21))\n",
    "print(numero_magico(10, 11))\n",
    "print(numero_magico(None, 8))\n",
    "print(numero_magico(\"force_error\", \"force_error\"))"
   ]
  },
  {
   "cell_type": "markdown",
   "metadata": {
    "slideshow": {
     "slide_type": "slide"
    }
   },
   "source": [
    "## Leia um número e imprima a raiz quadrada do número caso ele seja positivo ou igual a zero e o quadrado do número caso ele seja negativo."
   ]
  },
  {
   "cell_type": "code",
   "execution_count": 32,
   "metadata": {
    "slideshow": {
     "slide_type": "fragment"
    }
   },
   "outputs": [
    {
     "name": "stdout",
     "output_type": "stream",
     "text": [
      "16\n",
      "0.0\n",
      "2.0\n",
      "Os valores informados são inválidos\n",
      "Os valores informados são inválidos\n"
     ]
    }
   ],
   "source": [
    "import math\n",
    "\n",
    "def quadrado_magico(val1):\n",
    "    try:\n",
    "        aux = 1 + val1\n",
    "    except:\n",
    "        return \"Os valores informados são inválidos\"\n",
    "    return math.sqrt(val1) if val1 >= 0 else val1 ** 2\n",
    "\n",
    "print(quadrado_magico(-4))\n",
    "print(quadrado_magico(0))\n",
    "print(quadrado_magico(4))\n",
    "print(quadrado_magico(None))\n",
    "print(quadrado_magico(\"force_error\"))"
   ]
  },
  {
   "cell_type": "markdown",
   "metadata": {
    "slideshow": {
     "slide_type": "slide"
    }
   },
   "source": [
    "## Leia um número inteiro entre 1 e 12 e escreva o mês correspondente. Caso o usuário digite um número fora desse intervalo, deverá aparecer uma mensagem informando que não existe mês com este número."
   ]
  },
  {
   "cell_type": "code",
   "execution_count": 45,
   "metadata": {
    "slideshow": {
     "slide_type": "fragment"
    }
   },
   "outputs": [
    {
     "name": "stdout",
     "output_type": "stream",
     "text": [
      "O mês informado é inválido\n",
      "O mês informado é inválido\n",
      "O mês informado é inválido\n",
      "O mês informado é inválido\n",
      "O mês informado é inválido\n",
      "O mês informado é inválido\n",
      "O mês informado é inválido\n",
      "O mês informado é inválido\n",
      "O mês informado é inválido\n",
      "O mês informado é inválido\n",
      "O mês informado é inválido\n",
      "O mês informado é inválido\n",
      "O mês informado é inválido\n",
      "O mês informado é inválido\n",
      "O mês informado é inválido\n",
      "O mês informado é inválido\n"
     ]
    }
   ],
   "source": [
    "def mes_extenso(mes):\n",
    "    meses = {'jan':1, 'feb':2, 'mar':3, 'apr':4, 'may':5, 'jun':6, 'jul':7, 'aug':8, 'sep':9, 'oct':10, 'nov':11, 'dec':12}\n",
    "    try:\n",
    "        return meses.keys[mes]\n",
    "    except:\n",
    "        return \"O mês informado é inválido\"\n",
    "    \n",
    "for i in range(13):\n",
    "    print(mes_extenso(i))\n",
    "    \n",
    "print(mes_extenso(None))\n",
    "print(mes_extenso(2.5))\n",
    "print(mes_extenso(\"force_error\"))"
   ]
  },
  {
   "cell_type": "code",
   "execution_count": null,
   "metadata": {},
   "outputs": [],
   "source": [
    "lista = []"
   ]
  }
 ],
 "metadata": {
  "celltoolbar": "Slideshow",
  "hide_input": false,
  "kernelspec": {
   "display_name": "Python 3",
   "language": "python",
   "name": "python3"
  },
  "language_info": {
   "codemirror_mode": {
    "name": "ipython",
    "version": 3
   },
   "file_extension": ".py",
   "mimetype": "text/x-python",
   "name": "python",
   "nbconvert_exporter": "python",
   "pygments_lexer": "ipython3",
   "version": "3.7.4"
  }
 },
 "nbformat": 4,
 "nbformat_minor": 2
}
