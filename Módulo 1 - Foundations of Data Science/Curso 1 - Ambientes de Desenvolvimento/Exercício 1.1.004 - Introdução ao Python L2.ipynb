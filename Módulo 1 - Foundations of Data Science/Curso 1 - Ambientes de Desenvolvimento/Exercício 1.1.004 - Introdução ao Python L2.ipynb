{
 "cells": [
  {
   "cell_type": "markdown",
   "metadata": {
    "slideshow": {
     "slide_type": "slide"
    }
   },
   "source": [
    "## Escreva um programa que, dados 2 números diferentes (a e b), encontre o menor deles."
   ]
  },
  {
   "cell_type": "code",
   "execution_count": 5,
   "metadata": {
    "slideshow": {
     "slide_type": "fragment"
    }
   },
   "outputs": [
    {
     "name": "stdout",
     "output_type": "stream",
     "text": [
      "1\n",
      "10\n",
      "0.99\n",
      "None\n"
     ]
    }
   ],
   "source": [
    "def menor(val1, val2):\n",
    "    try:\n",
    "        isnum = val1 + val2\n",
    "    except:\n",
    "        # print(\"Please inform two numerical values!\")\n",
    "        return None\n",
    "    return val1 if val1 <= val2 else val2\n",
    "\n",
    "print(menor(1, 2))\n",
    "print(menor(100, 10))\n",
    "print(menor(0.99, 1))\n",
    "print(menor(\"texto\", 2))"
   ]
  },
  {
   "cell_type": "markdown",
   "metadata": {
    "slideshow": {
     "slide_type": "slide"
    }
   },
   "source": [
    "## Para doar sangue é necessário:\n",
    "\n",
    "Ter entre 16 e 69 anos.  \n",
    "Pesar mais de 50 kg.  \n",
    "Estar descansado (ter dormido pelo menos 6 horas nas últimas 24 horas).  \n",
    "Faça um programa que pergunte a idade, o peso e quanto dormiu nas últimas 24 h para uma pessoa e diga se ela pode doar sangue ou não."
   ]
  },
  {
   "cell_type": "code",
   "execution_count": 10,
   "metadata": {
    "slideshow": {
     "slide_type": "fragment"
    }
   },
   "outputs": [
    {
     "name": "stdout",
     "output_type": "stream",
     "text": [
      "É doador\n",
      "Não é doador\n",
      "Não é doador\n",
      "Não é doador\n",
      "Não é doador\n",
      "Não é doador\n"
     ]
    }
   ],
   "source": [
    "def doador(idade, peso, descanso):\n",
    "    return \"É doador\" if ((16 <= idade <= 69) and peso > 50 and descanso >= 6) else \"Não é doador\"\n",
    "\n",
    "print(doador(45, 78, 7.3))\n",
    "print(doador(15, 78, 8.1))\n",
    "print(doador(45, 49, 7.3))\n",
    "print(doador(38, 87, 5.9))\n",
    "print(doador(12, 28, 7))\n",
    "print(doador(77, 65, 9.3))"
   ]
  },
  {
   "cell_type": "markdown",
   "metadata": {
    "slideshow": {
     "slide_type": "slide"
    }
   },
   "source": [
    "## Considere uma equação do segundo grau f(x)=a⋅x2+b⋅x+c. A partir dos coeficientes, determine se a equação possui duas raízes reais, uma, ou se não possui."
   ]
  },
  {
   "cell_type": "code",
   "execution_count": 43,
   "metadata": {
    "slideshow": {
     "slide_type": "fragment"
    }
   },
   "outputs": [
    {
     "name": "stdout",
     "output_type": "stream",
     "text": [
      "1x^2 + 2x + 1: Possui uma raíz igual a -1.00\n",
      "1x^2 + -2x + 1: Possui uma raíz igual a 1.00\n",
      "1x^2 + -3x + 2: Possui duas raízes 2.00 e 1.00\n",
      "1x^2 + 0x + -1: Possui duas raízes 1.00 e -1.00\n",
      "1x^2 + 0x + 1: Não possui raízes reais\n",
      "1x^2 + 0x + 0: Possui uma raíz igual a 0.00\n",
      "0x^2 + 1x + 0: Possui uma raíz igual a 0.00\n",
      "0x^2 + 2x + -3: Possui uma raíz igual a 1.50\n",
      "0x^2 + 0x + 1: Não é uma equação de grau >= 1\n"
     ]
    }
   ],
   "source": [
    "import math\n",
    "\n",
    "def bhaskara(a, b, c):\n",
    "    equacao = \"%sx^2 + %sx + %s: \" % (a, b, c)\n",
    "    solucao = \"\"\n",
    "    try:\n",
    "        delta = b ** 2 - 4 * a * c\n",
    "        if a != 0 and delta >= 0:\n",
    "            numerador1 = -b + math.sqrt(delta)\n",
    "            numerador2 = -b - math.sqrt(delta)\n",
    "            denominador = 2 * a\n",
    "            raiz1 = numerador1 / denominador\n",
    "            raiz2 = numerador2 / denominador\n",
    "            if raiz1 != raiz2: \n",
    "                solucao = \"Possui duas raízes %.2f e %.2f\" % (raiz1, raiz2)\n",
    "            else:\n",
    "                solucao = \"Possui uma raíz igual a %.2f\" % (raiz1)\n",
    "        elif delta < 0:\n",
    "            solucao = \"Não possui raízes reais\"\n",
    "        elif b != 0:\n",
    "            solucao = \"Possui uma raíz igual a %.2f\" % (-c / b)\n",
    "        else:\n",
    "            solucao = \"Não é uma equação de grau >= 1\"\n",
    "    except:\n",
    "        solucao = \"Há algum erro nos coeficientes informados\"\n",
    "    return equacao + solucao\n",
    "    \n",
    "    \n",
    "print(bhaskara(1, 2, 1))\n",
    "print(bhaskara(1, -2, 1))\n",
    "print(bhaskara(1, -3, 2))\n",
    "print(bhaskara(1, 0, -1))\n",
    "print(bhaskara(1, 0, 1))\n",
    "print(bhaskara(1, 0, 0))\n",
    "print(bhaskara(0, 1, 0))\n",
    "print(bhaskara(0, 2, -3))\n",
    "print(bhaskara(0, 0, 1))"
   ]
  },
  {
   "cell_type": "markdown",
   "metadata": {
    "slideshow": {
     "slide_type": "slide"
    }
   },
   "source": [
    "## Leia dois números e efetue a adição. Caso o valor somado seja maior que 20, este deverá ser apresentado somando-se a ele mais 8; caso o valor somado seja menor ou igual a 20, este deverá ser apresentado subtraindo-se 5."
   ]
  },
  {
   "cell_type": "code",
   "execution_count": null,
   "metadata": {
    "slideshow": {
     "slide_type": "fragment"
    }
   },
   "outputs": [],
   "source": []
  },
  {
   "cell_type": "markdown",
   "metadata": {
    "slideshow": {
     "slide_type": "slide"
    }
   },
   "source": [
    "## Leia um número e imprima a raiz quadrada do número caso ele seja positivo ou igual a zero e o quadrado do número caso ele seja negativo."
   ]
  },
  {
   "cell_type": "code",
   "execution_count": null,
   "metadata": {
    "slideshow": {
     "slide_type": "fragment"
    }
   },
   "outputs": [],
   "source": []
  },
  {
   "cell_type": "markdown",
   "metadata": {
    "slideshow": {
     "slide_type": "slide"
    }
   },
   "source": [
    "## Leia um número inteiro entre 1 e 12 e escreva o mês correspondente. Caso o usuário digite um número fora desse intervalo, deverá aparecer uma mensagem informando que não existe mês com este número."
   ]
  },
  {
   "cell_type": "code",
   "execution_count": null,
   "metadata": {
    "slideshow": {
     "slide_type": "fragment"
    }
   },
   "outputs": [],
   "source": []
  }
 ],
 "metadata": {
  "celltoolbar": "Slideshow",
  "hide_input": false,
  "kernelspec": {
   "display_name": "Python 3",
   "language": "python",
   "name": "python3"
  },
  "language_info": {
   "codemirror_mode": {
    "name": "ipython",
    "version": 3
   },
   "file_extension": ".py",
   "mimetype": "text/x-python",
   "name": "python",
   "nbconvert_exporter": "python",
   "pygments_lexer": "ipython3",
   "version": "3.7.4"
  }
 },
 "nbformat": 4,
 "nbformat_minor": 2
}
