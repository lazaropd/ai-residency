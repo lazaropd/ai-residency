{
 "cells": [
  {
   "cell_type": "markdown",
   "metadata": {
    "slideshow": {
     "slide_type": "slide"
    }
   },
   "source": [
    "# Slide de apresentação\n",
    "Por favor, configure a forma de visualização desejada na próxima tela"
   ]
  },
  {
   "cell_type": "code",
   "execution_count": 1,
   "metadata": {
    "slideshow": {
     "slide_type": "slide"
    }
   },
   "outputs": [
    {
     "data": {
      "text/html": [
       "<script>\n",
       "  function code_toggle() {\n",
       "    if(code_shown){$('div.input').hide('500');$('#toggleButton').val('Mostrar códigos')} \n",
       "    else{$('div.input').show('500');$('#toggleButton').val('Esconder códigos')}\n",
       "    code_shown = !code_shown\n",
       "  }\n",
       "  $(document).ready(function(){code_shown=false;$('div.input').hide()});\n",
       "</script>\n",
       "<form action=\"javascript:code_toggle()\"><input type=\"submit\" id=\"toggleButton\" value=\"Mostrar códigos\"></form>\n"
      ],
      "text/plain": [
       "<IPython.core.display.HTML object>"
      ]
     },
     "metadata": {},
     "output_type": "display_data"
    }
   ],
   "source": [
    "%%HTML\n",
    "<script>\n",
    "  function code_toggle() {\n",
    "    if(code_shown){$('div.input').hide('500');$('#toggleButton').val('Mostrar códigos')} \n",
    "    else{$('div.input').show('500');$('#toggleButton').val('Esconder códigos')}\n",
    "    code_shown = !code_shown\n",
    "  }\n",
    "  $(document).ready(function(){code_shown=false;$('div.input').hide()});\n",
    "</script>\n",
    "<form action=\"javascript:code_toggle()\"><input type=\"submit\" id=\"toggleButton\" value=\"Mostrar códigos\"></form>"
   ]
  },
  {
   "cell_type": "code",
   "execution_count": 3,
   "metadata": {
    "hide_input": true,
    "slideshow": {
     "slide_type": "slide"
    }
   },
   "outputs": [
    {
     "data": {
      "text/html": [
       "\n",
       "<div style='display:table;margin:0px;padding:5px;background-color:#eee;'>\n",
       " <div style='float:left;width:30%;'>\n",
       "  <div style='padding:5px;'><center><img src='https://avatars2.githubusercontent.com/u/56090255?s=460&v=4' style='width:100%;'></center></div>\n",
       "  <div style='padding:5px;'><center><b><i>AI Resident at Hub de IA Senai Londrina</i></b></div>\n",
       "  <div style='padding:5px;'><center><a href='https://www.youtube.com/watch?v=MT8V_XXy5Ew'><iframe width='100%' src='https://www.youtube.com/embed/MT8V_XXy5Ew' frameborder='0' allow='accelerometer; autoplay; encrypted-media; gyroscope; picture-in-picture' allowfullscreen></iframe></a></center></div>\n",
       " </div>\n",
       " <div class='div-all right' style='float:right;width:70%;'>\n",
       "  <div style='padding:5px;'><center><h2>Lazaro Pinheiro Domiciano</h2></center></div>\n",
       "  <div style='padding:5px;'><center><h5>Making my way toward Data Science</h5></center></div><br>\n",
       "  <div style='padding:5px;'><center><i>36y, married to Alline, father of José Ricardo, 10+y of experience in high management positions</i></center></div><br>\n",
       "  <div style='padding:5px;'><center><p class='text'><b>Formação: </b>Engenharia química (Poli/2007), Master of Engineering (Chimie ParisTech/2007), LSS Black Belt (M.I.Domenech/2012), MBA Liderança Organizacional (FranklinCovey/2018), Programa de Inovação (ISAE/2019), Advanced Executive Program (Unicuritiba/2019)</p></center></div>\n",
       "  <div style='padding:5px;'><center><p class='text'><b>Experiência: </b>Rhodia, LOréal Paris, Banco Itaú, DB1 Global Software, Cocamar Cooperativa Agroindustrial</p></center></div>\n",
       "  <div style='padding:5px;'><center><p class='text'><b>Projetos: </b>aplicações diversas em C (2002 a 2003), software para visualização de moléculas 3D usando C++ (2006), cartas de controle e data analysis usando Matlab (2007), software em PHP/MySQL para gestão de laboratório de QC (2009), aplicação de PCR/MLR/PLSR usando espectroscopia NIR para caracterização de produtos agrícolas(2011), aplicações corporativas múltiplas usando VBA for Excel (2007-2018), aplicação de RPA usando MS Forms/Sharepoint/Flow/PowerApps/PowerBI (2018), aplicações diversas para PowerBI usando R/Python (2019), data analysis, time series analysis, MLR/LR/KNN regression, ggplot em R (2019), bots de RPA usando chromedriver/selenium/bs4 para minerar dados/apostar em jogos de CSGO (2019), aplicação de LR/KNN/DNN usando keras/tensorflow para prever resultados de CSGO (2019), aplicação de CNN usando keras/tensorflow para classificação de doenças e pragas no soja (2019)</p></center></div>\n",
       " </div>\n",
       "</div>\n"
      ],
      "text/plain": [
       "<IPython.core.display.HTML object>"
      ]
     },
     "execution_count": 3,
     "metadata": {},
     "output_type": "execute_result"
    }
   ],
   "source": [
    "from IPython.display import display, Markdown, YouTubeVideo, Image, HTML\n",
    "\n",
    "s_name = \"Lazaro Pinheiro Domiciano\"\n",
    "s_info = \"36y, married to Alline, father of José Ricardo, 10+y of experience in high management positions\"\n",
    "s_role = \"AI Resident\"\n",
    "s_company = \"Hub de IA Senai Londrina\"\n",
    "s_personal_slogan = \"Making my way toward the AI\"\n",
    "s_personal_video = \"https://www.youtube.com/watch?v=MT8V_XXy5Ew\"\n",
    "s_video_code = \"MT8V_XXy5Ew\"\n",
    "s_personal_photo = \"https://avatars2.githubusercontent.com/u/56090255?s=460&v=4\"\n",
    "\n",
    "l_experience = [\"Rhodia\", \"LOréal Paris\", \"Banco Itaú\", \"DB1 Global Software\", \n",
    "                \"Cocamar Cooperativa Agroindustrial\"]\n",
    "l_background = [\"Engenharia química (Poli/2007)\", \n",
    "                \"Master of Engineering (Chimie ParisTech/2007)\",\n",
    "               \"LSS Black Belt (M.I.Domenech/2012)\", \n",
    "                \"MBA Liderança Organizacional (FranklinCovey/2018)\",\n",
    "               \"Programa de Inovação (ISAE/2019)\", \n",
    "                \"Advanced Executive Program (Unicuritiba/2019)\"]\n",
    "l_projects = [\n",
    "    \"aplicações diversas em C (2002 a 2003)\", \n",
    "    \"software para visualização de moléculas 3D usando C++ (2006)\",\n",
    "    \"cartas de controle e data analysis usando Matlab (2007)\",\n",
    "    \"software em PHP/MySQL para gestão de laboratório de QC (2009)\",\n",
    "    \"aplicação de PCR/MLR/PLSR usando espectroscopia NIR para caracterização de produtos agrícolas(2011)\",\n",
    "    \"aplicações corporativas múltiplas usando VBA for Excel (2007-2018)\",\n",
    "    \"aplicação de RPA usando MS Forms/Sharepoint/Flow/PowerApps/PowerBI (2018)\",\n",
    "    \"aplicações diversas para PowerBI usando R/Python (2019)\",\n",
    "    \"data analysis, time series analysis, MLR/LR/KNN regression, ggplot em R (2019)\",\n",
    "    \"bots de RPA usando chromedriver/selenium/bs4 para minerar dados/apostar em jogos de CSGO (2019)\",\n",
    "    \"aplicação de LR/KNN/DNN usando sklearn/keras/tensorflow para prever resultados de CSGO (2019)\",\n",
    "    \"aplicação de CNN usando keras/tensorflow para classificação de doenças e pragas no soja (2019)\"\n",
    "             ]\n",
    "\n",
    "vid = YouTubeVideo(s_video_code, width=\"800\")\n",
    "img = \"<img src='%s' style='width:100%%;'>\" % s_personal_photo\n",
    "s_experience = ', '.join(l_experience)\n",
    "s_background = ', '.join(l_background)\n",
    "s_projects = ', '.join(l_projects)\n",
    "\n",
    "html = \"\"\"\n",
    "<div style='display:table;margin:0px;padding:5px;background-color:#eee;'>\n",
    " <div style='float:left;width:30%%;'>\n",
    "  <div style='padding:5px;'><center>%s</center></div>\n",
    "  <div style='padding:5px;'><center><b><i>%s at %s</i></b></div>\n",
    "  <div style='padding:5px;'><center><a href='%s'><iframe width='100%%' src='https://www.youtube.com/embed/MT8V_XXy5Ew' frameborder='0' allow='accelerometer; autoplay; encrypted-media; gyroscope; picture-in-picture' allowfullscreen></iframe></a></center></div>\n",
    " </div>\n",
    " <div class='div-all right' style='float:right;width:70%%;'>\n",
    "  <div style='padding:5px;'><center><h2>%s</h2></center></div>\n",
    "  <div style='padding:5px;'><center><h5>%s</h5></center></div><br>\n",
    "  <div style='padding:5px;'><center><i>%s</i></center></div><br>\n",
    "  <div style='padding:5px;'><center><p class='text'><b>Formação: </b>%s</p></center></div>\n",
    "  <div style='padding:5px;'><center><p class='text'><b>Experiência: </b>%s</p></center></div>\n",
    "  <div style='padding:5px;'><center><p class='text'><b>Projetos: </b>%s</p></center></div>\n",
    " </div>\n",
    "</div>\n",
    "\"\"\"\n",
    "html=html%(img,s_role,s_company,s_personal_video,s_name,s_personal_slogan,s_info,s_background,s_experience,s_projects)\n",
    "HTML(html)"
   ]
  }
 ],
 "metadata": {
  "celltoolbar": "Slideshow",
  "hide_input": false,
  "kernelspec": {
   "display_name": "Python 3",
   "language": "python",
   "name": "python3"
  },
  "language_info": {
   "codemirror_mode": {
    "name": "ipython",
    "version": 3
   },
   "file_extension": ".py",
   "mimetype": "text/x-python",
   "name": "python",
   "nbconvert_exporter": "python",
   "pygments_lexer": "ipython3",
   "version": "3.7.4"
  }
 },
 "nbformat": 4,
 "nbformat_minor": 2
}
