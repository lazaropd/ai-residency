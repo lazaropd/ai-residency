{
 "cells": [
  {
   "cell_type": "markdown",
   "metadata": {
    "slideshow": {
     "slide_type": "slide"
    }
   },
   "source": [
    "# Working with Data\n",
    "## Lists\n",
    "**problem 1:** What will be the output of the following program?\n",
    "```\n",
    "    x = [0, 1, [2]]  \n",
    "\tx[2][0] = 3  \n",
    "\tprint x  \n",
    "\tx[2].append(4)  \n",
    "\tprint x  \n",
    "\tx[2] = 2  \n",
    "\tprint x  ```"
   ]
  },
  {
   "cell_type": "code",
   "execution_count": 1,
   "metadata": {
    "slideshow": {
     "slide_type": "subslide"
    }
   },
   "outputs": [
    {
     "name": "stdout",
     "output_type": "stream",
     "text": [
      "[0, 1, [3]]\n",
      "[0, 1, [3, 4]]\n",
      "[0, 1, 2]\n"
     ]
    }
   ],
   "source": [
    "x = [0, 1, [2]]  \n",
    "x[2][0] = 3  \n",
    "print(x) \n",
    "# vai substituir o valor 2 na posição 0 da lista\n",
    "\n",
    "x[2].append(4)  \n",
    "print(x)\n",
    "# vai adicionar um segundo valor na lista\n",
    "\n",
    "x[2] = 2  \n",
    "print(x)\n",
    "# vai substituir a lista pelo valor 2"
   ]
  },
  {
   "cell_type": "markdown",
   "metadata": {
    "slideshow": {
     "slide_type": "slide"
    }
   },
   "source": [
    "\n",
    "## The for Statement\n",
    "**problem 2:** Python has a built-in function sum to find sum of all elements of a list. Provide an implementation for sum.\n",
    "```\n",
    "    >>> sum([1, 2, 3])\n",
    "    >>> 6```"
   ]
  },
  {
   "cell_type": "code",
   "execution_count": 5,
   "metadata": {
    "slideshow": {
     "slide_type": "subslide"
    }
   },
   "outputs": [
    {
     "name": "stdout",
     "output_type": "stream",
     "text": [
      "6\n",
      "A lista possui valores inválidos\n",
      "A lista possui valores inválidos\n",
      "A lista possui valores inválidos\n"
     ]
    }
   ],
   "source": [
    "def soma_lista(lista):\n",
    "    try: \n",
    "        soma = sum(lista)\n",
    "    except:\n",
    "        return \"A lista possui valores inválidos\"\n",
    "    return soma\n",
    "\n",
    "lista1 = [1, 2, 3]\n",
    "lista2 = [1, 2, [1, 2]]\n",
    "lista3 = [None, 2, 3]\n",
    "lista4 = [1, \"force_error\", 3]\n",
    "\n",
    "print(soma_lista(lista1))\n",
    "print(soma_lista(lista2))\n",
    "print(soma_lista(lista3))\n",
    "print(soma_lista(lista4))"
   ]
  },
  {
   "cell_type": "markdown",
   "metadata": {
    "slideshow": {
     "slide_type": "slide"
    }
   },
   "source": [
    "\n",
    "**problem 3:** What happens when the above sum function is called with a list of strings? Can you make your sum function work for a list of strings as well.\n",
    "```    \n",
    "    >>> sum([\"hello\", \"world\"])\n",
    "    \"helloworld\"\n",
    "    >>> sum([\"aa\", \"bb\", \"cc\"])\n",
    "    \"aabbcc\"```"
   ]
  },
  {
   "cell_type": "code",
   "execution_count": 11,
   "metadata": {
    "slideshow": {
     "slide_type": "subslide"
    }
   },
   "outputs": [
    {
     "name": "stdout",
     "output_type": "stream",
     "text": [
      "6\n",
      "1 2 [1, 2]\n",
      "None 2 3\n",
      "1 force_error 3\n",
      "hello world\n",
      "aa bb cc\n"
     ]
    }
   ],
   "source": [
    "# a função nativa de listas sum não aceita textos, podemos alterar assim:\n",
    "\n",
    "def soma_lista(lista):\n",
    "    erro = False\n",
    "    try: \n",
    "        soma = sum(lista)\n",
    "    except:\n",
    "        try: \n",
    "            frase = ' '.join(list(map(str, lista)))\n",
    "            return frase\n",
    "        except:\n",
    "            erro = \"A lista possui valores inválidos\"\n",
    "    if erro: return erro\n",
    "    return soma\n",
    "\n",
    "lista1 = [1, 2, 3]\n",
    "lista2 = [1, 2, [1, 2]]\n",
    "lista3 = [None, 2, 3]\n",
    "lista4 = [1, \"force_error\", 3]\n",
    "lista5 = [\"hello\", \"world\"]\n",
    "lista6 = [\"aa\", \"bb\", \"cc\"]\n",
    "\n",
    "print(soma_lista(lista1))\n",
    "print(soma_lista(lista2))\n",
    "print(soma_lista(lista3))\n",
    "print(soma_lista(lista4))\n",
    "print(soma_lista(lista5))\n",
    "print(soma_lista(lista6))"
   ]
  },
  {
   "cell_type": "markdown",
   "metadata": {
    "slideshow": {
     "slide_type": "slide"
    }
   },
   "source": [
    "**problem 4:** Implement a function product, to compute product of a list of numbers.\n",
    "```\n",
    "    >>> product([1, 2, 3])\n",
    "    6```"
   ]
  },
  {
   "cell_type": "code",
   "execution_count": 22,
   "metadata": {
    "slideshow": {
     "slide_type": "subslide"
    }
   },
   "outputs": [
    {
     "name": "stdout",
     "output_type": "stream",
     "text": [
      "6\n",
      "6.0\n",
      "0\n",
      "Verificar se todos os valores informados são numéricos\n"
     ]
    }
   ],
   "source": [
    "from functools import reduce \n",
    "\n",
    "def product(lista):\n",
    "    check = [True if (type(item) == int) or (type(item) == float) else False for item in lista]\n",
    "    if sum(check) != len(lista): return \"Verificar se todos os valores informados são numéricos\"\n",
    "    produto = reduce((lambda x, y: x * y), lista) \n",
    "    return produto\n",
    "    \n",
    "print(product([1, 2, 3]))\n",
    "print(product([1, 2., 3]))\n",
    "print(product([1, 0, 3]))\n",
    "print(product([1, 2., None]))"
   ]
  },
  {
   "cell_type": "markdown",
   "metadata": {
    "slideshow": {
     "slide_type": "slide"
    }
   },
   "source": [
    "**problem 5:** Write a function factorial to compute factorial of a number. Can you use the product function defined in the previous example to compute factorial?\n",
    "```\n",
    "    >>> factorial(4)\n",
    "    24```"
   ]
  },
  {
   "cell_type": "code",
   "execution_count": 35,
   "metadata": {
    "slideshow": {
     "slide_type": "subslide"
    }
   },
   "outputs": [
    {
     "name": "stdout",
     "output_type": "stream",
     "text": [
      "120\n",
      "1\n",
      "O valor informado é inválido\n",
      "O valor informado é inválido\n",
      "[1, 2, 3, 4, 5]\n",
      "120\n"
     ]
    }
   ],
   "source": [
    "from functools import reduce \n",
    "\n",
    "def product(lista):\n",
    "    check = [True if (type(item) == int) or (type(item) == float) else False for item in lista]\n",
    "    if sum(check) != len(lista): return \"Verificar se todos os valores informados são numéricos\"\n",
    "    produto = reduce((lambda x, y: x * y), lista) \n",
    "    return produto\n",
    "\n",
    "def factorial(val):\n",
    "    aux, fatorial = val, 1\n",
    "    if type(val) != int: return \"O valor informado é inválido\"\n",
    "    while aux > 0:\n",
    "        fatorial *= aux\n",
    "        aux -= 1\n",
    "    return fatorial\n",
    "\n",
    "def factorial_lista(val):\n",
    "    if type(val) != int: return \"O valor informado é inválido\"\n",
    "    lista = [i for i in range(1, val + 1)]\n",
    "    fatorial = product(lista)\n",
    "    return fatorial\n",
    "    \n",
    "print(factorial(5))\n",
    "print(factorial(-1))\n",
    "print(factorial(2.1))\n",
    "print(factorial(\"force_error\"))\n",
    "\n",
    "print(factorial_lista(5))"
   ]
  },
  {
   "cell_type": "markdown",
   "metadata": {
    "slideshow": {
     "slide_type": "slide"
    }
   },
   "source": [
    "**problem 6:** Write a function reverse to reverse a list. Can you do this without using list slicing?\n",
    "```\n",
    "    >>> reverse([1, 2, 3, 4])\n",
    "    [4, 3, 2, 1]\n",
    "    >>> reverse(reverse([1, 2, 3, 4]))\n",
    "    [1, 2, 3, 4]```"
   ]
  },
  {
   "cell_type": "code",
   "execution_count": 44,
   "metadata": {
    "slideshow": {
     "slide_type": "subslide"
    }
   },
   "outputs": [
    {
     "name": "stdout",
     "output_type": "stream",
     "text": [
      "[5, 4, 3, 2, 1]\n",
      "[1, 2, 3, 4, 5]\n"
     ]
    },
    {
     "data": {
      "text/plain": [
       "[5, 4, 3, 2, 1]"
      ]
     },
     "execution_count": 44,
     "metadata": {},
     "output_type": "execute_result"
    }
   ],
   "source": [
    "def reverse(lista):\n",
    "    reverso = lista[::-1]\n",
    "    return reverso\n",
    "\n",
    "def reverse_force(lista):\n",
    "    nova_lista = []\n",
    "    tamanho = len(lista)\n",
    "    for i in range(tamanho):\n",
    "        nova_lista.append(lista[tamanho-i-1])\n",
    "    return nova_lista\n",
    "\n",
    "lista = [1, 2, 3, 4, 5]\n",
    "print(reverse(lista))\n",
    "print(reverse(reverse(lista)))\n",
    "\n",
    "reverse_force(lista)"
   ]
  },
  {
   "cell_type": "markdown",
   "metadata": {
    "slideshow": {
     "slide_type": "slide"
    }
   },
   "source": [
    "**problem 7:** Python has built-in functions min and max to compute minimum and maximum of a given list. Provide an implementation for these functions. What happens when you call your min and max functions with a list of strings?"
   ]
  },
  {
   "cell_type": "code",
   "execution_count": 14,
   "metadata": {
    "slideshow": {
     "slide_type": "subslide"
    }
   },
   "outputs": [
    {
     "name": "stdout",
     "output_type": "stream",
     "text": [
      "[2, 6, 27, 35, 45, 46, 68, 69, 73, 77]\n",
      "2\n",
      "77\n",
      "abc\n",
      "3\n",
      "def\n"
     ]
    }
   ],
   "source": [
    "import random\n",
    "\n",
    "def minimo(lista):\n",
    "    check = [True if (type(item) == int) or (type(item) == float) else False for item in lista]\n",
    "    if sum(check) != len(lista): lista = list(map(str, lista))\n",
    "    return min(lista)\n",
    "\n",
    "def maximo(lista):\n",
    "    check = [True if (type(item) == int) or (type(item) == float) else False for item in lista]\n",
    "    if sum(check) != len(lista): lista = list(map(str, lista))\n",
    "    return max(lista)\n",
    "\n",
    "lista = [random.randint(1, 100) for i in range(10)]\n",
    "lista.sort()\n",
    "print(lista)\n",
    "\n",
    "print(minimo(lista))\n",
    "print(maximo(lista))\n",
    "\n",
    "lista_str1 = [\"abc\", \"def\"]\n",
    "lista_str2 = [\"abc\", \"def\", 3]\n",
    "print(minimo(lista_str1))\n",
    "print(minimo(lista_str2))\n",
    "print(maximo(lista_str2))"
   ]
  },
  {
   "cell_type": "markdown",
   "metadata": {
    "slideshow": {
     "slide_type": "slide"
    }
   },
   "source": [
    "**problem 8:** Cumulative sum of a list [a, b, c, ...] is defined as [a, a+b, a+b+c, ...]. Write a function cumulative_sum to compute cumulative sum of a list. Does your implementation work for a list of strings?\n",
    "```\n",
    "    >>> cumulative_sum([1, 2, 3, 4])\n",
    "    [1, 3, 6, 10]\n",
    "    >>> cumulative_sum([4, 3, 2, 1])\n",
    "    [4, 7, 9, 10]```"
   ]
  },
  {
   "cell_type": "code",
   "execution_count": 25,
   "metadata": {
    "slideshow": {
     "slide_type": "subslide"
    }
   },
   "outputs": [
    {
     "name": "stdout",
     "output_type": "stream",
     "text": [
      "[1, 3, 6, 10, 15]\n",
      "['ab', 'ab cd', 'ab cd e', 'ab cd e fgh']\n",
      "['nums', 'nums 1', 'nums 1 2', 'nums 1 2 3', 'nums 1 2 3 4', 'nums 1 2 3 4 5']\n"
     ]
    }
   ],
   "source": [
    "def soma_lista(lista):\n",
    "    erro = False\n",
    "    try: \n",
    "        soma = sum(lista)\n",
    "    except:\n",
    "        try: \n",
    "            frase = ' '.join(list(map(str, lista)))\n",
    "            return frase\n",
    "        except:\n",
    "            erro = \"A lista possui valores inválidos\"\n",
    "    if erro: return erro\n",
    "    return soma\n",
    "\n",
    "def cumulative_sum(lista):\n",
    "    check = [True if (type(item) == int) or (type(item) == float) else False for item in lista]\n",
    "    if sum(check) != len(lista): lista = list(map(str, lista))\n",
    "    nova_lista = []\n",
    "    for i in range(len(lista)):\n",
    "        nova_lista.append(soma_lista(lista[0:i+1]))\n",
    "    return nova_lista\n",
    "    \n",
    "lista = [1, 2, 3, 4, 5]\n",
    "print(cumulative_sum(lista))\n",
    "    \n",
    "lista_str = [\"ab\", \"cd\", \"e\", \"fgh\"]\n",
    "print(cumulative_sum(lista_str))\n",
    "    \n",
    "lista_mix = [\"nums\", 1, 2, 3, 4, 5]\n",
    "print(cumulative_sum(lista_mix))"
   ]
  },
  {
   "cell_type": "markdown",
   "metadata": {
    "slideshow": {
     "slide_type": "slide"
    }
   },
   "source": [
    "**problem 9:** Write a function cumulative_product to compute cumulative product of a list of numbers.\n",
    "```\n",
    "    >>> cumulative_product([1, 2, 3, 4])\n",
    "    [1, 2, 6, 24]\n",
    "    >>> cumulative_product([4, 3, 2, 1])\n",
    "    [4, 12, 24, 24]```"
   ]
  },
  {
   "cell_type": "code",
   "execution_count": 31,
   "metadata": {
    "slideshow": {
     "slide_type": "subslide"
    }
   },
   "outputs": [
    {
     "name": "stdout",
     "output_type": "stream",
     "text": [
      "[1, 2, 6, 24, 120]\n",
      "[1, 2, 6, 24, 120, False]\n"
     ]
    }
   ],
   "source": [
    "from functools import reduce \n",
    "\n",
    "def product(lista):\n",
    "    check = [True if (type(item) == int) or (type(item) == float) else False for item in lista]\n",
    "    if sum(check) != len(lista): return False\n",
    "    produto = reduce((lambda x, y: x * y), lista) \n",
    "    return produto\n",
    "\n",
    "def cumulative_prod(lista):\n",
    "    nova_lista = []\n",
    "    for i in range(len(lista)):\n",
    "        nova_lista.append(product(lista[0:i+1]))\n",
    "    return nova_lista\n",
    "    \n",
    "lista = [1, 2, 3, 4, 5]\n",
    "print(cumulative_prod(lista))\n",
    "    \n",
    "lista_mix = [1, 2, 3, 4, 5, \"nums\"]\n",
    "print(cumulative_prod(lista_mix))"
   ]
  },
  {
   "cell_type": "markdown",
   "metadata": {
    "slideshow": {
     "slide_type": "slide"
    }
   },
   "source": [
    "**problem 10:** Write a function unique to find all the unique elements of a list.\n",
    "```\n",
    "\t>>> unique([1, 2, 1, 3, 2, 5])\n",
    "\t[1, 2, 3, 5]```"
   ]
  },
  {
   "cell_type": "code",
   "execution_count": 42,
   "metadata": {
    "slideshow": {
     "slide_type": "subslide"
    }
   },
   "outputs": [
    {
     "name": "stdout",
     "output_type": "stream",
     "text": [
      "[1, 2, 3, 4, 5]\n",
      "[1, 2, 'ab', 4, 5, 'c']\n"
     ]
    }
   ],
   "source": [
    "def unique(lista):\n",
    "    unicos = []\n",
    "    for item in lista:\n",
    "        if not item in unicos: unicos.append(item)\n",
    "    return unicos\n",
    "            \n",
    "lista = [1, 2, 3, 4, 2, 5, 1, 1]\n",
    "print(unique(lista))\n",
    "\n",
    "lista = [1, 2, \"ab\", 4, 5, \"c\", \"ab\", 4, \"c\"]\n",
    "print(unique(lista))"
   ]
  },
  {
   "cell_type": "markdown",
   "metadata": {
    "slideshow": {
     "slide_type": "slide"
    }
   },
   "source": [
    "**problem 11:** Write a function dups to find all duplicates in the list.\n",
    "```\n",
    "\t>>> dups([1, 2, 1, 3, 2, 5])\n",
    "\t[1, 2]```"
   ]
  },
  {
   "cell_type": "code",
   "execution_count": 43,
   "metadata": {
    "slideshow": {
     "slide_type": "subslide"
    }
   },
   "outputs": [
    {
     "name": "stdout",
     "output_type": "stream",
     "text": [
      "[2, 1, 1]\n",
      "['ab', 4, 'c']\n"
     ]
    }
   ],
   "source": [
    "def dups(lista):\n",
    "    duplicates, unique = [], []\n",
    "    for item in lista:\n",
    "        if item in unique: duplicates.append(item)\n",
    "        if not item in unique: unique.append(item)\n",
    "    return duplicates\n",
    "\n",
    "lista = [1, 2, 3, 4, 2, 5, 1, 1]\n",
    "print(dups(lista))\n",
    "\n",
    "lista = [1, 2, \"ab\", 4, 5, \"c\", \"ab\", 4, \"c\"]\n",
    "print(dups(lista))"
   ]
  },
  {
   "cell_type": "markdown",
   "metadata": {
    "slideshow": {
     "slide_type": "slide"
    }
   },
   "source": [
    "**problem 12:** Write a function group(list, size) that take a list and splits into smaller lists of given size.\n",
    "```\n",
    "    >>> group([1, 2, 3, 4, 5, 6, 7, 8, 9], 3)\n",
    "    [[1, 2, 3], [4, 5, 6], [7, 8, 9]]\n",
    "    >>> group([1, 2, 3, 4, 5, 6, 7, 8, 9], 4)\n",
    "    [[1, 2, 3, 4], [5, 6, 7, 8], [9]]```  "
   ]
  },
  {
   "cell_type": "code",
   "execution_count": 1,
   "metadata": {
    "slideshow": {
     "slide_type": "subslide"
    }
   },
   "outputs": [
    {
     "name": "stdout",
     "output_type": "stream",
     "text": [
      "[[1, 2], [3, 4], [5, 6], [7, 8], [9]]\n",
      "[[1, 2, 3], [4, 5, 6], [7, 8, 9]]\n"
     ]
    }
   ],
   "source": [
    "def group(lista, tamanho):\n",
    "    slices = []\n",
    "    lista_copy = lista.copy()\n",
    "    cortar = tamanho\n",
    "    while len(lista_copy) > 0:\n",
    "        if len(lista_copy) < tamanho: cortar = len(lista_copy)\n",
    "        slices.append(lista_copy[:cortar])\n",
    "        del(lista_copy[:cortar])\n",
    "    return slices\n",
    "\n",
    "lista = [1, 2, 3, 4, 5, 6, 7, 8, 9]\n",
    "print(group(lista, 2))\n",
    "print(group(lista, 3))"
   ]
  },
  {
   "cell_type": "markdown",
   "metadata": {
    "slideshow": {
     "slide_type": "slide"
    }
   },
   "source": [
    "## Sorting Lists\n",
    "**problem 14:** Write a function lensort to sort a list of strings based on length.\n",
    "```\n",
    "    >>> lensort(['python', 'perl', 'java', 'c', 'haskell', 'ruby'])\n",
    "    ['c', 'perl', 'java', 'ruby', 'python', 'haskell']```"
   ]
  },
  {
   "cell_type": "code",
   "execution_count": 48,
   "metadata": {
    "slideshow": {
     "slide_type": "subslide"
    }
   },
   "outputs": [
    {
     "data": {
      "text/plain": [
       "[1, 2, 'ab']"
      ]
     },
     "execution_count": 48,
     "metadata": {},
     "output_type": "execute_result"
    }
   ],
   "source": [
    "\n"
   ]
  },
  {
   "cell_type": "markdown",
   "metadata": {
    "slideshow": {
     "slide_type": "slide"
    }
   },
   "source": [
    "\n",
    "**problem 15:** Improve the unique function written in previous problems to take an optional key function as argument and use the return value of the key function to check for uniqueness.\n",
    "```\n",
    "\t>>> unique([\"python\", \"java\", \"Python\", \"Java\"], key=lambda s: s.lower())\n",
    "\t[\"python\", \"java\"]```"
   ]
  },
  {
   "cell_type": "code",
   "execution_count": null,
   "metadata": {
    "slideshow": {
     "slide_type": "subslide"
    }
   },
   "outputs": [],
   "source": []
  },
  {
   "cell_type": "markdown",
   "metadata": {
    "slideshow": {
     "slide_type": "slide"
    }
   },
   "source": [
    "## Tuples\n",
    "**problem 16:** Reimplement the unique function implemented in the earlier examples using sets."
   ]
  },
  {
   "cell_type": "code",
   "execution_count": null,
   "metadata": {
    "slideshow": {
     "slide_type": "subslide"
    }
   },
   "outputs": [],
   "source": []
  },
  {
   "cell_type": "markdown",
   "metadata": {
    "slideshow": {
     "slide_type": "slide"
    }
   },
   "source": [
    "\n",
    "## Strings\n",
    "**problem 17:** Write a function extsort to sort a list of files based on extension.\n",
    "```\n",
    "    >>> extsort(['a.c', 'a.py', 'b.py', 'bar.txt', 'foo.txt', 'x.c'])\n",
    "    ['a.c', 'x.c', 'a.py', 'b.py', 'bar.txt', 'foo.txt']```"
   ]
  },
  {
   "cell_type": "code",
   "execution_count": null,
   "metadata": {
    "slideshow": {
     "slide_type": "subslide"
    }
   },
   "outputs": [],
   "source": []
  },
  {
   "cell_type": "markdown",
   "metadata": {
    "slideshow": {
     "slide_type": "slide"
    }
   },
   "source": [
    "## Working With Files\n",
    "**problem 18:** Write a program reverse.py to print lines of a file in reverse order.\n",
    "```\n",
    "      $ cat she.txt\n",
    "      She sells seashells on the seashore;\n",
    "      The shells that she sells are seashells I'm sure.\n",
    "      So if she sells seashells on the seashore,\n",
    "      I'm sure that the shells are seashore shells.\n",
    "\n",
    "      $ python reverse.py she.txt\n",
    "      I'm sure that the shells are seashore shells.\n",
    "      So if she sells seashells on the seashore,\n",
    "      The shells that she sells are seashells I'm sure.\n",
    "      She sells seashells on the seashore;```"
   ]
  },
  {
   "cell_type": "code",
   "execution_count": null,
   "metadata": {
    "slideshow": {
     "slide_type": "subslide"
    }
   },
   "outputs": [],
   "source": []
  },
  {
   "cell_type": "markdown",
   "metadata": {
    "slideshow": {
     "slide_type": "slide"
    }
   },
   "source": [
    "**problem 19:** Write a program to print each line of a file in reverse order."
   ]
  },
  {
   "cell_type": "code",
   "execution_count": null,
   "metadata": {
    "slideshow": {
     "slide_type": "subslide"
    }
   },
   "outputs": [],
   "source": []
  },
  {
   "cell_type": "markdown",
   "metadata": {
    "slideshow": {
     "slide_type": "slide"
    }
   },
   "source": [
    "**problem 20:** Implement unix commands head and tail. The head and tail commands take a file as argument and prints its first and last 10 lines of the file respectively."
   ]
  },
  {
   "cell_type": "code",
   "execution_count": null,
   "metadata": {
    "slideshow": {
     "slide_type": "subslide"
    }
   },
   "outputs": [],
   "source": []
  },
  {
   "cell_type": "markdown",
   "metadata": {
    "slideshow": {
     "slide_type": "slide"
    }
   },
   "source": [
    "**problem 21:** Implement unix command grep. The grep command takes a string and a file as arguments and prints all lines in the file which contain the specified string.\n",
    "```\n",
    "    $ python grep.py she.txt sure\n",
    "    The shells that she sells are seashells I'm sure.\n",
    "    I'm sure that the shells are seashore shells.```"
   ]
  },
  {
   "cell_type": "code",
   "execution_count": null,
   "metadata": {
    "slideshow": {
     "slide_type": "subslide"
    }
   },
   "outputs": [],
   "source": []
  },
  {
   "cell_type": "markdown",
   "metadata": {
    "slideshow": {
     "slide_type": "slide"
    }
   },
   "source": [
    "**problem 22:** Write a program wrap.py that takes filename and width as aruguments and wraps the lines longer than width.\n",
    "```\n",
    "    $ python wrap.py she.txt 30\n",
    "    I'm sure that the shells are s\n",
    "    eashore shells.\n",
    "    So if she sells seashells on t\n",
    "    he seashore,\n",
    "    The shells that she sells are \n",
    "    seashells I'm sure.\n",
    "    She sells seashells on the sea\n",
    "    shore;```"
   ]
  },
  {
   "cell_type": "code",
   "execution_count": null,
   "metadata": {
    "slideshow": {
     "slide_type": "subslide"
    }
   },
   "outputs": [],
   "source": []
  },
  {
   "cell_type": "markdown",
   "metadata": {
    "slideshow": {
     "slide_type": "slide"
    }
   },
   "source": [
    "**problem 23:** The above wrap program is not so nice because it is breaking the line at middle of any word. Can you write a new program wordwrap.py that works like wrap.py, but breaks the line only at the word boundaries?\n",
    "```\n",
    "    $ python wordwrap.py she.txt 30\n",
    "    I'm sure that the shells are\n",
    "    seashore shells.\n",
    "    So if she sells seashells on\n",
    "    the seashore,\n",
    "    The shells that she sells are\n",
    "    seashells I'm sure.\n",
    "    She sells seashells on the\n",
    "    seashore;```"
   ]
  },
  {
   "cell_type": "code",
   "execution_count": null,
   "metadata": {
    "slideshow": {
     "slide_type": "subslide"
    }
   },
   "outputs": [],
   "source": []
  },
  {
   "cell_type": "markdown",
   "metadata": {
    "slideshow": {
     "slide_type": "slide"
    }
   },
   "source": [
    "**problem 24:** Write a program center_align.py to center align all lines in the given file.\n",
    "```\n",
    "    $ python center_align.py she.txt\n",
    "      I'm sure that the shells are seashore shells.  \n",
    "        So if she sells seashells on the seashore,   \n",
    "    The shells that she sells are seashells I'm sure.\n",
    "           She sells seashells on the seashore;```"
   ]
  },
  {
   "cell_type": "code",
   "execution_count": null,
   "metadata": {
    "slideshow": {
     "slide_type": "subslide"
    }
   },
   "outputs": [],
   "source": []
  },
  {
   "cell_type": "markdown",
   "metadata": {
    "slideshow": {
     "slide_type": "slide"
    }
   },
   "source": [
    "## List Comprehensions\n",
    "**problem 25:** Provide an implementation for zip function using list comprehensions.\n",
    "```\n",
    "    >>> zip([1, 2, 3], [\"a\", \"b\", \"c\"])\n",
    "    [(1, \"a\"), (2, \"b\"), (3, \"c\")]```"
   ]
  },
  {
   "cell_type": "code",
   "execution_count": null,
   "metadata": {
    "slideshow": {
     "slide_type": "subslide"
    }
   },
   "outputs": [],
   "source": []
  },
  {
   "cell_type": "markdown",
   "metadata": {
    "slideshow": {
     "slide_type": "slide"
    }
   },
   "source": [
    "**problem 26:** Python provides a built-in function map that applies a function to each element of a list. Provide an implementation for map using list comprehensions.\n",
    "```\n",
    "    >>> def square(x): return x * x\n",
    "    ...\n",
    "    >>> map(square, range(5))\n",
    "    [0, 1, 4, 9, 16]```"
   ]
  },
  {
   "cell_type": "code",
   "execution_count": null,
   "metadata": {
    "slideshow": {
     "slide_type": "subslide"
    }
   },
   "outputs": [],
   "source": []
  },
  {
   "cell_type": "markdown",
   "metadata": {
    "slideshow": {
     "slide_type": "slide"
    }
   },
   "source": [
    "**problem 27:** Python provides a built-in function filter(f, a) that returns items of the list a for which f(item) returns true. Provide an implementation for filter using list comprehensions.\n",
    "```\n",
    "    >>> def even(x): return x %2 == 0\n",
    "    ...\n",
    "    >>> filter(even, range(10))\n",
    "    [0, 2, 4, 6, 8]```"
   ]
  },
  {
   "cell_type": "code",
   "execution_count": null,
   "metadata": {
    "slideshow": {
     "slide_type": "subslide"
    }
   },
   "outputs": [],
   "source": []
  },
  {
   "cell_type": "markdown",
   "metadata": {
    "slideshow": {
     "slide_type": "slide"
    }
   },
   "source": [
    "**problem 28:** Write a function triplets that takes a number n as argument and returns a list of triplets such that sum of first two elements of the triplet equals the third element using numbers below n. Please note that (a, b, c) and (b, a, c) represent same triplet.\n",
    "```\n",
    "    >>> triplets(5)\n",
    "    [(1, 1, 2), (1, 2, 3), (1, 3, 4), (2, 2, 4)]```"
   ]
  },
  {
   "cell_type": "code",
   "execution_count": null,
   "metadata": {
    "slideshow": {
     "slide_type": "subslide"
    }
   },
   "outputs": [],
   "source": []
  },
  {
   "cell_type": "markdown",
   "metadata": {
    "slideshow": {
     "slide_type": "slide"
    }
   },
   "source": [
    "**problem 29:** Write a function enumerate that takes a list and returns a list of tuples containing (index,item) for each item in the list.\n",
    "```\n",
    "    >>> enumerate([\"a\", \"b\", \"c\"])\n",
    "    [(0, \"a\"), (1, \"b\"), (2, \"c\")]\n",
    "    >>> for index, value in enumerate([\"a\", \"b\", \"c\"]):\n",
    "    ...     print index, value\n",
    "    0 a\n",
    "    1 b\n",
    "    2 c```"
   ]
  },
  {
   "cell_type": "code",
   "execution_count": null,
   "metadata": {
    "slideshow": {
     "slide_type": "subslide"
    }
   },
   "outputs": [],
   "source": []
  },
  {
   "cell_type": "markdown",
   "metadata": {
    "slideshow": {
     "slide_type": "slide"
    }
   },
   "source": [
    "**problem 30:** Write a function array to create an 2-dimensional array. The function should take both dimensions as arguments. Value of each element can be initialized to None:\n",
    "```\n",
    "    >>> a = array(2, 3)\n",
    "    >>> a\n",
    "    [[None, None, None], [None, None, None]]\n",
    "    >>> a[0][0] = 5\n",
    "    [[5, None, None], [None, None, None]]```\n"
   ]
  },
  {
   "cell_type": "code",
   "execution_count": null,
   "metadata": {
    "slideshow": {
     "slide_type": "subslide"
    }
   },
   "outputs": [],
   "source": []
  },
  {
   "cell_type": "markdown",
   "metadata": {
    "slideshow": {
     "slide_type": "slide"
    }
   },
   "source": [
    "**problem 31:** Write a python function parse_csv to parse csv (comma separated values) files.\n",
    "```\n",
    "    >>> print open('a.csv').read()\n",
    "    a,b,c\n",
    "    1,2,3\n",
    "    2,3,4\n",
    "    3,4,5\n",
    "    >>> parse_csv('a.csv')\n",
    "    [['a', 'b', 'c'], ['1', '2', '3'], ['2', '3', '4'], ['3', '4', '5']]```"
   ]
  },
  {
   "cell_type": "code",
   "execution_count": null,
   "metadata": {
    "slideshow": {
     "slide_type": "subslide"
    }
   },
   "outputs": [],
   "source": []
  },
  {
   "cell_type": "markdown",
   "metadata": {
    "slideshow": {
     "slide_type": "slide"
    }
   },
   "source": [
    "**problem 32:** Generalize the above implementation of csv parser to support any delimiter and comments.\n",
    "```\n",
    "    >>> print open('a.txt').read()\n",
    "    # elements are separated by ! and comment indicator is #\n",
    "    a!b!c\n",
    "    1!2!3\n",
    "    2!3!4\n",
    "    3!4!5\n",
    "    >>> parse('a.txt', '!', '#')\n",
    "    [['a', 'b', 'c'], ['1', '2', '3'], ['2', '3', '4'], ['3', '4', '5']]```"
   ]
  },
  {
   "cell_type": "code",
   "execution_count": null,
   "metadata": {
    "slideshow": {
     "slide_type": "subslide"
    }
   },
   "outputs": [],
   "source": []
  },
  {
   "cell_type": "markdown",
   "metadata": {
    "slideshow": {
     "slide_type": "slide"
    }
   },
   "source": [
    "**problem 33:** Write a function mutate to compute all words generated by a single mutation on a given word. A mutation is defined as inserting a character, deleting a character, replacing a character, or swapping 2 consecutive characters in a string. For simplicity consider only letters from a to z.\n",
    "```\n",
    "    >>> words = mutate('hello')\n",
    "    >>> 'helo' in words\n",
    "    True\n",
    "    >>> 'cello' in words\n",
    "    True\n",
    "    >>> 'helol' in words\n",
    "    True```"
   ]
  },
  {
   "cell_type": "code",
   "execution_count": null,
   "metadata": {
    "slideshow": {
     "slide_type": "subslide"
    }
   },
   "outputs": [],
   "source": []
  },
  {
   "cell_type": "markdown",
   "metadata": {
    "slideshow": {
     "slide_type": "slide"
    }
   },
   "source": [
    "**problem 34:** Write a function nearly_equal to test whether two strings are nearly equal. Two strings a and b are nearly equal when a can be generated by a single mutation on b.\n",
    "```\n",
    "    >>> nearly_equal('python', 'perl')\n",
    "    False\n",
    "    >>> nearly_equal('perl', 'pearl')\n",
    "    True\n",
    "    >>> nearly_equal('python', 'jython')\n",
    "    True\n",
    "    >>> nearly_equal('man', 'woman')\n",
    "    False```"
   ]
  },
  {
   "cell_type": "code",
   "execution_count": null,
   "metadata": {
    "slideshow": {
     "slide_type": "subslide"
    }
   },
   "outputs": [],
   "source": []
  },
  {
   "cell_type": "markdown",
   "metadata": {
    "slideshow": {
     "slide_type": "slide"
    }
   },
   "source": [
    "## Dictionaries\n",
    "**problem 36:** Write a program to count frequency of characters in a given file. Can you use character frequency to tell whether the given file is a Python program file, C program file or a text file?"
   ]
  },
  {
   "cell_type": "code",
   "execution_count": null,
   "metadata": {
    "slideshow": {
     "slide_type": "subslide"
    }
   },
   "outputs": [],
   "source": []
  },
  {
   "cell_type": "markdown",
   "metadata": {
    "slideshow": {
     "slide_type": "slide"
    }
   },
   "source": [
    "**problem 37:** Write a program to find anagrams in a given list of words. Two words are called anagrams if one word can be formed by rearranging letters of another. For example 'eat', 'ate' and 'tea' are anagrams.\n",
    "```\n",
    "    >>> anagrams(['eat', 'ate', 'done', 'tea', 'soup', 'node'])\n",
    "    [['eat', 'ate', 'tea], ['done', 'node'], ['soup']]```"
   ]
  },
  {
   "cell_type": "code",
   "execution_count": null,
   "metadata": {
    "slideshow": {
     "slide_type": "subslide"
    }
   },
   "outputs": [],
   "source": []
  },
  {
   "cell_type": "markdown",
   "metadata": {
    "slideshow": {
     "slide_type": "slide"
    }
   },
   "source": [
    "**problem 38:** Write a function valuesort to sort values of a dictionary based on the key.\n",
    "```\n",
    "    >>> valuesort({'x': 1, 'y': 2, 'a': 3})\n",
    "    [3, 1, 2]```"
   ]
  },
  {
   "cell_type": "code",
   "execution_count": null,
   "metadata": {
    "slideshow": {
     "slide_type": "subslide"
    }
   },
   "outputs": [],
   "source": []
  },
  {
   "cell_type": "markdown",
   "metadata": {
    "slideshow": {
     "slide_type": "slide"
    }
   },
   "source": [
    "**problem 39:** Write a function invertdict to interchange keys and values in a dictionary. For simplicity, assume that all values are unique.\n",
    "```\n",
    "    >>> invertdict({'x': 1, 'y': 2, 'z': 3})\n",
    "    {1: 'x', 2: 'y', 3: 'z'}```"
   ]
  },
  {
   "cell_type": "code",
   "execution_count": null,
   "metadata": {
    "slideshow": {
     "slide_type": "subslide"
    }
   },
   "outputs": [],
   "source": []
  }
 ],
 "metadata": {
  "celltoolbar": "Slideshow",
  "hide_input": false,
  "kernelspec": {
   "display_name": "Python 3",
   "language": "python",
   "name": "python3"
  },
  "language_info": {
   "codemirror_mode": {
    "name": "ipython",
    "version": 3
   },
   "file_extension": ".py",
   "mimetype": "text/x-python",
   "name": "python",
   "nbconvert_exporter": "python",
   "pygments_lexer": "ipython3",
   "version": "3.7.4"
  }
 },
 "nbformat": 4,
 "nbformat_minor": 2
}
