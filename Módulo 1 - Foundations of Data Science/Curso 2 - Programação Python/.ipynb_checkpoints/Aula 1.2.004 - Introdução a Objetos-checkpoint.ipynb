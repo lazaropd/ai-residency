{
 "cells": [
  {
   "cell_type": "code",
   "execution_count": 148,
   "metadata": {},
   "outputs": [
    {
     "name": "stdout",
     "output_type": "stream",
     "text": [
      "1\n",
      "2\n"
     ]
    }
   ],
   "source": [
    "class Teste():\n",
    "    __valor = 1\n",
    "    def get_valor(self):\n",
    "        return self.__valor\n",
    "    def set_valor(self, novo_valor):\n",
    "        self.__valor = novo_valor\n",
    "        \n",
    "        \n",
    "my_object = Teste()\n",
    "print(my_object.get_valor())\n",
    "\n",
    "my_object.set_valor(2)\n",
    "print(my_object.get_valor())"
   ]
  },
  {
   "cell_type": "code",
   "execution_count": 10,
   "metadata": {},
   "outputs": [
    {
     "name": "stdout",
     "output_type": "stream",
     "text": [
      "\n",
      "Inicializando um novo objeto do tipo classe\n",
      "\n",
      "Acesso a atributo não protegido da classe\n",
      "Senai\n",
      "\n",
      "Acesso a atributo protegido da classe usando um getter\n",
      "{'nome': 'Fulano da Silva', 'endereco': 'Rua do Hub, 123'}\n",
      "\n",
      "Alterando um valor do objeto via método da classe\n",
      "Salvo com sucesso!\n",
      "\n",
      "{'nome': 'Fulano da Silva', 'endereco': 'Rua do Hub, 123'}\n",
      "Salvo com sucesso!\n",
      "\n",
      "{'nome': 'Beltrano Albuquerque', 'endereco': 'Rua do Hub, 123'}\n",
      "Salvo com sucesso!\n",
      "\n",
      "{'nome': 'Beltrano Albuquerque', 'endereco': 'Central Park, S/N'}\n"
     ]
    }
   ],
   "source": [
    "class Pessoa():\n",
    "    \n",
    "    __nome = \"Fulano da Silva\" # para definir um método privado usar '__'\n",
    "    __endereco = \"Rua do Hub, 123\"\n",
    "    desprotegido = \"Senai\"\n",
    "    \n",
    "    def get_pessoa(self):\n",
    "        return {\"nome\": self.__nome, \"endereco\": self.__endereco}\n",
    "    \n",
    "    def salva_pessoa(self, novo_nome=None, novo_endereco=None):\n",
    "        if novo_nome: self.__nome = novo_nome\n",
    "        if novo_endereco: self.__endereco = novo_endereco\n",
    "        return \"Salvo com sucesso!\\n\"\n",
    "\n",
    "    \n",
    "print(\"\\nInicializando um novo objeto do tipo classe\")\n",
    "pessoa = Pessoa()\n",
    "\n",
    "print(\"\\nAcesso a atributo não protegido da classe\")\n",
    "print(Pessoa.desprotegido)\n",
    "\n",
    "print(\"\\nAcesso a atributo protegido da classe usando um getter\")\n",
    "print(pessoa.get_pessoa())\n",
    "\n",
    "print(\"\\nAlterando um valor do objeto via método da classe\")\n",
    "print(pessoa.salva_pessoa())\n",
    "print(pessoa.get_pessoa())\n",
    "print(pessoa.salva_pessoa(novo_nome = \"Beltrano Albuquerque\"))\n",
    "print(pessoa.get_pessoa())\n",
    "print(pessoa.salva_pessoa(novo_endereco = \"Central Park, S/N\"))\n",
    "print(pessoa.get_pessoa())"
   ]
  },
  {
   "cell_type": "code",
   "execution_count": 92,
   "metadata": {},
   "outputs": [
    {
     "name": "stdout",
     "output_type": "stream",
     "text": [
      "Employee created.\n",
      "Destructor called, Employee deleted.\n"
     ]
    }
   ],
   "source": [
    "# Python program to illustrate destructor \n",
    "class Employee: \n",
    "  \n",
    "    # Initializing \n",
    "    def __init__(self): \n",
    "        print('Employee created.') \n",
    "  \n",
    "    # Deleting (Calling destructor) \n",
    "    def __del__(self): \n",
    "        print('Destructor called, Employee deleted.') \n",
    "  \n",
    "obj = Employee() \n",
    "del obj "
   ]
  },
  {
   "cell_type": "code",
   "execution_count": 107,
   "metadata": {},
   "outputs": [
    {
     "name": "stdout",
     "output_type": "stream",
     "text": [
      "1\n",
      "1\n",
      "Objeto destruído com sucesso!\n",
      "12\n"
     ]
    }
   ],
   "source": [
    "class Contador:\n",
    "    \n",
    "    valor = 1\n",
    "    \n",
    "    def __init__(self, valorinicial = None): # criar um construtor usar '__init__' na classe\n",
    "        if valorinicial: self.valor = valorinicial\n",
    "    \n",
    "    def __del__(self): # criar um destrutor usar '__del__' na classe\n",
    "        print(\"Objeto destruído com sucesso!\")\n",
    "\n",
    "\n",
    "# chamando o objeto diretamente \n",
    "print(Contador.valor)\n",
    "\n",
    "# chamando o objeto indiretamente, oferece mais flexibilidade na inicialização\n",
    "my_object = Contador()\n",
    "print(my_object.valor)\n",
    "\n",
    "my_object = counter(12)\n",
    "print(my_object.valor)\n",
    "\n",
    "del my_object"
   ]
  },
  {
   "cell_type": "code",
   "execution_count": 13,
   "metadata": {},
   "outputs": [
    {
     "name": "stdout",
     "output_type": "stream",
     "text": [
      "José Véi\n"
     ]
    }
   ],
   "source": [
    "class Pai:\n",
    "    nome_pai = \"José Véi\"\n",
    "    \n",
    "class Filho(Pai):\n",
    "    nome_filho = \"Lazaro\"\n",
    "    \n",
    "class Neto(Filho):\n",
    "    nome_neto = \"José Novo\"\n",
    "    \n",
    "    \n",
    "# aplicando o conceito de herança na criação de classes\n",
    "\n",
    "neto = Neto()\n",
    "print(neto.nome_pai)"
   ]
  },
  {
   "cell_type": "code",
   "execution_count": 141,
   "metadata": {},
   "outputs": [
    {
     "name": "stdout",
     "output_type": "stream",
     "text": [
      "Novo cliente criado: 111111\n",
      "\n",
      "Novo PF criado: 111111 - Muriel Mazzetto (CPF 022.222.222-22)\n",
      "\n",
      "Novo PJ criado: 111111 - Muriel Mazzetto (CPF 33.333.333/0001-33)\n",
      "\n",
      "Cliente: 111111 - Muriel Mazzetto:\n",
      "Saldo CC: 140.00\n",
      "Saldo CP: 0.00\n",
      "\n",
      "Cliente: 111111 - Muriel Mazzetto:\n",
      "Saldo CC: 140.00\n",
      "Saldo CP: 250.50\n",
      "\n",
      "Cliente: 111111 - Muriel Mazzetto:\n",
      "Saldo CC: 140.00\n",
      "Saldo CP: 240.50\n"
     ]
    }
   ],
   "source": [
    "class Cliente:    \n",
    "    nome = \"Nome da Pessoa\"\n",
    "    codigo = 0\n",
    "    def __init__(self, nome, codigo):\n",
    "        self.nome = nome\n",
    "        self.codigo = codigo\n",
    "    \n",
    "\n",
    "class PessoaFisica(Cliente):    \n",
    "    cpf = \"11111111111\"\n",
    "    def __init__(self, cpf, cliente):\n",
    "        self.cpf = cpf \n",
    "        super(PessoaFisica, self).__init__(cliente.nome, cliente.codigo)\n",
    "    def formata_cpf(self, cpf):\n",
    "        if len(cpf) < 11:\n",
    "            cpf = cpf.zfill(11)\n",
    "        return cpf[:3] + \".\" + cpf[3:6] + \".\" + cpf[6:9] + \"-\" + cpf[9:]\n",
    "    \n",
    "\n",
    "class PessoaJuridica(Cliente):\n",
    "    cnpj = \"11111111111111\"\n",
    "    def __init__(self, cnpj, cliente):\n",
    "        self.cnpj = cnpj\n",
    "        super(PessoaJuridica, self).__init__(cliente.nome, cliente.codigo)\n",
    "    def formata_cnpj(self, cnpj):\n",
    "        if len(cnpj) < 14:\n",
    "            cnpj = cnpj.zfill(14)\n",
    "        return cnpj[:2] + \".\" + cnpj[2:5] + \".\" + cnpj[5:8] + \"/\" + cnpj[8:12] + \"-\" + cnpj[12:]\n",
    "    \n",
    "\n",
    "class ContaBancaria(Cliente):    \n",
    "    saldo_cc = 0\n",
    "    saldo_cp = 0\n",
    "    def __init__(self, conta, valor, cliente):\n",
    "        if conta == \"cc\": self.saldo_cc = valor\n",
    "        if conta == \"cp\": self.saldo_cp = valor\n",
    "        super(ContaBancaria, self).__init__(cliente.nome, cliente.codigo)\n",
    "    def deposito(self, conta, valor):\n",
    "        if conta == \"cc\": self.saldo_cc += valor\n",
    "        if conta == \"cp\": self.saldo_cp += valor    \n",
    "    def saque(self, conta, valor):\n",
    "        if conta == \"cc\": self.saldo_cc -= valor\n",
    "        if conta == \"cp\": self.saldo_cp -= valor \n",
    "    def imprime_extrato(self):\n",
    "        return \"\\nCliente: %d - %s:\\nSaldo CC: %.2f\\nSaldo CP: %.2f\" % (self.codigo, self.nome, self.saldo_cc, self.saldo_cp)\n",
    "\n",
    "            \n",
    "            \n",
    "novo_cliente = Cliente(\"Muriel Mazzetto\", 111111)\n",
    "print(\"Novo cliente criado: %d\" % novo_cliente.codigo)\n",
    "\n",
    "novo_pf = PessoaFisica(\"02222222222\", novo_cliente)\n",
    "print(\"\\nNovo PF criado: %d - %s (CPF %s)\" % (novo_pf.codigo, novo_pf.nome, novo_pf.formata_cpf(novo_pf.cpf)))\n",
    "\n",
    "novo_pj = PessoaJuridica(\"33333333000133\", novo_cliente)\n",
    "print(\"\\nNovo PJ criado: %d - %s (CPF %s)\" % (novo_pj.codigo, novo_pj.nome, novo_pj.formata_cnpj(novo_pj.cnpj)))\n",
    "\n",
    "conta = ContaBancaria(\"cc\", 140, novo_cliente)\n",
    "print(conta.imprime_extrato())\n",
    "\n",
    "conta.deposito(\"cp\", 250.5)\n",
    "print(conta.imprime_extrato())\n",
    "\n",
    "conta.saque(\"cp\", 10)\n",
    "print(conta.imprime_extrato())"
   ]
  },
  {
   "cell_type": "code",
   "execution_count": 25,
   "metadata": {},
   "outputs": [
    {
     "name": "stdout",
     "output_type": "stream",
     "text": [
      "16\n",
      "54\n",
      "27\n"
     ]
    }
   ],
   "source": [
    "class Rectangle:\n",
    "    def __init__(self, length, width):\n",
    "        self.length = length\n",
    "        self.width = width\n",
    "\n",
    "    def area(self):\n",
    "        return self.length * self.width\n",
    "\n",
    "    def perimeter(self):\n",
    "        return 2 * self.length + 2 * self.width\n",
    "\n",
    "class Square(Rectangle):\n",
    "    def __init__(self, length):\n",
    "        super().__init__(length, length)\n",
    "    \n",
    "class Cube(Square):\n",
    "    def surface_area(self):\n",
    "        face_area = super(Square, self).area()\n",
    "        return face_area * 6\n",
    "\n",
    "    def volume(self):\n",
    "        face_area = super(Square, self).area()\n",
    "        return face_area * self.length\n",
    "        \n",
    "        \n",
    "square = Square(4)\n",
    "print(square.area())\n",
    "cube = Cube(3)\n",
    "print(cube.surface_area())\n",
    "print(cube.volume())"
   ]
  },
  {
   "cell_type": "code",
   "execution_count": 26,
   "metadata": {},
   "outputs": [
    {
     "name": "stdout",
     "output_type": "stream",
     "text": [
      "24\n",
      "8\n",
      "4\n"
     ]
    }
   ],
   "source": [
    "class Rectangle:\n",
    "    def __init__(self, length, width):\n",
    "        self.length = length\n",
    "        self.width = width\n",
    "\n",
    "    def area(self):\n",
    "        return self.length * self.width\n",
    "\n",
    "class Square(Rectangle):\n",
    "    def __init__(self, length):\n",
    "        super().__init__(length, length)\n",
    "\n",
    "class VolumeMixin:\n",
    "    def volume(self):\n",
    "        return self.area() * self.height\n",
    "\n",
    "class Cube(VolumeMixin, Square):\n",
    "    def __init__(self, length):\n",
    "        super().__init__(length)\n",
    "        self.height = length\n",
    "\n",
    "    def face_area(self):\n",
    "        return super().area()\n",
    "\n",
    "    def surface_area(self):\n",
    "        return super().area() * 6\n",
    "    \n",
    "\n",
    "cube = Cube(2)\n",
    "print(cube.surface_area())\n",
    "print(cube.volume())\n",
    "print(cube.area())"
   ]
  },
  {
   "cell_type": "code",
   "execution_count": 31,
   "metadata": {},
   "outputs": [
    {
     "name": "stdout",
     "output_type": "stream",
     "text": [
      "3\n"
     ]
    }
   ],
   "source": [
    "class A(object):\n",
    "    def __init__(self,a):\n",
    "        self.a=a\n",
    "\n",
    "class B(A):\n",
    "    def __init__(self,b,**kw):\n",
    "        self.b=b\n",
    "        super(B,self).__init__(**kw)\n",
    "\n",
    "class C(A):\n",
    "    def __init__(self,c,**kw):\n",
    "        self.c=c\n",
    "        super(C,self).__init__(**kw)\n",
    "\n",
    "class D(B,C):\n",
    "    def __init__(self,a,b,c,d):\n",
    "        super(D,self).__init__(a=a,b=b,c=c)\n",
    "        self.d=d\n",
    "        \n",
    "        \n",
    "my_object = D(1,2,3,4)\n",
    "print(my_object.c)"
   ]
  }
 ],
 "metadata": {
  "hide_input": false,
  "kernelspec": {
   "display_name": "Python 3",
   "language": "python",
   "name": "python3"
  },
  "language_info": {
   "codemirror_mode": {
    "name": "ipython",
    "version": 3
   },
   "file_extension": ".py",
   "mimetype": "text/x-python",
   "name": "python",
   "nbconvert_exporter": "python",
   "pygments_lexer": "ipython3",
   "version": "3.7.4"
  }
 },
 "nbformat": 4,
 "nbformat_minor": 2
}
