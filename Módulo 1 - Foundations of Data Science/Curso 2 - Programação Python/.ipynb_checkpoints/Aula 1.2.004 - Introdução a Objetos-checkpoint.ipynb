{
 "cells": [
  {
   "cell_type": "code",
   "execution_count": 102,
   "metadata": {},
   "outputs": [],
   "source": [
    "class classe_pessoa():\n",
    "    \n",
    "    __nome = \"Fulano da Silva\" # para definir um método privado usar '__'\n",
    "    __endereco = \"Rua do Hub, 123\"\n",
    "    desprotegido = \"Senai\"\n",
    "    \n",
    "    def seleciona_pessoa(self):\n",
    "        return {\"nome\": self.__nome, \"endereco\": self.__endereco}\n",
    "    \n",
    "    def salva_pessoa(self, novo_nome=None, novo_endereco=None):\n",
    "        if novo_nome: self.__nome = novo_nome\n",
    "        if novo_endereco: self.__endereco = novo_endereco\n",
    "        return \"Salvo com sucesso!\\n\"\n"
   ]
  },
  {
   "cell_type": "code",
   "execution_count": 124,
   "metadata": {
    "scrolled": true
   },
   "outputs": [
    {
     "name": "stdout",
     "output_type": "stream",
     "text": [
      "\n",
      "Inicializando um novo objeto do tipo classe\n",
      "\n",
      "Acesso a atributo não protegido da classe\n",
      "Senai\n",
      "\n",
      "Acesso a atributo protegido da classe usando um getter\n",
      "{'nome': 'Fulano da Silva', 'endereco': 'Rua do Hub, 123'}\n",
      "\n",
      "Alterando um valor do objeto via método da classe\n",
      "Salvo com sucesso!\n",
      "\n",
      "{'nome': 'Fulano da Silva', 'endereco': 'Rua do Hub, 123'}\n",
      "Salvo com sucesso!\n",
      "\n",
      "{'nome': 'Beltrano Albuquerque', 'endereco': 'Rua do Hub, 123'}\n",
      "Salvo com sucesso!\n",
      "\n",
      "{'nome': 'Beltrano Albuquerque', 'endereco': 'Central Park, S/N'}\n"
     ]
    }
   ],
   "source": [
    "print(\"\\nInicializando um novo objeto do tipo classe\")\n",
    "pessoa = classe_pessoa()\n",
    "\n",
    "print(\"\\nAcesso a atributo não protegido da classe\")\n",
    "print(classe_pessoa.desprotegido)\n",
    "\n",
    "print(\"\\nAcesso a atributo protegido da classe usando um getter\")\n",
    "print(pessoa.seleciona_pessoa())\n",
    "\n",
    "print(\"\\nAlterando um valor do objeto via método da classe\")\n",
    "print(pessoa.salva_pessoa())\n",
    "print(pessoa.seleciona_pessoa())\n",
    "print(pessoa.salva_pessoa(novo_nome = \"Beltrano Albuquerque\"))\n",
    "print(pessoa.seleciona_pessoa())\n",
    "print(pessoa.salva_pessoa(novo_endereco = \"Central Park, S/N\"))\n",
    "print(pessoa.seleciona_pessoa())\n"
   ]
  },
  {
   "cell_type": "code",
   "execution_count": 114,
   "metadata": {},
   "outputs": [],
   "source": [
    "class counter:\n",
    "    \n",
    "    valor = 1\n",
    "    \n",
    "    def __init__(self, valorinicial = None): # criar um construtor usar '__init__' na classe\n",
    "        if valorinicial: self.valor = valorinicial\n",
    "    \n",
    "    def __del__(self): # criar um destrutor usar '__del__' na classe\n",
    "        self.valor = 999\n",
    "        return \"Objeto destruído com sucesso!\"\n"
   ]
  },
  {
   "cell_type": "code",
   "execution_count": 119,
   "metadata": {},
   "outputs": [
    {
     "name": "stdout",
     "output_type": "stream",
     "text": [
      "1\n",
      "1\n",
      "12\n",
      "O objeto não existe mais\n"
     ]
    }
   ],
   "source": [
    "# chamando o objeto diretamente \n",
    "print(counter.valor)\n",
    "\n",
    "# chamando o objeto indiretamente, oferece mais flexibilidade na inicialização\n",
    "my_object = counter()\n",
    "print(my_object.valor)\n",
    "\n",
    "my_object = counter(12)\n",
    "print(my_object.valor)\n",
    "\n",
    "my_object = None\n",
    "if not my_object: print(\"O objeto não existe mais\")"
   ]
  },
  {
   "cell_type": "code",
   "execution_count": 75,
   "metadata": {},
   "outputs": [],
   "source": [
    "class classe_pai:\n",
    "    nome_pai = \"José Véi\"\n",
    "    \n",
    "class classe_filho(classe_pai):\n",
    "    nome_filho = \"Lazaro\"\n",
    "    \n",
    "class classe_neto(classe_filho):\n",
    "    nome_neto = \"José Novo\""
   ]
  },
  {
   "cell_type": "code",
   "execution_count": 78,
   "metadata": {},
   "outputs": [
    {
     "name": "stdout",
     "output_type": "stream",
     "text": [
      "José Véi\n"
     ]
    }
   ],
   "source": [
    "# aplicando o conceito de herança na criação de classes\n",
    "\n",
    "neto = classe_neto()\n",
    "print(neto.nome_pai)"
   ]
  },
  {
   "cell_type": "code",
   "execution_count": 151,
   "metadata": {},
   "outputs": [],
   "source": [
    "class cliente:    \n",
    "    def __init__(self, nome, codigo):\n",
    "        self.nome = \"Nome do Fulano\"\n",
    "        self.codigo = 0\n",
    "    \n",
    "class pessoa_fisica(cliente):    \n",
    "    def __init__(self, codigo, cpf):\n",
    "        cpf = \"11111111111\"    \n",
    "    \n",
    "class pessoa_juridica(cliente):\n",
    "    cnpj = \"11111111111111\"\n",
    "    \n",
    "class conta_bancaria:    \n",
    "    cliente = 0\n",
    "    saldo_cc = 0\n",
    "    saldo_cp = 0\n",
    "    \n",
    "    def deposito(self, conta, valor):\n",
    "        if conta == \"cc\": self.salco_cc += valor\n",
    "        if conta == \"cp\": self.salco_cp += valor    \n",
    "\n",
    "    def saque(self, conta, valor):\n",
    "        if conta == \"cc\": self.salco_cc -= valor\n",
    "        if conta == \"cp\": self.salco_cp -= valor          \n"
   ]
  },
  {
   "cell_type": "code",
   "execution_count": 154,
   "metadata": {},
   "outputs": [
    {
     "name": "stdout",
     "output_type": "stream",
     "text": [
      "Novo cliente criado: 0\n"
     ]
    },
    {
     "ename": "AttributeError",
     "evalue": "'pessoa_fisica' object has no attribute 'codigo'",
     "output_type": "error",
     "traceback": [
      "\u001b[0;31m---------------------------------------------------------------------------\u001b[0m",
      "\u001b[0;31mAttributeError\u001b[0m                            Traceback (most recent call last)",
      "\u001b[0;32m<ipython-input-154-eba884c56719>\u001b[0m in \u001b[0;36m<module>\u001b[0;34m\u001b[0m\n\u001b[1;32m      3\u001b[0m \u001b[0;34m\u001b[0m\u001b[0m\n\u001b[1;32m      4\u001b[0m \u001b[0mnovo_pf\u001b[0m \u001b[0;34m=\u001b[0m \u001b[0mpessoa_fisica\u001b[0m\u001b[0;34m(\u001b[0m\u001b[0;34m\"Muriel Mazzetto\"\u001b[0m\u001b[0;34m,\u001b[0m \u001b[0;36m333333\u001b[0m\u001b[0;34m)\u001b[0m\u001b[0;34m\u001b[0m\u001b[0;34m\u001b[0m\u001b[0m\n\u001b[0;32m----> 5\u001b[0;31m \u001b[0mprint\u001b[0m\u001b[0;34m(\u001b[0m\u001b[0;34m\"Novo PF criado: %d (CNPJ %s)\"\u001b[0m \u001b[0;34m%\u001b[0m \u001b[0;34m(\u001b[0m\u001b[0mnovo_pf\u001b[0m\u001b[0;34m.\u001b[0m\u001b[0mcodigo\u001b[0m\u001b[0;34m,\u001b[0m \u001b[0mnovo_pf\u001b[0m\u001b[0;34m.\u001b[0m\u001b[0mcpf\u001b[0m\u001b[0;34m)\u001b[0m\u001b[0;34m)\u001b[0m\u001b[0;34m\u001b[0m\u001b[0;34m\u001b[0m\u001b[0m\n\u001b[0m\u001b[1;32m      6\u001b[0m \u001b[0;34m\u001b[0m\u001b[0m\n\u001b[1;32m      7\u001b[0m \u001b[0;31m#novo_pj = pessoa_juridica(\"Muriel Mazzetto\", 222222)\u001b[0m\u001b[0;34m\u001b[0m\u001b[0;34m\u001b[0m\u001b[0;34m\u001b[0m\u001b[0m\n",
      "\u001b[0;31mAttributeError\u001b[0m: 'pessoa_fisica' object has no attribute 'codigo'"
     ]
    }
   ],
   "source": [
    "novo_cliente = cliente(\"Muriel Mazzetto\", 111111)\n",
    "print(\"Novo cliente criado: %d\" % novo_cliente.codigo)\n",
    "\n",
    "novo_pf = pessoa_fisica(\"Muriel Mazzetto\", 333333)\n",
    "print(\"Novo PF criado: %d (CNPJ %s)\" % (novo_pf.codigo, novo_pf.cpf))\n",
    "\n",
    "#novo_pj = pessoa_juridica(\"Muriel Mazzetto\", 222222)\n",
    "#print(\"Novo PJ criado: %d (CNPJ %s)\" % (novo_pj.codigo, novo_pj.cnpj))\n"
   ]
  },
  {
   "cell_type": "code",
   "execution_count": 135,
   "metadata": {},
   "outputs": [],
   "source": [
    "class Cliente:\n",
    "    def __init__(self, nome):\n",
    "        self.nome = nome\n",
    "\n",
    "class ClienteFisico(Cliente):\n",
    "    def __init__(self, nome, cpf):\n",
    "        super.__init__(self, nome)\n",
    "        self.cpf = cpf\n",
    "\n",
    "class ClienteJuridico(Cliente):\n",
    "    def __init__(self, nome, cnpj):\n",
    "        super.__init__(self, nome)\n",
    "        self.cnpj = cnpj\n",
    "\n",
    "class Conta():\n",
    "    def __init__(self, saldo, cliente):\n",
    "        self.saldo = saldo\n",
    "        self.cliente = cliente\n",
    "\n",
    "    def saque(qtd):\n",
    "        saldo -= qtd\n",
    "        return qtd\n",
    "\n",
    "    def deposito(qtd):\n",
    "        saldo += qtd\n",
    "\n",
    "class ContaCorrente(Conta):\n",
    "    def __init__(self, saldo, cliente):\n",
    "        super.__init__(self, saldo, cliente)\n",
    "\n",
    "class ContaPoupanca(Conta):\n",
    "    def __init__(self, saldo, cliente):\n",
    "        super.__init__(self, saldo, cliente) "
   ]
  },
  {
   "cell_type": "code",
   "execution_count": null,
   "metadata": {},
   "outputs": [],
   "source": []
  }
 ],
 "metadata": {
  "hide_input": false,
  "kernelspec": {
   "display_name": "Python 3",
   "language": "python",
   "name": "python3"
  },
  "language_info": {
   "codemirror_mode": {
    "name": "ipython",
    "version": 3
   },
   "file_extension": ".py",
   "mimetype": "text/x-python",
   "name": "python",
   "nbconvert_exporter": "python",
   "pygments_lexer": "ipython3",
   "version": "3.7.4"
  }
 },
 "nbformat": 4,
 "nbformat_minor": 2
}
