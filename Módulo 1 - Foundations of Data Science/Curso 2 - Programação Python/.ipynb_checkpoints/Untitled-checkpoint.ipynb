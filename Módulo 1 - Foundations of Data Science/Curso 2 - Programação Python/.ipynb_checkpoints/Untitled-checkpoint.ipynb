{
 "cells": [
  {
   "cell_type": "markdown",
   "metadata": {},
   "source": [
    "problem 14: Write a function lensort to sort a list of strings based on length.\n",
    "\n",
    "\n",
    "    >>> lensort(['python', 'perl', 'java', 'c', 'haskell', 'ruby'])\n",
    "    ['c', 'perl', 'java', 'ruby', 'python', 'haskell']"
   ]
  },
  {
   "cell_type": "code",
   "execution_count": 6,
   "metadata": {},
   "outputs": [
    {
     "name": "stdout",
     "output_type": "stream",
     "text": [
      "['c', 'perl', 'java', 'ruby', 'python', 'haskell']\n"
     ]
    }
   ],
   "source": [
    "def lensort(lista):\n",
    "    lista.sort(key = lambda x: len(x))\n",
    "    return lista\n",
    "    \n",
    "lista = ['python', 'perl', 'java', 'c', 'haskell', 'ruby']\n",
    "print(lensort(lista))"
   ]
  },
  {
   "cell_type": "markdown",
   "metadata": {},
   "source": [
    "problem 15: Improve the unique function written in previous problems to take an optional key function as argument and use the return value of the key function to check for uniqueness.\n",
    "\n",
    "\n",
    "\t>>> unique([\"python\", \"java\", \"Python\", \"Java\"], key=lambda s: s.lower())\n",
    "\t[\"python\", \"java\"]"
   ]
  },
  {
   "cell_type": "code",
   "execution_count": 27,
   "metadata": {},
   "outputs": [
    {
     "name": "stdout",
     "output_type": "stream",
     "text": [
      "['python', 'java', 'Python', 'Java', 'python', 'java', 'Python']\n",
      "['python', 'java', 'python', 'java', 'python', 'java', 'python']\n"
     ]
    },
    {
     "data": {
      "text/plain": [
       "['python', 'java']"
      ]
     },
     "execution_count": 27,
     "metadata": {},
     "output_type": "execute_result"
    }
   ],
   "source": [
    "def unique(lista, function):\n",
    "    lista = list(map(function, lista))\n",
    "    unicos = []\n",
    "    for item in lista:\n",
    "        if not item in unicos: unicos.append(item)\n",
    "    return unicos\n",
    "\n",
    "lista = [\"python\", \"java\", \"Python\", \"Java\", \"python\", \"java\", \"Python\"]\n",
    "unique(lista, function=lambda s: s.lower())"
   ]
  },
  {
   "cell_type": "markdown",
   "metadata": {},
   "source": [
    "problem 16: Reimplement the unique function implemented in the earlier examples using sets."
   ]
  },
  {
   "cell_type": "code",
   "execution_count": 48,
   "metadata": {},
   "outputs": [
    {
     "data": {
      "text/plain": [
       "{'java', 'python'}"
      ]
     },
     "execution_count": 48,
     "metadata": {},
     "output_type": "execute_result"
    }
   ],
   "source": [
    "def unique(meu_set, function):\n",
    "    novo_set = set(map(function, lista))\n",
    "    return novo_set\n",
    "\n",
    "lista = [\"python\", \"java\", \"Python\", \"Java\", \"python\", \"java\", \"Python\"]\n",
    "unique(set(lista), function=lambda s: s.lower())"
   ]
  },
  {
   "cell_type": "markdown",
   "metadata": {},
   "source": [
    "problem 17: Write a function extsort to sort a list of files based on extension.\n",
    "\n",
    "\n",
    "    >>> extsort(['a.c', 'a.py', 'b.py', 'bar.txt', 'foo.txt', 'x.c'])\n",
    "    ['a.c', 'x.c', 'a.py', 'b.py', 'bar.txt', 'foo.txt']"
   ]
  },
  {
   "cell_type": "code",
   "execution_count": 63,
   "metadata": {},
   "outputs": [
    {
     "name": "stdout",
     "output_type": "stream",
     "text": [
      "['a.c', 'x.c', 'a.py', 'b.py', 'bar.txt', 'foo.txt', 'bar.xls', 'foo.xls']\n"
     ]
    }
   ],
   "source": [
    "def extsort(lista, function):\n",
    "    lista.sort()\n",
    "    lista.sort(key=function)\n",
    "    return lista\n",
    "\n",
    "lista = ['a.c', 'a.py', 'foo.xls', 'b.py', 'bar.txt', 'bar.xls', 'foo.txt', 'x.c']    \n",
    "print(extsort(lista, lambda x: x.split(\".\")[1]))"
   ]
  },
  {
   "cell_type": "markdown",
   "metadata": {},
   "source": [
    "problem 18: Write a program reverse.py to print lines of a file in reverse order.\n",
    "\n",
    "      $ cat she.txt\n",
    "      She sells seashells on the seashore;\n",
    "      The shells that she sells are seashells I'm sure.\n",
    "      So if she sells seashells on the seashore,\n",
    "      I'm sure that the shells are seashore shells.\n",
    "\n",
    "      $ python reverse.py she.txt\n",
    "      I'm sure that the shells are seashore shells.\n",
    "      So if she sells seashells on the seashore,\n",
    "      The shells that she sells are seashells I'm sure.\n",
    "      She sells seashells on the seashore;"
   ]
  },
  {
   "cell_type": "code",
   "execution_count": null,
   "metadata": {},
   "outputs": [],
   "source": [
    "def save_file(file, content):\n",
    "    \n",
    "    \n",
    "def reverse_text(text):\n",
    "    \n",
    "\n",
    "texto = \"\"\"\n",
    "She sells seashells on the seashore;\n",
    "The shells that she sells are seashells I'm sure.\n",
    "So if she sells seashells on the seashore,\n",
    "I'm sure that the shells are seashore shells.\"\"\"\n"
   ]
  },
  {
   "cell_type": "code",
   "execution_count": null,
   "metadata": {},
   "outputs": [],
   "source": []
  },
  {
   "cell_type": "code",
   "execution_count": null,
   "metadata": {},
   "outputs": [],
   "source": []
  },
  {
   "cell_type": "code",
   "execution_count": null,
   "metadata": {},
   "outputs": [],
   "source": []
  },
  {
   "cell_type": "code",
   "execution_count": null,
   "metadata": {},
   "outputs": [],
   "source": []
  },
  {
   "cell_type": "code",
   "execution_count": null,
   "metadata": {},
   "outputs": [],
   "source": []
  },
  {
   "cell_type": "code",
   "execution_count": null,
   "metadata": {},
   "outputs": [],
   "source": []
  }
 ],
 "metadata": {
  "hide_input": false,
  "kernelspec": {
   "display_name": "Python 3",
   "language": "python",
   "name": "python3"
  },
  "language_info": {
   "codemirror_mode": {
    "name": "ipython",
    "version": 3
   },
   "file_extension": ".py",
   "mimetype": "text/x-python",
   "name": "python",
   "nbconvert_exporter": "python",
   "pygments_lexer": "ipython3",
   "version": "3.7.4"
  }
 },
 "nbformat": 4,
 "nbformat_minor": 2
}
