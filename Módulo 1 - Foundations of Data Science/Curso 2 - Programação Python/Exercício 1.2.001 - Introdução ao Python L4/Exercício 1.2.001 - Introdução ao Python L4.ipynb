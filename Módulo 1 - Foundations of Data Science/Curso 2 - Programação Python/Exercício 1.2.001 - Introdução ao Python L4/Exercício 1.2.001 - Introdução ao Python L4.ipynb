{
 "cells": [
  {
   "cell_type": "markdown",
   "metadata": {
    "slideshow": {
     "slide_type": "slide"
    }
   },
   "source": [
    "# Working with Data\n",
    "## Lists\n",
    "**problem 1:** What will be the output of the following program?\n",
    "```\n",
    "    x = [0, 1, [2]]  \n",
    "\tx[2][0] = 3  \n",
    "\tprint x  \n",
    "\tx[2].append(4)  \n",
    "\tprint x  \n",
    "\tx[2] = 2  \n",
    "\tprint x  ```"
   ]
  },
  {
   "cell_type": "code",
   "execution_count": 1,
   "metadata": {
    "slideshow": {
     "slide_type": "subslide"
    }
   },
   "outputs": [
    {
     "name": "stdout",
     "output_type": "stream",
     "text": [
      "[0, 1, [3]]\n",
      "[0, 1, [3, 4]]\n",
      "[0, 1, 2]\n"
     ]
    }
   ],
   "source": [
    "x = [0, 1, [2]]  \n",
    "x[2][0] = 3  \n",
    "print(x) \n",
    "# vai substituir o valor 2 na posição 0 da lista\n",
    "\n",
    "x[2].append(4)  \n",
    "print(x)\n",
    "# vai adicionar um segundo valor na lista\n",
    "\n",
    "x[2] = 2  \n",
    "print(x)\n",
    "# vai substituir a lista pelo valor 2"
   ]
  },
  {
   "cell_type": "markdown",
   "metadata": {
    "slideshow": {
     "slide_type": "slide"
    }
   },
   "source": [
    "\n",
    "## The for Statement\n",
    "**problem 2:** Python has a built-in function sum to find sum of all elements of a list. Provide an implementation for sum.\n",
    "```\n",
    "    >>> sum([1, 2, 3])\n",
    "    >>> 6```"
   ]
  },
  {
   "cell_type": "code",
   "execution_count": 2,
   "metadata": {
    "slideshow": {
     "slide_type": "subslide"
    }
   },
   "outputs": [
    {
     "name": "stdout",
     "output_type": "stream",
     "text": [
      "6\n",
      "A lista possui valores inválidos\n",
      "A lista possui valores inválidos\n",
      "A lista possui valores inválidos\n"
     ]
    }
   ],
   "source": [
    "def soma_lista(lista):\n",
    "    try: \n",
    "        soma = sum(lista)\n",
    "    except:\n",
    "        return \"A lista possui valores inválidos\"\n",
    "    return soma\n",
    "\n",
    "lista1 = [1, 2, 3]\n",
    "lista2 = [1, 2, [1, 2]]\n",
    "lista3 = [None, 2, 3]\n",
    "lista4 = [1, \"force_error\", 3]\n",
    "\n",
    "print(soma_lista(lista1))\n",
    "print(soma_lista(lista2))\n",
    "print(soma_lista(lista3))\n",
    "print(soma_lista(lista4))"
   ]
  },
  {
   "cell_type": "markdown",
   "metadata": {
    "slideshow": {
     "slide_type": "slide"
    }
   },
   "source": [
    "\n",
    "**problem 3:** What happens when the above sum function is called with a list of strings? Can you make your sum function work for a list of strings as well.\n",
    "```    \n",
    "    >>> sum([\"hello\", \"world\"])\n",
    "    \"helloworld\"\n",
    "    >>> sum([\"aa\", \"bb\", \"cc\"])\n",
    "    \"aabbcc\"```"
   ]
  },
  {
   "cell_type": "code",
   "execution_count": 11,
   "metadata": {
    "slideshow": {
     "slide_type": "subslide"
    }
   },
   "outputs": [
    {
     "name": "stdout",
     "output_type": "stream",
     "text": [
      "6\n",
      "1 2 [1, 2]\n",
      "None 2 3\n",
      "1 force_error 3\n",
      "hello world\n",
      "aa bb cc\n"
     ]
    }
   ],
   "source": [
    "# a função nativa de listas sum não aceita textos, podemos alterar assim:\n",
    "\n",
    "def soma_lista(lista):\n",
    "    erro = False\n",
    "    try: \n",
    "        soma = sum(lista)\n",
    "    except:\n",
    "        try: \n",
    "            frase = ' '.join(list(map(str, lista)))\n",
    "            return frase\n",
    "        except:\n",
    "            erro = \"A lista possui valores inválidos\"\n",
    "    if erro: return erro\n",
    "    return soma\n",
    "\n",
    "lista1 = [1, 2, 3]\n",
    "lista2 = [1, 2, [1, 2]]\n",
    "lista3 = [None, 2, 3]\n",
    "lista4 = [1, \"force_error\", 3]\n",
    "lista5 = [\"hello\", \"world\"]\n",
    "lista6 = [\"aa\", \"bb\", \"cc\"]\n",
    "\n",
    "print(soma_lista(lista1))\n",
    "print(soma_lista(lista2))\n",
    "print(soma_lista(lista3))\n",
    "print(soma_lista(lista4))\n",
    "print(soma_lista(lista5))\n",
    "print(soma_lista(lista6))"
   ]
  },
  {
   "cell_type": "markdown",
   "metadata": {
    "slideshow": {
     "slide_type": "slide"
    }
   },
   "source": [
    "**problem 4:** Implement a function product, to compute product of a list of numbers.\n",
    "```\n",
    "    >>> product([1, 2, 3])\n",
    "    6```"
   ]
  },
  {
   "cell_type": "code",
   "execution_count": 3,
   "metadata": {
    "slideshow": {
     "slide_type": "subslide"
    }
   },
   "outputs": [
    {
     "name": "stdout",
     "output_type": "stream",
     "text": [
      "6\n",
      "6.0\n",
      "0\n",
      "Verificar se todos os valores informados são numéricos\n"
     ]
    }
   ],
   "source": [
    "from functools import reduce \n",
    "\n",
    "def product(lista):\n",
    "    check = [True if (type(item) == int) or (type(item) == float) else False for item in lista]\n",
    "    if sum(check) != len(lista): return \"Verificar se todos os valores informados são numéricos\"\n",
    "    produto = reduce((lambda x, y: x * y), lista) \n",
    "    return produto\n",
    "    \n",
    "print(product([1, 2, 3]))\n",
    "print(product([1, 2., 3]))\n",
    "print(product([1, 0, 3]))\n",
    "print(product([1, 2., None]))"
   ]
  },
  {
   "cell_type": "markdown",
   "metadata": {
    "slideshow": {
     "slide_type": "slide"
    }
   },
   "source": [
    "**problem 5:** Write a function factorial to compute factorial of a number. Can you use the product function defined in the previous example to compute factorial?\n",
    "```\n",
    "    >>> factorial(4)\n",
    "    24```"
   ]
  },
  {
   "cell_type": "code",
   "execution_count": 35,
   "metadata": {
    "slideshow": {
     "slide_type": "subslide"
    }
   },
   "outputs": [
    {
     "name": "stdout",
     "output_type": "stream",
     "text": [
      "120\n",
      "1\n",
      "O valor informado é inválido\n",
      "O valor informado é inválido\n",
      "[1, 2, 3, 4, 5]\n",
      "120\n"
     ]
    }
   ],
   "source": [
    "from functools import reduce \n",
    "\n",
    "def product(lista):\n",
    "    check = [True if (type(item) == int) or (type(item) == float) else False for item in lista]\n",
    "    if sum(check) != len(lista): return \"Verificar se todos os valores informados são numéricos\"\n",
    "    produto = reduce((lambda x, y: x * y), lista) \n",
    "    return produto\n",
    "\n",
    "def factorial(val):\n",
    "    aux, fatorial = val, 1\n",
    "    if type(val) != int: return \"O valor informado é inválido\"\n",
    "    while aux > 0:\n",
    "        fatorial *= aux\n",
    "        aux -= 1\n",
    "    return fatorial\n",
    "\n",
    "def factorial_lista(val):\n",
    "    if type(val) != int: return \"O valor informado é inválido\"\n",
    "    lista = [i for i in range(1, val + 1)]\n",
    "    fatorial = product(lista)\n",
    "    return fatorial\n",
    "    \n",
    "print(factorial(5))\n",
    "print(factorial(-1))\n",
    "print(factorial(2.1))\n",
    "print(factorial(\"force_error\"))\n",
    "\n",
    "print(factorial_lista(5))"
   ]
  },
  {
   "cell_type": "markdown",
   "metadata": {
    "slideshow": {
     "slide_type": "slide"
    }
   },
   "source": [
    "**problem 6:** Write a function reverse to reverse a list. Can you do this without using list slicing?\n",
    "```\n",
    "    >>> reverse([1, 2, 3, 4])\n",
    "    [4, 3, 2, 1]\n",
    "    >>> reverse(reverse([1, 2, 3, 4]))\n",
    "    [1, 2, 3, 4]```"
   ]
  },
  {
   "cell_type": "code",
   "execution_count": 4,
   "metadata": {
    "slideshow": {
     "slide_type": "subslide"
    }
   },
   "outputs": [
    {
     "name": "stdout",
     "output_type": "stream",
     "text": [
      "[5, 4, 3, 2, 1]\n",
      "[1, 2, 3, 4, 5]\n"
     ]
    },
    {
     "data": {
      "text/plain": [
       "[5, 4, 3, 2, 1]"
      ]
     },
     "execution_count": 4,
     "metadata": {},
     "output_type": "execute_result"
    }
   ],
   "source": [
    "def reverse(lista):\n",
    "    reverso = lista[::-1]\n",
    "    return reverso\n",
    "\n",
    "def reverse_force(lista):\n",
    "    nova_lista = []\n",
    "    tamanho = len(lista)\n",
    "    for i in range(tamanho):\n",
    "        nova_lista.append(lista[tamanho-i-1])\n",
    "    return nova_lista\n",
    "\n",
    "lista = [1, 2, 3, 4, 5]\n",
    "print(reverse(lista))\n",
    "print(reverse(reverse(lista)))\n",
    "\n",
    "reverse_force(lista)"
   ]
  },
  {
   "cell_type": "markdown",
   "metadata": {
    "slideshow": {
     "slide_type": "slide"
    }
   },
   "source": [
    "**problem 7:** Python has built-in functions min and max to compute minimum and maximum of a given list. Provide an implementation for these functions. What happens when you call your min and max functions with a list of strings?"
   ]
  },
  {
   "cell_type": "code",
   "execution_count": 5,
   "metadata": {
    "slideshow": {
     "slide_type": "subslide"
    }
   },
   "outputs": [
    {
     "name": "stdout",
     "output_type": "stream",
     "text": [
      "[12, 30, 37, 49, 52, 62, 66, 71, 95, 98]\n",
      "12\n",
      "98\n",
      "abc\n",
      "3\n",
      "def\n"
     ]
    }
   ],
   "source": [
    "import random\n",
    "\n",
    "def minimo(lista):\n",
    "    check = [True if (type(item) == int) or (type(item) == float) else False for item in lista]\n",
    "    if sum(check) != len(lista): lista = list(map(str, lista))\n",
    "    return min(lista)\n",
    "\n",
    "def maximo(lista):\n",
    "    check = [True if (type(item) == int) or (type(item) == float) else False for item in lista]\n",
    "    if sum(check) != len(lista): lista = list(map(str, lista))\n",
    "    return max(lista)\n",
    "\n",
    "lista = [random.randint(1, 100) for i in range(10)]\n",
    "lista.sort()\n",
    "print(lista)\n",
    "\n",
    "print(minimo(lista))\n",
    "print(maximo(lista))\n",
    "\n",
    "lista_str1 = [\"abc\", \"def\"]\n",
    "lista_str2 = [\"abc\", \"def\", 3]\n",
    "print(minimo(lista_str1))\n",
    "print(minimo(lista_str2))\n",
    "print(maximo(lista_str2))"
   ]
  },
  {
   "cell_type": "markdown",
   "metadata": {
    "slideshow": {
     "slide_type": "slide"
    }
   },
   "source": [
    "**problem 8:** Cumulative sum of a list [a, b, c, ...] is defined as [a, a+b, a+b+c, ...]. Write a function cumulative_sum to compute cumulative sum of a list. Does your implementation work for a list of strings?\n",
    "```\n",
    "    >>> cumulative_sum([1, 2, 3, 4])\n",
    "    [1, 3, 6, 10]\n",
    "    >>> cumulative_sum([4, 3, 2, 1])\n",
    "    [4, 7, 9, 10]```"
   ]
  },
  {
   "cell_type": "code",
   "execution_count": 6,
   "metadata": {
    "slideshow": {
     "slide_type": "subslide"
    }
   },
   "outputs": [
    {
     "name": "stdout",
     "output_type": "stream",
     "text": [
      "[1, 3, 6, 10, 15]\n",
      "['ab', 'ab cd', 'ab cd e', 'ab cd e fgh']\n",
      "['nums', 'nums 1', 'nums 1 2', 'nums 1 2 3', 'nums 1 2 3 4', 'nums 1 2 3 4 5']\n"
     ]
    }
   ],
   "source": [
    "def soma_lista(lista):\n",
    "    erro = False\n",
    "    try: \n",
    "        soma = sum(lista)\n",
    "    except:\n",
    "        try: \n",
    "            frase = ' '.join(list(map(str, lista)))\n",
    "            return frase\n",
    "        except:\n",
    "            erro = \"A lista possui valores inválidos\"\n",
    "    if erro: return erro\n",
    "    return soma\n",
    "\n",
    "def cumulative_sum(lista):\n",
    "    check = [True if (type(item) == int) or (type(item) == float) else False for item in lista]\n",
    "    if sum(check) != len(lista): lista = list(map(str, lista))\n",
    "    nova_lista = []\n",
    "    for i in range(len(lista)):\n",
    "        nova_lista.append(soma_lista(lista[0:i+1]))\n",
    "    return nova_lista\n",
    "    \n",
    "lista = [1, 2, 3, 4, 5]\n",
    "print(cumulative_sum(lista))\n",
    "    \n",
    "lista_str = [\"ab\", \"cd\", \"e\", \"fgh\"]\n",
    "print(cumulative_sum(lista_str))\n",
    "    \n",
    "lista_mix = [\"nums\", 1, 2, 3, 4, 5]\n",
    "print(cumulative_sum(lista_mix))"
   ]
  },
  {
   "cell_type": "markdown",
   "metadata": {
    "slideshow": {
     "slide_type": "slide"
    }
   },
   "source": [
    "**problem 9:** Write a function cumulative_product to compute cumulative product of a list of numbers.\n",
    "```\n",
    "    >>> cumulative_product([1, 2, 3, 4])\n",
    "    [1, 2, 6, 24]\n",
    "    >>> cumulative_product([4, 3, 2, 1])\n",
    "    [4, 12, 24, 24]```"
   ]
  },
  {
   "cell_type": "code",
   "execution_count": 7,
   "metadata": {
    "slideshow": {
     "slide_type": "subslide"
    }
   },
   "outputs": [
    {
     "name": "stdout",
     "output_type": "stream",
     "text": [
      "[1, 2, 6, 24, 120]\n",
      "[1, 2, 6, 24, 120, False]\n"
     ]
    }
   ],
   "source": [
    "from functools import reduce \n",
    "\n",
    "def product(lista):\n",
    "    check = [True if (type(item) == int) or (type(item) == float) else False for item in lista]\n",
    "    if sum(check) != len(lista): return False\n",
    "    produto = reduce((lambda x, y: x * y), lista) \n",
    "    return produto\n",
    "\n",
    "def cumulative_prod(lista):\n",
    "    nova_lista = []\n",
    "    for i in range(len(lista)):\n",
    "        nova_lista.append(product(lista[0:i+1]))\n",
    "    return nova_lista\n",
    "    \n",
    "lista = [1, 2, 3, 4, 5]\n",
    "print(cumulative_prod(lista))\n",
    "    \n",
    "lista_mix = [1, 2, 3, 4, 5, \"nums\"]\n",
    "print(cumulative_prod(lista_mix))"
   ]
  },
  {
   "cell_type": "markdown",
   "metadata": {
    "slideshow": {
     "slide_type": "slide"
    }
   },
   "source": [
    "**problem 10:** Write a function unique to find all the unique elements of a list.\n",
    "```\n",
    "\t>>> unique([1, 2, 1, 3, 2, 5])\n",
    "\t[1, 2, 3, 5]```"
   ]
  },
  {
   "cell_type": "code",
   "execution_count": 1,
   "metadata": {
    "slideshow": {
     "slide_type": "subslide"
    }
   },
   "outputs": [
    {
     "name": "stdout",
     "output_type": "stream",
     "text": [
      "[1, 2, 3, 4, 5]\n",
      "[1, 2, 'ab', 4, 5, 'c', 'Ab']\n"
     ]
    }
   ],
   "source": [
    "def unique(lista):\n",
    "    unicos = []\n",
    "    for item in lista:\n",
    "        if not item in unicos: unicos.append(item)\n",
    "    return unicos\n",
    "            \n",
    "lista = [1, 2, 3, 4, 2, 5, 1, 1]\n",
    "print(unique(lista))\n",
    "\n",
    "lista = [1, 2, \"ab\", 4, 5, \"c\", \"ab\", \"Ab\", 4, \"c\"]\n",
    "print(unique(lista))"
   ]
  },
  {
   "cell_type": "markdown",
   "metadata": {
    "slideshow": {
     "slide_type": "slide"
    }
   },
   "source": [
    "**problem 11:** Write a function dups to find all duplicates in the list.\n",
    "```\n",
    "\t>>> dups([1, 2, 1, 3, 2, 5])\n",
    "\t[1, 2]```"
   ]
  },
  {
   "cell_type": "code",
   "execution_count": 18,
   "metadata": {
    "slideshow": {
     "slide_type": "subslide"
    }
   },
   "outputs": [
    {
     "name": "stdout",
     "output_type": "stream",
     "text": [
      "[2, 1]\n",
      "['ab', 4, 'c']\n"
     ]
    }
   ],
   "source": [
    "def unique(lista):\n",
    "    unicos = []\n",
    "    for item in lista:\n",
    "        if not item in unicos: unicos.append(item)\n",
    "    return unicos\n",
    "\n",
    "def dups(lista):\n",
    "    duplicates, unique = [], []\n",
    "    for item in lista:\n",
    "        if item in unique: duplicates.append(item)\n",
    "        if not item in unique: unique.append(item)\n",
    "    return duplicates\n",
    "\n",
    "lista = [1, 2, 3, 4, 2, 5, 1, 1]\n",
    "print(unique(dups(lista)))\n",
    "\n",
    "lista = [1, 2, \"ab\", 4, 5, \"c\", \"ab\", 4, \"c\"]\n",
    "print(unique(dups(lista)))"
   ]
  },
  {
   "cell_type": "markdown",
   "metadata": {
    "slideshow": {
     "slide_type": "slide"
    }
   },
   "source": [
    "**problem 12:** Write a function group(list, size) that take a list and splits into smaller lists of given size.\n",
    "```\n",
    "    >>> group([1, 2, 3, 4, 5, 6, 7, 8, 9], 3)\n",
    "    [[1, 2, 3], [4, 5, 6], [7, 8, 9]]\n",
    "    >>> group([1, 2, 3, 4, 5, 6, 7, 8, 9], 4)\n",
    "    [[1, 2, 3, 4], [5, 6, 7, 8], [9]]```  "
   ]
  },
  {
   "cell_type": "code",
   "execution_count": 19,
   "metadata": {
    "slideshow": {
     "slide_type": "subslide"
    }
   },
   "outputs": [
    {
     "name": "stdout",
     "output_type": "stream",
     "text": [
      "[[1, 2], [3, 4], [5, 6], [7, 8], [9]]\n",
      "[[1, 2, 3], [4, 5, 6], [7, 8, 9]]\n"
     ]
    }
   ],
   "source": [
    "def group(lista, tamanho):\n",
    "    slices = []\n",
    "    lista_copy = lista.copy()\n",
    "    cortar = tamanho\n",
    "    while len(lista_copy) > 0:\n",
    "        if len(lista_copy) < tamanho: cortar = len(lista_copy)\n",
    "        slices.append(lista_copy[:cortar])\n",
    "        del(lista_copy[:cortar])\n",
    "    return slices\n",
    "\n",
    "lista = [1, 2, 3, 4, 5, 6, 7, 8, 9]\n",
    "print(group(lista, 2))\n",
    "print(group(lista, 3))"
   ]
  },
  {
   "cell_type": "markdown",
   "metadata": {
    "slideshow": {
     "slide_type": "slide"
    }
   },
   "source": [
    "## Sorting Lists\n",
    "**problem 14:** Write a function lensort to sort a list of strings based on length.\n",
    "```\n",
    "    >>> lensort(['python', 'perl', 'java', 'c', 'haskell', 'ruby'])\n",
    "    ['c', 'perl', 'java', 'ruby', 'python', 'haskell']```"
   ]
  },
  {
   "cell_type": "code",
   "execution_count": 20,
   "metadata": {
    "slideshow": {
     "slide_type": "subslide"
    }
   },
   "outputs": [
    {
     "name": "stdout",
     "output_type": "stream",
     "text": [
      "['c', 'perl', 'java', 'ruby', 'python', 'haskell']\n"
     ]
    }
   ],
   "source": [
    "def lensort(lista):\n",
    "    lista.sort(key = lambda x: len(x))\n",
    "    return lista\n",
    "    \n",
    "lista = ['python', 'perl', 'java', 'c', 'haskell', 'ruby']\n",
    "print(lensort(lista))"
   ]
  },
  {
   "cell_type": "markdown",
   "metadata": {
    "slideshow": {
     "slide_type": "slide"
    }
   },
   "source": [
    "\n",
    "**problem 15:** Improve the unique function written in previous problems to take an optional key function as argument and use the return value of the key function to check for uniqueness.\n",
    "```\n",
    "\t>>> unique([\"python\", \"java\", \"Python\", \"Java\"], key=lambda s: s.lower())\n",
    "\t[\"python\", \"java\"]```"
   ]
  },
  {
   "cell_type": "code",
   "execution_count": 36,
   "metadata": {
    "slideshow": {
     "slide_type": "subslide"
    }
   },
   "outputs": [
    {
     "data": {
      "text/plain": [
       "['python', 'java', 'c']"
      ]
     },
     "execution_count": 36,
     "metadata": {},
     "output_type": "execute_result"
    }
   ],
   "source": [
    "def unique(lista, function):\n",
    "    lista = list(map(function, lista))\n",
    "    unicos = []\n",
    "    for item in lista:\n",
    "        if not item in unicos: unicos.append(item)\n",
    "    return unicos\n",
    "\n",
    "lista = [\"python\", \"java\", \"Python\", \"Java\", \"python\", \"java\", \"C\", \"Python\"]\n",
    "unique(lista, function=lambda s: s.lower())"
   ]
  },
  {
   "cell_type": "markdown",
   "metadata": {
    "slideshow": {
     "slide_type": "slide"
    }
   },
   "source": [
    "## Tuples\n",
    "**problem 16:** Reimplement the unique function implemented in the earlier examples using sets."
   ]
  },
  {
   "cell_type": "code",
   "execution_count": 24,
   "metadata": {
    "slideshow": {
     "slide_type": "subslide"
    }
   },
   "outputs": [
    {
     "data": {
      "text/plain": [
       "{'c', 'java', 'python'}"
      ]
     },
     "execution_count": 24,
     "metadata": {},
     "output_type": "execute_result"
    }
   ],
   "source": [
    "def unique(meu_set, function):\n",
    "    novo_set = set(map(function, lista))\n",
    "    return novo_set\n",
    "\n",
    "lista = [\"python\", \"java\", \"Python\", \"Java\", \"python\", \"java\", \"C\", \"Python\"]\n",
    "unique(set(lista), function=lambda s: s.lower())"
   ]
  },
  {
   "cell_type": "markdown",
   "metadata": {
    "slideshow": {
     "slide_type": "slide"
    }
   },
   "source": [
    "\n",
    "## Strings\n",
    "**problem 17:** Write a function extsort to sort a list of files based on extension.\n",
    "```\n",
    "    >>> extsort(['a.c', 'a.py', 'b.py', 'bar.txt', 'foo.txt', 'x.c'])\n",
    "    ['a.c', 'x.c', 'a.py', 'b.py', 'bar.txt', 'foo.txt']```"
   ]
  },
  {
   "cell_type": "code",
   "execution_count": 30,
   "metadata": {
    "slideshow": {
     "slide_type": "subslide"
    }
   },
   "outputs": [
    {
     "name": "stdout",
     "output_type": "stream",
     "text": [
      "['a.c', 'x.c', 'a.py', 'b.py', 'bar.txt', 'foo.txt', 'bar.xls', 'foo.xls']\n"
     ]
    }
   ],
   "source": [
    "def extsort(lista, function):\n",
    "    lista.sort()\n",
    "    lista.sort(key=function)\n",
    "    return lista\n",
    "\n",
    "lista = ['a.c', 'a.py', 'foo.xls', 'b.py', 'bar.txt', 'bar.xls', 'foo.txt', 'x.c']    \n",
    "print(extsort(lista, lambda x: x.split(\".\")[-1]))"
   ]
  },
  {
   "cell_type": "markdown",
   "metadata": {
    "slideshow": {
     "slide_type": "slide"
    }
   },
   "source": [
    "## Working With Files\n",
    "**problem 18:** Write a program reverse.py to print lines of a file in reverse order.\n",
    "```\n",
    "      $ cat she.txt\n",
    "      She sells seashells on the seashore;\n",
    "      The shells that she sells are seashells I'm sure.\n",
    "      So if she sells seashells on the seashore,\n",
    "      I'm sure that the shells are seashore shells.\n",
    "\n",
    "      $ python reverse.py she.txt\n",
    "      I'm sure that the shells are seashore shells.\n",
    "      So if she sells seashells on the seashore,\n",
    "      The shells that she sells are seashells I'm sure.\n",
    "      She sells seashells on the seashore;```"
   ]
  },
  {
   "cell_type": "code",
   "execution_count": 64,
   "metadata": {
    "slideshow": {
     "slide_type": "subslide"
    }
   },
   "outputs": [
    {
     "name": "stdout",
     "output_type": "stream",
     "text": [
      "\n",
      "Arquivo salvo com sucesso\n",
      "\n",
      "I'm sure that the shells are seashore shells.\n",
      "So if she sells seashells on the seashore,\n",
      "The shells that she sells are seashells I'm sure.\n",
      "She sells seashells on the seashore;\n",
      "\n",
      "\n",
      "Arquivo carregado com sucesso\n",
      "\n",
      "She sells seashells on the seashore;\n",
      "The shells that she sells are seashells I'm sure.\n",
      "So if she sells seashells on the seashore,\n",
      "I'm sure that the shells are seashore shells.\n"
     ]
    }
   ],
   "source": [
    "file_name = \"she_sells_seashells.txt\"\n",
    "\n",
    "texto = \"\"\"I'm sure that the shells are seashore shells.\n",
    "So if she sells seashells on the seashore,\n",
    "The shells that she sells are seashells I'm sure.\n",
    "She sells seashells on the seashore;\n",
    "\"\"\"\n",
    "\n",
    "\n",
    "def save_file(file, content):\n",
    "    with open(file, \"w\") as file:\n",
    "        file.writelines(content)\n",
    "        file.close()\n",
    "        print(\"\\nArquivo salvo com sucesso\\n\")\n",
    "\n",
    "def open_file(file):\n",
    "    with open(file, \"r\") as file:\n",
    "        content = file.readlines()\n",
    "        file.close()\n",
    "        print(\"\\nArquivo carregado com sucesso\\n\")\n",
    "        return content\n",
    "        \n",
    "def reverse_text(linhas):\n",
    "    reverso = linhas[::-1]\n",
    "    texto = \"\\n\".join(item.replace(\"\\n\", \"\") for item in reverso)\n",
    "    return texto\n",
    "\n",
    "\n",
    "save_file(file_name, texto)\n",
    "print(texto)\n",
    "\n",
    "print(reverse_text(open_file(file_name)))"
   ]
  },
  {
   "cell_type": "markdown",
   "metadata": {
    "slideshow": {
     "slide_type": "slide"
    }
   },
   "source": [
    "**problem 19:** Write a program to print each line of a file in reverse order."
   ]
  },
  {
   "cell_type": "code",
   "execution_count": 1,
   "metadata": {
    "slideshow": {
     "slide_type": "subslide"
    }
   },
   "outputs": [
    {
     "name": "stdout",
     "output_type": "stream",
     "text": [
      "\n",
      "Arquivo carregado com sucesso\n",
      "\n",
      ".sllehs erohsaes era sllehs eht taht erus m'I\n",
      ",erohsaes eht no sllehsaes slles ehs fi oS\n",
      ".erus m'I sllehsaes era slles ehs taht sllehs ehT\n",
      ";erohsaes eht no sllehsaes slles ehS\n"
     ]
    }
   ],
   "source": [
    "file_name = \"she_sells_seashells.txt\"\n",
    "\n",
    "def open_file(file):\n",
    "    with open(file, \"r\") as file:\n",
    "        content = file.readlines()\n",
    "        file.close()\n",
    "        print(\"\\nArquivo carregado com sucesso\\n\")\n",
    "        return content\n",
    "\n",
    "def reverse_line(linhas):\n",
    "    reverso = [linha[::-1].replace(\"\\n\", \"\") for linha in linhas]\n",
    "    return reverso\n",
    "\n",
    "\n",
    "print('\\n'.join(reverse_line(open_file(file_name))))"
   ]
  },
  {
   "cell_type": "markdown",
   "metadata": {
    "slideshow": {
     "slide_type": "slide"
    }
   },
   "source": [
    "**problem 20:** Implement unix commands head and tail. The head and tail commands take a file as argument and prints its first and last 10 lines of the file respectively."
   ]
  },
  {
   "cell_type": "code",
   "execution_count": 2,
   "metadata": {
    "slideshow": {
     "slide_type": "subslide"
    }
   },
   "outputs": [
    {
     "name": "stdout",
     "output_type": "stream",
     "text": [
      "As 10 primeiras linhas:\n",
      "\n",
      "Mina, seus cabelo é da hora\n",
      "Seu corpão violão\n",
      "Meu docinho de coco\n",
      "Tá me deixando louco\n",
      "Minha Brasília amarela\n",
      "Tá de portas abertas\n",
      "Pra mode a gente se amar\n",
      "Pelados em Santos\n",
      "Pois você, minha pitchula\n",
      "Me deixou legalzão\n",
      "\n",
      "\n",
      "As 10 últimas linhas:\n",
      "\n",
      "Mutcho mar do que lindia\n",
      "Very, very beautiful\n",
      "Você me deixa doidião\n",
      "Oh, yes! Oh, no!\n",
      "Meu chuchuzinho\n",
      "Oh, yes! No, no, no, no!\n",
      "Eu te I love you!\n",
      "Pera aí que tem mais\n",
      "Um poquinho de u\n",
      "Uuuuu\n"
     ]
    }
   ],
   "source": [
    "file_name = \"brasilia_amarela.txt\"\n",
    "\n",
    "def head(file, linhas):\n",
    "    !head -$linhas $file\n",
    "    return\n",
    "\n",
    "def tail(file, linhas):\n",
    "    !tail -$linhas $file\n",
    "    return\n",
    "\n",
    "\n",
    "print(\"As 10 primeiras linhas:\\n\")\n",
    "head(file_name, 10)\n",
    "\n",
    "print(\"\\n\\nAs 10 últimas linhas:\\n\")\n",
    "tail(file_name, 10)"
   ]
  },
  {
   "cell_type": "markdown",
   "metadata": {
    "slideshow": {
     "slide_type": "slide"
    }
   },
   "source": [
    "**problem 21:** Implement unix command grep. The grep command takes a string and a file as arguments and prints all lines in the file which contain the specified string.\n",
    "```\n",
    "    $ python grep.py she.txt sure\n",
    "    The shells that she sells are seashells I'm sure.\n",
    "    I'm sure that the shells are seashore shells.```"
   ]
  },
  {
   "cell_type": "code",
   "execution_count": 67,
   "metadata": {
    "slideshow": {
     "slide_type": "subslide"
    }
   },
   "outputs": [
    {
     "name": "stdout",
     "output_type": "stream",
     "text": [
      "Oh, yes! Oh, no!\r\n",
      "Oh, yes! Oh, no!\r\n",
      "Oh, yes! No, no, no, no!\r\n"
     ]
    }
   ],
   "source": [
    "file_name = \"brasilia_amarela.txt\"\n",
    "\n",
    "def grep(file_name, search_string):\n",
    "    !grep -i $search_string $file_name \n",
    "    \n",
    "grep(file_name, \"yes\")"
   ]
  },
  {
   "cell_type": "markdown",
   "metadata": {
    "slideshow": {
     "slide_type": "slide"
    }
   },
   "source": [
    "**problem 22:** Write a program wrap.py that takes filename and width as aruguments and wraps the lines longer than width.\n",
    "```\n",
    "    $ python wrap.py she.txt 30\n",
    "    I'm sure that the shells are s\n",
    "    eashore shells.\n",
    "    So if she sells seashells on t\n",
    "    he seashore,\n",
    "    The shells that she sells are \n",
    "    seashells I'm sure.\n",
    "    She sells seashells on the sea\n",
    "    shore;```"
   ]
  },
  {
   "cell_type": "code",
   "execution_count": 37,
   "metadata": {
    "slideshow": {
     "slide_type": "subslide"
    }
   },
   "outputs": [
    {
     "data": {
      "text/plain": [
       "[\"I'm sure that the shells are s\",\n",
       " 'eashore shells.',\n",
       " 'So if she sells seashells on t',\n",
       " 'he seashore,',\n",
       " 'The shells that she sells are ',\n",
       " \"seashells I'm sure.\",\n",
       " 'She sells seashells on the sea',\n",
       " 'shore;']"
      ]
     },
     "execution_count": 37,
     "metadata": {},
     "output_type": "execute_result"
    }
   ],
   "source": [
    "file_name = \"she_sells_seashells.txt\"\n",
    "\n",
    "def wrap(file_name, size):\n",
    "    conteudo = open(file_name, \"r\")\n",
    "    linhas = [item.rstrip(\"\\n\") for item in conteudo]\n",
    "    linhas = [linha[pedaco*size:pedaco*size+size] for linha in linhas for pedaco in range(len(linha)//size+1)]\n",
    "    return linhas\n",
    "    \n",
    "wrap(file_name, 30)"
   ]
  },
  {
   "cell_type": "markdown",
   "metadata": {
    "slideshow": {
     "slide_type": "slide"
    }
   },
   "source": [
    "**problem 23:** The above wrap program is not so nice because it is breaking the line at middle of any word. Can you write a new program wordwrap.py that works like wrap.py, but breaks the line only at the word boundaries?\n",
    "```\n",
    "    $ python wordwrap.py she.txt 30\n",
    "    I'm sure that the shells are\n",
    "    seashore shells.\n",
    "    So if she sells seashells on\n",
    "    the seashore,\n",
    "    The shells that she sells are\n",
    "    seashells I'm sure.\n",
    "    She sells seashells on the\n",
    "    seashore;```"
   ]
  },
  {
   "cell_type": "code",
   "execution_count": 89,
   "metadata": {},
   "outputs": [
    {
     "data": {
      "text/plain": [
       "[[\" I'm sure that the shells are\", 'seashore shells.'],\n",
       " [' So if she sells seashells on', 'the seashore,'],\n",
       " [' The shells that she sells are', \"seashells I'm sure.\"],\n",
       " [' She sells seashells on the', 'seashore;']]"
      ]
     },
     "execution_count": 89,
     "metadata": {},
     "output_type": "execute_result"
    }
   ],
   "source": [
    "file_name = \"she_sells_seashells.txt\"\n",
    "\n",
    "def corta_frases(str1, size):\n",
    "    str2 = str1.split()\n",
    "    str3 = \"\"\n",
    "    resultado = []\n",
    "    while str2:\n",
    "        if len(str3 + str2[0]) + 1 <= size:\n",
    "            str3 += \" \" + str2[0]\n",
    "        else:\n",
    "            resultado.append(str3)\n",
    "            str3 = str2[0]\n",
    "        del str2[0]\n",
    "    resultado.append(str3)\n",
    "    return resultado\n",
    "\n",
    "def wrap(file_name, size):\n",
    "    conteudo = open(file_name, \"r\")\n",
    "    linhas = list(map(lambda x: corta_frases(x, size), [linha.strip(\"\\n\") for linha in conteudo]))\n",
    "    return linhas\n",
    "    \n",
    "wrap(file_name, 30)"
   ]
  },
  {
   "cell_type": "markdown",
   "metadata": {
    "slideshow": {
     "slide_type": "slide"
    }
   },
   "source": [
    "**problem 24:** Write a program center_align.py to center align all lines in the given file.\n",
    "```\n",
    "    $ python center_align.py she.txt\n",
    "      I'm sure that the shells are seashore shells.  \n",
    "        So if she sells seashells on the seashore,   \n",
    "    The shells that she sells are seashells I'm sure.\n",
    "           She sells seashells on the seashore;```"
   ]
  },
  {
   "cell_type": "code",
   "execution_count": 76,
   "metadata": {
    "slideshow": {
     "slide_type": "subslide"
    }
   },
   "outputs": [
    {
     "name": "stdout",
     "output_type": "stream",
     "text": [
      "  I'm sure that the shells are seashore shells.\n",
      "   So if she sells seashells on the seashore,\n",
      "The shells that she sells are seashells I'm sure.\n",
      "      She sells seashells on the seashore;\n"
     ]
    }
   ],
   "source": [
    "file_name = \"she_sells_seashells.txt\"\n",
    "\n",
    "def center_align(file_name):\n",
    "    file = open(file_name, \"r\")\n",
    "    rows = [row.rstrip(\"\\n\") for row in file]\n",
    "    max_len = max([len(item) for item in rows])\n",
    "    print('\\n'.join([\" \" * ((max_len - len(row)) // 2) + row for row in rows]))\n",
    "    \n",
    "\n",
    "center_align(file_name)"
   ]
  },
  {
   "cell_type": "markdown",
   "metadata": {
    "slideshow": {
     "slide_type": "slide"
    }
   },
   "source": [
    "## List Comprehensions\n",
    "**problem 25:** Provide an implementation for zip function using list comprehensions.\n",
    "```\n",
    "    >>> zip([1, 2, 3], [\"a\", \"b\", \"c\"])\n",
    "    [(1, \"a\"), (2, \"b\"), (3, \"c\")]```"
   ]
  },
  {
   "cell_type": "code",
   "execution_count": 98,
   "metadata": {
    "slideshow": {
     "slide_type": "subslide"
    }
   },
   "outputs": [
    {
     "data": {
      "text/plain": [
       "[(1, 'a'), (2, 'b'), (3, 'c')]"
      ]
     },
     "execution_count": 98,
     "metadata": {},
     "output_type": "execute_result"
    }
   ],
   "source": [
    "def zipar(list1, list2):\n",
    "    result = [(list1[i], list2[i]) for i in range(len(list1))]\n",
    "    return result\n",
    "\n",
    "\n",
    "zipar([1, 2, 3], [\"a\", \"b\", \"c\"])    "
   ]
  },
  {
   "cell_type": "markdown",
   "metadata": {
    "slideshow": {
     "slide_type": "slide"
    }
   },
   "source": [
    "**problem 26:** Python provides a built-in function map that applies a function to each element of a list. Provide an implementation for map using list comprehensions.\n",
    "```\n",
    "    >>> def square(x): return x * x\n",
    "    ...\n",
    "    >>> map(square, range(5))\n",
    "    [0, 1, 4, 9, 16]```"
   ]
  },
  {
   "cell_type": "code",
   "execution_count": 124,
   "metadata": {
    "slideshow": {
     "slide_type": "subslide"
    }
   },
   "outputs": [
    {
     "name": "stdout",
     "output_type": "stream",
     "text": [
      "[0, 1, 4, 9, 16]\n",
      "[0, 1, 4, 9, 16]\n"
     ]
    }
   ],
   "source": [
    "def square(x): return x * x\n",
    "\n",
    "def mapear(funcao, items):\n",
    "    return [funcao(item) for item in items]\n",
    "    \n",
    "\n",
    "\n",
    "print(mapear(square, range(5)))\n",
    "print(list(map(square, range(5))))"
   ]
  },
  {
   "cell_type": "markdown",
   "metadata": {
    "slideshow": {
     "slide_type": "slide"
    }
   },
   "source": [
    "**problem 27:** Python provides a built-in function filter(f, a) that returns items of the list a for which f(item) returns true. Provide an implementation for filter using list comprehensions.\n",
    "```\n",
    "    >>> def even(x): return x %2 == 0\n",
    "    ...\n",
    "    >>> filter(even, range(10))\n",
    "    [0, 2, 4, 6, 8]```"
   ]
  },
  {
   "cell_type": "code",
   "execution_count": 133,
   "metadata": {
    "slideshow": {
     "slide_type": "subslide"
    }
   },
   "outputs": [
    {
     "name": "stdout",
     "output_type": "stream",
     "text": [
      "[0, 2, 4, 6, 8]\n",
      "[0, 2, 4, 6, 8]\n"
     ]
    }
   ],
   "source": [
    "def even(x): return x % 2 == 0\n",
    "\n",
    "def filtrar(funcao, items):\n",
    "    return [item for item in items if even(item)]\n",
    "\n",
    "\n",
    "print(filtrar(even, range(10)))\n",
    "print(list(filter(even, range(10))))"
   ]
  },
  {
   "cell_type": "markdown",
   "metadata": {
    "slideshow": {
     "slide_type": "slide"
    }
   },
   "source": [
    "**problem 28:** Write a function triplets that takes a number n as argument and returns a list of triplets such that sum of first two elements of the triplet equals the third element using numbers below n. Please note that (a, b, c) and (b, a, c) represent same triplet.\n",
    "```\n",
    "    >>> triplets(5)\n",
    "    [(1, 1, 2), (1, 2, 3), (1, 3, 4), (2, 2, 4)]```"
   ]
  },
  {
   "cell_type": "code",
   "execution_count": 147,
   "metadata": {
    "slideshow": {
     "slide_type": "subslide"
    }
   },
   "outputs": [
    {
     "name": "stdout",
     "output_type": "stream",
     "text": [
      "[(1, 1, 2), (1, 2, 3), (1, 3, 4), (2, 2, 4)]\n"
     ]
    }
   ],
   "source": [
    "def triplets(N):\n",
    "    return [(k, i-k, i) for i in range(1, N) for k in range(1, i) if k <= i-k]\n",
    "\n",
    "\n",
    "print(triplets(5))"
   ]
  },
  {
   "cell_type": "markdown",
   "metadata": {
    "slideshow": {
     "slide_type": "slide"
    }
   },
   "source": [
    "**problem 29:** Write a function enumerate that takes a list and returns a list of tuples containing (index,item) for each item in the list.\n",
    "```\n",
    "    >>> enumerate([\"a\", \"b\", \"c\"])\n",
    "    [(0, \"a\"), (1, \"b\"), (2, \"c\")]\n",
    "    >>> for index, value in enumerate([\"a\", \"b\", \"c\"]):\n",
    "    ...     print index, value\n",
    "    0 a\n",
    "    1 b\n",
    "    2 c```"
   ]
  },
  {
   "cell_type": "code",
   "execution_count": 153,
   "metadata": {
    "slideshow": {
     "slide_type": "subslide"
    }
   },
   "outputs": [
    {
     "name": "stdout",
     "output_type": "stream",
     "text": [
      "[(0, 'a'), (1, 'b'), (2, 'c')]\n",
      "0 a\n",
      "1 b\n",
      "2 c\n"
     ]
    }
   ],
   "source": [
    "lista = [\"a\", \"b\", \"c\"]\n",
    "\n",
    "def enumerar(lista):\n",
    "    return [(i, lista[i]) for i in range(len(lista))]\n",
    "\n",
    "\n",
    "print(enumerar(lista))\n",
    "\n",
    "for index, value in enumerate(lista):\n",
    "    print(index, value)"
   ]
  },
  {
   "cell_type": "markdown",
   "metadata": {
    "slideshow": {
     "slide_type": "slide"
    }
   },
   "source": [
    "**problem 30:** Write a function array to create an 2-dimensional array. The function should take both dimensions as arguments. Value of each element can be initialized to None:\n",
    "```\n",
    "    >>> a = array(2, 3)\n",
    "    >>> a\n",
    "    [[None, None, None], [None, None, None]]\n",
    "    >>> a[0][0] = 5\n",
    "    [[5, None, None], [None, None, None]]```\n"
   ]
  },
  {
   "cell_type": "code",
   "execution_count": 167,
   "metadata": {
    "slideshow": {
     "slide_type": "subslide"
    }
   },
   "outputs": [
    {
     "name": "stdout",
     "output_type": "stream",
     "text": [
      "[[None, None, None], [None, None, None]]\n"
     ]
    }
   ],
   "source": [
    "def vetor(rows, columns):\n",
    "    return [[None for column in range(columns)] for row in range(rows)]\n",
    "    \n",
    "    \n",
    "print(vetor(2, 3))"
   ]
  },
  {
   "cell_type": "markdown",
   "metadata": {
    "slideshow": {
     "slide_type": "slide"
    }
   },
   "source": [
    "**problem 31:** Write a python function parse_csv to parse csv (comma separated values) files.\n",
    "```\n",
    "    >>> print open('a.csv').read()\n",
    "    a,b,c\n",
    "    1,2,3\n",
    "    2,3,4\n",
    "    3,4,5\n",
    "    >>> parse_csv('a.csv')\n",
    "    [['a', 'b', 'c'], ['1', '2', '3'], ['2', '3', '4'], ['3', '4', '5']]```"
   ]
  },
  {
   "cell_type": "code",
   "execution_count": 190,
   "metadata": {
    "slideshow": {
     "slide_type": "subslide"
    }
   },
   "outputs": [
    {
     "name": "stdout",
     "output_type": "stream",
     "text": [
      "\n",
      "Arquivo salvo com sucesso\n",
      "\n",
      "\n",
      "Arquivo carregado com sucesso\n",
      "\n",
      "[['a', 'b', 'c'], ['1', '2', '3'], ['2', '3', '4'], ['3', '4', '5']]\n"
     ]
    }
   ],
   "source": [
    "file_name = \"parse.csv\"\n",
    "\n",
    "csv_content = \"\"\"a,b,c\n",
    "1,2,3\n",
    "2,3,4\n",
    "3,4,5\"\"\"\n",
    "\n",
    "def save_file(file, content):\n",
    "    with open(file, \"w\") as file:\n",
    "        file.writelines(content)\n",
    "        file.close()\n",
    "        print(\"\\nArquivo salvo com sucesso\\n\")\n",
    "\n",
    "def open_file(file):\n",
    "    with open(file, \"r\") as file:\n",
    "        content = file.readlines()\n",
    "        file.close()\n",
    "        print(\"\\nArquivo carregado com sucesso\\n\")\n",
    "        return content\n",
    "    \n",
    "def parse_csv(content, sep):\n",
    "    return [row.rstrip(\"\\n\").split(sep) for row in content]\n",
    "    \n",
    "    \n",
    "save_file(file_name, csv_content)\n",
    "content = open_file(file_name)\n",
    "print(parse_csv(content, \",\"))"
   ]
  },
  {
   "cell_type": "markdown",
   "metadata": {
    "slideshow": {
     "slide_type": "slide"
    }
   },
   "source": [
    "**problem 32:** Generalize the above implementation of csv parser to support any delimiter and comments.\n",
    "```\n",
    "    >>> print open('a.txt').read()\n",
    "    # elements are separated by ! and comment indicator is #\n",
    "    a!b!c\n",
    "    1!2!3\n",
    "    2!3!4\n",
    "    3!4!5\n",
    "    >>> parse('a.txt', '!', '#')\n",
    "    [['a', 'b', 'c'], ['1', '2', '3'], ['2', '3', '4'], ['3', '4', '5']]```"
   ]
  },
  {
   "cell_type": "code",
   "execution_count": 195,
   "metadata": {
    "slideshow": {
     "slide_type": "subslide"
    }
   },
   "outputs": [
    {
     "name": "stdout",
     "output_type": "stream",
     "text": [
      "\n",
      "Arquivo carregado com sucesso\n",
      "\n",
      "['# comments #,,\\n', 'a!b!c\\n', '1!2!3\\n', '2!3!4\\n', '3!4!5\\n']\n",
      "[['a', 'b', 'c'], ['1', '2', '3'], ['2', '3', '4'], ['3', '4', '5']]\n"
     ]
    }
   ],
   "source": [
    "file_name = \"parse.csv\"\n",
    "\n",
    "def open_file(file):\n",
    "    with open(file, \"r\") as file:\n",
    "        content = file.readlines()\n",
    "        file.close()\n",
    "        print(\"\\nArquivo carregado com sucesso\\n\")\n",
    "        return content\n",
    "    \n",
    "def parse_csv(content, sep, ignore):\n",
    "    return [row.rstrip(\"\\n\").split(sep) for row in content if row[0] != ignore]\n",
    "    \n",
    "    \n",
    "content = open_file(file_name)\n",
    "print(content)\n",
    "print(parse_csv(content, \"!\", \"#\"))"
   ]
  },
  {
   "cell_type": "markdown",
   "metadata": {
    "slideshow": {
     "slide_type": "slide"
    }
   },
   "source": [
    "**problem 33:** Write a function mutate to compute all words generated by a single mutation on a given word. A mutation is defined as inserting a character, deleting a character, replacing a character, or swapping 2 consecutive characters in a string. For simplicity consider only letters from a to z.\n",
    "```\n",
    "    >>> words = mutate('hello')\n",
    "    >>> 'helo' in words\n",
    "    True\n",
    "    >>> 'cello' in words\n",
    "    True\n",
    "    >>> 'helol' in words\n",
    "    True```"
   ]
  },
  {
   "cell_type": "code",
   "execution_count": 221,
   "metadata": {
    "slideshow": {
     "slide_type": "subslide"
    }
   },
   "outputs": [
    {
     "name": "stdout",
     "output_type": "stream",
     "text": [
      "['ello', 'hllo', 'helo', 'helo', 'hell', 'aello', 'bello', 'cello', 'dello', 'eello', 'fello', 'gello', 'hello', 'iello', 'jello', 'kello', 'lello', 'mello', 'nello', 'oello', 'pello', 'qello', 'rello', 'sello', 'tello', 'uello', 'vello', 'wello', 'xello', 'yello', 'zello', 'hallo', 'hbllo', 'hcllo', 'hdllo', 'hello', 'hfllo', 'hgllo', 'hhllo', 'hillo', 'hjllo', 'hkllo', 'hlllo', 'hmllo', 'hnllo', 'hollo', 'hpllo', 'hqllo', 'hrllo', 'hsllo', 'htllo', 'hullo', 'hvllo', 'hwllo', 'hxllo', 'hyllo', 'hzllo', 'healo', 'heblo', 'heclo', 'hedlo', 'heelo', 'heflo', 'heglo', 'hehlo', 'heilo', 'hejlo', 'heklo', 'hello', 'hemlo', 'henlo', 'heolo', 'heplo', 'heqlo', 'herlo', 'heslo', 'hetlo', 'heulo', 'hevlo', 'hewlo', 'hexlo', 'heylo', 'hezlo', 'helao', 'helbo', 'helco', 'heldo', 'heleo', 'helfo', 'helgo', 'helho', 'helio', 'heljo', 'helko', 'hello', 'helmo', 'helno', 'heloo', 'helpo', 'helqo', 'helro', 'helso', 'helto', 'heluo', 'helvo', 'helwo', 'helxo', 'helyo', 'helzo', 'hella', 'hellb', 'hellc', 'helld', 'helle', 'hellf', 'hellg', 'hellh', 'helli', 'hellj', 'hellk', 'helll', 'hellm', 'helln', 'hello', 'hellp', 'hellq', 'hellr', 'hells', 'hellt', 'hellu', 'hellv', 'hellw', 'hellx', 'helly', 'hellz', 'ahello', 'bhello', 'chello', 'dhello', 'ehello', 'fhello', 'ghello', 'hhello', 'ihello', 'jhello', 'khello', 'lhello', 'mhello', 'nhello', 'ohello', 'phello', 'qhello', 'rhello', 'shello', 'thello', 'uhello', 'vhello', 'whello', 'xhello', 'yhello', 'zhello', 'haello', 'hbello', 'hcello', 'hdello', 'heello', 'hfello', 'hgello', 'hhello', 'hiello', 'hjello', 'hkello', 'hlello', 'hmello', 'hnello', 'hoello', 'hpello', 'hqello', 'hrello', 'hsello', 'htello', 'huello', 'hvello', 'hwello', 'hxello', 'hyello', 'hzello', 'heallo', 'hebllo', 'hecllo', 'hedllo', 'heello', 'hefllo', 'hegllo', 'hehllo', 'heillo', 'hejllo', 'hekllo', 'helllo', 'hemllo', 'henllo', 'heollo', 'hepllo', 'heqllo', 'herllo', 'hesllo', 'hetllo', 'heullo', 'hevllo', 'hewllo', 'hexllo', 'heyllo', 'hezllo', 'helalo', 'helblo', 'helclo', 'heldlo', 'helelo', 'helflo', 'helglo', 'helhlo', 'helilo', 'heljlo', 'helklo', 'helllo', 'helmlo', 'helnlo', 'helolo', 'helplo', 'helqlo', 'helrlo', 'helslo', 'heltlo', 'helulo', 'helvlo', 'helwlo', 'helxlo', 'helylo', 'helzlo', 'hellao', 'hellbo', 'hellco', 'helldo', 'helleo', 'hellfo', 'hellgo', 'hellho', 'hellio', 'helljo', 'hellko', 'helllo', 'hellmo', 'hellno', 'helloo', 'hellpo', 'hellqo', 'hellro', 'hellso', 'hellto', 'helluo', 'hellvo', 'hellwo', 'hellxo', 'hellyo', 'hellzo', 'helloa', 'hellob', 'helloc', 'hellod', 'helloe', 'hellof', 'hellog', 'helloh', 'helloi', 'helloj', 'hellok', 'hellol', 'hellom', 'hellon', 'helloo', 'hellop', 'helloq', 'hellor', 'hellos', 'hellot', 'hellou', 'hellov', 'hellow', 'hellox', 'helloy', 'helloz', 'ehllo', 'hlelo', 'hello', 'helol']\n",
      "295\n",
      "True\n",
      "True\n",
      "True\n"
     ]
    }
   ],
   "source": [
    "from string import ascii_lowercase\n",
    "\n",
    "def mutate(word):\n",
    "    deleting = [word[:i]+word[i+1:] for i in range(len(word))] \n",
    "    replacing = [word[:i]+letra+word[i+1:] for i in range(len(word)) for letra in ascii_lowercase]\n",
    "    inserting = [word[:i]+letra+word[i:] for i in range(len(word)+1) for letra in ascii_lowercase]\n",
    "    swapping = [word[:i]+word[i+1]+word[i]+word[i+2:] for i in range(len(word)-1)] \n",
    "    return deleting + replacing + inserting + swapping\n",
    "\n",
    "\n",
    "original_word = \"hello\"\n",
    "words = mutate(original_word)\n",
    "print(words)\n",
    "print(len(words))\n",
    "\n",
    "print('helo' in words)\n",
    "print('cello' in words)\n",
    "print('helol' in words)"
   ]
  },
  {
   "cell_type": "markdown",
   "metadata": {
    "slideshow": {
     "slide_type": "slide"
    }
   },
   "source": [
    "**problem 34:** Write a function nearly_equal to test whether two strings are nearly equal. Two strings a and b are nearly equal when a can be generated by a single mutation on b.\n",
    "```\n",
    "    >>> nearly_equal('python', 'perl')\n",
    "    False\n",
    "    >>> nearly_equal('perl', 'pearl')\n",
    "    True\n",
    "    >>> nearly_equal('python', 'jython')\n",
    "    True\n",
    "    >>> nearly_equal('man', 'woman')\n",
    "    False```"
   ]
  },
  {
   "cell_type": "code",
   "execution_count": 223,
   "metadata": {
    "slideshow": {
     "slide_type": "subslide"
    }
   },
   "outputs": [
    {
     "name": "stdout",
     "output_type": "stream",
     "text": [
      "False\n",
      "True\n",
      "True\n",
      "False\n"
     ]
    }
   ],
   "source": [
    "from string import ascii_lowercase\n",
    "\n",
    "def mutate(word):\n",
    "    variations = []\n",
    "    deleting = [word[:i]+word[i+1:] for i in range(len(word))] \n",
    "    replacing = [word[:i]+letra+word[i+1:] for i in range(len(word)) for letra in ascii_lowercase]\n",
    "    inserting = [word[:i]+letra+word[i:] for i in range(len(word)+1) for letra in ascii_lowercase]\n",
    "    swapping = [word[:i]+word[i+1]+word[i]+word[i+2:] for i in range(len(word)-1)] \n",
    "    return deleting + replacing + inserting + swapping\n",
    "\n",
    "def nearly_equal(str1, str2):\n",
    "    mutations = mutate(str2)\n",
    "    return True if str1 in mutations else False\n",
    "\n",
    "\n",
    "print(nearly_equal('python', 'perl'))\n",
    "print(nearly_equal('perl', 'pearl'))\n",
    "print(nearly_equal('python', 'jython'))\n",
    "print(nearly_equal('man', 'woman'))"
   ]
  },
  {
   "cell_type": "markdown",
   "metadata": {
    "slideshow": {
     "slide_type": "slide"
    }
   },
   "source": [
    "## Dictionaries\n",
    "**problem 36:** Write a program to count frequency of characters in a given file. Can you use character frequency to tell whether the given file is a Python program file, C program file or a text file?"
   ]
  },
  {
   "cell_type": "code",
   "execution_count": 67,
   "metadata": {
    "slideshow": {
     "slide_type": "subslide"
    }
   },
   "outputs": [
    {
     "name": "stdout",
     "output_type": "stream",
     "text": [
      "\n",
      "Arquivo carregado com sucesso: example.c\n",
      "\n",
      "Top 5:\n",
      "t: 9.06 %\n",
      "i: 6.10 %\n",
      "e: 5.12 %\n",
      "f: 4.92 %\n",
      "s: 4.72 %\n",
      "Top 5:\n",
      "1: 1.38 %\n",
      "5: 0.98 %\n",
      "2: 0.98 %\n",
      "0: 0.59 %\n",
      "Top 5:\n",
      " : 8.27 %\n",
      ";: 4.33 %\n",
      "): 3.35 %\n",
      "(: 3.35 %\n",
      "\": 3.15 %\n",
      "\n",
      "Arquivo carregado com sucesso: example.py\n",
      "\n",
      "Top 5:\n",
      "e: 11.32 %\n",
      "t: 5.95 %\n",
      "n: 5.57 %\n",
      "s: 5.37 %\n",
      "i: 4.61 %\n",
      "Top 5:\n",
      "1: 0.96 %\n",
      "8: 0.19 %\n",
      "Top 5:\n",
      " : 10.17 %\n",
      "): 2.69 %\n",
      "(: 2.69 %\n",
      "_: 2.30 %\n",
      ":: 2.11 %\n",
      "\n",
      "Arquivo carregado com sucesso: brasilia_amarela.txt\n",
      "\n",
      "Top 5:\n",
      "a: 9.47 %\n",
      "e: 8.26 %\n",
      "o: 7.55 %\n",
      "i: 6.14 %\n",
      "u: 5.24 %\n",
      "Top 5:\n",
      "Top 5:\n",
      " : 14.90 %\n",
      ",: 1.81 %\n",
      "!: 1.31 %\n",
      "): 0.60 %\n",
      "(: 0.60 %\n"
     ]
    }
   ],
   "source": [
    "import string\n",
    "import unidecode\n",
    "from itertools import islice\n",
    "\n",
    "str_alp = string.ascii_letters + \"áàâãéèêíóòôõúçÁÀÂÃÉÈÊÍÓÒÔÕÚÇ\"\n",
    "str_nb = string.digits\n",
    "\n",
    "def open_file(file_name):\n",
    "    with open(file_name, \"r\") as file:\n",
    "        content = file.readlines()\n",
    "        file.close()\n",
    "        print(\"\\nArquivo carregado com sucesso: %s\\n\" % file_name)\n",
    "        return [row.strip(\"\\n\").strip(\" \") for row in content]\n",
    "    \n",
    "def print_freq(dic, text_len, top):\n",
    "    print(\"Top %d:\" % top)\n",
    "    for char in islice(sorted(dic, key=dic.get, reverse=True), top):\n",
    "        print(r\"%s: %.2f %%\" % (char, (100 * dic[char] / text_len)))\n",
    "    \n",
    "def freq_char(content, top=5):\n",
    "    #text = unidecode.unidecode(''.join(content))\n",
    "    text = ''.join(content)\n",
    "    text_len = len(text)\n",
    "    counter_alp = {i: text.count(i) for i in set(text) if i in str_alp}\n",
    "    print_freq(counter_alp, text_len, top)\n",
    "    counter_nb = {i: text.count(i) for i in set(text) if i in str_nb}\n",
    "    print_freq(counter_nb, text_len, top)\n",
    "    counter_spec = {i: text.count(i) for i in set(text) if (not i in str_nb and not i in str_alp)}\n",
    "    print_freq(counter_spec, text_len, top)\n",
    "    return\n",
    "\n",
    "\n",
    "freq_char(open_file(\"example.c\"))\n",
    "freq_char(open_file(\"example.py\"))\n",
    "freq_char(open_file(\"brasilia_amarela.txt\"))"
   ]
  },
  {
   "cell_type": "markdown",
   "metadata": {
    "slideshow": {
     "slide_type": "slide"
    }
   },
   "source": [
    "**problem 37:** Write a program to find anagrams in a given list of words. Two words are called anagrams if one word can be formed by rearranging letters of another. For example 'eat', 'ate' and 'tea' are anagrams.\n",
    "```\n",
    "    >>> anagrams(['eat', 'ate', 'done', 'tea', 'soup', 'node'])\n",
    "    [['eat', 'ate', 'tea], ['done', 'node'], ['soup']]```"
   ]
  },
  {
   "cell_type": "code",
   "execution_count": 116,
   "metadata": {
    "slideshow": {
     "slide_type": "subslide"
    }
   },
   "outputs": [
    {
     "data": {
      "text/plain": [
       "[['soup'], ['eat', 'ate', 'tea'], ['done', 'node']]"
      ]
     },
     "execution_count": 116,
     "metadata": {},
     "output_type": "execute_result"
    }
   ],
   "source": [
    "def order_str(str1):\n",
    "    ordered = list(str1)\n",
    "    ordered.sort()\n",
    "    return ''.join(ordered)\n",
    "\n",
    "def search_anagrams(anagram, anagram_dict):\n",
    "    return [word for word in anagram_dict.keys() if anagram_dict[word] == anagram]\n",
    "    \n",
    "def anagrams(lista):\n",
    "    preparation = {item: order_str(item) for item in lista}\n",
    "    return [search_anagrams(anagram, preparation) for anagram in [value for value in set(preparation.values())]]\n",
    "    \n",
    "    \n",
    "anagrams(['eat', 'ate', 'done', 'tea', 'soup', 'node'])"
   ]
  },
  {
   "cell_type": "markdown",
   "metadata": {
    "slideshow": {
     "slide_type": "slide"
    }
   },
   "source": [
    "**problem 38:** Write a function valuesort to sort values of a dictionary based on the key.\n",
    "```\n",
    "    >>> valuesort({'x': 1, 'y': 2, 'a': 3})\n",
    "    [3, 1, 2]```"
   ]
  },
  {
   "cell_type": "code",
   "execution_count": 129,
   "metadata": {
    "slideshow": {
     "slide_type": "subslide"
    }
   },
   "outputs": [
    {
     "data": {
      "text/plain": [
       "[3, 4, 1, 2]"
      ]
     },
     "execution_count": 129,
     "metadata": {},
     "output_type": "execute_result"
    }
   ],
   "source": [
    "def sort_dict(my_dict):\n",
    "    return [my_dict[value] for value in sorted(my_dict)]\n",
    "\n",
    "\n",
    "my_dict = {'x': 1, 'y': 2, 'a': 3, 'w': 4}\n",
    "sort_dict(my_dict)"
   ]
  },
  {
   "cell_type": "markdown",
   "metadata": {
    "slideshow": {
     "slide_type": "slide"
    }
   },
   "source": [
    "**problem 39:** Write a function invertdict to interchange keys and values in a dictionary. For simplicity, assume that all values are unique.\n",
    "```\n",
    "    >>> invertdict({'x': 1, 'y': 2, 'z': 3})\n",
    "    {1: 'x', 2: 'y', 3: 'z'}```"
   ]
  },
  {
   "cell_type": "code",
   "execution_count": 134,
   "metadata": {
    "slideshow": {
     "slide_type": "subslide"
    }
   },
   "outputs": [
    {
     "data": {
      "text/plain": [
       "{1: 'x', 2: 'y', 3: 'a', 4: 'w'}"
      ]
     },
     "execution_count": 134,
     "metadata": {},
     "output_type": "execute_result"
    }
   ],
   "source": [
    "def invertdict(my_dict):\n",
    "    return {my_dict[value]: value for value in my_dict}\n",
    "\n",
    "\n",
    "my_dict = {'x': 1, 'y': 2, 'a': 3, 'w': 4}\n",
    "invertdict(my_dict)"
   ]
  },
  {
   "cell_type": "code",
   "execution_count": 91,
   "metadata": {},
   "outputs": [
    {
     "data": {
      "text/plain": [
       "[(0, 0),\n",
       " (0, 1),\n",
       " (0, 2),\n",
       " (0, 3),\n",
       " (0, 4),\n",
       " (2, 0),\n",
       " (2, 1),\n",
       " (2, 2),\n",
       " (2, 3),\n",
       " (2, 4),\n",
       " (4, 0),\n",
       " (4, 1),\n",
       " (4, 2),\n",
       " (4, 3),\n",
       " (4, 4),\n",
       " (6, 0),\n",
       " (6, 1),\n",
       " (6, 2),\n",
       " (6, 3),\n",
       " (6, 4),\n",
       " (8, 0),\n",
       " (8, 1),\n",
       " (8, 2),\n",
       " (8, 3),\n",
       " (8, 4),\n",
       " (10, 0),\n",
       " (10, 1),\n",
       " (10, 2),\n",
       " (10, 3),\n",
       " (10, 4)]"
      ]
     },
     "execution_count": 91,
     "metadata": {},
     "output_type": "execute_result"
    }
   ],
   "source": [
    "[(x, y) for x in range(11) for y in range(5) if x % 2 == 0]"
   ]
  },
  {
   "cell_type": "code",
   "execution_count": 93,
   "metadata": {},
   "outputs": [
    {
     "data": {
      "text/plain": [
       "{'A potência de 0': 0,\n",
       " 'A potência de 1': 1,\n",
       " 'A potência de 2': 4,\n",
       " 'A potência de 3': 9,\n",
       " 'A potência de 4': 16,\n",
       " 'A potência de 5': 25,\n",
       " 'A potência de 6': 36,\n",
       " 'A potência de 7': 49,\n",
       " 'A potência de 8': 64,\n",
       " 'A potência de 9': 81,\n",
       " 'A potência de 10': 100}"
      ]
     },
     "execution_count": 93,
     "metadata": {},
     "output_type": "execute_result"
    }
   ],
   "source": [
    "{\"A potência de %d\"%i: i**2 for i in range(11)}"
   ]
  },
  {
   "cell_type": "code",
   "execution_count": null,
   "metadata": {},
   "outputs": [],
   "source": []
  }
 ],
 "metadata": {
  "celltoolbar": "Slideshow",
  "hide_input": false,
  "kernelspec": {
   "display_name": "Python 3",
   "language": "python",
   "name": "python3"
  },
  "language_info": {
   "codemirror_mode": {
    "name": "ipython",
    "version": 3
   },
   "file_extension": ".py",
   "mimetype": "text/x-python",
   "name": "python",
   "nbconvert_exporter": "python",
   "pygments_lexer": "ipython3",
   "version": "3.7.4"
  }
 },
 "nbformat": 4,
 "nbformat_minor": 2
}
