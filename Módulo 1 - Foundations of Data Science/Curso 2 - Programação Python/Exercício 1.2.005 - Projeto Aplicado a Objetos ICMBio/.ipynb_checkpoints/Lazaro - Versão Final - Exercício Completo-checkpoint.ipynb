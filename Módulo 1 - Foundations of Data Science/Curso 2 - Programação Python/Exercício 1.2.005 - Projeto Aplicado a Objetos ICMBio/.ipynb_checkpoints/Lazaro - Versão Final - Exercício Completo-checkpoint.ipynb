{
 "cells": [
  {
   "cell_type": "code",
   "execution_count": 1,
   "metadata": {
    "scrolled": false
   },
   "outputs": [
    {
     "name": "stderr",
     "output_type": "stream",
     "text": [
      "/home/lazarop/miniconda3/envs/python/lib/python3.7/site-packages/pandas/core/ops/__init__.py:1115: FutureWarning: elementwise comparison failed; returning scalar instead, but in the future will perform elementwise comparison\n",
      "  result = method(y)\n"
     ]
    }
   ],
   "source": [
    "import pandas as pd\n",
    "import numpy as np\n",
    "import folium\n",
    "import math\n",
    "\n",
    "\n",
    "from statistics import mean \n",
    "from IPython.display import Markdown\n",
    "from opencage.geocoder import OpenCageGeocode\n",
    "\n",
    "\n",
    "def special_print(title, content):\n",
    "    display(Markdown(\"### %s:\" % title))\n",
    "    print(content)\n",
    "    return None\n",
    "    \n",
    "    \n",
    "class getBiodiversity():\n",
    "\n",
    "    def __init__(self, url):\n",
    "        self.url = url\n",
    "        try:\n",
    "            self.df_data = pd.read_csv(url, sep=';', header=0, encoding='utf-8')\n",
    "        except Exception as e:\n",
    "            self.df_data = pd.DataFrame()\n",
    "            print(\"Aborting... couldn't read this file: %s\" % url)\n",
    "            print (e.args)\n",
    "        self.data_info = \"File shape: %d rows x %d columns\"% (self.df_data.shape[0], self.df_data.shape[1])\n",
    "        return None\n",
    "    \n",
    "    def getColumns(self):\n",
    "        self.df_columns = list(self.df_data.columns)\n",
    "        return None\n",
    "    \n",
    "    def checkEmpty(self):\n",
    "        self.getColumns()\n",
    "        self.df_dataNAN = pd.DataFrame(np.where((self.df_data == '') | (self.df_data == 'Sem Informações'), 1, 0))\n",
    "        self.df_dataNAN.columns = self.df_columns\n",
    "        self.df_data_missing = 100*self.df_dataNAN.mean()\n",
    "        return None\n",
    "\n",
    "    def getLastFilled(self, columns):\n",
    "        filled_columns = [column for column in columns if (column != \"Sem Informações\")]\n",
    "        return 'NA' if len(filled_columns) == 0 else TAXONOMY_COLUMNS[len(filled_columns)-1]\n",
    "    \n",
    "    def addTaxonomicLevel(self, col_name):\n",
    "        self.df_data[col_name] = self.df_data[TAXONOMY_COLUMNS].apply(lambda x: self.getLastFilled(x), axis=1)\n",
    "        self.df_taxonomy_info =  self.df_data[col_name].value_counts()\n",
    "        return None\n",
    "\n",
    "    def extractTaxonomy(self, columns):\n",
    "        self.df_taxonomy = self.df_data[columns].copy()\n",
    "        return None\n",
    "    \n",
    "    def getTaxonomy(self, col_name='taxonomic_level'):\n",
    "        self.addTaxonomicLevel(col_name)\n",
    "        self.extractTaxonomy(TAXONOMY_COLUMNS+[col_name])\n",
    "        return None\n",
    "    \n",
    "    def filterFields(self, columns, values):\n",
    "        filter = np.logical_and.reduce([self.df_data[columns[i]].isin(values[i]) for i in range(len(columns))])\n",
    "        self.df_filtered = self.df_data[filter].copy()\n",
    "        self.filtered_info = \"File shape: %d rows x %d columns\"% (self.df_filtered.shape[0], self.df_filtered.shape[1])\n",
    "        return None\n",
    "    \n",
    "    def parseFloat(self, info):\n",
    "        value = float(info)\n",
    "        try:\n",
    "            value = float(info)\n",
    "        except:\n",
    "            value = 0.0\n",
    "        return value\n",
    "    \n",
    "    def checkGeoInfo(self, components, reported):\n",
    "        aux = []\n",
    "        unmatched = 0\n",
    "        for elem in [\"country\", \"state\", \"state_code\", \"city\"]:\n",
    "            try:\n",
    "                value = components[elem]\n",
    "            except:\n",
    "                value = \"NA\"\n",
    "            aux.append(value)\n",
    "        unmatched += 1 if reported[0] != aux[0] else 0\n",
    "        unmatched += 1 if not reported[1] in [aux[1], aux[2]] else 0\n",
    "        unmatched += 1 if reported[2] != aux[3] else 0\n",
    "        return unmatched\n",
    "    \n",
    "    def reverseGeocode(self, latlon):\n",
    "        geo = geocoder.reverse_geocode(latlon[0], latlon[1], no_annotations = '1', pretty = '1', language='pt')\n",
    "        comp = geo[0]['components']\n",
    "        info = self.checkGeoInfo(comp, [latlon[2], latlon[3], latlon[4]])\n",
    "        return pd.Series((geo[0]['formatted'], info))\n",
    "    \n",
    "    def setMapZoom(self, coords):\n",
    "        try:\n",
    "            rangelat = math.sqrt(170 / (max(coords[0][:])-min(coords[0][:])))\n",
    "            rangelon = math.sqrt(360 / (max(coords[1][:])-min(coords[1][:])))\n",
    "            zoom = int(min(rangelat, rangelon)) + 1\n",
    "        except:\n",
    "            zoom = 1\n",
    "        return zoom\n",
    "    \n",
    "    def printMap(self):\n",
    "        coords = self.df_location_sample[[\"AdjustedLatitude\", \"AdjustedLongitude\", \"ReversedAddress\", \"Confidence\"]].T.values.tolist()\n",
    "        COLORS = ['green', 'lightgreen', 'orange', 'red']\n",
    "        center = [mean(coords[0][:]), mean(coords[1][:])]\n",
    "        zoom = self.setMapZoom(coords[0:2][:])\n",
    "        my_map = folium.Map(location=center, zoom_start=zoom, tiles=\"OpenStreetMap\")\n",
    "        for i in range(len(self.df_location_sample)):\n",
    "            folium.Marker(location=[coords[0][i], coords[1][i]], popup=coords[2][i], \n",
    "                          icon=folium.Icon(color=COLORS[coords[3][i]], icon='map-marker')).add_to(my_map) \n",
    "        self.observations_map = my_map\n",
    "        return None\n",
    "        \n",
    "    def checkCoordinates(self, size):\n",
    "        self.df_filtered[\"AdjustedLatitude\"] = self.df_data[\"Latitude\"].apply(lambda x: self.parseFloat(x))\n",
    "        self.df_filtered[\"AdjustedLongitude\"] = self.df_data[\"Longitude\"].apply(lambda x: self.parseFloat(x))\n",
    "        if len(self.df_filtered) < size:\n",
    "            print(\"Not enough data to show. Please check your filter opetions\")\n",
    "            self.df_location_sample = pd.DataFrame()\n",
    "            self.observations_map = None\n",
    "            return None\n",
    "        self.df_location_sample = self.df_filtered.sample(n=size).copy()\n",
    "        self.df_location_sample[['ReversedAddress','Confidence']] = self.df_location_sample[['AdjustedLatitude','AdjustedLongitude']+LOCATION_COORDINATES].apply(self.reverseGeocode, axis=1)\n",
    "        self.printMap()\n",
    "        return None\n",
    "\n",
    "\n",
    "\n",
    "####################################################################################\n",
    "#\n",
    "# Initializing all data\n",
    "\n",
    "url = \"portalbio_export_16-10-2019-14-39-54.csv\"\n",
    "TAXONOMY_COLUMNS = ['Filo', 'Classe', 'Ordem', 'Familia', 'Genero', 'Especie']\n",
    "LOCATION_COORDINATES = ['Pais', 'Estado/Provincia', 'Municipio', 'Latitude', 'Longitude']\n",
    "LOCATION_SAMPLING = 5 # number of locations to check\n",
    "\n",
    "FILTER_FIELDS = ['Municipio','Filo']\n",
    "FILTER_VALUES = [['Nova Friburgo','Niquelândia','Vitoria','Natal'],['Mollusca','Magnoliophyta']]\n",
    "\n",
    "key = '09aadb1b1d8840acacfa0fcece0acb13'\n",
    "geocoder = OpenCageGeocode(key)\n",
    "\n",
    "biodiversity = getBiodiversity(url)\n",
    "biodiversity.checkEmpty()\n",
    "biodiversity.getTaxonomy(col_name='Nível Taxonômico')\n",
    "biodiversity.filterFields(FILTER_FIELDS, FILTER_VALUES)\n",
    "biodiversity.checkCoordinates(LOCATION_SAMPLING)"
   ]
  },
  {
   "cell_type": "code",
   "execution_count": 2,
   "metadata": {},
   "outputs": [
    {
     "data": {
      "text/markdown": [
       "### File URL:"
      ],
      "text/plain": [
       "<IPython.core.display.Markdown object>"
      ]
     },
     "metadata": {},
     "output_type": "display_data"
    },
    {
     "name": "stdout",
     "output_type": "stream",
     "text": [
      "portalbio_export_16-10-2019-14-39-54.csv\n"
     ]
    },
    {
     "data": {
      "text/markdown": [
       "### Raw file info:"
      ],
      "text/plain": [
       "<IPython.core.display.Markdown object>"
      ]
     },
     "metadata": {},
     "output_type": "display_data"
    },
    {
     "name": "stdout",
     "output_type": "stream",
     "text": [
      "File shape: 3912 rows x 34 columns\n"
     ]
    },
    {
     "data": {
      "text/markdown": [
       "### Raw file sample:"
      ],
      "text/plain": [
       "<IPython.core.display.Markdown object>"
      ]
     },
     "metadata": {},
     "output_type": "display_data"
    },
    {
     "name": "stdout",
     "output_type": "stream",
     "text": [
      "                                                                                     0\n",
      "Nome da instituicao                                                    Sem Informações\n",
      "Sigla da instituicao                                                            ICMBio\n",
      "Nome da base de dados                            Atlas de Registro de Aves Brasileiras\n",
      "Sigla da base de dados                    ARA - Atlas de Registros de Aves Brasileiras\n",
      "Responsavel pelo registro            Ibama (Instituto Brasileiro de Meio Ambiente e...\n",
      "Numero do registro no portal                                             ARA-LIT-95641\n",
      "Numero do registro na base de dados                                    Sem Informações\n",
      "Data do registro                                                       Sem Informações\n",
      "Data do evento                                                         Sem Informações\n",
      "Data de Carencia                                                            27/09/2017\n",
      "Nome cientifico                                                     Actitis macularius\n",
      "Nome comum                                                            Maçarico-pintado\n",
      "Nome cientifico na base de dados                                    Actitis macularius\n",
      "Nivel taxonomico                                                               species\n",
      "Numero de individuos                                                                 1\n",
      "Reino                                                                  Sem Informações\n",
      "Filo                                                                          Chordata\n",
      "Classe                                                                            Aves\n",
      "Ordem                                                                    Ciconiiformes\n",
      "Familia                                                                   Scolopacidae\n",
      "Genero                                                                         Actitis\n",
      "Especie                                                             Actitis macularius\n",
      "Estado de conservacao                                             Espécie não Ameaçada\n",
      "Categoria de Ameaca                                                    Sem Informações\n",
      "Localidade                                                  APA de Fernando de Noronha\n",
      "Pais                                                                   Sem Informações\n",
      "Estado/Provincia                                                                    PE\n",
      "Municipio                                                          Fernando de Noronha\n",
      "Status de Sensibilidade                                           Espécie não Sensível\n",
      "Latitude                                                                        -3.849\n",
      "Longitude                                                                       -32.42\n",
      "Outras informacoes da localidade                        Coordenada exata da ocorr?ncia\n",
      "Jurisdicao                                                             Sem Informações\n",
      "Destino do Material                                                    Sem Informações\n",
      "Nível Taxonômico                                                               Especie\n"
     ]
    },
    {
     "data": {
      "text/markdown": [
       "### Dataframe columns:"
      ],
      "text/plain": [
       "<IPython.core.display.Markdown object>"
      ]
     },
     "metadata": {},
     "output_type": "display_data"
    },
    {
     "name": "stdout",
     "output_type": "stream",
     "text": [
      "['Nome da instituicao', 'Sigla da instituicao', 'Nome da base de dados', 'Sigla da base de dados', 'Responsavel pelo registro', 'Numero do registro no portal', 'Numero do registro na base de dados', 'Data do registro', 'Data do evento', 'Data de Carencia', 'Nome cientifico', 'Nome comum', 'Nome cientifico na base de dados', 'Nivel taxonomico', 'Numero de individuos', 'Reino', 'Filo', 'Classe', 'Ordem', 'Familia', 'Genero', 'Especie', 'Estado de conservacao', 'Categoria de Ameaca', 'Localidade', 'Pais', 'Estado/Provincia', 'Municipio', 'Status de Sensibilidade', 'Latitude', 'Longitude', 'Outras informacoes da localidade', 'Jurisdicao', 'Destino do Material']\n"
     ]
    }
   ],
   "source": [
    "####################################################################################\n",
    "#\n",
    "# Show sample of each output - raw data load\n",
    "\n",
    "special_print(\"File URL\", biodiversity.url)\n",
    "special_print(\"Raw file info\", biodiversity.data_info)\n",
    "special_print(\"Raw file sample\", biodiversity.df_data.head(1).T)\n",
    "special_print(\"Dataframe columns\", biodiversity.df_columns)"
   ]
  },
  {
   "cell_type": "code",
   "execution_count": 3,
   "metadata": {},
   "outputs": [
    {
     "data": {
      "text/markdown": [
       "### Data missing sample (1 = missing):"
      ],
      "text/plain": [
       "<IPython.core.display.Markdown object>"
      ]
     },
     "metadata": {},
     "output_type": "display_data"
    },
    {
     "name": "stdout",
     "output_type": "stream",
     "text": [
      "                                     0  1  2  3  4\n",
      "Nome da instituicao                  1  1  1  1  1\n",
      "Sigla da instituicao                 0  0  0  0  0\n",
      "Nome da base de dados                0  0  0  0  0\n",
      "Sigla da base de dados               0  0  0  0  0\n",
      "Responsavel pelo registro            0  0  0  0  0\n",
      "Numero do registro no portal         0  0  0  0  0\n",
      "Numero do registro na base de dados  1  1  1  1  1\n",
      "Data do registro                     1  1  1  1  1\n",
      "Data do evento                       1  1  1  1  1\n",
      "Data de Carencia                     0  0  0  0  0\n",
      "Nome cientifico                      0  0  0  0  0\n",
      "Nome comum                           0  0  0  0  0\n",
      "Nome cientifico na base de dados     0  0  0  0  0\n",
      "Nivel taxonomico                     0  0  0  0  0\n",
      "Numero de individuos                 0  0  0  0  0\n",
      "Reino                                1  1  1  1  1\n",
      "Filo                                 0  0  0  0  0\n",
      "Classe                               0  0  0  0  0\n",
      "Ordem                                0  0  0  0  0\n",
      "Familia                              0  0  0  0  0\n",
      "Genero                               0  0  0  0  0\n",
      "Especie                              0  0  0  0  0\n",
      "Estado de conservacao                0  0  0  0  0\n",
      "Categoria de Ameaca                  1  1  1  1  1\n",
      "Localidade                           0  0  0  0  0\n",
      "Pais                                 1  1  1  1  1\n",
      "Estado/Provincia                     0  0  0  0  0\n",
      "Municipio                            0  0  0  0  0\n",
      "Status de Sensibilidade              0  0  0  0  0\n",
      "Latitude                             0  0  0  0  0\n",
      "Longitude                            0  0  0  0  0\n",
      "Outras informacoes da localidade     0  0  0  0  0\n",
      "Jurisdicao                           1  1  1  1  1\n",
      "Destino do Material                  1  1  1  1  1\n"
     ]
    },
    {
     "data": {
      "text/markdown": [
       "### Data missing statistics (%):"
      ],
      "text/plain": [
       "<IPython.core.display.Markdown object>"
      ]
     },
     "metadata": {},
     "output_type": "display_data"
    },
    {
     "name": "stdout",
     "output_type": "stream",
     "text": [
      "Nome da instituicao                    100.000000\n",
      "Sigla da instituicao                     0.000000\n",
      "Nome da base de dados                    0.000000\n",
      "Sigla da base de dados                   0.000000\n",
      "Responsavel pelo registro                0.076687\n",
      "Numero do registro no portal             0.000000\n",
      "Numero do registro na base de dados      6.007157\n",
      "Data do registro                         3.502045\n",
      "Data do evento                          54.447853\n",
      "Data de Carencia                         0.000000\n",
      "Nome cientifico                          1.687117\n",
      "Nome comum                              74.207566\n",
      "Nome cientifico na base de dados         0.000000\n",
      "Nivel taxonomico                         1.687117\n",
      "Numero de individuos                    51.354806\n",
      "Reino                                  100.000000\n",
      "Filo                                     3.169734\n",
      "Classe                                   3.757669\n",
      "Ordem                                    4.294479\n",
      "Familia                                  4.729039\n",
      "Genero                                  16.513292\n",
      "Especie                                 37.448875\n",
      "Estado de conservacao                    0.000000\n",
      "Categoria de Ameaca                     85.122699\n",
      "Localidade                               1.942740\n",
      "Pais                                     3.425358\n",
      "Estado/Provincia                        10.557260\n",
      "Municipio                               42.126789\n",
      "Status de Sensibilidade                  0.000000\n",
      "Latitude                                 0.000000\n",
      "Longitude                                0.000000\n",
      "Outras informacoes da localidade        55.802658\n",
      "Jurisdicao                             100.000000\n",
      "Destino do Material                     55.010225\n",
      "dtype: float64\n"
     ]
    }
   ],
   "source": [
    "####################################################################################\n",
    "#\n",
    "# Show sample of each output - data missing analysis\n",
    "\n",
    "special_print(\"Data missing sample (1 = missing)\", biodiversity.df_dataNAN.head(5).T)\n",
    "special_print(\"Data missing statistics (%)\", biodiversity.df_data_missing)"
   ]
  },
  {
   "cell_type": "code",
   "execution_count": 5,
   "metadata": {},
   "outputs": [
    {
     "data": {
      "text/markdown": [
       "### Raw data sample after taxonomic level inclusion:"
      ],
      "text/plain": [
       "<IPython.core.display.Markdown object>"
      ]
     },
     "metadata": {},
     "output_type": "display_data"
    },
    {
     "name": "stdout",
     "output_type": "stream",
     "text": [
      "                                                                                     0\n",
      "Nome da instituicao                                                    Sem Informações\n",
      "Sigla da instituicao                                                            ICMBio\n",
      "Nome da base de dados                            Atlas de Registro de Aves Brasileiras\n",
      "Sigla da base de dados                    ARA - Atlas de Registros de Aves Brasileiras\n",
      "Responsavel pelo registro            Ibama (Instituto Brasileiro de Meio Ambiente e...\n",
      "Numero do registro no portal                                             ARA-LIT-95641\n",
      "Numero do registro na base de dados                                    Sem Informações\n",
      "Data do registro                                                       Sem Informações\n",
      "Data do evento                                                         Sem Informações\n",
      "Data de Carencia                                                            27/09/2017\n",
      "Nome cientifico                                                     Actitis macularius\n",
      "Nome comum                                                            Maçarico-pintado\n",
      "Nome cientifico na base de dados                                    Actitis macularius\n",
      "Nivel taxonomico                                                               species\n",
      "Numero de individuos                                                                 1\n",
      "Reino                                                                  Sem Informações\n",
      "Filo                                                                          Chordata\n",
      "Classe                                                                            Aves\n",
      "Ordem                                                                    Ciconiiformes\n",
      "Familia                                                                   Scolopacidae\n",
      "Genero                                                                         Actitis\n",
      "Especie                                                             Actitis macularius\n",
      "Estado de conservacao                                             Espécie não Ameaçada\n",
      "Categoria de Ameaca                                                    Sem Informações\n",
      "Localidade                                                  APA de Fernando de Noronha\n",
      "Pais                                                                   Sem Informações\n",
      "Estado/Provincia                                                                    PE\n",
      "Municipio                                                          Fernando de Noronha\n",
      "Status de Sensibilidade                                           Espécie não Sensível\n",
      "Latitude                                                                        -3.849\n",
      "Longitude                                                                       -32.42\n",
      "Outras informacoes da localidade                        Coordenada exata da ocorr?ncia\n",
      "Jurisdicao                                                             Sem Informações\n",
      "Destino do Material                                                    Sem Informações\n",
      "Nível Taxonômico                                                               Especie\n"
     ]
    },
    {
     "data": {
      "text/markdown": [
       "### Taxonomic info:"
      ],
      "text/plain": [
       "<IPython.core.display.Markdown object>"
      ]
     },
     "metadata": {},
     "output_type": "display_data"
    },
    {
     "name": "stdout",
     "output_type": "stream",
     "text": [
      "Especie    2447\n",
      "Genero      819\n",
      "Familia     461\n",
      "NA          124\n",
      "Filo         23\n",
      "Classe       21\n",
      "Ordem        17\n",
      "Name: Nível Taxonômico, dtype: int64\n"
     ]
    },
    {
     "data": {
      "text/markdown": [
       "### Taxonomy sample:"
      ],
      "text/plain": [
       "<IPython.core.display.Markdown object>"
      ]
     },
     "metadata": {},
     "output_type": "display_data"
    },
    {
     "name": "stdout",
     "output_type": "stream",
     "text": [
      "                                   0              1              2\n",
      "Filo                        Chordata       Chordata       Chordata\n",
      "Classe                          Aves           Aves           Aves\n",
      "Ordem                  Ciconiiformes  Ciconiiformes  Ciconiiformes\n",
      "Familia                 Scolopacidae        Laridae        Laridae\n",
      "Genero                       Actitis          Anous          Anous\n",
      "Especie           Actitis macularius  Anous minutus  Anous minutus\n",
      "Nível Taxonômico             Especie        Especie        Especie\n"
     ]
    }
   ],
   "source": [
    "####################################################################################\n",
    "#\n",
    "# Show sample of each output - show taxonomic info\n",
    "\n",
    "special_print(\"Raw data sample after taxonomic level inclusion\", biodiversity.df_data.head(1).T)\n",
    "special_print(\"Taxonomic info\", biodiversity.df_taxonomy_info)\n",
    "special_print(\"Taxonomy sample\", biodiversity.df_taxonomy.head(3).T)"
   ]
  },
  {
   "cell_type": "code",
   "execution_count": 7,
   "metadata": {},
   "outputs": [
    {
     "data": {
      "text/markdown": [
       "### Filtered data info:"
      ],
      "text/plain": [
       "<IPython.core.display.Markdown object>"
      ]
     },
     "metadata": {},
     "output_type": "display_data"
    },
    {
     "name": "stdout",
     "output_type": "stream",
     "text": [
      "File shape: 180 rows x 35 columns\n"
     ]
    },
    {
     "data": {
      "text/markdown": [
       "### Filtered data sample:"
      ],
      "text/plain": [
       "<IPython.core.display.Markdown object>"
      ]
     },
     "metadata": {},
     "output_type": "display_data"
    },
    {
     "name": "stdout",
     "output_type": "stream",
     "text": [
      "                                                                                    31\n",
      "Nome da instituicao                                                    Sem Informações\n",
      "Sigla da instituicao                                                              JBRJ\n",
      "Nome da base de dados                    Herbário do Jardim Botânico do Rio de Janeiro\n",
      "Sigla da base de dados                                                              RB\n",
      "Responsavel pelo registro                                                    B. Walter\n",
      "Numero do registro no portal                                                RB00363225\n",
      "Numero do registro na base de dados                                               1389\n",
      "Data do registro                                                            14/04/1992\n",
      "Data do evento                                                         Sem Informações\n",
      "Data de Carencia                                                            30/10/2017\n",
      "Nome cientifico                                                  Richardia grandiflora\n",
      "Nome comum                                                             Sem Informações\n",
      "Nome cientifico na base de dados       Richardia grandiflora (Cham. & Schltdl.) Steud.\n",
      "Nivel taxonomico                                                               species\n",
      "Numero de individuos                                                   Sem Informações\n",
      "Reino                                                                  Sem Informações\n",
      "Filo                                                                     Magnoliophyta\n",
      "Classe                                                                   Magnoliopsida\n",
      "Ordem                                                                         Rubiales\n",
      "Familia                                                                      Rubiaceae\n",
      "Genero                                                                       Richardia\n",
      "Especie                                                          Richardia grandiflora\n",
      "Estado de conservacao                                             Espécie não Ameaçada\n",
      "Categoria de Ameaca                                                    Sem Informações\n",
      "Localidade                           Proximidades da Serra Negra a 1 km da entrada ...\n",
      "Pais                                                                            Brasil\n",
      "Estado/Provincia                                                                 Goiás\n",
      "Municipio                                                                  Niquelândia\n",
      "Status de Sensibilidade                                           Espécie não Sensível\n",
      "Latitude                                                                      -14.0833\n",
      "Longitude                                                                     -5.36722\n",
      "Outras informacoes da localidade                                       Sem Informações\n",
      "Jurisdicao                                                             Sem Informações\n",
      "Destino do Material                                                    Sem Informações\n",
      "Nível Taxonômico                                                               Especie\n",
      "AdjustedLatitude                                                              -14.0833\n",
      "AdjustedLongitude                                                             -5.36722\n"
     ]
    }
   ],
   "source": [
    "####################################################################################\n",
    "#\n",
    "# Show sample of each output - filtered data\n",
    "\n",
    "special_print(\"Filtered data info\", biodiversity.filtered_info)\n",
    "special_print(\"Filtered data sample\", biodiversity.df_filtered.head(1).T)"
   ]
  },
  {
   "cell_type": "code",
   "execution_count": 8,
   "metadata": {},
   "outputs": [
    {
     "data": {
      "text/markdown": [
       "### Applied filters:"
      ],
      "text/plain": [
       "<IPython.core.display.Markdown object>"
      ]
     },
     "metadata": {},
     "output_type": "display_data"
    },
    {
     "name": "stdout",
     "output_type": "stream",
     "text": [
      "['Municipio', 'Filo']\n"
     ]
    },
    {
     "data": {
      "text/markdown": [
       "### Applied filter values:"
      ],
      "text/plain": [
       "<IPython.core.display.Markdown object>"
      ]
     },
     "metadata": {},
     "output_type": "display_data"
    },
    {
     "name": "stdout",
     "output_type": "stream",
     "text": [
      "[['Nova Friburgo', 'Niquelândia', 'Vitoria', 'Natal'], ['Mollusca', 'Magnoliophyta']]\n"
     ]
    },
    {
     "data": {
      "text/markdown": [
       "### Sample of locations to check:"
      ],
      "text/plain": [
       "<IPython.core.display.Markdown object>"
      ]
     },
     "metadata": {},
     "output_type": "display_data"
    },
    {
     "name": "stdout",
     "output_type": "stream",
     "text": [
      "                                                                                   193\n",
      "Nome da instituicao                                                    Sem Informações\n",
      "Sigla da instituicao                                                              JBRJ\n",
      "Nome da base de dados                    Herbário do Jardim Botânico do Rio de Janeiro\n",
      "Sigla da base de dados                                                              RB\n",
      "Responsavel pelo registro                                         Bruno Machado Telles\n",
      "Numero do registro no portal                                                RB00204866\n",
      "Numero do registro na base de dados                                               1398\n",
      "Data do registro                                                            14/04/1992\n",
      "Data do evento                                                         Sem Informações\n",
      "Data de Carencia                                                            30/10/2017\n",
      "Nome cientifico                                                              Strychnos\n",
      "Nome comum                                                             Sem Informações\n",
      "Nome cientifico na base de dados                      Strychnos pseudoquina A.St.-Hil.\n",
      "Nivel taxonomico                                                                 genus\n",
      "Numero de individuos                                                   Sem Informações\n",
      "Reino                                                                  Sem Informações\n",
      "Filo                                                                     Magnoliophyta\n",
      "Classe                                                                   Magnoliopsida\n",
      "Ordem                                                                      Gentianales\n",
      "Familia                                                                    Loganiaceae\n",
      "Genero                                                                       Strychnos\n",
      "Especie                                                                Sem Informações\n",
      "Estado de conservacao                                             Espécie não Ameaçada\n",
      "Categoria de Ameaca                                                    Sem Informações\n",
      "Localidade                           Proximidades da Serra Negra, a 1 km da entrada...\n",
      "Pais                                                                            Brasil\n",
      "Estado/Provincia                                                                 Goiás\n",
      "Municipio                                                                  Niquelândia\n",
      "Status de Sensibilidade                                           Espécie não Sensível\n",
      "Latitude                                                                      -14.0833\n",
      "Longitude                                                                     -5.37222\n",
      "Outras informacoes da localidade                                       Sem Informações\n",
      "Jurisdicao                                                             Sem Informações\n",
      "Destino do Material                                                    Sem Informações\n",
      "Nível Taxonômico                                                                Genero\n",
      "AdjustedLatitude                                                              -14.0833\n",
      "AdjustedLongitude                                                             -5.37222\n",
      "ReversedAddress                                                          Atlântico Sul\n",
      "Confidence                                                                           3\n"
     ]
    }
   ],
   "source": [
    "####################################################################################\n",
    "#\n",
    "# Show sample of each output - show location info\n",
    "\n",
    "special_print(\"Applied filters\", FILTER_FIELDS)\n",
    "special_print(\"Applied filter values\", FILTER_VALUES)\n",
    "\n",
    "special_print(\"Sample of locations to check\", biodiversity.df_location_sample.head(1).T)"
   ]
  },
  {
   "cell_type": "code",
   "execution_count": 9,
   "metadata": {
    "scrolled": true
   },
   "outputs": [
    {
     "data": {
      "text/markdown": [
       "### Observations (click to see more details)"
      ],
      "text/plain": [
       "<IPython.core.display.Markdown object>"
      ]
     },
     "metadata": {},
     "output_type": "display_data"
    }
   ],
   "source": [
    "####################################################################################\n",
    "#\n",
    "# Show sample of each output - show map with reported observations\n",
    "\n",
    "display(Markdown(\"### Observations (click to see more details)\"))"
   ]
  },
  {
   "cell_type": "code",
   "execution_count": 10,
   "metadata": {
    "scrolled": false
   },
   "outputs": [
    {
     "data": {
      "text/html": [
       "<div style=\"width:100%;\"><div style=\"position:relative;width:100%;height:0;padding-bottom:60%;\"><iframe src=\"data:text/html;charset=utf-8;base64,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\" style=\"position:absolute;width:100%;height:100%;left:0;top:0;border:none !important;\" allowfullscreen webkitallowfullscreen mozallowfullscreen></iframe></div></div>"
      ],
      "text/plain": [
       "<folium.folium.Map at 0x7f8ed37b9250>"
      ]
     },
     "execution_count": 10,
     "metadata": {},
     "output_type": "execute_result"
    }
   ],
   "source": [
    "biodiversity.observations_map"
   ]
  },
  {
   "cell_type": "code",
   "execution_count": null,
   "metadata": {},
   "outputs": [],
   "source": []
  }
 ],
 "metadata": {
  "hide_input": false,
  "kernelspec": {
   "display_name": "Python 3",
   "language": "python",
   "name": "python3"
  },
  "language_info": {
   "codemirror_mode": {
    "name": "ipython",
    "version": 3
   },
   "file_extension": ".py",
   "mimetype": "text/x-python",
   "name": "python",
   "nbconvert_exporter": "python",
   "pygments_lexer": "ipython3",
   "version": "3.7.4"
  }
 },
 "nbformat": 4,
 "nbformat_minor": 2
}
