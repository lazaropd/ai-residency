{
 "cells": [
  {
   "cell_type": "code",
   "execution_count": 1,
   "metadata": {
    "scrolled": false
   },
   "outputs": [
    {
     "name": "stderr",
     "output_type": "stream",
     "text": [
      "/home/lazarop/miniconda3/envs/python/lib/python3.7/site-packages/pandas/core/ops/__init__.py:1115: FutureWarning: elementwise comparison failed; returning scalar instead, but in the future will perform elementwise comparison\n",
      "  result = method(y)\n"
     ]
    }
   ],
   "source": [
    "import pandas as pd\n",
    "import numpy as np\n",
    "import folium\n",
    "import math\n",
    "\n",
    "\n",
    "from statistics import mean \n",
    "from IPython.display import Markdown\n",
    "from opencage.geocoder import OpenCageGeocode\n",
    "from ipyleaflet import *\n",
    "from ipywidgets import HTML\n",
    "\n",
    "\n",
    "def special_print(title, content):\n",
    "    display(Markdown(\"### %s:\" % title))\n",
    "    print(content)\n",
    "    return None\n",
    "    \n",
    "    \n",
    "class getBiodiversity():\n",
    "\n",
    "    def __init__(self, url):\n",
    "        self.url = url\n",
    "        try:\n",
    "            self.df_data = pd.read_csv(url, sep=';', header=0, encoding='utf-8')\n",
    "        except Exception as e:\n",
    "            self.df_data = pd.DataFrame()\n",
    "            print(\"Aborting... couldn't read this file: %s\" % url)\n",
    "            print (e.args)\n",
    "        self.data_info = \"File shape: %d rows x %d columns\"% (self.df_data.shape[0], self.df_data.shape[1])\n",
    "        return None\n",
    "    \n",
    "    def getColumns(self):\n",
    "        self.df_columns = list(self.df_data.columns)\n",
    "        return None\n",
    "    \n",
    "    def checkEmpty(self):\n",
    "        self.getColumns()\n",
    "        self.df_dataNAN = pd.DataFrame(np.where((self.df_data == '') | (self.df_data == 'Sem Informações'), 1, 0))\n",
    "        self.df_dataNAN.columns = self.df_columns\n",
    "        self.df_data_missing = 100*self.df_dataNAN.mean()\n",
    "        return None\n",
    "\n",
    "    def getLastFilled(self, columns):\n",
    "        filled_columns = [column for column in columns if (column != \"Sem Informações\")]\n",
    "        return 'NA' if len(filled_columns) == 0 else TAXONOMY_COLUMNS[len(filled_columns)-1]\n",
    "    \n",
    "    def addTaxonomicLevel(self, col_name):\n",
    "        self.df_data[col_name] = self.df_data[TAXONOMY_COLUMNS].apply(lambda x: self.getLastFilled(x), axis=1)\n",
    "        self.df_taxonomy_info =  self.df_data[col_name].value_counts()\n",
    "        return None\n",
    "\n",
    "    def extractTaxonomy(self, columns):\n",
    "        self.df_taxonomy = self.df_data[columns]\n",
    "        return None\n",
    "    \n",
    "    def getTaxonomy(self, col_name='taxonomic_level'):\n",
    "        self.addTaxonomicLevel(col_name)\n",
    "        self.extractTaxonomy(TAXONOMY_COLUMNS+[col_name])\n",
    "        return None\n",
    "    \n",
    "    def filterFields(self, columns, values):\n",
    "        filter = np.logical_and.reduce([self.df_data[columns[i]].isin(values[i]) for i in range(len(columns))])\n",
    "        self.df_filtered = self.df_data[filter].copy()\n",
    "        self.filtered_info = \"File shape: %d rows x %d columns\"% (self.df_filtered.shape[0], self.df_filtered.shape[1])\n",
    "        return None\n",
    "    \n",
    "    def parseFloat(self, info):\n",
    "        value = float(info)\n",
    "        try:\n",
    "            value = float(info)\n",
    "        except:\n",
    "            value = 0.0\n",
    "        return value\n",
    "    \n",
    "    def checkGeoInfo(self, components, reported):\n",
    "        aux = []\n",
    "        unmatched = 0\n",
    "        for elem in [\"country\", \"state\", \"state_code\", \"city\"]:\n",
    "            try:\n",
    "                value = components[elem]\n",
    "            except:\n",
    "                value = \"NA\"\n",
    "            aux.append(value)\n",
    "        unmatched += 1 if reported[0] != aux[0] else 0\n",
    "        unmatched += 1 if not reported[1] in [aux[1], aux[2]] else 0\n",
    "        unmatched += 1 if reported[2] != aux[3] else 0\n",
    "        return unmatched\n",
    "    \n",
    "    def reverseGeocode(self, latlon):\n",
    "        geo = geocoder.reverse_geocode(latlon[0], latlon[1], no_annotations = '1', pretty = '1', language='pt')\n",
    "        comp = geo[0]['components']\n",
    "        info = self.checkGeoInfo(comp, [latlon[2], latlon[3], latlon[4]])\n",
    "        return pd.Series((geo[0]['formatted'], info))\n",
    "    \n",
    "    def setMapZoom(self, coords):\n",
    "        try:\n",
    "            rangelat = math.sqrt(170 / (max(coords[0][:])-min(coords[0][:])))\n",
    "            rangelon = math.sqrt(360 / (max(coords[1][:])-min(coords[1][:])))\n",
    "            zoom = int(min(rangelat, rangelon)) + 1\n",
    "        except:\n",
    "            zoom = 1\n",
    "        return zoom\n",
    "    \n",
    "    def printMap(self):\n",
    "        coords = self.df_location_sample[[\"AdjustedLatitude\", \"AdjustedLongitude\", \"ReversedAddress\", \"Confidence\"]].T.values.tolist()\n",
    "        COLORS = ['green', 'lightgreen', 'orange', 'red']\n",
    "        center = [mean(coords[0][:]), mean(coords[1][:])]\n",
    "        zoom = self.setMapZoom(coords[0:2][:])\n",
    "        my_map = folium.Map(location=center, zoom_start=zoom, tiles=\"OpenStreetMap\")\n",
    "        for i in range(len(self.df_location_sample)):\n",
    "            folium.Marker(location=[coords[0][i], coords[1][i]], popup=coords[2][i], \n",
    "                          icon=folium.Icon(color=COLORS[coords[3][i]], icon='map-marker')).add_to(my_map) \n",
    "        self.observations_map = my_map\n",
    "        return None\n",
    "        \n",
    "    def checkCoordinates(self, size):\n",
    "        self.df_filtered[\"AdjustedLatitude\"] = self.df_data[\"Latitude\"].apply(lambda x: self.parseFloat(x))\n",
    "        self.df_filtered[\"AdjustedLongitude\"] = self.df_data[\"Longitude\"].apply(lambda x: self.parseFloat(x))\n",
    "        if len(self.df_filtered) < size:\n",
    "            print(\"Not enough data to show. Please check your filter opetions\")\n",
    "            self.df_location_sample = pd.DataFrame()\n",
    "            self.observations_map = None\n",
    "            return None\n",
    "        self.df_location_sample = self.df_filtered.sample(n=size)\n",
    "        self.df_location_sample[['ReversedAddress','Confidence']] = self.df_location_sample[['AdjustedLatitude','AdjustedLongitude']+LOCATION_COORDINATES].apply(self.reverseGeocode, axis=1)\n",
    "        self.printMap()\n",
    "        return None\n",
    "\n",
    "\n",
    "\n",
    "####################################################################################\n",
    "#\n",
    "# Initializing all data\n",
    "\n",
    "url = \"portalbio_export_16-10-2019-14-39-54.csv\"\n",
    "TAXONOMY_COLUMNS = ['Filo', 'Classe', 'Ordem', 'Familia', 'Genero', 'Especie']\n",
    "LOCATION_COORDINATES = ['Pais', 'Estado/Provincia', 'Municipio', 'Latitude', 'Longitude']\n",
    "LOCATION_SAMPLING = 20 # number of locations to check\n",
    "\n",
    "key = '09aadb1b1d8840acacfa0fcece0acb13'\n",
    "geocoder = OpenCageGeocode(key)\n",
    "\n",
    "biodiversity = getBiodiversity(url)\n",
    "biodiversity.checkEmpty()\n",
    "biodiversity.getTaxonomy(col_name='Nível Taxonômico')\n",
    "biodiversity.filterFields(['Municipio','Filo'],[['Nova Friburgo','Niquelândia','Vitoria','Natal'],['Mollusca','Magnoliophyta']])\n",
    "biodiversity.checkCoordinates(LOCATION_SAMPLING)"
   ]
  },
  {
   "cell_type": "code",
   "execution_count": null,
   "metadata": {},
   "outputs": [],
   "source": [
    "####################################################################################\n",
    "#\n",
    "# Show sample of each output - raw data load\n",
    "\n",
    "special_print(\"File URL\", biodiversity.url)\n",
    "special_print(\"Raw file info\", biodiversity.data_info)\n",
    "special_print(\"Raw file sample\", biodiversity.df_data.head(1).T)\n",
    "special_print(\"Dataframe columns\", biodiversity.df_columns)"
   ]
  },
  {
   "cell_type": "code",
   "execution_count": null,
   "metadata": {},
   "outputs": [],
   "source": [
    "####################################################################################\n",
    "#\n",
    "# Show sample of each output - data missing analysis\n",
    "\n",
    "special_print(\"Data missing sample (1 = missing)\", biodiversity.df_dataNAN.head(5).T)\n",
    "special_print(\"Data missing statistics (%)\", biodiversity.df_data_missing)"
   ]
  },
  {
   "cell_type": "code",
   "execution_count": null,
   "metadata": {},
   "outputs": [],
   "source": [
    "####################################################################################\n",
    "#\n",
    "# Show sample of each output - show taxonomic info\n",
    "\n",
    "special_print(\"Raw data sample after taxonomic level inclusion\", biodiversity.df_data.head(1).T)\n",
    "special_print(\"Taxonomic info\", biodiversity.df_taxonomy_info)\n",
    "special_print(\"Taxonomy sample\", biodiversity.df_taxonomy.head(3).T)"
   ]
  },
  {
   "cell_type": "code",
   "execution_count": null,
   "metadata": {},
   "outputs": [],
   "source": [
    "####################################################################################\n",
    "#\n",
    "# Show sample of each output - filtered data\n",
    "\n",
    "special_print(\"Filtered data info\", biodiversity.filtered_info)\n",
    "special_print(\"Filtered data sample\", biodiversity.df_filtered.head(1).T)"
   ]
  },
  {
   "cell_type": "code",
   "execution_count": null,
   "metadata": {},
   "outputs": [],
   "source": [
    "####################################################################################\n",
    "#\n",
    "# Show sample of each output - show location info\n",
    "\n",
    "special_print(\"Raw data sample after location adjustments\", biodiversity.df_data.head(1).T)\n",
    "special_print(\"Sample of locations to check\", biodiversity.df_location_sample.head(1).T)"
   ]
  },
  {
   "cell_type": "code",
   "execution_count": null,
   "metadata": {
    "scrolled": true
   },
   "outputs": [],
   "source": [
    "####################################################################################\n",
    "#\n",
    "# Show sample of each output - show map with reported observations\n",
    "\n",
    "display(Markdown(\"### Observations (click to see more details)\"))"
   ]
  },
  {
   "cell_type": "code",
   "execution_count": 3,
   "metadata": {
    "scrolled": true
   },
   "outputs": [
    {
     "data": {
      "text/html": [
       "<div style=\"width:100%;\"><div style=\"position:relative;width:100%;height:0;padding-bottom:60%;\"><iframe src=\"data:text/html;charset=utf-8;base64,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\" style=\"position:absolute;width:100%;height:100%;left:0;top:0;border:none !important;\" allowfullscreen webkitallowfullscreen mozallowfullscreen></iframe></div></div>"
      ],
      "text/plain": [
       "<folium.folium.Map at 0x7f6d450a8610>"
      ]
     },
     "execution_count": 3,
     "metadata": {},
     "output_type": "execute_result"
    }
   ],
   "source": [
    "biodiversity.observations_map"
   ]
  },
  {
   "cell_type": "code",
   "execution_count": null,
   "metadata": {},
   "outputs": [],
   "source": []
  }
 ],
 "metadata": {
  "hide_input": false,
  "kernelspec": {
   "display_name": "Python 3",
   "language": "python",
   "name": "python3"
  },
  "language_info": {
   "codemirror_mode": {
    "name": "ipython",
    "version": 3
   },
   "file_extension": ".py",
   "mimetype": "text/x-python",
   "name": "python",
   "nbconvert_exporter": "python",
   "pygments_lexer": "ipython3",
   "version": "3.7.4"
  }
 },
 "nbformat": 4,
 "nbformat_minor": 2
}
