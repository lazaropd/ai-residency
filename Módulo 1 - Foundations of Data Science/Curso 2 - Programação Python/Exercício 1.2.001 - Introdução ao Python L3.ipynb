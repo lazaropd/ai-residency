{
 "cells": [
  {
   "cell_type": "markdown",
   "metadata": {
    "slideshow": {
     "slide_type": "slide"
    }
   },
   "source": [
    "## Write a function that returns the maximum of two numbers."
   ]
  },
  {
   "cell_type": "code",
   "execution_count": 8,
   "metadata": {
    "slideshow": {
     "slide_type": "fragment"
    }
   },
   "outputs": [
    {
     "name": "stdout",
     "output_type": "stream",
     "text": [
      "2\n",
      "1\n",
      "2\n",
      "1\n",
      "Os valores informados são inválidos\n",
      "Os valores informados são inválidos\n"
     ]
    }
   ],
   "source": [
    "def greater(val1, val2):\n",
    "    try:\n",
    "        aux = 1 + val1 + val2\n",
    "    except:\n",
    "        return \"Os valores informados são inválidos\"\n",
    "    return max(val1, val2)\n",
    "\n",
    "print(greater(1, 2))\n",
    "print(greater(1, 1))\n",
    "print(greater(0, 2))\n",
    "print(greater(-1, 1))\n",
    "print(greater(None, 2))\n",
    "print(greater(\"force_error\", 2))"
   ]
  },
  {
   "cell_type": "markdown",
   "metadata": {
    "slideshow": {
     "slide_type": "slide"
    }
   },
   "source": [
    "## Write a function called fizz_buzz that takes a number.\n",
    "If the number is divisible by 3, it should return “Fizz”.\n",
    "If it is divisible by 5, it should return “Buzz”.\n",
    "If it is divisible by both 3 and 5, it should return “FizzBuzz”.\n",
    "Otherwise, it should return the same number."
   ]
  },
  {
   "cell_type": "code",
   "execution_count": 7,
   "metadata": {
    "slideshow": {
     "slide_type": "fragment"
    }
   },
   "outputs": [
    {
     "name": "stdout",
     "output_type": "stream",
     "text": [
      "-1\n",
      "FizzBuzz\n",
      "Fizz\n",
      "Buzz\n",
      "FizzBuzz\n",
      "None\n",
      "um_texto\n"
     ]
    }
   ],
   "source": [
    "def fizz_buzz(val):\n",
    "    solucao = \"\"\n",
    "    try:\n",
    "        if val % 3 == 0: solucao += \"Fizz\"\n",
    "        if val % 5 == 0: solucao += \"Buzz\"\n",
    "    except:\n",
    "        solucao = \"\"\n",
    "    if solucao == \"\": solucao = val\n",
    "    return solucao\n",
    "\n",
    "print(fizz_buzz(-1))\n",
    "print(fizz_buzz(0))\n",
    "print(fizz_buzz(3))\n",
    "print(fizz_buzz(5))\n",
    "print(fizz_buzz(150))\n",
    "print(fizz_buzz(None))\n",
    "print(fizz_buzz(\"um_texto\"))"
   ]
  },
  {
   "cell_type": "markdown",
   "metadata": {
    "slideshow": {
     "slide_type": "slide"
    }
   },
   "source": [
    "## Write a function for checking the speed of drivers. This function should have one parameter: speed.\n",
    "If speed is less than 70, it should print “Ok”.\n",
    "Otherwise, for every 5km above the speed limit (70), it should give the driver one demerit point and print the total number of demerit points. For example, if the speed is 80, it should print: “Points: 2”.\n",
    "If the driver gets more than 12 points, the function should print: “License suspended”"
   ]
  },
  {
   "cell_type": "code",
   "execution_count": 18,
   "metadata": {
    "slideshow": {
     "slide_type": "fragment"
    }
   },
   "outputs": [
    {
     "data": {
      "image/png": "[encoded data removed]",
      "text/plain": [
       "<Figure size 432x288 with 1 Axes>"
      ]
     },
     "metadata": {
      "needs_background": "light"
     },
     "output_type": "display_data"
    }
   ],
   "source": [
    "from matplotlib import pyplot as plt\n",
    "\n",
    "def driver_speed(speed):\n",
    "    try:\n",
    "        aux = 1 + speed\n",
    "    except:\n",
    "        return \"Os valores informados são inválidos\"\n",
    "    overspeed = speed - 70\n",
    "    points = overspeed // 5\n",
    "    if points > 12: \n",
    "        return \"License suspended\"\n",
    "    elif speed < 70:\n",
    "        return \"Ok\"\n",
    "    else:\n",
    "        return \"Points: %s\" % points\n",
    "        \n",
    "speed_range = [i for i in range(50, 150)]\n",
    "speed_check = list(map(lambda x: driver_speed(x), speed_range))\n",
    "\n",
    "plt.plot(speed_range, speed_check)\n",
    "plt.show()"
   ]
  },
  {
   "cell_type": "markdown",
   "metadata": {
    "slideshow": {
     "slide_type": "slide"
    }
   },
   "source": [
    "## Write a function called showNumbers that takes a parameter called limit. It should print all the numbers between 0 and limit with a label to identify the even and odd numbers. For example, if the limit is 3, it should print:\n",
    "0 EVEN  \n",
    "1 ODD  \n",
    "2 EVEN  \n",
    "3 ODD  "
   ]
  },
  {
   "cell_type": "code",
   "execution_count": 20,
   "metadata": {
    "slideshow": {
     "slide_type": "fragment"
    }
   },
   "outputs": [
    {
     "name": "stdout",
     "output_type": "stream",
     "text": [
      "0 EVEN\n",
      "1 ODD\n",
      "2 EVEN\n",
      "3 ODD\n",
      "4 EVEN\n",
      "5 ODD\n",
      "6 EVEN\n",
      "7 ODD\n",
      "8 EVEN\n",
      "9 ODD\n"
     ]
    }
   ],
   "source": [
    "def showNumbers(limit):\n",
    "    for i in range(limit + 1):\n",
    "        coin = \"EVEN\" if i % 2 == 0 else \"ODD\"\n",
    "        print(\"%d %s\" % (i, coin))\n",
    "        \n",
    "showNumbers(9)"
   ]
  },
  {
   "cell_type": "markdown",
   "metadata": {
    "slideshow": {
     "slide_type": "slide"
    }
   },
   "source": [
    "## Write a function that returns the sum of multiples of 3 and 5 between 0 and limit (parameter). For example, if limit is 20, it should return the sum of 3, 5, 6, 9, 10, 12, 15, 18, 20."
   ]
  },
  {
   "cell_type": "code",
   "execution_count": 22,
   "metadata": {
    "slideshow": {
     "slide_type": "fragment"
    }
   },
   "outputs": [
    {
     "data": {
      "text/plain": [
       "[0, 3, 5, 6, 9, 10, 12, 15, 18, 20]"
      ]
     },
     "execution_count": 22,
     "metadata": {},
     "output_type": "execute_result"
    }
   ],
   "source": [
    "def multiples(limit):\n",
    "    result = []\n",
    "    for i in range(limit + 1):\n",
    "        if i % 3 == 0: \n",
    "            result.append(i)\n",
    "        elif i % 5 == 0: \n",
    "            result.append(i) \n",
    "    return result\n",
    "\n",
    "multiples(20)"
   ]
  },
  {
   "cell_type": "markdown",
   "metadata": {
    "slideshow": {
     "slide_type": "slide"
    }
   },
   "source": [
    "## Write a function called show_stars(rows). If rows is 5, it should print the following:\n",
    "\\*  \n",
    "\\**    \n",
    "\\*\\**  \n",
    "\\*\\*\\*\\*  \n",
    "\\*****  "
   ]
  },
  {
   "cell_type": "code",
   "execution_count": 25,
   "metadata": {
    "slideshow": {
     "slide_type": "fragment"
    }
   },
   "outputs": [
    {
     "name": "stdout",
     "output_type": "stream",
     "text": [
      "*\n",
      "**\n",
      "***\n",
      "****\n",
      "*****\n"
     ]
    }
   ],
   "source": [
    "def show_stars(rows):\n",
    "    for i in range(1, rows + 1):\n",
    "        print(i * \"*\")\n",
    "        \n",
    "show_stars(5)"
   ]
  },
  {
   "cell_type": "markdown",
   "metadata": {
    "slideshow": {
     "slide_type": "slide"
    }
   },
   "source": [
    "## Write a function that prints all the prime numbers between 0 and limit where limit is a parameter."
   ]
  },
  {
   "cell_type": "code",
   "execution_count": 32,
   "metadata": {
    "slideshow": {
     "slide_type": "fragment"
    }
   },
   "outputs": [
    {
     "data": {
      "text/plain": [
       "[0, 1, 2, 3, 5, 7, 11, 13, 17, 19]"
      ]
     },
     "execution_count": 32,
     "metadata": {},
     "output_type": "execute_result"
    }
   ],
   "source": [
    "def all_primes(limit):\n",
    "    primes = []\n",
    "    for i in range(limit + 1):\n",
    "        prime = True\n",
    "        for j in range(2, i):\n",
    "            if i % j == 0: prime = False\n",
    "        if prime: primes.append(i)\n",
    "    return primes\n",
    "\n",
    "all_primes(20)\n",
    "        "
   ]
  }
 ],
 "metadata": {
  "celltoolbar": "Slideshow",
  "hide_input": false,
  "kernelspec": {
   "display_name": "Python 3",
   "language": "python",
   "name": "python3"
  },
  "language_info": {
   "codemirror_mode": {
    "name": "ipython",
    "version": 3
   },
   "file_extension": ".py",
   "mimetype": "text/x-python",
   "name": "python",
   "nbconvert_exporter": "python",
   "pygments_lexer": "ipython3",
   "version": "3.7.4"
  }
 },
 "nbformat": 4,
 "nbformat_minor": 2
}
