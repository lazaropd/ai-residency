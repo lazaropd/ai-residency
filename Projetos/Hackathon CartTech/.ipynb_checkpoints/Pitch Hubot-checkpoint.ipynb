{
 "cells": [
  {
   "cell_type": "markdown",
   "metadata": {},
   "source": [
    "# Hubot"
   ]
  },
  {
   "cell_type": "markdown",
   "metadata": {},
   "source": [
    "*Menos custos, mais valor*  \n",
    "Respeitar o passado, valorizar o presente e construir o futuro"
   ]
  },
  {
   "cell_type": "markdown",
   "metadata": {},
   "source": [
    "# Problema\n",
    "* grande volume de matrículas com seus atos registrados em papel ou digitalizados sem resgatar todo o potencial de informações \n",
    "* perda de tempo ao buscar informações manualmente nos documentos  \n",
    "* altos investimentos e esforços simultâneos de diferentes cartórios na busca de melhorias  \n",
    "* consumo de recursos materiais e, principalmente, humanos em atividades repetitivas de consulta e indexação"
   ]
  },
  {
   "cell_type": "markdown",
   "metadata": {},
   "source": [
    "# Solução\n",
    "* plataforma de código aberto usando IA oferecida pela CNR em parceria com associações estaduais (livre adesão)\n",
    "* consultoria especializada para simplificar a implantação\n",
    "* confidencialidade de dados sensíveis geridos pelo cartório dono do documento\n",
    "* zero custo para a associação e para os cartórios aderintes"
   ]
  },
  {
   "cell_type": "markdown",
   "metadata": {},
   "source": [
    "# Modelo de Negócios\n",
    "* parceria com construtoras, incorporadoras e imobiliárias\n",
    "* venda de créditos para consumo de informações estruturadas sobre o mercado imobiliário (descaracterizados)\n",
    "* venda de pacotes de assinatura mensal por volume de consultas com descontos exclusivos"
   ]
  },
  {
   "cell_type": "markdown",
   "metadata": {},
   "source": []
  },
  {
   "cell_type": "markdown",
   "metadata": {},
   "source": []
  },
  {
   "cell_type": "markdown",
   "metadata": {},
   "source": []
  },
  {
   "cell_type": "markdown",
   "metadata": {},
   "source": [
    "# Pendências\n",
    "* criar mockup do portal web: login, adesão, autorização, APIs e consulta\n",
    "* criar mockup do app: login, consulta\n",
    "* criar esqueleto da tela de consulta e tela de resultados com filtros\n",
    "* criar esqueleto do JSON para retornar os metadados ao cartório de origem\n",
    "* criar peça publicitária para venda de informações: argumentos de vendas, potenciais clientes"
   ]
  },
  {
   "cell_type": "markdown",
   "metadata": {},
   "source": [
    "# Dicas para um pitch perfeito\n",
    "### A successful sales pitch isn’t a monologue. It’s a dialogue.\n",
    "\n",
    "1. Buyer’s needs come first\n",
    "2. Tell a story to create a connection\n",
    "3. Find the perfect hook\n",
    "4. Solve the problem\n",
    "5. Back it up with facts\n",
    "6. Ask for the sale\n",
    "7. Short and sweet does the trick\n",
    "8. Grammar and spell check\n",
    "9. Don’t forget to follow-up\n",
    "\n",
    "### Principais cuidados\n",
    "* Know your audience: conheça o cliente que vai comprar a solução, especialmente o tomador de decisão, entenda os fatores chave para ele, conheça seus concorrentes, como o cliente vai diferenciar você da concorrência, valorize a diversidade.  \n",
    "* Practice makes perfect pitch: a maneira mais rápida de fracassar é ir para uma reunião despreparado, você simplesmente perde todo o grande trabalho que fez, conheça sua fala antes de entrar na sala e esteja preparado para mudar esta fala à medida que faz sua apresentação, treine com um amigo antes e peça para ser questionado.  \n",
    "* Juggle the jargon: você não vai querer gastar boa parte do tempo explicando os detalhes complicados da sua solução, isto não vai ajudar em nada, mantenha um balanço mostrando sua competência e suas pretensões, conheça o negócio do seu cliente e mostrar avanços no negócio dele para criar um clima para possíveis perguntas.  \n",
    "* Don’t leave it at the door: foque nas pessoas que estão na sala, buscando atingir o tomador de decisão, mas aproveite outros influenciadores que possam estar presentes, busque feedback deles após a reunião, talvez sua mensagem tenha ficado confusa ou a apresentação tenha distraído a audiência, o time trabalhou bem e mostrou uma mensagem concisa?"
   ]
  },
  {
   "cell_type": "code",
   "execution_count": null,
   "metadata": {},
   "outputs": [],
   "source": []
  }
 ],
 "metadata": {
  "hide_input": false,
  "kernelspec": {
   "display_name": "Python 3",
   "language": "python",
   "name": "python3"
  },
  "language_info": {
   "codemirror_mode": {
    "name": "ipython",
    "version": 3
   },
   "file_extension": ".py",
   "mimetype": "text/x-python",
   "name": "python",
   "nbconvert_exporter": "python",
   "pygments_lexer": "ipython3",
   "version": "3.7.4"
  }
 },
 "nbformat": 4,
 "nbformat_minor": 2
}
