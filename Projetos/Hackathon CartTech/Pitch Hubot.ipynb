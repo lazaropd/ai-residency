{
 "cells": [
  {
   "cell_type": "markdown",
   "metadata": {},
   "source": [
    "# Hubot\n",
    "Apresentação da Unicampo: minimalista, mensagens concisas"
   ]
  },
  {
   "cell_type": "markdown",
   "metadata": {},
   "source": [
    "*Menos custos, mais valor*  \n",
    "Respeitar o passado, valorizar o presente e construir o futuro"
   ]
  },
  {
   "cell_type": "markdown",
   "metadata": {},
   "source": [
    "# Problema\n",
    "* grande volume de matrículas e atos registrados em papel ou digitalizados sem resgatar todo o potencial das informações \n",
    "* consumo de recursos materiais e, principalmente, humanos em atividades repetitivas de consulta e indexação\n",
    "* altos investimentos e esforços simultâneos de diferentes cartórios e associações na busca de melhorias "
   ]
  },
  {
   "cell_type": "markdown",
   "metadata": {},
   "source": [
    "# Contexto\n",
    "* a IA é uma ciência apenas dando seus primeiros passos efetivamente (pegar alguma frase do google, amazon, etc)\n",
    "* a digitalização está rompendo as barreiras físicas (frase de anywhere)\n",
    "* os negócios 4.0 exigem uma mentalidade de compartilhamento (frase de together, to everybody)\n",
    "* estamos quebrando a noção de algo pronto (caixinhas) para uma nova mentalidade de continuamente imperfeito (flow)"
   ]
  },
  {
   "cell_type": "markdown",
   "metadata": {},
   "source": [
    "# Solução\n",
    "* plataforma de código aberto usando IA oferecida pela CNR em parceria com as associações estaduais e cartórios (livre adesão)\n",
    "* confidencialidade de dados sensíveis geridos pelo cartório dono do documento\n",
    "* zero custo para a associação e para os cartórios aderintes"
   ]
  },
  {
   "cell_type": "markdown",
   "metadata": {},
   "source": [
    "# Produto\n",
    "* plataforma web\n",
    "* plataforma mobile\n",
    "* consultoria especializada para simplificar a implantação"
   ]
  },
  {
   "cell_type": "markdown",
   "metadata": {},
   "source": [
    "# Demonstração\n",
    "* vídeo da plataforma acessando os documentos: conectando com o servidor, processando arquivos, pronto\n",
    "* tabela com resultados e % de assertividade\n",
    "* vídeo lendo 1 documento e mostrando os resultados na tela"
   ]
  },
  {
   "cell_type": "markdown",
   "metadata": {},
   "source": [
    "# Modelo de Negócios\n",
    "* parceria com construtoras, imobiliárias, poder público\n",
    "* venda de créditos para consumo de informações estruturadas sobre o mercado imobiliário (descaracterizados)\n",
    "* venda de pacotes de assinatura mensal por volume de consultas com descontos exclusivos"
   ]
  },
  {
   "cell_type": "markdown",
   "metadata": {},
   "source": [
    "# Equipe\n",
    "Wana Batista: residente de IA, engenheira de computação pela UFPA, especializanda em DS pela Estácio  \n",
    "Alexandre Marcondes: residente de IA, engenheiro de energia pela Unila, mestre em engenharia elétrica e computação  \n",
    "Lucas Cavalcante: residente de IA, bacharel em matemática, mestre em matemática computacional  \n",
    "Alessandra Buso: residente de IA, engenheira eletricista, RoboCup Amsterdam Winner 2013, categoria Robot Dance  \n",
    "Lazaro Domiciano: residente de IA, engenheiro químico, empresário, empreendedor, former executive, especialista em inovação e liderança"
   ]
  },
  {
   "cell_type": "markdown",
   "metadata": {},
   "source": [
    "# Pendências\n",
    "* criar mockup do portal web: login, adesão, autorização, APIs e consulta\n",
    "* criar mockup do app: login, consulta\n",
    "* criar esqueleto da tela de consulta e tela de resultados com filtros\n",
    "* criar esqueleto do JSON para retornar os metadados ao cartório de origem\n",
    "* criar peça publicitária para venda de informações: argumentos de vendas, potenciais clientes"
   ]
  },
  {
   "cell_type": "markdown",
   "metadata": {},
   "source": [
    "# Dicas para um pitch perfeito\n",
    "### A successful sales pitch isn’t a monologue. It’s a dialogue.\n",
    "\n",
    "1. Buyer’s needs come first\n",
    "2. Tell a story to create a connection\n",
    "3. Find the perfect hook\n",
    "4. Solve the problem\n",
    "5. Back it up with facts\n",
    "6. Ask for the sale\n",
    "7. Short and sweet does the trick\n",
    "8. Grammar and spell check\n",
    "9. Don’t forget to follow-up\n",
    "\n",
    "### Principais cuidados\n",
    "* Know your audience: conheça o cliente que vai comprar a solução, especialmente o tomador de decisão, entenda os fatores chave para ele, conheça seus concorrentes, como o cliente vai diferenciar você da concorrência, valorize a diversidade.  \n",
    "* Practice makes perfect pitch: a maneira mais rápida de fracassar é ir para uma reunião despreparado, você simplesmente perde todo o grande trabalho que fez, conheça sua fala antes de entrar na sala e esteja preparado para mudar esta fala à medida que faz sua apresentação, treine com um amigo antes e peça para ser questionado.  \n",
    "* Juggle the jargon: você não vai querer gastar boa parte do tempo explicando os detalhes complicados da sua solução, isto não vai ajudar em nada, mantenha um balanço mostrando sua competência e suas pretensões, conheça o negócio do seu cliente e mostrar avanços no negócio dele para criar um clima para possíveis perguntas.  \n",
    "* Don’t leave it at the door: foque nas pessoas que estão na sala, buscando atingir o tomador de decisão, mas aproveite outros influenciadores que possam estar presentes, busque feedback deles após a reunião, talvez sua mensagem tenha ficado confusa ou a apresentação tenha distraído a audiência, o time trabalhou bem e mostrou uma mensagem concisa?"
   ]
  },
  {
   "cell_type": "code",
   "execution_count": null,
   "metadata": {},
   "outputs": [],
   "source": []
  }
 ],
 "metadata": {
  "hide_input": false,
  "kernelspec": {
   "display_name": "Python 3",
   "language": "python",
   "name": "python3"
  },
  "language_info": {
   "codemirror_mode": {
    "name": "ipython",
    "version": 3
   },
   "file_extension": ".py",
   "mimetype": "text/x-python",
   "name": "python",
   "nbconvert_exporter": "python",
   "pygments_lexer": "ipython3",
   "version": "3.7.4"
  }
 },
 "nbformat": 4,
 "nbformat_minor": 2
}
